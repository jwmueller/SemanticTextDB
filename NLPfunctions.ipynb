{
 "metadata": {
  "name": "",
  "signature": "sha256:3d3bd2fd52818dc93c09bfd8bef0c2b228358ff3c5a85335983be901e685e229"
 },
 "nbformat": 3,
 "nbformat_minor": 0,
 "worksheets": [
  {
   "cells": [
    {
     "cell_type": "markdown",
     "metadata": {},
     "source": [
      "##SentimentAnalysis version for SemanticTextDB"
     ]
    },
    {
     "cell_type": "code",
     "collapsed": false,
     "input": [
      "from textblob import TextBlob\n",
      "from textblob import Word\n",
      "\n",
      "def sentimentAnalysis(string): \n",
      "    NLPObject = TextBlob(unicode(string, 'utf-8'))\n",
      "    return NLPObject.sentiment.polarity"
     ],
     "language": "python",
     "metadata": {},
     "outputs": [],
     "prompt_number": 31
    },
    {
     "cell_type": "code",
     "collapsed": false,
     "input": [
      "def findPositiveDocs():\n",
      "    return None #implement with Jonas"
     ],
     "language": "python",
     "metadata": {},
     "outputs": [],
     "prompt_number": 27
    },
    {
     "cell_type": "code",
     "collapsed": false,
     "input": [
      "def findNegativeDocs():\n",
      "    return None #implement with Jonas"
     ],
     "language": "python",
     "metadata": {},
     "outputs": [],
     "prompt_number": 28
    },
    {
     "cell_type": "markdown",
     "metadata": {},
     "source": [
      "##Other NLP wrapper functions"
     ]
    },
    {
     "cell_type": "code",
     "collapsed": false,
     "input": [
      "def noun_phrases(string):\n",
      "    nlp = TextBlob(unicode(string, 'utf-8'))\n",
      "    return nlp.noun_phrases"
     ],
     "language": "python",
     "metadata": {},
     "outputs": [],
     "prompt_number": 29
    },
    {
     "cell_type": "code",
     "collapsed": false,
     "input": [
      "def correct_spelling(string):\n",
      "    nlp = TextBlob(unicode(string, 'utf-8'))\n",
      "    return nlp.correct()"
     ],
     "language": "python",
     "metadata": {},
     "outputs": [],
     "prompt_number": 38
    },
    {
     "cell_type": "code",
     "collapsed": false,
     "input": [
      "def frequency(string, word, case_sensitive = False):\n",
      "    nlp = TextBlob(unicode(string, 'utf-8'))\n",
      "    return nlp.words.count(word, case_sensitive)"
     ],
     "language": "python",
     "metadata": {},
     "outputs": [],
     "prompt_number": 40
    },
    {
     "cell_type": "code",
     "collapsed": false,
     "input": [
      "def word_counts(string):\n",
      "    nlp = TextBlob(unicode(string, 'utf-8'))\n",
      "    return nlp.word_counts"
     ],
     "language": "python",
     "metadata": {},
     "outputs": [],
     "prompt_number": 45
    },
    {
     "cell_type": "code",
     "collapsed": false,
     "input": [
      "def translate(string, to_language):\n",
      "    # Note langauges can be found here:\n",
      "    # https://cloud.google.com/translate/v2/using_rest#language-params\n",
      "    nlp = TextBlob(unicode(string, 'utf-8'))\n",
      "    return nlp.translate(from_lang=from_language, to=to_language)"
     ],
     "language": "python",
     "metadata": {},
     "outputs": [],
     "prompt_number": 46
    },
    {
     "cell_type": "code",
     "collapsed": false,
     "input": [
      "def detectLangauge(string):\n",
      "    # Note langauges can be found here:\n",
      "    # https://cloud.google.com/translate/v2/using_rest#language-params\n",
      "    nlp = TextBlob(unicode(string, 'utf-8'))\n",
      "    return nlp.detect_language()"
     ],
     "language": "python",
     "metadata": {},
     "outputs": [],
     "prompt_number": 47
    }
   ],
   "metadata": {}
  }
 ]
}