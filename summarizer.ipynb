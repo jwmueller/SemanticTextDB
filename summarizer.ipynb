{
 "metadata": {
  "name": "",
  "signature": "sha256:6784af838274e6fed49f47ccbf41efd21e924258b96e25bd5ac5d7df6947a679"
 },
 "nbformat": 3,
 "nbformat_minor": 0,
 "worksheets": [
  {
   "cells": [
    {
     "cell_type": "code",
     "collapsed": false,
     "input": [
      "import os\n",
      "\n",
      "from __future__ import absolute_import\n",
      "from __future__ import division, print_function\n",
      "\n",
      "from sumy.parsers.plaintext import PlaintextParser\n",
      "from sumy.nlp.tokenizers import Tokenizer\n",
      "from sumy.summarizers.lsa import LsaSummarizer as Summarizer\n",
      "from sumy.nlp.stemmers import Stemmer\n",
      "from sumy.utils import get_stop_words   "
     ],
     "language": "python",
     "metadata": {},
     "outputs": [],
     "prompt_number": 6
    },
    {
     "cell_type": "code",
     "collapsed": false,
     "input": [
      "def summarize(string, summary_length = 1, language = \"english\"):\n",
      "    parser = PlaintextParser.from_string(string, Tokenizer(language))\n",
      "    stemmer = Stemmer(language)\n",
      "    summarizer = Summarizer(stemmer)\n",
      "    summarizer.stop_words = get_stop_words(language)\n",
      "\n",
      "    return \". \".join([str(sentence) for sentence in summarizer(parser.document, summary_length)]) "
     ],
     "language": "python",
     "metadata": {},
     "outputs": [],
     "prompt_number": 12
    },
    {
     "cell_type": "code",
     "collapsed": false,
     "input": [
      "def selectWithSummaries():\n",
      "    \"\"\"\n",
      "    Performs a select statement on docTable but returns summaries along with each result for viewing.\n",
      "    \"\"\"\n",
      "    #implement with Jonas\n",
      "    return None"
     ],
     "language": "python",
     "metadata": {},
     "outputs": []
    }
   ],
   "metadata": {}
  }
 ]
}