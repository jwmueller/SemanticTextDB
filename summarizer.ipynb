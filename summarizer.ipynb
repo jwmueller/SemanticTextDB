{
 "metadata": {
  "name": "",
  "signature": "sha256:f9b0e0fb040349d6ad9f43ea08d40fd8cb64bf30e514b170223fdf50777cce38"
 },
 "nbformat": 3,
 "nbformat_minor": 0,
 "worksheets": [
  {
   "cells": [
    {
     "cell_type": "code",
     "collapsed": false,
     "input": [
      "from __future__ import absolute_import\n",
      "from __future__ import division, print_function\n",
      "\n",
      "import os\n",
      "\n",
      "from sumy.parsers.plaintext import PlaintextParser\n",
      "from sumy.nlp.tokenizers import Tokenizer\n",
      "from sumy.summarizers.lsa import LsaSummarizer as Summarizer\n",
      "from sumy.nlp.stemmers import Stemmer\n",
      "from sumy.utils import get_stop_words   "
     ],
     "language": "python",
     "metadata": {},
     "outputs": [],
     "prompt_number": 55
    },
    {
     "cell_type": "code",
     "collapsed": false,
     "input": [
      "def summarize(string, summary_length = 1, language = \"english\"):\n",
      "    string = string.lower() if string.isupper() else string\n",
      "    parser = PlaintextParser.from_string(string, Tokenizer(language))\n",
      "    stemmer = Stemmer(language)\n",
      "    summarizer = Summarizer(stemmer)\n",
      "    summarizer.stop_words = get_stop_words(language)\n",
      "\n",
      "    return \". \".join([str(sentence) for sentence in summarizer(parser.document, summary_length)]) "
     ],
     "language": "python",
     "metadata": {},
     "outputs": [],
     "prompt_number": 56
    }
   ],
   "metadata": {}
  }
 ]
}