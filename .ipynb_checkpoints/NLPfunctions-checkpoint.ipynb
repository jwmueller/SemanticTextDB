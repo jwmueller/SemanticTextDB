{
 "metadata": {
  "name": "",
  "signature": "sha256:9246d2ee13debfeec1b985ac3407219051f3404580e829020198d59c3b5998ab"
 },
 "nbformat": 3,
 "nbformat_minor": 0,
 "worksheets": [
  {
   "cells": [
    {
     "cell_type": "markdown",
     "metadata": {},
     "source": [
      "##SentimentAnalysis version for SemanticTextDB"
     ]
    },
    {
     "cell_type": "code",
     "collapsed": false,
     "input": [
      "from textblob import TextBlob\n",
      "from textblob import Word\n",
      "\n",
      "def sentimentAnalysis(string): \n",
      "    NLPObject = TextBlob(unicode(string, 'utf-8'))\n",
      "    return NLPObject.sentiment.polarity"
     ],
     "language": "python",
     "metadata": {},
     "outputs": [],
     "prompt_number": 31
    },
    {
     "cell_type": "code",
     "collapsed": false,
     "input": [
      "def findPositiveDocs():\n",
      "    return None #implement with Jonas"
     ],
     "language": "python",
     "metadata": {},
     "outputs": [],
     "prompt_number": 27
    },
    {
     "cell_type": "code",
     "collapsed": false,
     "input": [
      "def findNegativeDocs():\n",
      "    return None #implement with Jonas"
     ],
     "language": "python",
     "metadata": {},
     "outputs": [],
     "prompt_number": 28
    },
    {
     "cell_type": "markdown",
     "metadata": {},
     "source": [
      "##Other NLP wrapper functions"
     ]
    },
    {
     "cell_type": "code",
     "collapsed": false,
     "input": [
      "def noun_phrases(string):\n",
      "    nlp = TextBlob(string)\n",
      "    return nlp.noun_phrases"
     ],
     "language": "python",
     "metadata": {},
     "outputs": [],
     "prompt_number": 29
    },
    {
     "cell_type": "code",
     "collapsed": false,
     "input": [
      "def correct_spelling(string):\n",
      "    nlp = TextBlob(string)\n",
      "    return nlp.correct()"
     ],
     "language": "python",
     "metadata": {},
     "outputs": [],
     "prompt_number": 38
    },
    {
     "cell_type": "code",
     "collapsed": false,
     "input": [
      "def frequency(string, word, case_sensitive = False):\n",
      "    nlp = TextBlob(string)\n",
      "    return nlp.words.count(word, case_sensitive)"
     ],
     "language": "python",
     "metadata": {},
     "outputs": [],
     "prompt_number": 40
    },
    {
     "cell_type": "code",
     "collapsed": false,
     "input": [
      "def word_counts(string):\n",
      "    nlp = TextBlob(string)\n",
      "    return nlp.word_counts"
     ],
     "language": "python",
     "metadata": {},
     "outputs": [],
     "prompt_number": 45
    },
    {
     "cell_type": "code",
     "collapsed": false,
     "input": [
      "def translate(string, to_language):\n",
      "    # Note langauges can be found here:\n",
      "    # https://cloud.google.com/translate/v2/using_rest#language-params\n",
      "    nlp = TextBlob(string)\n",
      "    return nlp.translate(from_lang=from_language, to=to_language)"
     ],
     "language": "python",
     "metadata": {},
     "outputs": [],
     "prompt_number": 46
    },
    {
     "cell_type": "code",
     "collapsed": false,
     "input": [
      "def detectLangauge(string):\n",
      "    # Note langauges can be found here:\n",
      "    # https://cloud.google.com/translate/v2/using_rest#language-params\n",
      "    nlp = TextBlob(string)\n",
      "    return nlp.detect_language()"
     ],
     "language": "python",
     "metadata": {},
     "outputs": [],
     "prompt_number": 47
    },
    {
     "cell_type": "code",
     "collapsed": false,
     "input": [
      "nlp = TextBlob(\"Jonas is an amazing friend and I think he is great!\")\n",
      "nlp.word_counts"
     ],
     "language": "python",
     "metadata": {},
     "outputs": [
      {
       "metadata": {},
       "output_type": "pyout",
       "prompt_number": 39,
       "text": [
        "defaultdict(<type 'int'>, {u'and': 1, u'great': 1, u'i': 1, u'is': 2, u'an': 1, u'amazing': 1, u'jonas': 1, u'think': 1, u'friend': 1, u'he': 1})"
       ]
      }
     ],
     "prompt_number": 39
    },
    {
     "cell_type": "code",
     "collapsed": false,
     "input": [
      "sentimentAnalysis(\"Jonas is an amazing friend and I think he is great!\")"
     ],
     "language": "python",
     "metadata": {},
     "outputs": [
      {
       "metadata": {},
       "output_type": "pyout",
       "prompt_number": 8,
       "text": [
        "0.8"
       ]
      }
     ],
     "prompt_number": 8
    },
    {
     "cell_type": "code",
     "collapsed": false,
     "input": [
      "sentimentAnalysis(\"Jonas is an amazing friend! and I think he is great!!!!!!!!\")"
     ],
     "language": "python",
     "metadata": {},
     "outputs": [
      {
       "metadata": {},
       "output_type": "pyout",
       "prompt_number": 11,
       "text": [
        "0.875"
       ]
      }
     ],
     "prompt_number": 11
    },
    {
     "cell_type": "code",
     "collapsed": false,
     "input": [
      "sentimentAnalysis(\"Jonas is an amazing friend!! and I think he is great!\")"
     ],
     "language": "python",
     "metadata": {},
     "outputs": [
      {
       "metadata": {},
       "output_type": "pyout",
       "prompt_number": 13,
       "text": [
        "0.96875"
       ]
      }
     ],
     "prompt_number": 13
    },
    {
     "cell_type": "code",
     "collapsed": false,
     "input": [
      "sentimentAnalysis(\"Jonas is an amazing friend!!! and I think he is great!\")"
     ],
     "language": "python",
     "metadata": {},
     "outputs": [
      {
       "metadata": {},
       "output_type": "pyout",
       "prompt_number": 14,
       "text": [
        "1.0"
       ]
      }
     ],
     "prompt_number": 14
    },
    {
     "cell_type": "code",
     "collapsed": false,
     "input": [
      "sentimentAnalysis(\"Fuck you!!!!\")"
     ],
     "language": "python",
     "metadata": {},
     "outputs": [
      {
       "metadata": {},
       "output_type": "pyout",
       "prompt_number": 15,
       "text": [
        "-0.9765625"
       ]
      }
     ],
     "prompt_number": 15
    },
    {
     "cell_type": "code",
     "collapsed": false,
     "input": [
      "sentimentAnalysis(\"Fuck yes!!!!\")"
     ],
     "language": "python",
     "metadata": {},
     "outputs": [
      {
       "metadata": {},
       "output_type": "pyout",
       "prompt_number": 17,
       "text": [
        "-0.9765625"
       ]
      }
     ],
     "prompt_number": 17
    },
    {
     "cell_type": "code",
     "collapsed": false,
     "input": [
      "sentimentAnalysis(\"i love my shitty life!!!!\")"
     ],
     "language": "python",
     "metadata": {},
     "outputs": [
      {
       "metadata": {},
       "output_type": "pyout",
       "prompt_number": 22,
       "text": [
        "1.0"
       ]
      }
     ],
     "prompt_number": 22
    },
    {
     "cell_type": "code",
     "collapsed": false,
     "input": [
      "sentimentAnalysis(\"i love my fucking life!!!!\")"
     ],
     "language": "python",
     "metadata": {},
     "outputs": [
      {
       "metadata": {},
       "output_type": "pyout",
       "prompt_number": 23,
       "text": [
        "-0.25"
       ]
      }
     ],
     "prompt_number": 23
    },
    {
     "cell_type": "code",
     "collapsed": false,
     "input": [],
     "language": "python",
     "metadata": {},
     "outputs": []
    }
   ],
   "metadata": {}
  }
 ]
}