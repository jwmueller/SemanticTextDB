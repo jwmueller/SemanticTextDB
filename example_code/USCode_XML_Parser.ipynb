{
 "metadata": {
  "name": ""
 },
 "nbformat": 3,
 "nbformat_minor": 0,
 "worksheets": [
  {
   "cells": [
    {
     "cell_type": "code",
     "collapsed": false,
     "input": [
      "import re\n",
      "import os\n",
      "import xml.etree.ElementTree as ET"
     ],
     "language": "python",
     "metadata": {},
     "outputs": [],
     "prompt_number": 8
    },
    {
     "cell_type": "code",
     "collapsed": false,
     "input": [
      "readPath = \"C:/git/SemanticTextDB/example_code/xml/\"\n",
      "writePath = \"C:/git/SemanticTextDB/example_code/all_US_Law_Codes/\"\n",
      "if not os.path.exists(writePath):\n",
      "    os.makedirs(writePath)"
     ],
     "language": "python",
     "metadata": {},
     "outputs": [],
     "prompt_number": 9
    },
    {
     "cell_type": "code",
     "collapsed": false,
     "input": [
      "def isLaw(stringLaw):\n",
      "    \"\"\"\n",
      "    Returns true if the stringLaw is a properly formatted law.\n",
      "    \"\"\"\n",
      "    #Format of first line for each law is as follows\n",
      "    firstLine = re.search(r'[0-9].*?\\n', stringLaw)\n",
      "    \n",
      "    #If no such format exists, section is not a law.\n",
      "    if firstLine == None:\n",
      "        return False\n",
      "        \n",
      "    result = firstLine.group()\n",
      "    \n",
      "    #If firstLine does not contain a period seperator, section is not a law.\n",
      "    if \".\" not in result:\n",
      "        return False\n",
      "    \n",
      "    result = re.sub(r'\\n', '', result.group())\n",
      "    lawTitleNum = filename.split('_')[0]\n",
      "    lawSectionNum = (re.search(r'.*?\\.', result)).group()[:-1]\n",
      "    lawName = (re.search(r'\\..*', result)).group()[2:]\n",
      "    \n",
      "    if lawName == \"\" or re.search(r'\\..*', result).group()[1] != \" \":\n",
      "        print firstLine\n",
      "        return False\n",
      "    \n",
      "    return True"
     ],
     "language": "python",
     "metadata": {},
     "outputs": [],
     "prompt_number": 13
    },
    {
     "cell_type": "code",
     "collapsed": false,
     "input": [
      "for filename in os.listdir(readPath):\n",
      "    print 'Working on file:', filename\n",
      "    #f = open(readPath + filename,'r')\n",
      "    #fileAsString = f.read()\n",
      "    #sections = re.findall(r'<section.*?id=.*?>.*?</section>', fileAsString, re.DOTALL)\n",
      "    \n",
      "    #Create ElementTree representing the XML structure of the laws\n",
      "    tree = ET.parse(readPath + filename)\n",
      "    root = tree.getroot()\n",
      "    \n",
      "    #Grab the sections containing the laws. The sections are on the fourth level of the xml\n",
      "    #represented by */*/*/<sections here>. Only return sections ending in element tag section.\n",
      "    #The list comprehension returns a string represnetion of the xml using ET.tostring  method.\n",
      "    #sections = [ET.tostring(element, encoding='utf8', method='xml') for element in root.findall('*/*/*/') if element.tag[len(element.tag)-7:] == 'section']\n",
      "    parent_map = {c:p for p in tree.iter() for c in p}\n",
      "    sections = [ET.tostring(element, encoding='utf8', method='xml') for element in root.iter()\n",
      "                if (element.tag[len(element.tag)-7:] == 'section') and\n",
      "                (parent_map[element].tag[len(parent_map[element].tag)-7:] != 'section') and\n",
      "                (element.tag[len(element.tag)-10:] != 'subsection') and\n",
      "                (parent_map[element].tag[len(parent_map[element].tag)-13:] != 'quotedContent')]\n",
      "    count = 0\n",
      "    for section in sections:\n",
      "        count = count + 1        \n",
      "        #result = re.sub(r'</heading><subsection',' \\n', section)\n",
      "        result = re.sub(r'</ns0:heading>','\\n', section)        \n",
      "        result = re.sub(r'<.*?>', '', result, flags = re.DOTALL)\n",
      "        result = re.sub(r'\\n{3,}', '\\n\\n', result, flags = re.DOTALL)\n",
      "        if isLaw(result):\n",
      "            fout = open(writePath + filename[3:-4] + '_' + str(count) + '.txt', 'w')\n",
      "            fout.write(result)\n",
      "        else:\n",
      "            print result"
     ],
     "language": "python",
     "metadata": {},
     "outputs": [
      {
       "output_type": "stream",
       "stream": "stdout",
       "text": [
        "Working on file: usc01.xml\n",
        "Working on file:"
       ]
      },
      {
       "output_type": "stream",
       "stream": "stdout",
       "text": [
        " usc02.xml\n",
        "Working on file:"
       ]
      },
      {
       "output_type": "stream",
       "stream": "stdout",
       "text": [
        " usc03.xml\n",
        "Working on file:"
       ]
      },
      {
       "output_type": "stream",
       "stream": "stdout",
       "text": [
        " usc04.xml\n",
        "Working on file:"
       ]
      },
      {
       "output_type": "stream",
       "stream": "stdout",
       "text": [
        " usc05.xml\n",
        "Working on file:"
       ]
      },
      {
       "output_type": "stream",
       "stream": "stdout",
       "text": [
        " usc05A.xml\n",
        "Working on file:"
       ]
      },
      {
       "output_type": "stream",
       "stream": "stdout",
       "text": [
        " usc06.xml\n",
        "Working on file:"
       ]
      },
      {
       "output_type": "stream",
       "stream": "stdout",
       "text": [
        " usc07.xml\n",
        "Working on file:"
       ]
      },
      {
       "output_type": "stream",
       "stream": "stdout",
       "text": [
        " usc08.xml\n",
        "Working on file:"
       ]
      },
      {
       "output_type": "stream",
       "stream": "stdout",
       "text": [
        " usc09.xml\n",
        "Working on file:"
       ]
      },
      {
       "output_type": "stream",
       "stream": "stdout",
       "text": [
        " usc10.xml\n",
        "Working on file:"
       ]
      },
      {
       "output_type": "stream",
       "stream": "stdout",
       "text": [
        " usc11.xml\n",
        "Working on file:"
       ]
      },
      {
       "output_type": "stream",
       "stream": "stdout",
       "text": [
        " usc11A.xml\n",
        "Working on file:"
       ]
      },
      {
       "output_type": "stream",
       "stream": "stdout",
       "text": [
        " usc12.xml\n",
        "Working on file:"
       ]
      },
      {
       "output_type": "stream",
       "stream": "stdout",
       "text": [
        " usc13.xml\n",
        "Working on file:"
       ]
      },
      {
       "output_type": "stream",
       "stream": "stdout",
       "text": [
        " usc14.xml\n",
        "Working on file:"
       ]
      },
      {
       "output_type": "stream",
       "stream": "stdout",
       "text": [
        " usc15.xml\n",
        "Working on file:"
       ]
      },
      {
       "output_type": "stream",
       "stream": "stdout",
       "text": [
        " usc16.xml\n",
        "Reached here"
       ]
      },
      {
       "output_type": "stream",
       "stream": "stdout",
       "text": [
        "\n",
        "\n",
        "\u201cSection 13, east half southeast quarter and southeast quarter northeast quarter;\n",
        "\n",
        "\n",
        "Reached here\n",
        "\n",
        "\u201cSection 25, all;\n",
        "\n",
        "\n",
        "Reached here\n",
        "\n",
        "\u201cSection 35, north half northeast quarter northeast quarter and north half south half northeast quarter northeast quarter;\u201cTownship 8 south, range 2 east:\n",
        "\n",
        "\n",
        "Reached here\n",
        "\n",
        "\u201cSection 17, south half southwest quarter and northwest quarter southwest quarter;\n",
        "\n",
        "\n",
        "Reached here\n",
        "\n",
        "\u201cSection 19, lots 3, 4, and northeast quarter;\n",
        "\n",
        "\n",
        "Reached here\n",
        "\n",
        "\u201cSection 29, west half; and\n",
        "\n",
        "\n",
        "Reached here\n",
        "\n",
        "\u201cSection 31, north half;\n",
        "\n",
        "\n",
        "Working on file:"
       ]
      },
      {
       "output_type": "stream",
       "stream": "stdout",
       "text": [
        " usc17.xml\n",
        "Working on file:"
       ]
      },
      {
       "output_type": "stream",
       "stream": "stdout",
       "text": [
        " usc18.xml\n",
        "Working on file:"
       ]
      },
      {
       "output_type": "stream",
       "stream": "stdout",
       "text": [
        " usc18A.xml\n",
        "Working on file:"
       ]
      },
      {
       "output_type": "stream",
       "stream": "stdout",
       "text": [
        " usc19.xml\n",
        "Working on file:"
       ]
      },
      {
       "output_type": "stream",
       "stream": "stdout",
       "text": [
        " usc20.xml\n",
        "Working on file:"
       ]
      },
      {
       "output_type": "stream",
       "stream": "stdout",
       "text": [
        " usc21.xml\n",
        "Working on file:"
       ]
      },
      {
       "output_type": "stream",
       "stream": "stdout",
       "text": [
        " usc22.xml\n",
        "Working on file:"
       ]
      },
      {
       "output_type": "stream",
       "stream": "stdout",
       "text": [
        " usc23.xml\n",
        "Working on file:"
       ]
      },
      {
       "output_type": "stream",
       "stream": "stdout",
       "text": [
        " usc24.xml\n",
        "Working on file:"
       ]
      },
      {
       "output_type": "stream",
       "stream": "stdout",
       "text": [
        " usc25.xml\n",
        "Working on file:"
       ]
      },
      {
       "output_type": "stream",
       "stream": "stdout",
       "text": [
        " usc26.xml\n",
        "Working on file:"
       ]
      },
      {
       "output_type": "stream",
       "stream": "stdout",
       "text": [
        " usc27.xml\n",
        "Working on file:"
       ]
      },
      {
       "output_type": "stream",
       "stream": "stdout",
       "text": [
        " usc28.xml\n",
        "Working on file:"
       ]
      },
      {
       "output_type": "stream",
       "stream": "stdout",
       "text": [
        " usc28a.xml\n",
        "Working on file:"
       ]
      },
      {
       "output_type": "stream",
       "stream": "stdout",
       "text": [
        " usc29.xml\n",
        "Working on file:"
       ]
      },
      {
       "output_type": "stream",
       "stream": "stdout",
       "text": [
        " usc30.xml\n",
        "Working on file:"
       ]
      },
      {
       "output_type": "stream",
       "stream": "stdout",
       "text": [
        " usc31.xml\n",
        "Working on file:"
       ]
      },
      {
       "output_type": "stream",
       "stream": "stdout",
       "text": [
        " usc32.xml\n",
        "Working on file:"
       ]
      },
      {
       "output_type": "stream",
       "stream": "stdout",
       "text": [
        " usc33.xml\n",
        "Working on file:"
       ]
      },
      {
       "output_type": "stream",
       "stream": "stdout",
       "text": [
        " usc35.xml\n",
        "Working on file:"
       ]
      },
      {
       "output_type": "stream",
       "stream": "stdout",
       "text": [
        " usc36.xml\n",
        "Working on file:"
       ]
      },
      {
       "output_type": "stream",
       "stream": "stdout",
       "text": [
        " usc37.xml\n",
        "Working on file:"
       ]
      },
      {
       "output_type": "stream",
       "stream": "stdout",
       "text": [
        " usc38.xml\n",
        "Working on file:"
       ]
      },
      {
       "output_type": "stream",
       "stream": "stdout",
       "text": [
        " usc39.xml\n",
        "Working on file:"
       ]
      },
      {
       "output_type": "stream",
       "stream": "stdout",
       "text": [
        " usc40.xml\n",
        "Working on file:"
       ]
      },
      {
       "output_type": "stream",
       "stream": "stdout",
       "text": [
        " usc41.xml\n",
        "Working on file:"
       ]
      },
      {
       "output_type": "stream",
       "stream": "stdout",
       "text": [
        " usc42.xml\n",
        "Working on file:"
       ]
      },
      {
       "output_type": "stream",
       "stream": "stdout",
       "text": [
        " usc43.xml\n",
        "Working on file:"
       ]
      },
      {
       "output_type": "stream",
       "stream": "stdout",
       "text": [
        " usc44.xml\n",
        "Working on file:"
       ]
      },
      {
       "output_type": "stream",
       "stream": "stdout",
       "text": [
        " usc45.xml\n",
        "Working on file:"
       ]
      },
      {
       "output_type": "stream",
       "stream": "stdout",
       "text": [
        " usc46.xml\n",
        "Working on file:"
       ]
      },
      {
       "output_type": "stream",
       "stream": "stdout",
       "text": [
        " usc47.xml\n",
        "Working on file:"
       ]
      },
      {
       "output_type": "stream",
       "stream": "stdout",
       "text": [
        " usc48.xml\n",
        "Reached here"
       ]
      },
      {
       "output_type": "stream",
       "stream": "stdout",
       "text": [
        "\n",
        "\n",
        "\u201cSection 131\u201c(a) The Governments of the Marshall Islands and the Federated States of Micronesia have full authority and responsibility to regulate their respective domestic and foreign communications, and the Government of the United States shall provide communications assistance in accordance with the terms of a separate agreement which shall come into effect simultaneously with this Compact, and such agreement shall remain in effect until such time as any election is made pursuant to Section 131(b) and which shall provide for the following:\u201c(1) the Government of the United States remains the sole administration entitled to make notification to the International Frequency Registration Board of the International Telecommunications Union of frequency assignments to radio communications stations respectively in the Marshall Islands and the Federated States of Micronesia; and to submit to the International Frequency Registration Board seasonal schedules for the broadcasting stations respectively in the Marshall Islands and the Federated States of Micronesia in the bands allocated exclusively to the broadcasting service between 5,950 and 26,100 kHz and in any other additional frequency bands that may be allocated to use by high frequency broadcasting stations; and\n",
        "\n",
        "\u201c(2) the United States Federal Communications Commission has jurisdiction, pursuant to the Communications Act of 1934, 47 U.S.C. 151 et seq., and the Communications Satellite Act of 1962, 47 U.S.C. 721 et seq., over all domestic and foreign communications services furnished by means of satellite earth terminal stations where such stations are owned or operated by United States common carriers and are located in the Marshall Islands or the Federated States of Micronesia.\n",
        "\n",
        "\u201c(b) The Government of the Marshall Islands or the Federated States of Micronesia may elect at any time to undertake the functions enumerated in Section 131(a) and previously performed by the Government of the United States. Upon such election, the Government of the United States shall so notify the International Frequency Registration Board and shall take such other actions as may be necessary to transfer to the electing Government the notification authority referred to in Section 131(a) and all rights deriving from the previous exercise of any such notification authority by the Government of the United States.\n",
        "\n",
        "\n",
        "Reached here"
       ]
      },
      {
       "output_type": "stream",
       "stream": "stdout",
       "text": [
        "\n",
        "\n",
        "\u201cSection 215\u201c(a) As a contribution to the current account operations and maintenance of communications systems, the Government of the United States shall provide on a grant basis for fifteen years commencing on the effective date of this Compact the following amounts:\u201c(1) to the Government of the Marshall Islands, $300,000 annually; and\n",
        "\n",
        "\u201c(2) to the Government of the Federated States of Micronesia, $600,000 annually.\n",
        "\n",
        "\u201c(b) For the purpose of acquiring such communications hardware as may be located within the Marshall Islands and the Federated States of Micronesia or for such other current or capital account activity as may be selected, the Government of the United States shall provide, concurrently with the grant assistance provided pursuant to this Article during the first year after the effective date of this Compact, the sum of $9 million to be allocated as follows:\u201c(1) to the Government of the Marshall Islands, $3 million; and\n",
        "\n",
        "\u201c(2) to the Government of the Federated States of Micronesia, $6 million.\n",
        "\n",
        "\n",
        "Reached here\n",
        "\n",
        "\u201cSection 221\u201c(a) The Government of the United States shall make available to the Marshall Islands and the Federated States of Micronesia, in accordance with and to the extent provided in the separate agreements referred to in section 232, without compensation and at the levels equivalent to those available to the Trust Territory of the Pacific Islands during the year prior to the effective date of this Compact, the services and related programs:\u201c(1) of the United States Weather Service;\n",
        "\n",
        "\u201c(2) of the United States Federal Emergency Management Agency;\n",
        "\n",
        "\u201c(3) provided pursuant to the Postal Reorganization Act, 39 U.S.C. 101 et seq.;\n",
        "\n",
        "\u201c(4) of the United States Federal Aviation Administration; and\n",
        "\n",
        "\u201c(5) of the United States Civil Aeronautics Board or its successor agencies which has the authority to implement the provisions of paragraph 5 of Article IX of such separate agreements, the language of which is incorporated into this Compact.\n",
        "\n",
        "\u201c(b) The Government of the United States, recognizing the special needs of the Marshall Islands and the Federated States of Micronesia particularly in the fields of education and health care, shall make available, as provided by the laws of the United States, the annual amount of $10 million which shall be allocated in accordance with the provisions of the separate agreement referred to in Section 232.\n",
        "\n",
        "\u201c(c) The Government of the United States shall make available to the Marshall Islands and the Federated States of Micronesia such alternate energy development projects, studies and conservation measures as are applicable to the Trust Territory of the Pacific Islands on the day preceding the effective date of this Compact, for the purposes and duration provided in the laws of the United States.\n",
        "\n",
        "\u201c(d) The Government of the United States shall have and exercise such authority as is necessary for the purposes of this Article and as is set forth in the separate agreements referred to in Section 232, which shall also set forth the extent to which services and programs shall be provided to the Marshall Islands and the Federated States of Micronesia.\n",
        "\n",
        "\n",
        "Reached here\n",
        "\n",
        "\u201cSection 222\u201cThe Government of the United States and the Government of the Marshall Islands or the Federated States of Micronesia shall consult regularly or upon request regarding:\u201c(a) The economic development of the Marshall Islands or the Federated States of Micronesia; or\n",
        "\n",
        "\u201c(b) The services and programs referred to in this Article. These services and programs shall continue to be provided by the Government of the United States unless their modification is provided by mutual agreement or their termination in whole or in part is requested by any recipient Government.\n",
        "\n",
        "\n",
        "Reached here"
       ]
      },
      {
       "output_type": "stream",
       "stream": "stdout",
       "text": [
        "\n",
        "\n",
        "\u201cSection 314\u201c(a) Unless otherwise agreed, the Government of the United States shall not, in the Marshall Islands or the Federated States of Micronesia:\u201c(1) test by detonation or dispose of any nuclear weapon, nor test, dispose of, or discharge any toxic chemical or biological weapon; or\n",
        "\n",
        "\u201c(2) test, dispose of, or discharge any other radioactive, toxic chemical or biological materials in an amount or manner which would be hazardous to public health or safety.\n",
        "\n",
        "\u201c(b) Unless otherwise agreed, other than for transit or over flight purposes or during time of a national emergency declared by the President of the United States, a state of war declared by the Congress of the United States or as necessary to defend against an actual or impending armed attack on the United States, the Marshall Islands or the Federated States of Micronesia, the Government of the United States shall not store in the Marshall Islands or the Federated States of Micronesia any toxic chemical weapon, nor any radioactive materials nor any toxic chemical materials intended for weapons use.\n",
        "\n",
        "\u201c(c) Radioactive, toxic chemical, or biological materials not intended for weapons use shall not be affected by Section 314(b).\n",
        "\n",
        "\u201c(d) No material or substance referred to in this Section shall be stored in the Marshall Islands or the Federated States of Micronesia except in an amount and manner which would not be hazardous to public health or safety. In determining what shall be an amount or manner which would be hazardous to public health or safety under this Section, the Government of the United States shall comply with any applicable mutual agreement, international guidelines accepted by the Government of the United States, and the laws of the United States and their implementing regulations.\n",
        "\n",
        "\u201c(e) Any exercise of the exemption authority set forth in Section 161(e) shall have no effect on the obligations of the Government of the United States under this Section or on the application of this subsection.\n",
        "\n",
        "\u201c(f) The provisions of this Section shall apply in the areas in which the Government of the Marshall Islands or the Federated States of Micronesia exercises jurisdiction over the living resources of the seabed, subsoil or water column adjacent to its coasts.\n",
        "\n",
        "\n",
        "Reached here"
       ]
      },
      {
       "output_type": "stream",
       "stream": "stdout",
       "text": [
        "\n",
        "\n",
        "\u201cSection 452\u201c(a) Should termination occur pursuant to Section 442, the following provisions of this Compact shall remain in full force and effect until the fifteenth anniversary of the effective date of this Compact between the Government of the United States and the Government of the Marshall Islands or the Federated States of Micronesia and thereafter as mutually agreed:\u201c(1) Article VI and Sections 172, 173, 176 and 177 of Title One;\n",
        "\n",
        "\u201c(2) Article I and Section 233 of Title Two;\n",
        "\n",
        "\u201c(3) Title Three; and\n",
        "\n",
        "\u201c(4) Articles II, III, V and VI of Title Four.\n",
        "\n",
        "\u201c(b) The Government of the United States shall also provide the Government as to which termination occurs pursuant to Section 442 with either the programs or services provided pursuant to Article II of Title Two as the time of termination, or their equivalent, as determined by the Government of the United States. Such assistance shall continue until the fifteenth anniversary of the effective date of this Compact, and thereafter as mutually agreed.\n",
        "\n",
        "\n",
        "Reached here\n",
        "\n",
        "\u201cSection 453\u201c(a) Should termination occur pursuant to Section 443, the following provisions of this Compact shall remain in full force and effect until the fifteenth anniversary of the effective date of this Compact between the Government of the United States and the Government of the Marshall Islands or the Federated States of Micronesia and thereafter as mutually agreed:\u201c(1) Article VI and Sections 172, 173, 176 and 177 of Title One;\n",
        "\n",
        "\u201c(2) Title Three; and\n",
        "\n",
        "\u201c(3) Articles II, III, V and VI of Title Four.\n",
        "\n",
        "\u201c(b) Upon receipt of notice of termination pursuant to Section 443, the Government of the United States and the Government so terminating shall promptly consult with regard to their future relationship. These consultations shall determine the level of economic assistance which the Government of the United States shall provide to the Government so terminating for the period ending on the fifteenth anniversary of the effective date of this Compact provided that the annual amounts specified in Sections 211, 212, 214, 215 and 216 shall continue without diminution. Such amounts, with the exception of those specified in Section 216, shall be adjusted according to the formula set forth in Section 217.\n",
        "\n",
        "\n",
        "Reached here\n",
        "\n",
        "\u201cSection 462\u201cThe Government of the United States and the Government of the Marshall Islands or the Federated States of Micronesia, as appropriate, shall conclude related agreements which shall come into effect and shall survive in accordance with their terms, as follows:\u201c(a) Agreement Regarding the Provision of Telecommunication Services by the Government of the United States to the Marshall Islands and the Federated States of Micronesia Concluded Pursuant to Section 131 of the Compact of Free Association;\n",
        "\n",
        "\u201c(b) Agreement Regarding the Operation of Telecommunication Services of the Government of the United States in the Marshall Islands and the Federated States of Micronesia Concluded Pursuant to Section 132 of the Compact of Free Association;\n",
        "\n",
        "\u201c(c) Agreement on Extradition, Mutual Assistance in Law Enforcement Matters and Penal Sanctions Concluded Pursuant to Section 175 of the Compact of Free Association;\n",
        "\n",
        "\u201c(d) Agreement Between the Government of the United States and the Government of the Marshall Islands for the Implementation of Section 177 of the Compact of Free Association;\n",
        "\n",
        "\u201c(e) Federal Programs and Services Agreement Concluded Pursuant to Article II of Title Two and Section 232 of the Compact of Free Association;\n",
        "\n",
        "\u201c(f) Agreement Concluded Pursuant to Section 234 of the Compact of Free Association;\n",
        "\n",
        "\u201c(g) Agreement Regarding the Military Use and Operating Rights of the Government of the United States in the Marshall Islands Concluded Pursuant to Sections 321 and 323 of the Compact of Free Association;\n",
        "\n",
        "\u201c(h) Agreement Regarding the Military Use and Operating Rights of the Government of the United States in the Federated States of Micronesia Concluded Pursuant to Sections 227, 321 and 323 of the Compact of Free Association;\n",
        "\n",
        "\u201c(i) Status of Forces Agreement Concluded Pursuant to Section 323 of the Compact of Free Association;\n",
        "\n",
        "\u201c(j) Agreement Between the Government of the United States and the Government of the Federated States of Micronesia Regarding Friendship, Cooperation and Mutual Security Concluded Pursuant to Sections 321 and 323 of the Compact of Free Association; and\n",
        "\n",
        "\u201c(k) Agreement Between the Government of the United States and the Government of the Marshall Islands Regarding Mutual Security Concluded Pursuant to Sections 321 and 323 of the Compact of Free Association.\n",
        "\n",
        "\n",
        "Reached here"
       ]
      },
      {
       "output_type": "stream",
       "stream": "stdout",
       "text": [
        "\n",
        "\n",
        "\u201cSection 177\n",
        "\n",
        "\n",
        "Reached here\n",
        "\n",
        "\u201cSection 216 - Sector Grant Funding and Trust Fund Contributions\u201cThe funds described in sections 211, 212(b) and 215 shall be made available as follows:\n",
        "\n",
        "[In millions of dollars]\n",
        "\n",
        "Fiscal yearAnnual Grants Section 211Audit Grant Section 212(b) (amount up to)Trust Fund Section 215Total\n",
        "\n",
        "200476.2.51692.7\n",
        "200576.2.51692.7\n",
        "200676.2.51692.7\n",
        "200775.4.516.892.7\n",
        "200874.6.517.692.7\n",
        "200973.8.518.492.7\n",
        "201073.519.292.7\n",
        "201172.2.52092.7\n",
        "201271.4.520.892.7\n",
        "201370.6.521.692.7\n",
        "201469.8.522.492.7\n",
        "201569.523.292.7\n",
        "201668.2.52492.7\n",
        "201767.4.524.892.7\n",
        "201866.6.525.692.7\n",
        "201965.8.526.492.7\n",
        "202065.527.292.7\n",
        "202164.2.52892.7\n",
        "202263.4.528.892.7\n",
        "202362.6.529.692.7\n",
        "\n",
        "\n",
        "Reached here"
       ]
      },
      {
       "output_type": "stream",
       "stream": "stdout",
       "text": [
        "\n",
        "\n",
        "\u201cSection 314\u201c(a) Unless otherwise agreed, the Government of the United States shall not, in the Federated States of Micronesia:\u201c(1) test by detonation or dispose of any nuclear weapon, nor test, dispose of, or discharge any toxic chemical or biological weapon; or\n",
        "\n",
        "\u201c(2) test, dispose of, or discharge any other radioactive, toxic chemical or biological materials in an amount or manner which would be hazardous to public health or safety.\n",
        "\n",
        "\u201c(b) Unless otherwise agreed, other than for transit or overflight purposes or during time of a national emergency declared by the President of the United States, a state of war declared by the Congress of the United States or as necessary to defend against an actual or impending armed attack on the United States, the Federated States of Micronesia or the Republic of the Marshall Islands, the Government of the United States shall not store in the Federated States of Micronesia or the Republic of the Marshall Islands any toxic chemical weapon, nor any radioactive materials nor any toxic chemical materials intended for weapons use.\n",
        "\n",
        "\u201c(c) Radioactive, toxic chemical, or biological materials not intended for weapons use shall not be affected by section 314(b).\n",
        "\n",
        "\u201c(d) No material or substance referred to in this section shall be stored in the Federated States of Micronesia except in an amount and manner which would not be hazardous to public health or safety. In determining what shall be an amount or manner which would be hazardous to public health or safety under this section, the Government of the United States shall comply with any applicable mutual agreement, international guidelines accepted by the Government of the United States, and the laws of the United States and their implementing regulations.\n",
        "\n",
        "\u201c(e) Any exercise of the exemption authority set forth in section 161(e) shall have no effect on the obligations of the Government of the United States under this section or on the application of this subsection.\n",
        "\n",
        "\u201c(f) The provisions of this section shall apply in the areas in which the Government of the Federated States of Micronesia exercises jurisdiction over the living resources of the seabed, subsoil or water column adjacent to its coasts.\n",
        "\n",
        "\n",
        "Reached here"
       ]
      },
      {
       "output_type": "stream",
       "stream": "stdout",
       "text": [
        "\n",
        "\n",
        "\u201cSection 452\u201c(a) Should termination occur pursuant to section 442 prior to the twentieth anniversary of the effective date of this Compact, as amended, the following provisions of this Compact, as amended, shall remain in full force and effect until the twentieth anniversary of the effective date of this Compact, as amended, and thereafter as mutually agreed:\u201c(1) Article VI and sections 172, 173, 176 and 177 of Title One;\n",
        "\n",
        "\u201c(2) Sections 232 and 234 of Title Two;\n",
        "\n",
        "\u201c(3) Title Three; and\n",
        "\n",
        "\u201c(4) Articles II, III, V and VI of Title Four.\n",
        "\n",
        "\u201c(b) Should termination occur pursuant to section 442 before the twentieth anniversary of the effective date of the Compact, as amended:\u201c(1) Except as provided in paragraph (2) of this subsection and subsection (c) of this section, economic and other assistance by the United States shall continue only if and as mutually agreed by the Governments of the United States and the Federated States of Micronesia.\n",
        "\n",
        "\u201c(2) In view of the special relationship of the United States and the Federated States of Micronesia, as reflected in subsections (b) and (c) of section 354 of this Compact, as amended, and the separate agreement regarding mutual security, and the Trust Fund Agreement, the United States shall continue to make contributions to the Trust Fund described in section 215 of this Compact, as amended, in the manner described in the Trust Fund Agreement.\n",
        "\n",
        "\u201c(c) In view of the special relationship of the United States and the Federated States of Micronesia, as reflected in subsections 354(b) and (c) of this Compact, as amended, and the separate agreement regarding mutual security, and the Trust Fund Agreement, if termination occurs pursuant to section 442 following the twentieth anniversary of the effective date of this Compact, as amended, the Federated States of Micronesia shall continue to be eligible to receive proceeds from the Trust Fund described in section 215 of this Compact, as amended, in the manner described in those provisions and the Trust Fund Agreement.\n",
        "\n",
        "\n",
        "Reached here\n",
        "\n",
        "\u201cSection 453\u201c(a) Should termination occur pursuant to section 443 prior to the twentieth anniversary of the effective date of this Compact, as amended, the following provisions of this Compact, as amended, shall remain in full force and effect until the twentieth anniversary of the effective date of this Compact, as amended, and thereafter as mutually agreed:\u201c(1) Article VI and sections 172, 173, 176 and 177 of Title One;\n",
        "\n",
        "\u201c(2) Sections 232 and 234 of Title Two;\n",
        "\n",
        "\u201c(3) Title Three; and\n",
        "\n",
        "\u201c(4) Articles II, III, V and VI of Title Four.\n",
        "\n",
        "\u201c(b) Upon receipt of notice of termination pursuant to section 443, the Government of the United States and the Government of the Federated States of Micronesia shall promptly consult with regard to their future relationship. Except as provided in subsection (c) and (d) of this section, these consultations shall determine the level of economic and other assistance, if any, which the Government of the United States shall provide to the Government of the Federated States of Micronesia for the period ending on the twentieth anniversary of the effective date of this Compact, as amended, and for any period thereafter, if mutually agreed.\n",
        "\n",
        "\u201c(c) In view of the special relationship of the United States and the Federated States of Micronesia, as reflected in subsections 354(b) and (c) of this Compact, as amended, and the separate agreement regarding mutual security, and the Trust Fund Agreement, if termination occurs pursuant to section 443 prior to the twentieth anniversary of the effective date of this Compact, as amended, the United States shall continue to make contributions to the Trust Fund described in section 215 of this Compact, as amended, in the manner described in the Trust Fund Agreement.\n",
        "\n",
        "\u201c(d) In view of the special relationship of the United States and the Federated States of Micronesia, as reflected in subsections 354(b) and (c) of this Compact, as amended, and the separate agreement regarding mutual security, and the Trust Fund Agreement, if termination occurs pursuant to section 443 following the twentieth anniversary of the effective date of this Compact, as amended, the Federated States of Micronesia shall continue to be eligible to receive proceeds from the Trust Fund described in section 215 of this Compact, as amended, in the manner described in those provisions and the Trust Fund Agreement.\n",
        "\n",
        "\n",
        "Reached here\n",
        "\n",
        "\u201cSection 462\u201c(a) The Government of the United States and the Government of the Federated States of Micronesia previously have concluded agreements pursuant to the Compact, which shall remain in effect and shall survive in accordance with their terms, as follows:\u201c(1) Agreement Concluded Pursuant to Section 234 of the Compact;\n",
        "\n",
        "\u201c(2) Agreement Between the Government of the United States and the Government of the Federated States of Micronesia Regarding Friendship, Cooperation and Mutual Security Concluded Pursuant to Sections 321 and 323 of the Compact of Free Association; and\n",
        "\n",
        "\u201c(3) Agreement Between the Government of the United States of America and the Federated States of Micronesia Regarding Aspects of the Marine Sovereignty and Jurisdiction of the Federated States of Micronesia.\n",
        "\n",
        "\u201c(b) The Government of the United States and the Government of the Federated States of Micronesia shall conclude prior to the date of submission of this Compact, as amended, to the legislatures of the two countries, the following related agreements which shall come into effect on the effective date of this Compact, as amended, and shall survive in accordance with their terms, as follows:\u201c(1) Federal Programs and Services Agreement Between the Government of the United States of America and the Government of the Federated States of Micronesia Concluded Pursuant to Article III of Title One, Article II of Title Two (including Section 222), and Section 231 of the Compact of Free Association, as amended which includes:\u201c(i) Postal Services and Related Programs;\n",
        "\n",
        "\u201c(ii) Weather Services and Related Programs;\n",
        "\n",
        "\u201c(iii) Civil Aviation Safety Service and Related Programs;\n",
        "\n",
        "\u201c(iv) Civil Aviation Economic Services and Related Programs;\n",
        "\n",
        "\u201c(v) United States Disaster Preparedness and Response Services and Related Programs;\n",
        "\n",
        "\u201c(vi) Federal Deposit Insurance Corporation Services and Related Programs; and\n",
        "\n",
        "\u201c(vii) Telecommunications Services and Related Programs.\n",
        "\n",
        "\u201c(2) Agreement Between the Government of the United States of America and the Government of the Federated States of Micronesia on Extradition, Mutual Assistance in Law Enforcement Matters and Penal Sanctions Concluded Pursuant to Section 175(a) of the Compact of Free Association, as amended;\n",
        "\n",
        "\u201c(3) Agreement Between the Government of the United States of America and the Government of the Federated States of Micronesia on Labor Recruitment Concluded Pursuant to Section 175(b) of the Compact of Free Association, as amended;\n",
        "\n",
        "\u201c(4) Agreement Concerning Procedures for the Implementation of United States Economic Assistance Provided in the Compact of Free Association, as Amended, Between the Government of the United States of America and Government of the Federated States of Micronesia;\n",
        "\n",
        "\u201c(5) Agreement Between the Government of the United States of America and the Government of the Federated States of Micronesia Implementing Section 215 and Section 216 of the Compact, as Amended, Regarding a Trust Fund;\n",
        "\n",
        "\u201c(6) Agreement Regarding the Military Use and Operating Rights of the Government of the United States in the Federated States of Micronesia Concluded Pursuant to Sections 211(b), 321 and 323 of the Compact of Free Association, as Amended; and the\n",
        "\n",
        "\u201c(7) Status of Forces Agreement Between the Government of the United States of America and the Government of the Federated States of Micronesia Concluded Pursuant to Section 323 of the Compact of Free Association, as Amended. [As amended Pub. L. 110\u2013229, title VIII, \u00a7\u202f806(b)(1)(N), May 8, 2008, 122 Stat. 873.]\n",
        "\n",
        "\n",
        "Reached here"
       ]
      },
      {
       "output_type": "stream",
       "stream": "stdout",
       "text": [
        "\n",
        "\n",
        "\u201cSection 177\n",
        "\n",
        "\n",
        "Reached here\n",
        "\n",
        "\u201cSection 217 - Annual Grant Funding and Trust Fund Contributions\u201cThe funds described in sections 211, 212, 213(b), and 216 shall be made available as follows:\n",
        "\n",
        "[In millions of dollars]\n",
        "\n",
        "Fiscal yearAnnual Grants Section 211Audit Grant Section 213(b)Trust Fund Section 216 (a&amp;c)Kwajalein Impact Section 212Total\n",
        "\n",
        "200435.2.5715.057.7\n",
        "200534.7.57.515.057.7\n",
        "200634.2.5815.057.7\n",
        "200733.7.58.515.057.7\n",
        "200833.2.5915.057.7\n",
        "200932.7.59.515.057.7\n",
        "201032.2.51015.057.7\n",
        "201131.7.510.515.057.7\n",
        "201231.2.51115.057.7\n",
        "201330.7.511.515.057.7\n",
        "201432.2.51218.062.7\n",
        "201531.7.512.518.062.7\n",
        "201631.2.51318.062.7\n",
        "201730.7.513.518.062.7\n",
        "201830.2.51418.062.7\n",
        "201929.7.514.518.062.7\n",
        "202029.2.51518.062.7\n",
        "202128.7.515.518.062.7\n",
        "202228.2.51618.062.7\n",
        "202327.7.516.518.062.7\n",
        "\n",
        "\n",
        "Reached here"
       ]
      },
      {
       "output_type": "stream",
       "stream": "stdout",
       "text": [
        "\n",
        "\n",
        "\u201cSection 314\u201c(a) Unless otherwise agreed, the Government of the United States shall not, in the Republic of the Marshall Islands:\u201c(1) test by detonation or dispose of any nuclear weapon, nor test, dispose of, or discharge any toxic chemical or biological weapon; or\n",
        "\n",
        "\u201c(2) test, dispose of, or discharge any other radioactive, toxic chemical or biological materials in an amount or manner that would be hazardous to public health or safety.\n",
        "\n",
        "\u201c(b) Unless otherwise agreed, other than for transit or overflight purposes or during time of a national emergency declared by the President of the United States, a state of war declared by the Congress of the United States or as necessary to defend against an actual or impending armed attack on the United States, the Republic of the Marshall Islands or the Federated States of Micronesia, the Government of the United States shall not store in the Republic of the Marshall Islands or the Federated States of Micronesia any toxic chemical weapon, nor any radioactive materials nor any toxic chemical materials intended for weapons use.\n",
        "\n",
        "\u201c(c) Radioactive, toxic chemical, or biological materials not intended for weapons use shall not be affected by section 314(b).\n",
        "\n",
        "\u201c(d) No material or substance referred to in this section shall be stored in the Republic of the Marshall Islands except in an amount and manner which would not be hazardous to public health or safety. In determining what shall be an amount or manner which would be hazardous to public health or safety under this section, the Government of the United States shall comply with any applicable mutual agreement, international guidelines accepted by the Government of the United States, and the laws of the United States and their implementing regulations.\n",
        "\n",
        "\u201c(e) Any exercise of the exemption authority set forth in section 161(e) shall have no effect on the obligations of the Government of the United States under this section or on the application of this subsection.\n",
        "\n",
        "\u201c(f) The provisions of this section shall apply in the areas in which the Government of the Republic of the Marshall Islands exercises jurisdiction over the living resources of the seabed, subsoil or water column adjacent to its coasts.\n",
        "\n",
        "\n",
        "Reached here"
       ]
      },
      {
       "output_type": "stream",
       "stream": "stdout",
       "text": [
        "\n",
        "\n",
        "\u201cSection 452\u201c(a) Should termination occur pursuant to section 442 prior to the twentieth anniversary of the effective date of this Compact, as amended, the following provisions of this amended Compact shall remain in full force and effect until the twentieth anniversary of the effective date of this Compact, as amended, and thereafter as mutually agreed:\u201c(1) Article VI and sections 172, 173, 176 and 177 of Title One;\n",
        "\n",
        "\u201c(2) Article One and sections 232 and 234 of Title Two;\n",
        "\n",
        "\u201c(3) Title Three; and\n",
        "\n",
        "\u201c(4) Articles II, III, V and VI of Title Four.\n",
        "\n",
        "\u201c(b) Should termination occur pursuant to section 442 before the twentieth anniversary of the effective date of this Compact, as amended:\u201c(1) Except as provided in paragraph (2) of this subsection and subsection (c) of this section, economic and other assistance by the United States shall continue only if and as mutually agreed by the Governments of the United States and the Republic of the Marshall Islands.\n",
        "\n",
        "\u201c(2) In view of the special relationship of the United States and the Republic of the Marshall Islands, as reflected in subsections (b) and (c) of section 354 of this Compact, as amended, and the separate agreement regarding mutual security, and the Trust Fund Agreement, the United States shall continue to make contributions to the Trust Fund described in section 216 of this Compact, as amended, in the manner described in the Trust Fund Agreement.\n",
        "\n",
        "\u201c(c) In view of the special relationship of the United States and the Republic of the Marshall Islands, as reflected in subsections 354(b) and (c) of this Compact, as amended, and the separate agreement regarding mutual security, and the Trust Fund Agreement, if termination occurs pursuant to section 442 following the twentieth anniversary of the effective date of this Compact, as amended, the Republic of the Marshall Islands shall continue to be eligible to receive proceeds from the Trust Fund described in section 216 of this Compact, as amended, in the manner described in those provisions and the Trust Fund Agreement.\n",
        "\n",
        "\n",
        "Reached here\n",
        "\n",
        "\u201cSection 453\u201c(a) Should termination occur pursuant to section 443 prior to the twentieth anniversary of the effective date of this Compact, as amended, the following provisions of this Compact, as amended, shall remain in full force and effect until the twentieth anniversary of the effective date of this Compact, as amended, and thereafter as mutually agreed:\u201c(1) Article VI and sections 172, 173, 176 and 177 of Title One;\n",
        "\n",
        "\u201c(2) Sections 232 and 234 of Title Two;\n",
        "\n",
        "\u201c(3) Title Three; and\n",
        "\n",
        "\u201c(4) Articles II, III, V and VI of Title Four.\n",
        "\n",
        "\u201c(b) Upon receipt of notice of termination pursuant to section 443, the Government of the United States and the Government of the Republic of the Marshall Islands shall promptly consult with regard to their future relationship. Except as provided in subsections (c) and (d) of this section, these consultations shall determine the level of economic and other assistance, if any, which the Government of the United States shall provide to the Government of the Republic of the Marshall Islands for the period ending on the twentieth anniversary of the effective date of this Compact, as amended, and for any period thereafter, if mutually agreed.\n",
        "\n",
        "\u201c(c) In view of the special relationship of the United States and the Republic of the Marshall Islands, as reflected in subsections 354(b) and (c) of this Compact, as amended, and the separate agreement regarding mutual security, and the Trust Fund Agreement, if termination occurs pursuant to section 443 prior to the twentieth anniversary of the effective date of this Compact, as amended, the United States shall continue to make contributions to the Trust Fund described in section 216 of this Compact, as amended.\n",
        "\n",
        "\u201c(d) In view of the special relationship of the United States and the Republic of the Marshall Islands, as reflected in subsections 354(b) and (c) of this Compact, as amended, and the separate agreement regarding mutual security, and the Trust Fund Agreement, if termination occurs pursuant to section 443 following the twentieth anniversary of the effective date of this Compact, as amended, the Republic of the Marshall Islands shall continue to be eligible to receive proceeds from the Trust Fund described in section 216 of this Compact, as amended, in the manner described in those provisions and the Trust Fund Agreement.\n",
        "\n",
        "\n",
        "Reached here\n",
        "\n",
        "\u201cSection 462\u201c(a) The Government of the United States and the Government of the Republic of the Marshall Islands previously have concluded agreements, which shall remain in effect and shall survive in accordance with their terms, as follows:\u201c(1) Agreement Between the Government of the United States and the Government of the Marshall Islands for the Implementation of Section 177 of the Compact of Free Association;\n",
        "\n",
        "\u201c(2) Agreement Between the Government of the United States and the Government of the Marshall Islands by Persons Displaced as a Result of the United States Nuclear Testing Program in the Marshall Islands;\n",
        "\n",
        "\u201c(3) Agreement Between the Government of the United States and the Government of the Marshall Islands Regarding the Resettlement of Enjebi Island;\n",
        "\n",
        "\u201c(4) Agreement Concluded Pursuant to Section 234 of the Compact; and\n",
        "\n",
        "\u201c(5) Agreement Between the Government of the United States and the Government of the Marshall Islands Regarding Mutual Security Concluded Pursuant to Sections 321 and 323 of the Compact of Free Association.\n",
        "\n",
        "\u201c(b) The Government of the United States and the Government of the Republic of the Marshall Islands shall conclude prior to the date of submission of this Compact to the legislatures of the two countries, the following related agreements which shall come into effect on the effective date of this Compact, as amended, and shall survive in accordance with their terms, as follows:\u201c(1) Federal Programs and Services Agreement Between the Government of the United States of America and the Government of the Republic of the Marshall Islands Concluded Pursuant to Article III of Title One, Article II of Title Two (including Section 222), and Section 231 of the Compact of Free Association, as Amended, which include:\u201c(i) Postal Services and Related Programs;\n",
        "\n",
        "\u201c(ii) Weather Services and Related Programs;\n",
        "\n",
        "\u201c(iii) Civil Aviation Safety Service and Related Programs;\n",
        "\n",
        "\u201c(iv) Civil Aviation Economic Services and Related Programs;\n",
        "\n",
        "\u201c(v) United States Disaster Preparedness and Response Services and Related Programs; and\n",
        "\n",
        "\u201c(vi) Telecommunications Services and Related Programs.\n",
        "\n",
        "\u201c(2) Agreement Between the Government of the United States of America and the Government of the Republic of the Marshall Islands on Extradition, Mutual Assistance in Law Enforcement Matters and Penal Sanctions Concluded Pursuant to Section 175 (a) of the Compact of Free Association, as Amended;\n",
        "\n",
        "\u201c(3) Agreement Between the Government of the United States of America and the Government of the Republic of the Marshall Islands on Labor Recruitment Concluded Pursuant to Section 175 (b) of the Compact of Free Association, as Amended;\n",
        "\n",
        "\u201c(4) Agreement Concerning Procedures for the Implementation of United States Economic Assistance Provided in the Compact, as Amended, of Free Association Between the Government of the United States of America and the Government of the Republic of the Marshall Islands;\n",
        "\n",
        "\u201c(5) Agreement Between the Government of the United States of America and the Government of the Republic of the Marshall Islands Implementing Section 216 and Section 217 of the Compact, as Amended, Regarding a Trust Fund;\n",
        "\n",
        "\u201c(6) Agreement Regarding the Military Use and Operating Rights of the Government of the United States in the Republic of the Marshall Islands Concluded Pursuant to Sections 321 and 323 of the Compact of Free Association, as Amended; and\n",
        "\n",
        "\u201c(7) Status of Forces Agreement Between the Government of the United States of America and the Government of the Republic of the Marshall Islands Concluded Pursuant to Section 323 of the Compact of Free Association, as Amended.\n",
        "\n",
        "\n",
        "Reached here"
       ]
      },
      {
       "output_type": "stream",
       "stream": "stdout",
       "text": [
        "\n",
        "\n",
        "\u201cSection 131\u201c(a) The Government of Palau has full authority and responsibility to regulate its domestic and foreign communications, and the Government of the United States shall provide communication assistance in accordance with the terms of a related agreement which shall come into effect simultaneously with this Compact, and such agreement shall remain in effect until such time as any election is made pursuant to Section 131(b) and which shall provide for the following:\u201c(1) the Government of the United States remains the sole administration entitled to make notification to the International Frequency Registration Board of the International Telecommunications Union of frequency assignments to radio communications stations in Palau; and to submit to the International Frequency Registration Board seasonal schedules for the broadcasting stations in Palau in the bands allocated exclusively to the broadcasting service between 5,950 and 26,100 kHz and in any other additional frequency bands that may be allocated to use by high frequency broadcasting stations; and\n",
        "\n",
        "\u201c(2) the United States Federal Communications Commission has jurisdiction, pursuant to the Communications Act of 1934, 47 U.S.C. 151 et seq., and the Communications Satellite Act of 1962, 47 U.S.C. 721 et seq., over all domestic and foreign communications services furnished by means of satellite earth terminal stations where such stations are owned or operated by United States common carriers and are located in Palau.\n",
        "\n",
        "\u201c(b) The Government of Palau may elect at any time to undertake the functions enumerated in Section 131(a) and previously performed by the Government of the United States. Upon such election, the Government of the United States shall so notify the International Frequency Registration Board and shall take such other actions as may be necessary to transfer to the Government of Palau the notification authority referred to in Section 131(a) and all rights deriving from the previous exercise of any such notification authority by the Government of the United States.\n",
        "\n",
        "\n",
        "Reached here"
       ]
      },
      {
       "output_type": "stream",
       "stream": "stdout",
       "text": [
        "\n",
        "\n",
        "\u201cSection 212\u201cIn order to assist the Government of Palau in its efforts to advance the economic development and self-sufficiency of the people of Palau and in recognition of the special relationship that exists between the United States and Palau, the Government of the United States shall provide:\u201c(a) To the people of Palau, a road system in accordance with mutually agreed specifications, the construction of which shall be completed prior to the sixth anniversary of the effective date of this Compact; and\n",
        "\n",
        "\u201c(b) To the Government of Palau, the sum of $36 million, during the first year after the effective date of this Compact, for capital account purposes.\n",
        "\n",
        "\n",
        "Reached here\n",
        "\n",
        "\u201cSection 221\u201c(a) The Government of the United States shall make available to Palau, in accordance with and to the extent provided in the separate agreement referred to in Section 232, without compensation and at the levels equivalent to those available to the Trust Territory of the Pacific Islands during the year prior to the effective date of this Compact, the services and related programs:\u201c(1) of the United States Weather Service;\n",
        "\n",
        "\u201c(2) provided pursuant to the Postal Reorganization Act, 39 U.S.C. 101 et seq.;\n",
        "\n",
        "\u201c(3) of the United States Federal Aviation Administration; and\n",
        "\n",
        "\u201c(4) of the United States Civil Aeronautics Board or its successor agencies which has the authority to implement the provisions of paragraph 5 of Article IX of such separate agreements, the language of which is incorporated into this Compact.\n",
        "\n",
        "\u201c(b) The Government of the United States, recognizing the special needs of the Palau [sic] particularly in the fields of education and health care, shall make available, as provided by the laws of the United States,\u201c(1) the annual amount of $2 million which shall be allocated in accordance with the provisions of the separate agreement referred to in Section 232; and\n",
        "\n",
        "\u201c(2) the sums of $4.3 million, $2.9 million and $1.5 million, respectively, during the first, second and third years after the effective date of this Compact, which sums shall be used by the Government of Palau as current account funds to finance programs similar to those programs of the United States that applied to Palau prior to the effective date of this Compact and that provided financial assistance for education to any institution, agency, organization or permanent resident of Palau or to the College of Micronesia.\n",
        "\n",
        "\u201c(c) The Government of the United States shall make available to Palau such alternate energy development projects, studies and conservation measures as are applicable to the Trust Territory of the Pacific Islands on the day preceding the effective date of this Compact, for the purposes and duration provided in the laws of the United States.\n",
        "\n",
        "\u201c(d) The Government of the United States shall have and exercise such authority as is necessary for the purposes of this Article and as is set forth in the related agreements referred to in Section 232, which shall also set forth the extent to which services and programs shall be provided to Palau.\n",
        "\n",
        "\n",
        "Reached here"
       ]
      },
      {
       "output_type": "stream",
       "stream": "stdout",
       "text": [
        "\n",
        "\n",
        "\u201cSection 331\u201cSubject to the terms of this Compact and its related agreements, the Government of the United States, exclusively, shall assume and enjoy, as to Palau, all obligations, responsibilities, rights and benefits of:\u201c(a) Any defense treaty or other international security agreement applied by the Government of the United States as administering authority of the Trust Territory of the Pacific Islands as of the day preceding the effective date of this Compact; and\n",
        "\n",
        "\u201c(b) Any defense treaty or other international security agreement to which the Government of the United States is or may become a party which it determines to be applicable in Palau. Such a determination by the Government of the United States shall be preceded by appropriate consultation with the Government of Palau.\n",
        "\n",
        "\n",
        "Reached here\n",
        "\n",
        "\u201cSection 411\u201cThis Compact shall come into effect upon mutual agreement between the Government of the United States, acting in fulfillment of its responsibilities as Administering Authority of the Trust Territory of the Pacific Islands, and the Government of Palau, subsequent to completion of the following:\u201c(a) Approval by the Government of Palau in accordance with its constitutional processes;\n",
        "\n",
        "\u201c(b) Approval by the people of Palau in a referendum called on this Compact; and\n",
        "\n",
        "\u201c(c) Approval by the Government of the United States in accordance with its constitutional processes.\n",
        "\n",
        "\n",
        "Reached here"
       ]
      },
      {
       "output_type": "stream",
       "stream": "stdout",
       "text": [
        "\n",
        "\n",
        "\u201cSection 452\u201cShould termination occur pursuant to Section 442 or 443, the following provisions of this Compact shall remain in full force and effect until the fiftieth anniversary of the effective date of this Compact and thereafter as mutually agreed:\u201c(a) Article I and Section 233 of Title Two;\n",
        "\n",
        "\u201c(b) Title Three; and\n",
        "\n",
        "\u201c(c) Articles II, III, V and VI of Title Four.\n",
        "\n",
        "\n",
        "Reached here\n",
        "\n",
        "\u201cSection 453\u201cNotwithstanding any other provision of this Compact:\u201c(a) The provisions of Section 311, even if Title Three should terminate, are binding and shall remain in effect for a period of 50 years and thereafter until terminated or otherwise amended by mutual consent;\n",
        "\n",
        "\u201c(b) The related agreements referred to in Article II of Title Three shall remain in effect in accordance with their terms; and\n",
        "\n",
        "\u201c(c) The Government of the United States reaffirms its continuing interest in promoting the long-term economic advancement and self-sufficiency of the people of Palau.\n",
        "\n",
        "\n",
        "Reached here\n",
        "\n",
        "\u201cSection 462\u201cThe Government of the United States and the Government of Palau shall conclude related agreements which shall come into effect and shall survive in accordance with their terms, and which shall be construed and implemented in a manner consistent with this Compact, as follows:\u201c(a) Agreement Regarding the Provision of Telecommunication Services by the Government of the United States to Palau Concluded Pursuant to Section 131 of the Compact of Free Association;\n",
        "\n",
        "\u201c(b) Agreement Regarding the Operation of Telecommunication Services of the Government of the United States in Palau, Concluded Pursuant to Section 132 of the Compact of Free Association;\n",
        "\n",
        "\u201c(c) Agreement on Extradition, Mutual Assistance in Law Enforcement Matters and Penal Sanctions Concluded Pursuant to Section 175 of the Compact of Free Association;\n",
        "\n",
        "\u201c(d) Agreement Regarding United States Economic Assistance to the Government of Palau Concluded Pursuant to Section 211(f) of the Compact of Free Association;\n",
        "\n",
        "\u201c(e) Agreement Regarding Construction Projects in Palau Concluded Pursuant to Section 212(a) of the Compact of Free Association;\n",
        "\n",
        "\u201c(f) Agreement Regarding Federal Programs and Services, and Concluded Pursuant to Article II of Title Two and Section 232 of the Compact of Free Association;\n",
        "\n",
        "\u201c(g) Agreement Regarding Property Turnover, Concluded Pursuant to Section 234 of the Compact of Free Association;\n",
        "\n",
        "\u201c(h) Agreement Regarding the Military Use and Operating Rights of the Government of the United States in Palau Concluded Pursuant to Sections 321 and 322 of the Compact of Free Association; and\n",
        "\n",
        "\u201c(i) Status of Forces Agreement Concluded Pursuant to Section 323 of the Compact of Free Association.\n",
        "\n",
        "\u201c(j) Agreement regarding the Jurisdication [sic] and Sovereignty of the Republic of Palau over its Territory and the Living and Non-living Resources of the Sea.\n",
        "\n",
        "\n",
        "Working on file:"
       ]
      },
      {
       "output_type": "stream",
       "stream": "stdout",
       "text": [
        " usc49.xml\n",
        "Working on file:"
       ]
      },
      {
       "output_type": "stream",
       "stream": "stdout",
       "text": [
        " usc50.xml\n",
        "Working on file:"
       ]
      },
      {
       "output_type": "stream",
       "stream": "stdout",
       "text": [
        " usc50A.xml\n",
        "Working on file:"
       ]
      },
      {
       "output_type": "stream",
       "stream": "stdout",
       "text": [
        " usc51.xml\n",
        "Working on file:"
       ]
      },
      {
       "output_type": "stream",
       "stream": "stdout",
       "text": [
        " usc52.xml\n"
       ]
      }
     ],
     "prompt_number": 11
    }
   ],
   "metadata": {}
  }
 ]
}