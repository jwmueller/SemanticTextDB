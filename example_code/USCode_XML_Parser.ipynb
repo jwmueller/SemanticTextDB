{
 "metadata": {
  "name": ""
 },
 "nbformat": 3,
 "nbformat_minor": 0,
 "worksheets": [
  {
   "cells": [
    {
     "cell_type": "code",
     "collapsed": false,
     "input": [
      "import re\n",
      "import os\n",
      "import xml.etree.ElementTree as ET"
     ],
     "language": "python",
     "metadata": {},
     "outputs": [],
     "prompt_number": 1
    },
    {
     "cell_type": "code",
     "collapsed": false,
     "input": [
      "readPath = \"C:/git/SemanticTextDB/example_code/xml/\"\n",
      "writePath = \"C:/git/SemanticTextDB/example_code/all_US_Law_Codes/\"\n",
      "if not os.path.exists(writePath):\n",
      "    os.makedirs(writePath)"
     ],
     "language": "python",
     "metadata": {},
     "outputs": [],
     "prompt_number": 2
    },
    {
     "cell_type": "code",
     "collapsed": false,
     "input": [
      "for filename in os.listdir(readPath):\n",
      "    print 'Working on file:', filename\n",
      "    #f = open(readPath + filename,'r')\n",
      "    #fileAsString = f.read()\n",
      "    #sections = re.findall(r'<section.*?id=.*?>.*?</section>', fileAsString, re.DOTALL)\n",
      "    \n",
      "    #Create ElementTree representing the XML structure of the laws\n",
      "    tree = ET.parse(readPath + filename)\n",
      "    root = tree.getroot()\n",
      "    \n",
      "    #Grab the sections containing the laws. The sections are on the fourth level of the xml\n",
      "    #represented by */*/*/<sections here>. Only return sections ending in element tag section.\n",
      "    #The list comprehension returns a string represnetion of the xml using ET.tostring  method.\n",
      "    sections = [ET.tostring(element, encoding='utf8', method='xml') for element in root.findall('*/*/*/') if element.tag[len(element.tag)-7:] == 'section']\n",
      "    count = 0\n",
      "    for section in sections:\n",
      "        count = count + 1\n",
      "        result = re.sub(r'</heading>','\\n', section)        \n",
      "        result = re.sub(r'<.*?>', '', result, flags = re.DOTALL)\n",
      "        result = re.sub(r'\\n{3,}', '\\n\\n', result, flags = re.DOTALL)\n",
      "        fout = open(writePath + filename[3:-4] + '_' + str(count) + '.txt', 'w')\n",
      "        fout.write(result)\n",
      "    if count == 2:\n",
      "        break "
     ],
     "language": "python",
     "metadata": {},
     "outputs": [
      {
       "output_type": "stream",
       "stream": "stdout",
       "text": [
        "Working on file: usc01.xml\n",
        "Working on file:"
       ]
      },
      {
       "output_type": "stream",
       "stream": "stdout",
       "text": [
        " usc02.xml\n",
        "Working on file:"
       ]
      },
      {
       "output_type": "stream",
       "stream": "stdout",
       "text": [
        " usc03.xml\n",
        "Working on file:"
       ]
      },
      {
       "output_type": "stream",
       "stream": "stdout",
       "text": [
        " usc04.xml\n",
        "Working on file:"
       ]
      },
      {
       "output_type": "stream",
       "stream": "stdout",
       "text": [
        " usc05.xml\n",
        "Working on file:"
       ]
      },
      {
       "output_type": "stream",
       "stream": "stdout",
       "text": [
        " usc05A.xml\n",
        "Working on file:"
       ]
      },
      {
       "output_type": "stream",
       "stream": "stdout",
       "text": [
        " usc06.xml\n",
        "Working on file:"
       ]
      },
      {
       "output_type": "stream",
       "stream": "stdout",
       "text": [
        " usc07.xml\n",
        "Working on file:"
       ]
      },
      {
       "output_type": "stream",
       "stream": "stdout",
       "text": [
        " usc08.xml\n",
        "Working on file:"
       ]
      },
      {
       "output_type": "stream",
       "stream": "stdout",
       "text": [
        " usc09.xml\n",
        "Working on file:"
       ]
      },
      {
       "output_type": "stream",
       "stream": "stdout",
       "text": [
        " usc10.xml\n",
        "Working on file:"
       ]
      },
      {
       "output_type": "stream",
       "stream": "stdout",
       "text": [
        " usc11.xml\n",
        "Working on file:"
       ]
      },
      {
       "output_type": "stream",
       "stream": "stdout",
       "text": [
        " usc11A.xml\n",
        "Working on file:"
       ]
      },
      {
       "output_type": "stream",
       "stream": "stdout",
       "text": [
        " usc12.xml\n",
        "Working on file:"
       ]
      },
      {
       "output_type": "stream",
       "stream": "stdout",
       "text": [
        " usc13.xml\n",
        "Working on file:"
       ]
      },
      {
       "output_type": "stream",
       "stream": "stdout",
       "text": [
        " usc14.xml\n",
        "Working on file:"
       ]
      },
      {
       "output_type": "stream",
       "stream": "stdout",
       "text": [
        " usc15.xml\n",
        "Working on file:"
       ]
      },
      {
       "output_type": "stream",
       "stream": "stdout",
       "text": [
        " usc16.xml\n",
        "Working on file:"
       ]
      },
      {
       "output_type": "stream",
       "stream": "stdout",
       "text": [
        " usc17.xml\n",
        "Working on file:"
       ]
      },
      {
       "output_type": "stream",
       "stream": "stdout",
       "text": [
        " usc18.xml\n",
        "Working on file:"
       ]
      },
      {
       "output_type": "stream",
       "stream": "stdout",
       "text": [
        " usc18A.xml\n",
        "Working on file:"
       ]
      },
      {
       "output_type": "stream",
       "stream": "stdout",
       "text": [
        " usc19.xml\n",
        "Working on file:"
       ]
      },
      {
       "output_type": "stream",
       "stream": "stdout",
       "text": [
        " usc20.xml\n",
        "Working on file:"
       ]
      },
      {
       "output_type": "stream",
       "stream": "stdout",
       "text": [
        " usc21.xml\n",
        "Working on file:"
       ]
      },
      {
       "output_type": "stream",
       "stream": "stdout",
       "text": [
        " usc22.xml\n",
        "Working on file:"
       ]
      },
      {
       "output_type": "stream",
       "stream": "stdout",
       "text": [
        " usc23.xml\n",
        "Working on file:"
       ]
      },
      {
       "output_type": "stream",
       "stream": "stdout",
       "text": [
        " usc24.xml\n",
        "Working on file:"
       ]
      },
      {
       "output_type": "stream",
       "stream": "stdout",
       "text": [
        " usc25.xml\n",
        "Working on file:"
       ]
      },
      {
       "output_type": "stream",
       "stream": "stdout",
       "text": [
        " usc26.xml\n",
        "Working on file:"
       ]
      },
      {
       "output_type": "stream",
       "stream": "stdout",
       "text": [
        " usc27.xml\n",
        "Working on file:"
       ]
      },
      {
       "output_type": "stream",
       "stream": "stdout",
       "text": [
        " usc28.xml\n",
        "Working on file:"
       ]
      },
      {
       "output_type": "stream",
       "stream": "stdout",
       "text": [
        " usc28a.xml\n",
        "Working on file:"
       ]
      },
      {
       "output_type": "stream",
       "stream": "stdout",
       "text": [
        " usc29.xml\n",
        "Working on file:"
       ]
      },
      {
       "output_type": "stream",
       "stream": "stdout",
       "text": [
        " usc30.xml\n",
        "Working on file:"
       ]
      },
      {
       "output_type": "stream",
       "stream": "stdout",
       "text": [
        " usc31.xml\n",
        "Working on file:"
       ]
      },
      {
       "output_type": "stream",
       "stream": "stdout",
       "text": [
        " usc32.xml\n",
        "Working on file:"
       ]
      },
      {
       "output_type": "stream",
       "stream": "stdout",
       "text": [
        " usc33.xml\n",
        "Working on file:"
       ]
      },
      {
       "output_type": "stream",
       "stream": "stdout",
       "text": [
        " usc35.xml\n",
        "Working on file:"
       ]
      },
      {
       "output_type": "stream",
       "stream": "stdout",
       "text": [
        " usc36.xml\n",
        "Working on file:"
       ]
      },
      {
       "output_type": "stream",
       "stream": "stdout",
       "text": [
        " usc37.xml\n",
        "Working on file:"
       ]
      },
      {
       "output_type": "stream",
       "stream": "stdout",
       "text": [
        " usc38.xml\n",
        "Working on file:"
       ]
      },
      {
       "output_type": "stream",
       "stream": "stdout",
       "text": [
        " usc39.xml\n",
        "Working on file:"
       ]
      },
      {
       "output_type": "stream",
       "stream": "stdout",
       "text": [
        " usc40.xml\n",
        "Working on file:"
       ]
      },
      {
       "output_type": "stream",
       "stream": "stdout",
       "text": [
        " usc41.xml\n",
        "Working on file:"
       ]
      },
      {
       "output_type": "stream",
       "stream": "stdout",
       "text": [
        " usc42.xml\n",
        "Working on file:"
       ]
      },
      {
       "output_type": "stream",
       "stream": "stdout",
       "text": [
        " usc43.xml\n",
        "Working on file:"
       ]
      },
      {
       "output_type": "stream",
       "stream": "stdout",
       "text": [
        " usc44.xml\n",
        "Working on file:"
       ]
      },
      {
       "output_type": "stream",
       "stream": "stdout",
       "text": [
        " usc45.xml\n",
        "Working on file:"
       ]
      },
      {
       "output_type": "stream",
       "stream": "stdout",
       "text": [
        " usc46.xml\n",
        "Working on file:"
       ]
      },
      {
       "output_type": "stream",
       "stream": "stdout",
       "text": [
        " usc47.xml\n",
        "Working on file:"
       ]
      },
      {
       "output_type": "stream",
       "stream": "stdout",
       "text": [
        " usc48.xml\n",
        "Working on file:"
       ]
      },
      {
       "output_type": "stream",
       "stream": "stdout",
       "text": [
        " usc49.xml\n",
        "Working on file:"
       ]
      },
      {
       "output_type": "stream",
       "stream": "stdout",
       "text": [
        " usc50.xml\n",
        "Working on file:"
       ]
      },
      {
       "output_type": "stream",
       "stream": "stdout",
       "text": [
        " usc50A.xml\n",
        "Working on file:"
       ]
      },
      {
       "output_type": "stream",
       "stream": "stdout",
       "text": [
        " usc51.xml\n",
        "Working on file:"
       ]
      },
      {
       "output_type": "stream",
       "stream": "stdout",
       "text": [
        " usc52.xml\n"
       ]
      }
     ],
     "prompt_number": 6
    },
    {
     "cell_type": "code",
     "collapsed": false,
     "input": [
      "lol = root.getchildren()[1].getchildren()[0].getchildren()[5].getchildren()[4]"
     ],
     "language": "python",
     "metadata": {},
     "outputs": [],
     "prompt_number": 5
    },
    {
     "cell_type": "code",
     "collapsed": false,
     "input": [
      "xmlstr = ET.tostring(lol, encoding='utf8', method='xml')"
     ],
     "language": "python",
     "metadata": {},
     "outputs": [],
     "prompt_number": 6
    },
    {
     "cell_type": "code",
     "collapsed": false,
     "input": [
      "print xmlstr"
     ],
     "language": "python",
     "metadata": {},
     "outputs": [
      {
       "output_type": "stream",
       "stream": "stdout",
       "text": [
        "<?xml version='1.0' encoding='utf8'?>\n",
        "<ns0:section xmlns:ns0=\"http://xml.house.gov/schemas/uslm/1.0\" id=\"idf60571e9-667b-11e4-8e15-9067828c1e92\" identifier=\"/us/usc/t2/s1a\" style=\"-uslm-lc:I80\"><ns0:num value=\"1a\">\u00a7\u202f1a.</ns0:num><ns0:heading> Election to be certified by governor</ns0:heading><ns0:content>\n",
        "<ns0:p class=\"indent0\" style=\"-uslm-lc:I11\">It shall be the duty of the executive of the State from which any Senator has been chosen to certify his election, under the seal of the State, to the President of the Senate of the United States.</ns0:p>\n",
        "</ns0:content><ns0:sourceCredit id=\"idf60571ea-667b-11e4-8e15-9067828c1e92\">(R.S. \u00a7\u202f18.)</ns0:sourceCredit>\n",
        "<ns0:notes id=\"idf60571eb-667b-11e4-8e15-9067828c1e92\" type=\"uscNote\">\n",
        "<ns0:note id=\"idf60571ec-667b-11e4-8e15-9067828c1e92\" style=\"-uslm-lc:I76\" topic=\"codification\"><ns0:heading class=\"centered smallCaps\">Codification</ns0:heading>\n",
        "<ns0:p class=\"indent0\" style=\"-uslm-lc:I21\">R.S. \u00a7\u202f18 derived from <ns0:ref href=\"/us/act/1866-07-25/ch245/s3\">act July 25, 1866, ch. 245, \u00a7\u202f3</ns0:ref>, <ns0:ref href=\"/us/stat/14/244\">14 Stat. 244</ns0:ref>.</ns0:p>\n",
        "</ns0:note>\n",
        "</ns0:notes>\n",
        "</ns0:section>\n",
        "\n"
       ]
      }
     ],
     "prompt_number": 7
    },
    {
     "cell_type": "code",
     "collapsed": false,
     "input": [
      "lol.tag[len(lol.tag)-7:] == 'section'"
     ],
     "language": "python",
     "metadata": {},
     "outputs": [
      {
       "metadata": {},
       "output_type": "pyout",
       "prompt_number": 14,
       "text": [
        "True"
       ]
      }
     ],
     "prompt_number": 14
    },
    {
     "cell_type": "code",
     "collapsed": false,
     "input": [
      "result = [ET.tostring(element, encoding='utf8', method='xml') for element in root.findall('*/*/*/') if element.tag[len(element.tag)-7:] == 'section']\n"
     ],
     "language": "python",
     "metadata": {},
     "outputs": [],
     "prompt_number": 15
    },
    {
     "cell_type": "code",
     "collapsed": false,
     "input": [
      "for i in range(5):\n",
      "    print result[i]\n",
      "    print"
     ],
     "language": "python",
     "metadata": {},
     "outputs": [
      {
       "output_type": "stream",
       "stream": "stdout",
       "text": [
        "<?xml version='1.0' encoding='utf8'?>\n",
        "<ns0:section xmlns:ns0=\"http://xml.house.gov/schemas/uslm/1.0\" id=\"idf60571e4-667b-11e4-8e15-9067828c1e92\" identifier=\"/us/usc/t2/s1\" style=\"-uslm-lc:I80\"><ns0:num value=\"1\">\u00a7\u202f1.</ns0:num><ns0:heading> Time for election of Senators</ns0:heading><ns0:content>\n",
        "<ns0:p class=\"indent0\" style=\"-uslm-lc:I11\">At the regular election held in any State next preceding the expiration of the term for which any Senator was elected to represent such State in Congress, at which election a Representative to Congress is regularly by law to be chosen, a United States Senator from said State shall be elected by the people thereof for the term commencing on the 3d day of January next thereafter.</ns0:p>\n",
        "</ns0:content><ns0:sourceCredit id=\"idf60571e5-667b-11e4-8e15-9067828c1e92\">(<ns0:ref href=\"/us/act/1914-06-04/ch103/s1\">June 4, 1914, ch. 103, \u00a7\u202f1</ns0:ref>, <ns0:ref href=\"/us/stat/38/384\">38 Stat. 384</ns0:ref>; <ns0:ref href=\"/us/act/1934-06-05/ch390/s3\">June 5, 1934, ch. 390, \u00a7\u202f3</ns0:ref>, <ns0:ref href=\"/us/stat/48/879\">48 Stat. 879</ns0:ref>.)</ns0:sourceCredit>\n",
        "<ns0:notes id=\"idf60571e6-667b-11e4-8e15-9067828c1e92\" type=\"uscNote\">\n",
        "<ns0:note id=\"idf60571e7-667b-11e4-8e15-9067828c1e92\" style=\"-uslm-lc:I74\" topic=\"amendments\"><ns0:heading class=\"centered smallCaps\">Amendments</ns0:heading><ns0:p class=\"indent0\" style=\"-uslm-lc:I21\">1934\u2014Act <ns0:date date=\"1934-06-05\">June 5, 1934</ns0:date>, substituted \u201c3d day of January\u201d for \u201cfourth day of March\u201d.</ns0:p>\n",
        "</ns0:note>\n",
        "<ns0:note id=\"idf60571e8-667b-11e4-8e15-9067828c1e92\" style=\"-uslm-lc:I74\" topic=\"miscellaneous\"><ns0:heading class=\"centered smallCaps\">Constitutional Provisions</ns0:heading><ns0:p class=\"indent0\" style=\"-uslm-lc:I21\">The first section of Amendment XX to the Constitution provides in part: \u201c*\u2000*\u2000* the terms of Senators and Representatives [shall end] at noon on the 3d day of January, of the years in which such terms would have ended if this article had not been ratified; and the terms of their successors shall then begin.\u201d</ns0:p>\n",
        "<ns0:p class=\"indent0\" style=\"-uslm-lc:I21\">Time for election of Senators, see Const. Art. I, \u00a7\u202f4, cl. 1.</ns0:p>\n",
        "<ns0:p class=\"indent0\" style=\"-uslm-lc:I21\">Vacancies in the Senate, see Const. Amend. XVII.</ns0:p>\n",
        "</ns0:note>\n",
        "</ns0:notes>\n",
        "</ns0:section>\n",
        "\n",
        "\n",
        "<?xml version='1.0' encoding='utf8'?>\n",
        "<ns0:section xmlns:ns0=\"http://xml.house.gov/schemas/uslm/1.0\" id=\"idf60571e9-667b-11e4-8e15-9067828c1e92\" identifier=\"/us/usc/t2/s1a\" style=\"-uslm-lc:I80\"><ns0:num value=\"1a\">\u00a7\u202f1a.</ns0:num><ns0:heading> Election to be certified by governor</ns0:heading><ns0:content>\n",
        "<ns0:p class=\"indent0\" style=\"-uslm-lc:I11\">It shall be the duty of the executive of the State from which any Senator has been chosen to certify his election, under the seal of the State, to the President of the Senate of the United States.</ns0:p>\n",
        "</ns0:content><ns0:sourceCredit id=\"idf60571ea-667b-11e4-8e15-9067828c1e92\">(R.S. \u00a7\u202f18.)</ns0:sourceCredit>\n",
        "<ns0:notes id=\"idf60571eb-667b-11e4-8e15-9067828c1e92\" type=\"uscNote\">\n",
        "<ns0:note id=\"idf60571ec-667b-11e4-8e15-9067828c1e92\" style=\"-uslm-lc:I76\" topic=\"codification\"><ns0:heading class=\"centered smallCaps\">Codification</ns0:heading>\n",
        "<ns0:p class=\"indent0\" style=\"-uslm-lc:I21\">R.S. \u00a7\u202f18 derived from <ns0:ref href=\"/us/act/1866-07-25/ch245/s3\">act July 25, 1866, ch. 245, \u00a7\u202f3</ns0:ref>, <ns0:ref href=\"/us/stat/14/244\">14 Stat. 244</ns0:ref>.</ns0:p>\n",
        "</ns0:note>\n",
        "</ns0:notes>\n",
        "</ns0:section>\n",
        "\n",
        "\n",
        "<?xml version='1.0' encoding='utf8'?>\n",
        "<ns0:section xmlns:ns0=\"http://xml.house.gov/schemas/uslm/1.0\" id=\"idf60571ed-667b-11e4-8e15-9067828c1e92\" identifier=\"/us/usc/t2/s1b\" style=\"-uslm-lc:I80\"><ns0:num value=\"1b\">\u00a7\u202f1b.</ns0:num><ns0:heading> Countersignature of certificate of election</ns0:heading><ns0:content>\n",
        "<ns0:p class=\"indent0\" style=\"-uslm-lc:I11\">The certificate mentioned in <ns0:ref href=\"/us/usc/t2/s1a\">section 1a of this title</ns0:ref> shall be countersigned by the secretary of state of the State.</ns0:p>\n",
        "</ns0:content><ns0:sourceCredit id=\"idf60571ee-667b-11e4-8e15-9067828c1e92\">(R.S. \u00a7\u202f19.)</ns0:sourceCredit>\n",
        "<ns0:notes id=\"idf60571ef-667b-11e4-8e15-9067828c1e92\" type=\"uscNote\">\n",
        "<ns0:note id=\"idf60571f0-667b-11e4-8e15-9067828c1e92\" style=\"-uslm-lc:I76\" topic=\"codification\"><ns0:heading class=\"centered smallCaps\">Codification</ns0:heading>\n",
        "<ns0:p class=\"indent0\" style=\"-uslm-lc:I21\">R.S. \u00a7\u202f19 derived from <ns0:ref href=\"/us/act/1866-07-25/ch245/s3\">act July 25, 1866, ch. 245, \u00a7\u202f3</ns0:ref>, <ns0:ref href=\"/us/stat/14/244\">14 Stat. 244</ns0:ref>.</ns0:p>\n",
        "</ns0:note>\n",
        "</ns0:notes>\n",
        "</ns0:section>\n",
        "\n",
        "\n",
        "<?xml version='1.0' encoding='utf8'?>\n",
        "<ns0:section xmlns:ns0=\"http://xml.house.gov/schemas/uslm/1.0\" id=\"idf60571f1-667b-11e4-8e15-9067828c1e92\" identifier=\"/us/usc/t2/s2\" status=\"omitted\" style=\"-uslm-lc:I80\"><ns0:num value=\"2\">\u00a7\u202f2.</ns0:num><ns0:heading> Omitted</ns0:heading><ns0:notes id=\"idf60571f2-667b-11e4-8e15-9067828c1e92\" type=\"uscNote\">\n",
        "<ns0:note id=\"idf60571f3-667b-11e4-8e15-9067828c1e92\" style=\"-uslm-lc:I76\" topic=\"codification\"><ns0:heading class=\"centered smallCaps\">Codification</ns0:heading>\n",
        "<ns0:p class=\"indent0\" style=\"-uslm-lc:I21\">Section, <ns0:ref href=\"/us/act/1911-08-08/ch5\">act Aug. 8, 1911, ch. 5</ns0:ref>, \u00a7\u00a7\u202f1, 2, <ns0:ref href=\"/us/stat/37/13\">37 Stat. 13</ns0:ref>, 14, fixed composition of House of Representatives at 435 Members, to be apportioned to the States therein enumerated. For provisions dealing with reapportionment of Representatives and manner of election, etc., see sections 2a and 2b of this title.</ns0:p>\n",
        "</ns0:note>\n",
        "</ns0:notes>\n",
        "</ns0:section>\n",
        "\n",
        "\n",
        "<?xml version='1.0' encoding='utf8'?>\n",
        "<ns0:section xmlns:ns0=\"http://xml.house.gov/schemas/uslm/1.0\" id=\"idf60571f4-667b-11e4-8e15-9067828c1e92\" identifier=\"/us/usc/t2/s2a\" style=\"-uslm-lc:I80\"><ns0:num value=\"2a\">\u00a7\u202f2a.</ns0:num><ns0:heading> Reapportionment of Representatives; time and manner; existing decennial census figures as basis; statement by President; duty of clerk</ns0:heading><ns0:subsection class=\"indent0\" id=\"idf60571f5-667b-11e4-8e15-9067828c1e92\" identifier=\"/us/usc/t2/s2a/a\" style=\"-uslm-lc:I11\"><ns0:num value=\"a\">(a)</ns0:num><ns0:content> On the first day, or within one week thereafter, of the first regular session of the Eighty-second Congress and of each fifth Congress thereafter, the President shall transmit to the Congress a statement showing the whole number of persons in each State, excluding Indians not taxed, as ascertained under the seventeenth and each subsequent decennial census of the population, and the number of Representatives to which each State would be entitled under an apportionment of the then existing number of Representatives by the method known as the method of equal proportions, no State to receive less than one Member.</ns0:content>\n",
        "</ns0:subsection>\n",
        "<ns0:subsection class=\"indent0\" id=\"idf60571f6-667b-11e4-8e15-9067828c1e92\" identifier=\"/us/usc/t2/s2a/b\" style=\"-uslm-lc:I11\"><ns0:num value=\"b\">(b)</ns0:num><ns0:content> Each State shall be entitled, in the Eighty-third Congress and in each Congress thereafter until the taking effect of a reapportionment under this section or subsequent statute, to the number of Representatives shown in the statement required by subsection (a) of this section, no State to receive less than one Member. It shall be the duty of the Clerk of the House of Representatives, within fifteen calendar days after the receipt of such statement, to send to the executive of each State a certificate of the number of Representatives to which such State is entitled under this section. In case of a vacancy in the office of Clerk, or of his absence or inability to discharge this duty, then such duty shall devolve upon the Sergeant at Arms of the House of Representatives.</ns0:content>\n",
        "</ns0:subsection>\n",
        "<ns0:subsection class=\"indent0\" id=\"idf60571f7-667b-11e4-8e15-9067828c1e92\" identifier=\"/us/usc/t2/s2a/c\" style=\"-uslm-lc:I11\"><ns0:num value=\"c\">(c)</ns0:num><ns0:content> Until a State is redistricted in the manner provided by the law thereof after any apportionment, the Representatives to which such State is entitled under such apportionment shall be elected in the following manner: (1) If there is no change in the number of Representatives, they shall be elected from the districts then prescribed by the law of such State, and if any of them are elected from the State at large they shall continue to be so elected; (2) if there is an increase in the number of Representatives, such additional Representative or Representatives shall be elected from the State at large and the other Representatives from the districts then prescribed by the law of such State; (3) if there is a decrease in the number of Representatives but the number of districts in such State is equal to such decreased number of Representatives, they shall be elected from the districts then prescribed by the law of such State; (4) if there is a decrease in the number of Representatives but the number of districts in such State is less than such number of Representatives, the number of Representatives by which such number of districts is exceeded shall be elected from the State at large and the other Representatives from the districts then prescribed by the law of such State; or (5) if there is a decrease in the number of Representatives and the number of districts in such State exceeds such decreased number of Representatives, they shall be elected from the State at large.</ns0:content>\n",
        "</ns0:subsection>\n",
        "<ns0:sourceCredit id=\"idf607e2f8-667b-11e4-8e15-9067828c1e92\">(<ns0:ref href=\"/us/act/1929-06-18/ch28/s22\">June 18, 1929, ch. 28, \u00a7\u202f22</ns0:ref>, <ns0:ref href=\"/us/stat/46/26\">46 Stat. 26</ns0:ref>; <ns0:ref href=\"/us/act/1940-04-25/ch152\">Apr. 25, 1940, ch. 152</ns0:ref>, <ns0:ref href=\"/us/stat/54/162\">54 Stat. 162</ns0:ref>; <ns0:ref href=\"/us/act/1941-11-15/ch470/s1\">Nov. 15, 1941, ch. 470, \u00a7\u202f1</ns0:ref>, <ns0:ref href=\"/us/stat/55/761\">55 Stat. 761</ns0:ref>; <ns0:ref href=\"/us/pl/104/186/s201\">Pub. L. 104\u2013186, title II, \u00a7\u202f201</ns0:ref>, <ns0:date date=\"1996-08-20\">Aug. 20, 1996</ns0:date>, <ns0:ref href=\"/us/stat/110/1724\">110 Stat. 1724</ns0:ref>.)</ns0:sourceCredit>\n",
        "<ns0:notes id=\"idf607e2f9-667b-11e4-8e15-9067828c1e92\" type=\"uscNote\">\n",
        "<ns0:note id=\"idf607e2fa-667b-11e4-8e15-9067828c1e92\" style=\"-uslm-lc:I74\" topic=\"amendments\"><ns0:heading class=\"centered smallCaps\">Amendments</ns0:heading><ns0:p class=\"indent0\" style=\"-uslm-lc:I21\">1996\u2014Subsec. (b). <ns0:ref href=\"/us/pl/104/186\">Pub. L. 104\u2013186</ns0:ref> struck out at end \u201c;\u2000and in case of vacancies in the offices of both the Clerk and the Sergeant at Arms, or the absence or inability of both to act, such duty shall devolve upon the Doorkeeper of the House of Representatives\u201d.</ns0:p>\n",
        "<ns0:p class=\"indent0\" style=\"-uslm-lc:I21\">1941\u2014Act <ns0:date date=\"1941-11-15\">Nov. 15, 1941</ns0:date>, provided for reapportionment based on seventeenth and subsequent decennial censuses.</ns0:p>\n",
        "<ns0:p class=\"indent0\" style=\"-uslm-lc:I21\">1940\u2014Act <ns0:date date=\"1940-04-25\">Apr. 25, 1940</ns0:date>, provided for reapportionment based on sixteenth decennial census.</ns0:p>\n",
        "</ns0:note>\n",
        "<ns0:note id=\"idf607e2fb-667b-11e4-8e15-9067828c1e92\" style=\"-uslm-lc:I74\" topic=\"miscellaneous\"><ns0:heading class=\"centered smallCaps\">Termination of Reporting Requirements</ns0:heading><ns0:p class=\"indent0\" style=\"-uslm-lc:I21\">For termination, effective <ns0:date date=\"2000-05-15\">May 15, 2000</ns0:date>, of provisions of law requiring submittal to Congress of any annual, semiannual, or other regular periodic report listed in House Document No. 103\u20137 (in which the report required by subsec. (a) of this section is listed on page 17), see <ns0:ref href=\"/us/pl/104/66/s3003\">section 3003 of Pub. L. 104\u201366</ns0:ref>, as amended, set out as a note under <ns0:ref href=\"/us/usc/t31/s1113\">section 1113 of Title 31</ns0:ref>, Money and Finance.</ns0:p>\n",
        "</ns0:note>\n",
        "<ns0:note id=\"idf607e2fc-667b-11e4-8e15-9067828c1e92\" style=\"-uslm-lc:I74\" topic=\"miscellaneous\"><ns0:heading class=\"centered smallCaps\">Constitutional Provisions</ns0:heading><ns0:p class=\"indent0\" style=\"-uslm-lc:I21\">Apportionment of Representatives among the several States, see Const. Art. I, \u00a7\u202f2, cl. 3, and Amend. XIV, \u00a7\u202f2.</ns0:p>\n",
        "</ns0:note>\n",
        "<ns0:note id=\"idf607e2fd-667b-11e4-8e15-9067828c1e92\" style=\"-uslm-lc:I74\" topic=\"miscellaneous\"><ns0:heading class=\"centered smallCaps\">Temporary Increase in Membership</ns0:heading><ns0:p class=\"indent0\" style=\"-uslm-lc:I21\">Representation of States of Alaska and Hawaii in House of Representatives as not affecting basis of apportionment established by this section, see <ns0:ref href=\"/us/pl/85/508/s9\">section 9 of Pub. L. 85\u2013508</ns0:ref>, <ns0:date date=\"1958-07-07\">July 7, 1958</ns0:date>, <ns0:ref href=\"/us/stat/72/339\">72 Stat. 339</ns0:ref>, set out as a note preceding <ns0:ref href=\"/us/usc/t48/s21\">section 21 of Title 48</ns0:ref>, Territories and Insular Possessions, and <ns0:ref href=\"/us/pl/86/3/s8\">section 8 of Pub. L. 86\u20133</ns0:ref>, <ns0:date date=\"1959-03-18\">Mar. 18, 1959</ns0:date>, <ns0:ref href=\"/us/stat/73/4\">73 Stat. 4</ns0:ref>, set out as a note preceding <ns0:ref href=\"/us/usc/t48/s491\">section 491 of Title 48</ns0:ref>.</ns0:p>\n",
        "</ns0:note>\n",
        "</ns0:notes>\n",
        "</ns0:section>\n",
        "\n",
        "\n"
       ]
      }
     ],
     "prompt_number": 19
    },
    {
     "cell_type": "code",
     "collapsed": false,
     "input": [],
     "language": "python",
     "metadata": {},
     "outputs": []
    }
   ],
   "metadata": {}
  }
 ]
}