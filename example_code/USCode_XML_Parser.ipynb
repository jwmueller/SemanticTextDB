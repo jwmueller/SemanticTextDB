{
 "metadata": {
  "name": ""
 },
 "nbformat": 3,
 "nbformat_minor": 0,
 "worksheets": [
  {
   "cells": [
    {
     "cell_type": "code",
     "collapsed": false,
     "input": [
      "import re\n",
      "import os"
     ],
     "language": "python",
     "metadata": {},
     "outputs": [],
     "prompt_number": 3
    },
    {
     "cell_type": "code",
     "collapsed": false,
     "input": [
      "readPath = \"C:/git/SemanticTextDB/xml/\"\n",
      "writePath = \"C:/git/SemanticTextDB/txt/\"\n",
      "if not os.path.exists(writePath):\n",
      "    os.makedirs(writePath)"
     ],
     "language": "python",
     "metadata": {},
     "outputs": [],
     "prompt_number": 16
    },
    {
     "cell_type": "code",
     "collapsed": false,
     "input": [
      "for filename in os.listdir(path):\n",
      "    f = open(readPath + filename,'r')\n",
      "    fileAsString = f.read()\n",
      "    sections = re.findall(r'<section.*?</section>', fileAsString, re.DOTALL)\n",
      "    count = 0\n",
      "    for section in sections:\n",
      "        count = count + 1\n",
      "        open(writePath + filename[:-4] + '_' + str(count) + '.txt', 'w').write(re.sub(r'<.*?>', '', section, flags = re.DOTALL))\n",
      "        "
     ],
     "language": "python",
     "metadata": {},
     "outputs": [],
     "prompt_number": 19
    }
   ],
   "metadata": {}
  }
 ]
}