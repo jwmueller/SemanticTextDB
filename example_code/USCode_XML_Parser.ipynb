{
 "metadata": {
  "name": ""
 },
 "nbformat": 3,
 "nbformat_minor": 0,
 "worksheets": [
  {
   "cells": [
    {
     "cell_type": "code",
     "collapsed": false,
     "input": [
      "import re\n",
      "import os\n",
      "import xml.etree.ElementTree as ET"
     ],
     "language": "python",
     "metadata": {},
     "outputs": [],
     "prompt_number": 8
    },
    {
     "cell_type": "code",
     "collapsed": false,
     "input": [
      "readPath = \"C:/git/SemanticTextDB/example_code/xml/\"\n",
      "writePath = \"C:/git/SemanticTextDB/example_code/all_US_Law_Codes/\"\n",
      "if not os.path.exists(writePath):\n",
      "    os.makedirs(writePath)"
     ],
     "language": "python",
     "metadata": {},
     "outputs": [],
     "prompt_number": 9
    },
    {
     "cell_type": "code",
     "collapsed": false,
     "input": [
      "def isLaw(stringLaw):\n",
      "    \"\"\"\n",
      "    Returns true if the stringLaw is a properly formatted law.\n",
      "    \"\"\"\n",
      "    #Format of first line for each law is as follows\n",
      "    firstLine = re.search(r'[0-9].*?\\n', stringLaw)\n",
      "    \n",
      "    #If no such format exists, section is not a law.\n",
      "    if firstLine == None:\n",
      "        return False\n",
      "        \n",
      "    result = firstLine.group()\n",
      "    \n",
      "    #If firstLine does not contain a period seperator, section is not a law.\n",
      "    if \".\" not in result:\n",
      "        print \"Reached here\"\n",
      "        return False\n",
      "    \n",
      "    return True"
     ],
     "language": "python",
     "metadata": {},
     "outputs": [],
     "prompt_number": 10
    },
    {
     "cell_type": "code",
     "collapsed": false,
     "input": [
      "for filename in os.listdir(readPath):\n",
      "    print 'Working on file:', filename\n",
      "    #f = open(readPath + filename,'r')\n",
      "    #fileAsString = f.read()\n",
      "    #sections = re.findall(r'<section.*?id=.*?>.*?</section>', fileAsString, re.DOTALL)\n",
      "    \n",
      "    #Create ElementTree representing the XML structure of the laws\n",
      "    tree = ET.parse(readPath + filename)\n",
      "    root = tree.getroot()\n",
      "    \n",
      "    #Grab the sections containing the laws. The sections are on the fourth level of the xml\n",
      "    #represented by */*/*/<sections here>. Only return sections ending in element tag section.\n",
      "    #The list comprehension returns a string represnetion of the xml using ET.tostring  method.\n",
      "    #sections = [ET.tostring(element, encoding='utf8', method='xml') for element in root.findall('*/*/*/') if element.tag[len(element.tag)-7:] == 'section']\n",
      "    parent_map = {c:p for p in tree.iter() for c in p}\n",
      "    sections = [ET.tostring(element, encoding='utf8', method='xml') for element in root.iter()\n",
      "                if (element.tag[len(element.tag)-7:] == 'section') and\n",
      "                (parent_map[element].tag[len(parent_map[element].tag)-7:] != 'section') and\n",
      "                (element.tag[len(element.tag)-10:] != 'subsection') and\n",
      "                (parent_map[element].tag[len(parent_map[element].tag)-13:] != 'quotedContent')]\n",
      "    count = 0\n",
      "    for section in sections:\n",
      "        count = count + 1        \n",
      "        #result = re.sub(r'</heading><subsection',' \\n', section)\n",
      "        result = re.sub(r'</ns0:heading>','\\n', section)        \n",
      "        result = re.sub(r'<.*?>', '', result, flags = re.DOTALL)\n",
      "        result = re.sub(r'\\n{3,}', '\\n\\n', result, flags = re.DOTALL)\n",
      "        if isLaw(result):\n",
      "            fout = open(writePath + filename[3:-4] + '_' + str(count) + '.txt', 'w')\n",
      "            fout.write(result)\n",
      "        else:\n",
      "            print result"
     ],
     "language": "python",
     "metadata": {},
     "outputs": [
      {
       "output_type": "stream",
       "stream": "stdout",
       "text": [
        "Working on file: usc01.xml\n",
        "Working on file:"
       ]
      },
      {
       "output_type": "stream",
       "stream": "stdout",
       "text": [
        " usc02.xml\n",
        "Working on file:"
       ]
      },
      {
       "output_type": "stream",
       "stream": "stdout",
       "text": [
        " usc03.xml\n",
        "Working on file:"
       ]
      },
      {
       "output_type": "stream",
       "stream": "stdout",
       "text": [
        " usc04.xml\n",
        "Working on file:"
       ]
      }
     ],
     "prompt_number": "*"
    },
    {
     "cell_type": "code",
     "collapsed": false,
     "input": [],
     "language": "python",
     "metadata": {},
     "outputs": []
    }
   ],
   "metadata": {}
  }
 ]
}