{
 "metadata": {
  "name": ""
 },
 "nbformat": 3,
 "nbformat_minor": 0,
 "worksheets": [
  {
   "cells": [
    {
     "cell_type": "code",
     "collapsed": false,
     "input": [
      "import os\n",
      "import re"
     ],
     "language": "python",
     "metadata": {},
     "outputs": [],
     "prompt_number": 1
    },
    {
     "cell_type": "code",
     "collapsed": false,
     "input": [
      "readPath = \"C:/git/SemanticTextDB/example_code/txt/\"\n",
      "author = \"United States Government\""
     ],
     "language": "python",
     "metadata": {},
     "outputs": [],
     "prompt_number": 6
    },
    {
     "cell_type": "code",
     "collapsed": false,
     "input": [
      "count = 0\n",
      "for filename in os.listdir(readPath):\n",
      "    count = count + 1\n",
      "    f = open(readPath + filename,'r')\n",
      "    fileAsString = f.read()\n",
      "    result = (re.search(r'[0-9].*?\\n', fileAsString)).group()\n",
      "    result = re.sub(r'\\xc2\\xa7\\xc2\\xa7\\xe2\\x80\\xaf', '', result)\n",
      "    result = re.sub(r'\\n', '', result)\n",
      "    lawTitleNum = filename.split('_')[0]\n",
      "    lawSectionNum = (re.search(r'.*?\\.', result)).group()[:-1]\n",
      "    lawName = (re.search(r'\\..*', result)).group()[2:]\n",
      "    print filename, lawTitleNum, lawSectionNum, lawName    \n",
      "    "
     ],
     "language": "python",
     "metadata": {},
     "outputs": [
      {
       "output_type": "stream",
       "stream": "stdout",
       "text": [
        "27_1.txt 27 1 to 5 Repealed. Aug. 27, 1935, ch. 740, title I, \u00a7\u202f1, 49 Stat. 872\n",
        "27_10.txt 27 63a to 63d Transferred\n",
        "27_11.txt 27 64 Repealed. Aug. 27, 1935, ch. 740, title I, \u00a7\u202f1, 49 Stat. 872\n",
        "27_12.txt 27 64a to 64o Repealed. Aug. 27, 1935, ch. 740, title II, \u00a7\u202f202(a), 49 Stat. 877\n",
        "27_13.txt 27 64p Omitted\n",
        "27_14.txt 27 71 to 90a Omitted\n",
        "27_15.txt 27 91, 92 Repealed. Aug. 27, 1935, ch. 740, title I, \u00a7\u202f1, 49 Stat. 872\n",
        "27_16.txt 27 101 to 108 Repealed. Aug. 27, 1935, ch. 740, title I, \u00a7\u202f1, 49 Stat. 872\n",
        "27_17.txt 27 121 State statutes as operative on termination of transportation; original packages\n",
        "27_18.txt 27 122 Shipments into States for possession or sale in violation of State law\n",
        "27_19.txt 27 122a Injunctive relief in Federal district court\n",
        "27_2.txt 27 11 to 40 Repealed. Aug. 27, 1935, ch. 740, title I, \u00a7\u202f1, 49 Stat. 872\n",
        "27_20.txt 27 122b General provisions\n",
        "27_21.txt 27 123 Repealed. June 25, 1936, ch. 815, \u00a7\u202f9, 49 Stat. 1930\n",
        "27_22.txt 27 124 Direct shipment of wine\n",
        "27_23.txt 27 151 to 167 Omitted\n",
        "27_24.txt 27 201 Short title\n",
        "27_25.txt 27 202 General provisions\n",
        "27_26.txt 27 202a, 202b Repealed. Pub. L. 89\u2013554, \u00a7\u202f8(a), Sept. 6, 1966, 80 Stat. 649\n",
        "27_27.txt 27 202c Omitted\n",
        "27_28.txt 27 203 Unlawful businesses without permit; application to State agency\n",
        "27_29.txt 27 204 Permits\n",
        "27_3.txt 27 40a Repealed. June 25, 1948, ch. 645, \u00a7\u202f21, 62 Stat. 862\n",
        "27_30.txt 27 205 Unfair competition and unlawful practices\n",
        "27_31.txt 27 206 Bulk sales and bottling\n",
        "27_32.txt 27 207 Penalties; jurisdiction; compromise of liability\n",
        "27_33.txt 27 208 Interlocking directorates\n",
        "27_34.txt 27 209, 210 Omitted\n",
        "27_35.txt 27 211 Miscellaneous provisions\n",
        "27_36.txt 27 212 Omitted\n",
        "27_37.txt 27 213 Declaration of policy and purpose\n",
        "27_38.txt 27 214 Definitions\n",
        "27_39.txt 27 215 Labeling requirement\n",
        "27_4.txt 27 41 to 43 Repealed. Aug. 27, 1935, ch. 740, title III, \u00a7\u202f308(a), 49 Stat. 880\n",
        "27_40.txt 27 216 Preemption\n",
        "27_41.txt 27 217 Report to Congress\n",
        "27_42.txt 27 218 Civil penalties\n",
        "27_43.txt 27 219 Injunction proceedings; compromise of liability\n",
        "27_44.txt 27 219a Severability\n",
        "27_45.txt 27 221 to 228 Repealed. June 25, 1948, ch. 645, \u00a7\u202f21, 62 Stat. 862\n",
        "27_5.txt 27 43a, 43b Omitted\n",
        "27_6.txt 27 44 to 57 Repealed. Aug. 27, 1935, ch. 740, title I, \u00a7\u202f1, 49 Stat. 872\n",
        "27_7.txt 27 58 to 60 Repealed. Mar. 22, 1933, ch. 4, \u00a7\u202f2, 48 Stat. 17\n",
        "27_8.txt 27 61, 62 Repealed. Aug. 27, 1935, ch. 740, title I, \u00a7\u202f1, 49 Stat. 872\n",
        "27_9.txt 27 63 Repealed. June 19, 1934, ch. 657, \u00a7\u202f3, 48 Stat. 1116\n"
       ]
      }
     ],
     "prompt_number": 7
    },
    {
     "cell_type": "code",
     "collapsed": false,
     "input": [
      "lawNum"
     ],
     "language": "python",
     "metadata": {},
     "outputs": [
      {
       "metadata": {},
       "output_type": "pyout",
       "prompt_number": 86,
       "text": [
        "'63'"
       ]
      }
     ],
     "prompt_number": 86
    }
   ],
   "metadata": {}
  }
 ]
}