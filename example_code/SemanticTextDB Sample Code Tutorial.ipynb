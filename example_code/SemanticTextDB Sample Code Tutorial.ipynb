{
 "metadata": {
  "name": ""
 },
 "nbformat": 3,
 "nbformat_minor": 0,
 "worksheets": [
  {
   "cells": [
    {
     "cell_type": "code",
     "collapsed": false,
     "input": [
      "import os\n",
      "import psycopg2\n",
      "conn = psycopg2.connect(database=\"semanticdb\", user=\"Curtis Northcutt\", host=\"18.251.7.99\", password=\"coldnips\")\n",
      "cur = conn.cursor()"
     ],
     "language": "python",
     "metadata": {},
     "outputs": [],
     "prompt_number": 1
    },
    {
     "cell_type": "code",
     "collapsed": false,
     "input": [
      "classPath = \"C:/git/SemanticTextDB/SemanticTextDB.py\"\n",
      "dtablePath = \"C:/git/SemanticTextDB/DocumentTableInfo.py\"\n",
      "# Now read in the classes into Python:\n",
      "execfile(classPath)\n",
      "execfile(dtablePath)"
     ],
     "language": "python",
     "metadata": {},
     "outputs": [],
     "prompt_number": 2
    },
    {
     "cell_type": "code",
     "collapsed": false,
     "input": [
      "# Now create a new SemanticTextDB object based on the underlying DB's state:\n",
      "stdb = SemanticTextDB(conn, cur)\n",
      "\n",
      "# List all tables in underyling DB:\n",
      "stdb.allTables()\n",
      "\n",
      "# Delete the document table (iff you want to replace table with same name):\n",
      "stdb.dropDocTable(\"cgntestdoctable1\")\n",
      "# Creates a document table (and associated machine-generated tables):\n",
      "stdb.createDocTable(\"cgntestdoctable1\", ['lawTitleNumber text', 'lawSectionNumber text', 'lawName text'])\n",
      "\n",
      "# Insert (there is also a method for bulk inserting many documents in a single Transaction):\n",
      "#stdb.insertDoc(\"cool text\", \"cgntestdoctable1\")\n",
      "\n",
      "# View tables:\n",
      "#cur.execute(\"select * from cgntestdoctable1;\")\n",
      "#cur.fetchall()\n",
      "#cur.execute(\"select * from cgntestdoctable1_text;\")\n",
      "#cur.fetchall()\n",
      "\n"
     ],
     "language": "python",
     "metadata": {},
     "outputs": [
      {
       "output_type": "stream",
       "stream": "stdout",
       "text": [
        "Document tables in this database:  ['cgntestdoctable1']\n",
        "deleted document table: cgntestdoctable1\n",
        "created document table: cgntestdoctable1"
       ]
      },
      {
       "output_type": "stream",
       "stream": "stdout",
       "text": [
        "\n"
       ]
      }
     ],
     "prompt_number": 7
    },
    {
     "cell_type": "code",
     "collapsed": false,
     "input": [
      "stdb.allTables()"
     ],
     "language": "python",
     "metadata": {},
     "outputs": [
      {
       "metadata": {},
       "output_type": "pyout",
       "prompt_number": 8,
       "text": [
        "['testtable',\n",
        " 'cgntestdoctable1',\n",
        " 'cgntestdoctable1_text',\n",
        " 'cgntestdoctable1_useropts',\n",
        " 'cgntestdoctable1_wordinfo']"
       ]
      }
     ],
     "prompt_number": 8
    },
    {
     "cell_type": "code",
     "collapsed": false,
     "input": [
      "import re\n",
      "readPath = \"C:/git/SemanticTextDB/example_code/all_US_Law_Codes/\"\n",
      "author = \"United States Government\"\n",
      "\n",
      "count = 0\n",
      "for filename in os.listdir(readPath):\n",
      "    count = count + 1\n",
      "    f = open(readPath + filename,'r')\n",
      "    fileAsString = f.read()\n",
      "    result = re.search(r'[0-9].*?\\n', fileAsString)\n",
      "    if result == None:\n",
      "        print fileAsString\n",
      "    else:\n",
      "        result = re.sub(r'\\xc2\\xa7\\xc2\\xa7\\xe2\\x80\\xaf', '', result.group())\n",
      "        result = re.sub(r'\\n', '', result)\n",
      "        lawTitleNum = filename.split('_')[0]\n",
      "        lawSectionNum = (re.search(r'.*?\\.', result)).group()[:-1]\n",
      "        lawName = (re.search(r'\\..*', result)).group()[2:]\n",
      "        #print filename, lawTitleNum, lawSectionNum, lawName\n",
      "        print count,\n",
      "        stdb.insertDoc(fileAsString, \"cgntestdoctable1\", [lawTitleNum, lawSectionNum, lawName])"
     ],
     "language": "python",
     "metadata": {},
     "outputs": [
      {
       "output_type": "stream",
       "stream": "stdout",
       "text": [
        "1 2 "
       ]
      },
      {
       "output_type": "stream",
       "stream": "stdout",
       "text": [
        "3 4 5 "
       ]
      },
      {
       "output_type": "stream",
       "stream": "stdout",
       "text": [
        "6 7 "
       ]
      },
      {
       "output_type": "stream",
       "stream": "stdout",
       "text": [
        "8 9 10 11 "
       ]
      },
      {
       "output_type": "stream",
       "stream": "stdout",
       "text": [
        "12 13 14 15 "
       ]
      },
      {
       "output_type": "stream",
       "stream": "stdout",
       "text": [
        "16 17 18 19 "
       ]
      },
      {
       "output_type": "stream",
       "stream": "stdout",
       "text": [
        "20 21 22 23 "
       ]
      },
      {
       "output_type": "stream",
       "stream": "stdout",
       "text": [
        "24 25 26 27 "
       ]
      },
      {
       "output_type": "stream",
       "stream": "stdout",
       "text": [
        "28 29 30 "
       ]
      },
      {
       "output_type": "stream",
       "stream": "stdout",
       "text": [
        "31 32 33 "
       ]
      },
      {
       "output_type": "stream",
       "stream": "stdout",
       "text": [
        "34 35 36 "
       ]
      },
      {
       "output_type": "stream",
       "stream": "stdout",
       "text": [
        "37 38 39 "
       ]
      },
      {
       "output_type": "stream",
       "stream": "stdout",
       "text": [
        "40 41 42 "
       ]
      },
      {
       "output_type": "stream",
       "stream": "stdout",
       "text": [
        "43 44 45 46 "
       ]
      },
      {
       "output_type": "stream",
       "stream": "stdout",
       "text": [
        "47 48 49 50 "
       ]
      },
      {
       "output_type": "stream",
       "stream": "stdout",
       "text": [
        "51 52 53 54 "
       ]
      },
      {
       "output_type": "stream",
       "stream": "stdout",
       "text": [
        "55 56 57 "
       ]
      },
      {
       "output_type": "stream",
       "stream": "stdout",
       "text": [
        "58 59 60 "
       ]
      },
      {
       "output_type": "stream",
       "stream": "stdout",
       "text": [
        "61 62 "
       ]
      },
      {
       "output_type": "stream",
       "stream": "stdout",
       "text": [
        "63 64 65 "
       ]
      },
      {
       "output_type": "stream",
       "stream": "stdout",
       "text": [
        "66 67 68 69 "
       ]
      },
      {
       "output_type": "stream",
       "stream": "stdout",
       "text": [
        "70 71 72 "
       ]
      },
      {
       "output_type": "stream",
       "stream": "stdout",
       "text": [
        "73 74 75 76 "
       ]
      },
      {
       "output_type": "stream",
       "stream": "stdout",
       "text": [
        "77 78 79 80 "
       ]
      },
      {
       "output_type": "stream",
       "stream": "stdout",
       "text": [
        "81 82 83 84 "
       ]
      },
      {
       "output_type": "stream",
       "stream": "stdout",
       "text": [
        "85 86 87 88 "
       ]
      },
      {
       "output_type": "stream",
       "stream": "stdout",
       "text": [
        "89 90 91 92 "
       ]
      },
      {
       "output_type": "stream",
       "stream": "stdout",
       "text": [
        "93 94 95 96 "
       ]
      },
      {
       "output_type": "stream",
       "stream": "stdout",
       "text": [
        "97 98 99 100 "
       ]
      },
      {
       "output_type": "stream",
       "stream": "stdout",
       "text": [
        "101 102 103 104 "
       ]
      },
      {
       "output_type": "stream",
       "stream": "stdout",
       "text": [
        "105 106 107 108 "
       ]
      },
      {
       "output_type": "stream",
       "stream": "stdout",
       "text": [
        "109 110 111 "
       ]
      },
      {
       "output_type": "stream",
       "stream": "stdout",
       "text": [
        "112 113 114 "
       ]
      },
      {
       "output_type": "stream",
       "stream": "stdout",
       "text": [
        "115 116 117 118 "
       ]
      },
      {
       "output_type": "stream",
       "stream": "stdout",
       "text": [
        "119 120 121 122 "
       ]
      },
      {
       "output_type": "stream",
       "stream": "stdout",
       "text": [
        "123 124 125 "
       ]
      },
      {
       "output_type": "stream",
       "stream": "stdout",
       "text": [
        "126 127 128 129 130 "
       ]
      },
      {
       "output_type": "stream",
       "stream": "stdout",
       "text": [
        "131 132 133 134 "
       ]
      },
      {
       "output_type": "stream",
       "stream": "stdout",
       "text": [
        "135 136 137 138 "
       ]
      },
      {
       "output_type": "stream",
       "stream": "stdout",
       "text": [
        "139 140 141 142 "
       ]
      },
      {
       "output_type": "stream",
       "stream": "stdout",
       "text": [
        "143 144 145 "
       ]
      },
      {
       "output_type": "stream",
       "stream": "stdout",
       "text": [
        "146 147 148 "
       ]
      },
      {
       "output_type": "stream",
       "stream": "stdout",
       "text": [
        "149 150 151 152 "
       ]
      },
      {
       "output_type": "stream",
       "stream": "stdout",
       "text": [
        "153 154 "
       ]
      },
      {
       "output_type": "stream",
       "stream": "stdout",
       "text": [
        "155 "
       ]
      },
      {
       "output_type": "stream",
       "stream": "stdout",
       "text": [
        "156 "
       ]
      },
      {
       "output_type": "stream",
       "stream": "stdout",
       "text": [
        "157 "
       ]
      },
      {
       "output_type": "stream",
       "stream": "stdout",
       "text": [
        "158 159 160 161 "
       ]
      },
      {
       "output_type": "stream",
       "stream": "stdout",
       "text": [
        "162 163 164 "
       ]
      },
      {
       "output_type": "stream",
       "stream": "stdout",
       "text": [
        "165 166 "
       ]
      },
      {
       "output_type": "stream",
       "stream": "stdout",
       "text": [
        "167 168 169 "
       ]
      },
      {
       "output_type": "stream",
       "stream": "stdout",
       "text": [
        "170 171 172 "
       ]
      },
      {
       "output_type": "stream",
       "stream": "stdout",
       "text": [
        "173 174 175 176 "
       ]
      },
      {
       "output_type": "stream",
       "stream": "stdout",
       "text": [
        "177 178 179 180 "
       ]
      },
      {
       "output_type": "stream",
       "stream": "stdout",
       "text": [
        "181 182 183 184 "
       ]
      },
      {
       "output_type": "stream",
       "stream": "stdout",
       "text": [
        "185 186 187 188 189 "
       ]
      },
      {
       "output_type": "stream",
       "stream": "stdout",
       "text": [
        "190 191 192 "
       ]
      },
      {
       "output_type": "stream",
       "stream": "stdout",
       "text": [
        "193 194 195 196 "
       ]
      },
      {
       "output_type": "stream",
       "stream": "stdout",
       "text": [
        "197 198 199 200 "
       ]
      },
      {
       "output_type": "stream",
       "stream": "stdout",
       "text": [
        "201 202 203 "
       ]
      },
      {
       "output_type": "stream",
       "stream": "stdout",
       "text": [
        "204 205 206 207 "
       ]
      },
      {
       "output_type": "stream",
       "stream": "stdout",
       "text": [
        "208 209 210 211 "
       ]
      },
      {
       "output_type": "stream",
       "stream": "stdout",
       "text": [
        "212 213 214 215 216 "
       ]
      },
      {
       "output_type": "stream",
       "stream": "stdout",
       "text": [
        "217 218 219 220 221 "
       ]
      },
      {
       "ename": "AttributeError",
       "evalue": "'NoneType' object has no attribute 'group'",
       "output_type": "pyerr",
       "traceback": [
        "\u001b[1;31m---------------------------------------------------------------------------\u001b[0m\n\u001b[1;31mAttributeError\u001b[0m                            Traceback (most recent call last)",
        "\u001b[1;32m<ipython-input-9-c0b387c00b6c>\u001b[0m in \u001b[0;36m<module>\u001b[1;34m()\u001b[0m\n\u001b[0;32m     15\u001b[0m         \u001b[0mresult\u001b[0m \u001b[1;33m=\u001b[0m \u001b[0mre\u001b[0m\u001b[1;33m.\u001b[0m\u001b[0msub\u001b[0m\u001b[1;33m(\u001b[0m\u001b[1;34mr'\\n'\u001b[0m\u001b[1;33m,\u001b[0m \u001b[1;34m''\u001b[0m\u001b[1;33m,\u001b[0m \u001b[0mresult\u001b[0m\u001b[1;33m)\u001b[0m\u001b[1;33m\u001b[0m\u001b[0m\n\u001b[0;32m     16\u001b[0m         \u001b[0mlawTitleNum\u001b[0m \u001b[1;33m=\u001b[0m \u001b[0mfilename\u001b[0m\u001b[1;33m.\u001b[0m\u001b[0msplit\u001b[0m\u001b[1;33m(\u001b[0m\u001b[1;34m'_'\u001b[0m\u001b[1;33m)\u001b[0m\u001b[1;33m[\u001b[0m\u001b[1;36m0\u001b[0m\u001b[1;33m]\u001b[0m\u001b[1;33m\u001b[0m\u001b[0m\n\u001b[1;32m---> 17\u001b[1;33m         \u001b[0mlawSectionNum\u001b[0m \u001b[1;33m=\u001b[0m \u001b[1;33m(\u001b[0m\u001b[0mre\u001b[0m\u001b[1;33m.\u001b[0m\u001b[0msearch\u001b[0m\u001b[1;33m(\u001b[0m\u001b[1;34mr'.*?\\.'\u001b[0m\u001b[1;33m,\u001b[0m \u001b[0mresult\u001b[0m\u001b[1;33m)\u001b[0m\u001b[1;33m)\u001b[0m\u001b[1;33m.\u001b[0m\u001b[0mgroup\u001b[0m\u001b[1;33m(\u001b[0m\u001b[1;33m)\u001b[0m\u001b[1;33m[\u001b[0m\u001b[1;33m:\u001b[0m\u001b[1;33m-\u001b[0m\u001b[1;36m1\u001b[0m\u001b[1;33m]\u001b[0m\u001b[1;33m\u001b[0m\u001b[0m\n\u001b[0m\u001b[0;32m     18\u001b[0m         \u001b[0mlawName\u001b[0m \u001b[1;33m=\u001b[0m \u001b[1;33m(\u001b[0m\u001b[0mre\u001b[0m\u001b[1;33m.\u001b[0m\u001b[0msearch\u001b[0m\u001b[1;33m(\u001b[0m\u001b[1;34mr'\\..*'\u001b[0m\u001b[1;33m,\u001b[0m \u001b[0mresult\u001b[0m\u001b[1;33m)\u001b[0m\u001b[1;33m)\u001b[0m\u001b[1;33m.\u001b[0m\u001b[0mgroup\u001b[0m\u001b[1;33m(\u001b[0m\u001b[1;33m)\u001b[0m\u001b[1;33m[\u001b[0m\u001b[1;36m2\u001b[0m\u001b[1;33m:\u001b[0m\u001b[1;33m]\u001b[0m\u001b[1;33m\u001b[0m\u001b[0m\n\u001b[0;32m     19\u001b[0m         \u001b[1;31m#print filename, lawTitleNum, lawSectionNum, lawName\u001b[0m\u001b[1;33m\u001b[0m\u001b[1;33m\u001b[0m\u001b[0m\n",
        "\u001b[1;31mAttributeError\u001b[0m: 'NoneType' object has no attribute 'group'"
       ]
      },
      {
       "output_type": "stream",
       "stream": "stdout",
       "text": [
        "222 223 224 225"
       ]
      }
     ],
     "prompt_number": 9
    },
    {
     "cell_type": "code",
     "collapsed": false,
     "input": [
      "stdb.allTables()"
     ],
     "language": "python",
     "metadata": {},
     "outputs": [
      {
       "metadata": {},
       "output_type": "pyout",
       "prompt_number": 15,
       "text": [
        "['testtable',\n",
        " 'cgntestdoctable1',\n",
        " 'cgntestdoctable1_text',\n",
        " 'cgntestdoctable1_useropts',\n",
        " 'cgntestdoctable1_wordinfo']"
       ]
      }
     ],
     "prompt_number": 15
    },
    {
     "cell_type": "code",
     "collapsed": false,
     "input": [
      "cur.execute(\"select count(*) from cgntestdoctable1;\")\n",
      "cur.fetchall()"
     ],
     "language": "python",
     "metadata": {},
     "outputs": [
      {
       "metadata": {},
       "output_type": "pyout",
       "prompt_number": 36,
       "text": [
        "[(4839L,)]"
       ]
      },
      {
       "output_type": "stream",
       "stream": "stdout",
       "text": [
        "\n"
       ]
      }
     ],
     "prompt_number": 36
    },
    {
     "cell_type": "code",
     "collapsed": false,
     "input": [
      "cur.execute(\"select * from cgntestdoctable1_text where id = 65;\")\n",
      "cur.fetchall()"
     ],
     "language": "python",
     "metadata": {},
     "outputs": [
      {
       "metadata": {},
       "output_type": "pyout",
       "prompt_number": 22,
       "text": [
        "[(65,\n",
        "  '\\n\\xc2\\xa7\\xe2\\x80\\xaf58a\\xe2\\x80\\x933. Transferred\\nCodification\\nSection 58a\\xe2\\x80\\x933 was editorially reclassified as section 6623 of this title.\\n\\n')]"
       ]
      }
     ],
     "prompt_number": 22
    },
    {
     "cell_type": "code",
     "collapsed": false,
     "input": [
      "3+3"
     ],
     "language": "python",
     "metadata": {},
     "outputs": [
      {
       "metadata": {},
       "output_type": "pyout",
       "prompt_number": 33,
       "text": [
        "6"
       ]
      },
      {
       "output_type": "stream",
       "stream": "stdout",
       "text": [
        "\n"
       ]
      }
     ],
     "prompt_number": 33
    },
    {
     "cell_type": "code",
     "collapsed": false,
     "input": [],
     "language": "python",
     "metadata": {},
     "outputs": []
    }
   ],
   "metadata": {}
  }
 ]
}