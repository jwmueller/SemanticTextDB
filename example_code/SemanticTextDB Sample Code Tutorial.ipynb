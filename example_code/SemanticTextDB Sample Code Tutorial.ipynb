{
 "metadata": {
  "name": ""
 },
 "nbformat": 3,
 "nbformat_minor": 0,
 "worksheets": [
  {
   "cells": [
    {
     "cell_type": "code",
     "collapsed": false,
     "input": [
      "import os\n",
      "import psycopg2\n",
      "conn = psycopg2.connect(database=\"semanticdb\", user=\"Curtis Northcutt\", host=\"18.251.7.99\", password=\"coldnips\")\n",
      "cur = conn.cursor()"
     ],
     "language": "python",
     "metadata": {},
     "outputs": [
      {
       "ename": "ImportError",
       "evalue": "No module named psycopg2",
       "output_type": "pyerr",
       "traceback": [
        "\u001b[1;31m---------------------------------------------------------------------------\u001b[0m\n\u001b[1;31mImportError\u001b[0m                               Traceback (most recent call last)",
        "\u001b[1;32m<ipython-input-3-be83c325cd7c>\u001b[0m in \u001b[0;36m<module>\u001b[1;34m()\u001b[0m\n\u001b[0;32m      1\u001b[0m \u001b[1;32mimport\u001b[0m \u001b[0mos\u001b[0m\u001b[1;33m\u001b[0m\u001b[0m\n\u001b[1;32m----> 2\u001b[1;33m \u001b[1;32mimport\u001b[0m \u001b[0mpsycopg2\u001b[0m\u001b[1;33m\u001b[0m\u001b[0m\n\u001b[0m\u001b[0;32m      3\u001b[0m \u001b[0mconn\u001b[0m \u001b[1;33m=\u001b[0m \u001b[0mpsycopg2\u001b[0m\u001b[1;33m.\u001b[0m\u001b[0mconnect\u001b[0m\u001b[1;33m(\u001b[0m\u001b[0mdatabase\u001b[0m\u001b[1;33m=\u001b[0m\u001b[1;34m\"semanticdb\"\u001b[0m\u001b[1;33m,\u001b[0m \u001b[0muser\u001b[0m\u001b[1;33m=\u001b[0m\u001b[1;34m\"Curtis Northcutt\"\u001b[0m\u001b[1;33m,\u001b[0m \u001b[0mhost\u001b[0m\u001b[1;33m=\u001b[0m\u001b[1;34m\"18.251.7.99\"\u001b[0m\u001b[1;33m,\u001b[0m \u001b[0mpassword\u001b[0m\u001b[1;33m=\u001b[0m\u001b[1;34m\"coldnips\"\u001b[0m\u001b[1;33m)\u001b[0m\u001b[1;33m\u001b[0m\u001b[0m\n\u001b[0;32m      4\u001b[0m \u001b[0mcur\u001b[0m \u001b[1;33m=\u001b[0m \u001b[0mconn\u001b[0m\u001b[1;33m.\u001b[0m\u001b[0mcursor\u001b[0m\u001b[1;33m(\u001b[0m\u001b[1;33m)\u001b[0m\u001b[1;33m\u001b[0m\u001b[0m\n",
        "\u001b[1;31mImportError\u001b[0m: No module named psycopg2"
       ]
      }
     ],
     "prompt_number": 3
    },
    {
     "cell_type": "code",
     "collapsed": false,
     "input": [
      "classPath = \"C:/git/SemanticTextDB/SemanticTextDB.py\"\n",
      "dtablePath = \"C:/git/SemanticTextDB/DocumentTableInfo.py\"\n",
      "# Now read in the classes into Python:\n",
      "execfile(classPath)\n",
      "execfile(dtablePath)"
     ],
     "language": "python",
     "metadata": {},
     "outputs": [
      {
       "output_type": "stream",
       "stream": "stdout",
       "text": [
        "\n"
       ]
      }
     ],
     "prompt_number": 39
    },
    {
     "cell_type": "code",
     "collapsed": false,
     "input": [
      "# Now create a new SemanticTextDB object based on the underlying DB's state:\n",
      "stdb = SemanticTextDB(conn, cur)\n",
      "\n",
      "# List all tables in underyling DB:\n",
      "stdb.allTables()\n",
      "\n",
      "# Creates a document table (and associated machine-generated tables):\n",
      "stdb.createDocTable(\"cgntestdoctable1\", ['lawTitleNumber text', 'lawSectionNumber text', 'lawName text'])\n",
      "\n",
      "# Insert (there is also a method for bulk inserting many documents in a single Transaction):\n",
      "#stdb.insertDoc(\"cool text\", \"cgntestdoctable1\")\n",
      "\n",
      "# View tables:\n",
      "#cur.execute(\"select * from cgntestdoctable1;\")\n",
      "#cur.fetchall()\n",
      "#cur.execute(\"select * from cgntestdoctable1_text;\")\n",
      "#cur.fetchall()\n",
      "\n",
      "# Delete the document table you created:\n",
      "#stdb.dropDocTable(\"cgntestdoctable1\")"
     ],
     "language": "python",
     "metadata": {},
     "outputs": [
      {
       "output_type": "stream",
       "stream": "stdout",
       "text": [
        "Document tables in this database:  ['testdoctable1']\n",
        "created document table: cgntestdoctable1"
       ]
      },
      {
       "output_type": "stream",
       "stream": "stdout",
       "text": [
        "\n"
       ]
      }
     ],
     "prompt_number": 10
    },
    {
     "cell_type": "code",
     "collapsed": false,
     "input": [
      "stdb.allTables()"
     ],
     "language": "python",
     "metadata": {},
     "outputs": []
    },
    {
     "cell_type": "code",
     "collapsed": false,
     "input": [
      "import re\n",
      "readPath = \"C:/git/SemanticTextDB/example_code/all_US_Law_Codes/\"\n",
      "author = \"United States Government\"\n",
      "\n",
      "count = 0\n",
      "for filename in os.listdir(readPath):\n",
      "    count = count + 1\n",
      "    f = open(readPath + filename,'r')\n",
      "    fileAsString = f.read()\n",
      "    result = re.search(r'[0-9].*?\\n', fileAsString)\n",
      "    if result == None:\n",
      "        print fileAsString\n",
      "    else:\n",
      "        result = re.sub(r'\\xc2\\xa7\\xc2\\xa7\\xe2\\x80\\xaf', '', result.group())\n",
      "        result = re.sub(r'\\n', '', result)\n",
      "        lawTitleNum = filename.split('_')[0]\n",
      "        lawSectionNum = (re.search(r'.*?\\.', result)).group()[:-1]\n",
      "        lawName = (re.search(r'\\..*', result)).group()[2:]\n",
      "        #print filename, lawTitleNum, lawSectionNum, lawName\n",
      "        print count,\n",
      "        stdb.insertDoc(fileAsString, \"cgntestdoctable1\", [lawTitleNum, lawSectionNum, lawName])"
     ],
     "language": "python",
     "metadata": {},
     "outputs": [
      {
       "output_type": "stream",
       "stream": "stdout",
       "text": [
        "1 2 "
       ]
      },
      {
       "output_type": "stream",
       "stream": "stdout",
       "text": [
        "3 4 5 6 "
       ]
      },
      {
       "output_type": "stream",
       "stream": "stdout",
       "text": [
        "7 8 9 10 "
       ]
      },
      {
       "output_type": "stream",
       "stream": "stdout",
       "text": [
        "11 12 13 14 15 "
       ]
      },
      {
       "output_type": "stream",
       "stream": "stdout",
       "text": [
        "16 17 18 "
       ]
      },
      {
       "output_type": "stream",
       "stream": "stdout",
       "text": [
        "19 20 21 22 "
       ]
      },
      {
       "output_type": "stream",
       "stream": "stdout",
       "text": [
        "23 24 25 26 "
       ]
      },
      {
       "output_type": "stream",
       "stream": "stdout",
       "text": [
        "27 28 29 30 "
       ]
      },
      {
       "output_type": "stream",
       "stream": "stdout",
       "text": [
        "31 32 33 34 35 "
       ]
      },
      {
       "output_type": "stream",
       "stream": "stdout",
       "text": [
        "36 37 38 39 "
       ]
      },
      {
       "output_type": "stream",
       "stream": "stdout",
       "text": [
        "40 41 42 43 44 "
       ]
      },
      {
       "output_type": "stream",
       "stream": "stdout",
       "text": [
        "45 46 47 48 49 "
       ]
      },
      {
       "output_type": "stream",
       "stream": "stdout",
       "text": [
        "50 51 52 53 "
       ]
      },
      {
       "output_type": "stream",
       "stream": "stdout",
       "text": [
        "54 55 56 "
       ]
      },
      {
       "output_type": "stream",
       "stream": "stdout",
       "text": [
        "57 58 59 60 61 "
       ]
      },
      {
       "output_type": "stream",
       "stream": "stdout",
       "text": [
        "62 63 64 65 "
       ]
      },
      {
       "output_type": "stream",
       "stream": "stdout",
       "text": [
        "66 67 68 69 "
       ]
      },
      {
       "output_type": "stream",
       "stream": "stdout",
       "text": [
        "70 71 72 73 74 "
       ]
      },
      {
       "output_type": "stream",
       "stream": "stdout",
       "text": [
        "75 76 77 78 79 "
       ]
      },
      {
       "output_type": "stream",
       "stream": "stdout",
       "text": [
        "80 81 82 83 "
       ]
      },
      {
       "output_type": "stream",
       "stream": "stdout",
       "text": [
        "84 85 86 87 "
       ]
      },
      {
       "output_type": "stream",
       "stream": "stdout",
       "text": [
        "88 89 90 91 92 "
       ]
      },
      {
       "output_type": "stream",
       "stream": "stdout",
       "text": [
        "93 94 95 96 97 "
       ]
      },
      {
       "output_type": "stream",
       "stream": "stdout",
       "text": [
        "98 99 100 101 "
       ]
      },
      {
       "output_type": "stream",
       "stream": "stdout",
       "text": [
        "102 103 104 105 106 "
       ]
      },
      {
       "output_type": "stream",
       "stream": "stdout",
       "text": [
        "107 108 109 110 111 "
       ]
      },
      {
       "output_type": "stream",
       "stream": "stdout",
       "text": [
        "112 113 114 115 "
       ]
      },
      {
       "output_type": "stream",
       "stream": "stdout",
       "text": [
        "116 117 118 119 120 "
       ]
      },
      {
       "output_type": "stream",
       "stream": "stdout",
       "text": [
        "121 122 123 124 125 "
       ]
      },
      {
       "output_type": "stream",
       "stream": "stdout",
       "text": [
        "126 127 128 129 "
       ]
      },
      {
       "output_type": "stream",
       "stream": "stdout",
       "text": [
        "130 131 132 133 134 "
       ]
      },
      {
       "output_type": "stream",
       "stream": "stdout",
       "text": [
        "135 136 137 138 139 "
       ]
      },
      {
       "output_type": "stream",
       "stream": "stdout",
       "text": [
        "140 141 142 143 "
       ]
      },
      {
       "output_type": "stream",
       "stream": "stdout",
       "text": [
        "144 145 146 147 148 "
       ]
      },
      {
       "output_type": "stream",
       "stream": "stdout",
       "text": [
        "149 150 151 152 "
       ]
      },
      {
       "output_type": "stream",
       "stream": "stdout",
       "text": [
        "153 154 155 156 "
       ]
      },
      {
       "output_type": "stream",
       "stream": "stdout",
       "text": [
        "157 158 159 "
       ]
      },
      {
       "output_type": "stream",
       "stream": "stdout",
       "text": [
        "160 161 162 "
       ]
      },
      {
       "output_type": "stream",
       "stream": "stdout",
       "text": [
        "163 164 165 "
       ]
      },
      {
       "output_type": "stream",
       "stream": "stdout",
       "text": [
        "166 167 168 169 170 "
       ]
      },
      {
       "output_type": "stream",
       "stream": "stdout",
       "text": [
        "171 172 173 174 "
       ]
      },
      {
       "output_type": "stream",
       "stream": "stdout",
       "text": [
        "175 176 177 178 "
       ]
      },
      {
       "output_type": "stream",
       "stream": "stdout",
       "text": [
        "179 180 181 182 "
       ]
      },
      {
       "output_type": "stream",
       "stream": "stdout",
       "text": [
        "183 184 185 186 "
       ]
      },
      {
       "output_type": "stream",
       "stream": "stdout",
       "text": [
        "187 188 189 "
       ]
      },
      {
       "output_type": "stream",
       "stream": "stdout",
       "text": [
        "190 191 192 "
       ]
      },
      {
       "output_type": "stream",
       "stream": "stdout",
       "text": [
        "193 194 195 196 "
       ]
      },
      {
       "output_type": "stream",
       "stream": "stdout",
       "text": [
        "197 198 199 200 "
       ]
      },
      {
       "output_type": "stream",
       "stream": "stdout",
       "text": [
        "201 202 203 204 "
       ]
      },
      {
       "output_type": "stream",
       "stream": "stdout",
       "text": [
        "205 206 207 208 "
       ]
      },
      {
       "output_type": "stream",
       "stream": "stdout",
       "text": [
        "209 210 211 212 "
       ]
      },
      {
       "output_type": "stream",
       "stream": "stdout",
       "text": [
        "213 214 215 216 "
       ]
      },
      {
       "output_type": "stream",
       "stream": "stdout",
       "text": [
        "217 218 219 220 "
       ]
      },
      {
       "output_type": "stream",
       "stream": "stdout",
       "text": [
        "221 222 223 224 "
       ]
      },
      {
       "output_type": "stream",
       "stream": "stdout",
       "text": [
        "225 226 227 228 229 "
       ]
      },
      {
       "output_type": "stream",
       "stream": "stdout",
       "text": [
        "230 231 232 233 "
       ]
      },
      {
       "output_type": "stream",
       "stream": "stdout",
       "text": [
        "234 235 236 237 238 "
       ]
      },
      {
       "output_type": "stream",
       "stream": "stdout",
       "text": [
        "239 240 241 242 "
       ]
      },
      {
       "output_type": "stream",
       "stream": "stdout",
       "text": [
        "243 244 245 246 "
       ]
      },
      {
       "output_type": "stream",
       "stream": "stdout",
       "text": [
        "247 248 249 250 "
       ]
      },
      {
       "output_type": "stream",
       "stream": "stdout",
       "text": [
        "251 252 253 254 "
       ]
      },
      {
       "output_type": "stream",
       "stream": "stdout",
       "text": [
        "255 256 257 258 259 "
       ]
      },
      {
       "output_type": "stream",
       "stream": "stdout",
       "text": [
        "260 261 262 263 "
       ]
      },
      {
       "output_type": "stream",
       "stream": "stdout",
       "text": [
        "264 265 266 267 268 "
       ]
      },
      {
       "output_type": "stream",
       "stream": "stdout",
       "text": [
        "269 270 271 272 273 "
       ]
      },
      {
       "output_type": "stream",
       "stream": "stdout",
       "text": [
        "274 275 276 277 "
       ]
      },
      {
       "output_type": "stream",
       "stream": "stdout",
       "text": [
        "278 279 280 281 282 "
       ]
      },
      {
       "output_type": "stream",
       "stream": "stdout",
       "text": [
        "283 284 285 286 287 "
       ]
      },
      {
       "output_type": "stream",
       "stream": "stdout",
       "text": [
        "288 289 290 291 292 "
       ]
      },
      {
       "output_type": "stream",
       "stream": "stdout",
       "text": [
        "293 294 295 296 "
       ]
      },
      {
       "output_type": "stream",
       "stream": "stdout",
       "text": [
        "297 298 299 300 301 "
       ]
      },
      {
       "output_type": "stream",
       "stream": "stdout",
       "text": [
        "302 303 304 305 306 "
       ]
      },
      {
       "output_type": "stream",
       "stream": "stdout",
       "text": [
        "307 308 309 310 "
       ]
      },
      {
       "output_type": "stream",
       "stream": "stdout",
       "text": [
        "311 312 313 314 315 "
       ]
      },
      {
       "output_type": "stream",
       "stream": "stdout",
       "text": [
        "316 317 318 319 "
       ]
      },
      {
       "output_type": "stream",
       "stream": "stdout",
       "text": [
        "320 321 322 323 "
       ]
      },
      {
       "output_type": "stream",
       "stream": "stdout",
       "text": [
        "324 325 326 327 328 "
       ]
      },
      {
       "output_type": "stream",
       "stream": "stdout",
       "text": [
        "329 330 331 332 "
       ]
      },
      {
       "output_type": "stream",
       "stream": "stdout",
       "text": [
        "333 334 335 336 337 "
       ]
      },
      {
       "output_type": "stream",
       "stream": "stdout",
       "text": [
        "338 339 340 341 342 "
       ]
      },
      {
       "output_type": "stream",
       "stream": "stdout",
       "text": [
        "343 344 345 346 "
       ]
      },
      {
       "output_type": "stream",
       "stream": "stdout",
       "text": [
        "347 348 349 350 "
       ]
      },
      {
       "output_type": "stream",
       "stream": "stdout",
       "text": [
        "351 352 353 354 "
       ]
      },
      {
       "output_type": "stream",
       "stream": "stdout",
       "text": [
        "355 356 357 358 359 "
       ]
      },
      {
       "output_type": "stream",
       "stream": "stdout",
       "text": [
        "360 361 362 363 "
       ]
      },
      {
       "output_type": "stream",
       "stream": "stdout",
       "text": [
        "364 365 366 367 368 "
       ]
      },
      {
       "output_type": "stream",
       "stream": "stdout",
       "text": [
        "369 370 371 372 373 "
       ]
      },
      {
       "output_type": "stream",
       "stream": "stdout",
       "text": [
        "374 375 376 377 "
       ]
      },
      {
       "output_type": "stream",
       "stream": "stdout",
       "text": [
        "378 379 380 381 382 "
       ]
      },
      {
       "output_type": "stream",
       "stream": "stdout",
       "text": [
        "383 384 385 386 "
       ]
      },
      {
       "output_type": "stream",
       "stream": "stdout",
       "text": [
        "387 388 389 "
       ]
      },
      {
       "output_type": "stream",
       "stream": "stdout",
       "text": [
        "390 391 392 393 "
       ]
      },
      {
       "output_type": "stream",
       "stream": "stdout",
       "text": [
        "394 395 396 397 "
       ]
      },
      {
       "output_type": "stream",
       "stream": "stdout",
       "text": [
        "398 399 400 401 402 "
       ]
      },
      {
       "output_type": "stream",
       "stream": "stdout",
       "text": [
        "403 404 405 406 "
       ]
      },
      {
       "output_type": "stream",
       "stream": "stdout",
       "text": [
        "407 408 409 410 411 "
       ]
      },
      {
       "output_type": "stream",
       "stream": "stdout",
       "text": [
        "412 413 414 415 416 "
       ]
      },
      {
       "output_type": "stream",
       "stream": "stdout",
       "text": [
        "417 418 419 420 "
       ]
      },
      {
       "output_type": "stream",
       "stream": "stdout",
       "text": [
        "421 422 423 424 425 "
       ]
      },
      {
       "output_type": "stream",
       "stream": "stdout",
       "text": [
        "426 427 428 429 "
       ]
      },
      {
       "output_type": "stream",
       "stream": "stdout",
       "text": [
        "430 431 432 433 434 "
       ]
      },
      {
       "output_type": "stream",
       "stream": "stdout",
       "text": [
        "435 436 437 438 439 "
       ]
      },
      {
       "output_type": "stream",
       "stream": "stdout",
       "text": [
        "440 441 442 443 444 "
       ]
      },
      {
       "output_type": "stream",
       "stream": "stdout",
       "text": [
        "445 446 447 448 449 "
       ]
      },
      {
       "output_type": "stream",
       "stream": "stdout",
       "text": [
        "450 451 452 453 "
       ]
      },
      {
       "output_type": "stream",
       "stream": "stdout",
       "text": [
        "454 455 456 457 "
       ]
      },
      {
       "output_type": "stream",
       "stream": "stdout",
       "text": [
        "458 459 460 461 462 "
       ]
      },
      {
       "output_type": "stream",
       "stream": "stdout",
       "text": [
        "463 464 465 466 467 "
       ]
      },
      {
       "output_type": "stream",
       "stream": "stdout",
       "text": [
        "468 469 470 471 "
       ]
      },
      {
       "output_type": "stream",
       "stream": "stdout",
       "text": [
        "472 473 474 475 "
       ]
      },
      {
       "output_type": "stream",
       "stream": "stdout",
       "text": [
        "476 477 478 479 480 "
       ]
      },
      {
       "output_type": "stream",
       "stream": "stdout",
       "text": [
        "481 482 483 484 "
       ]
      },
      {
       "output_type": "stream",
       "stream": "stdout",
       "text": [
        "485 486 487 "
       ]
      },
      {
       "output_type": "stream",
       "stream": "stdout",
       "text": [
        "488 489 490 491 "
       ]
      },
      {
       "output_type": "stream",
       "stream": "stdout",
       "text": [
        "492 493 494 495 "
       ]
      },
      {
       "output_type": "stream",
       "stream": "stdout",
       "text": [
        "496 497 498 499 500 "
       ]
      },
      {
       "output_type": "stream",
       "stream": "stdout",
       "text": [
        "501 502 503 "
       ]
      },
      {
       "output_type": "stream",
       "stream": "stdout",
       "text": [
        "504 505 506 507 "
       ]
      },
      {
       "output_type": "stream",
       "stream": "stdout",
       "text": [
        "508 509 510 511 "
       ]
      },
      {
       "output_type": "stream",
       "stream": "stdout",
       "text": [
        "512 513 514 515 "
       ]
      },
      {
       "output_type": "stream",
       "stream": "stdout",
       "text": [
        "516 517 518 519 "
       ]
      },
      {
       "output_type": "stream",
       "stream": "stdout",
       "text": [
        "520 521 522 523 "
       ]
      },
      {
       "output_type": "stream",
       "stream": "stdout",
       "text": [
        "524 525 526 527 "
       ]
      },
      {
       "output_type": "stream",
       "stream": "stdout",
       "text": [
        "528 529 530 531 532 "
       ]
      },
      {
       "output_type": "stream",
       "stream": "stdout",
       "text": [
        "533 534 535 536 537 "
       ]
      },
      {
       "output_type": "stream",
       "stream": "stdout",
       "text": [
        "538 539 540 541 "
       ]
      },
      {
       "output_type": "stream",
       "stream": "stdout",
       "text": [
        "542 543 544 "
       ]
      },
      {
       "output_type": "stream",
       "stream": "stdout",
       "text": [
        "545 546 547 548 "
       ]
      },
      {
       "output_type": "stream",
       "stream": "stdout",
       "text": [
        "549 550 551 552 "
       ]
      },
      {
       "output_type": "stream",
       "stream": "stdout",
       "text": [
        "553 554 555 "
       ]
      },
      {
       "output_type": "stream",
       "stream": "stdout",
       "text": [
        "556 557 558 "
       ]
      },
      {
       "output_type": "stream",
       "stream": "stdout",
       "text": [
        "559 560 561 562 "
       ]
      },
      {
       "output_type": "stream",
       "stream": "stdout",
       "text": [
        "563 564 565 "
       ]
      },
      {
       "output_type": "stream",
       "stream": "stdout",
       "text": [
        "566 567 568 "
       ]
      },
      {
       "output_type": "stream",
       "stream": "stdout",
       "text": [
        "569 570 571 572 "
       ]
      },
      {
       "output_type": "stream",
       "stream": "stdout",
       "text": [
        "573 574 575 576 "
       ]
      },
      {
       "output_type": "stream",
       "stream": "stdout",
       "text": [
        "577 578 579 "
       ]
      },
      {
       "output_type": "stream",
       "stream": "stdout",
       "text": [
        "580 581 582 583 "
       ]
      },
      {
       "output_type": "stream",
       "stream": "stdout",
       "text": [
        "584 585 586 587 "
       ]
      },
      {
       "output_type": "stream",
       "stream": "stdout",
       "text": [
        "588 589 590 591 "
       ]
      },
      {
       "output_type": "stream",
       "stream": "stdout",
       "text": [
        "592 593 594 "
       ]
      },
      {
       "output_type": "stream",
       "stream": "stdout",
       "text": [
        "595 596 597 598 "
       ]
      },
      {
       "output_type": "stream",
       "stream": "stdout",
       "text": [
        "599 600 601 602 "
       ]
      },
      {
       "output_type": "stream",
       "stream": "stdout",
       "text": [
        "603 604 605 606 "
       ]
      },
      {
       "output_type": "stream",
       "stream": "stdout",
       "text": [
        "607 608 609 610 "
       ]
      },
      {
       "output_type": "stream",
       "stream": "stdout",
       "text": [
        "611 612 613 614 "
       ]
      },
      {
       "output_type": "stream",
       "stream": "stdout",
       "text": [
        "615 616 617 618 "
       ]
      },
      {
       "output_type": "stream",
       "stream": "stdout",
       "text": [
        "619 620 621 622 "
       ]
      },
      {
       "output_type": "stream",
       "stream": "stdout",
       "text": [
        "623 624 625 626 627 "
       ]
      },
      {
       "output_type": "stream",
       "stream": "stdout",
       "text": [
        "628 629 630 631 "
       ]
      },
      {
       "output_type": "stream",
       "stream": "stdout",
       "text": [
        "632 633 634 635 "
       ]
      },
      {
       "output_type": "stream",
       "stream": "stdout",
       "text": [
        "636 637 638 639 "
       ]
      },
      {
       "output_type": "stream",
       "stream": "stdout",
       "text": [
        "640 641 642 643 "
       ]
      },
      {
       "output_type": "stream",
       "stream": "stdout",
       "text": [
        "644 645 646 647 "
       ]
      },
      {
       "output_type": "stream",
       "stream": "stdout",
       "text": [
        "648 649 650 651 "
       ]
      },
      {
       "output_type": "stream",
       "stream": "stdout",
       "text": [
        "652 653 654 "
       ]
      },
      {
       "output_type": "stream",
       "stream": "stdout",
       "text": [
        "655 656 657 658 "
       ]
      },
      {
       "output_type": "stream",
       "stream": "stdout",
       "text": [
        "659 660 661 "
       ]
      },
      {
       "output_type": "stream",
       "stream": "stdout",
       "text": [
        "662 663 664 665 "
       ]
      },
      {
       "output_type": "stream",
       "stream": "stdout",
       "text": [
        "666 667 668 669 "
       ]
      },
      {
       "output_type": "stream",
       "stream": "stdout",
       "text": [
        "670 671 672 673 "
       ]
      },
      {
       "output_type": "stream",
       "stream": "stdout",
       "text": [
        "674 675 676 677 "
       ]
      },
      {
       "output_type": "stream",
       "stream": "stdout",
       "text": [
        "678 679 680 681 "
       ]
      },
      {
       "output_type": "stream",
       "stream": "stdout",
       "text": [
        "682 "
       ]
      },
      {
       "output_type": "stream",
       "stream": "stdout",
       "text": [
        "683 684 685 "
       ]
      },
      {
       "output_type": "stream",
       "stream": "stdout",
       "text": [
        "686 687 688 689 690 "
       ]
      },
      {
       "output_type": "stream",
       "stream": "stdout",
       "text": [
        "691 692 "
       ]
      },
      {
       "output_type": "stream",
       "stream": "stdout",
       "text": [
        "693 694 "
       ]
      },
      {
       "output_type": "stream",
       "stream": "stdout",
       "text": [
        "695 696 697 "
       ]
      },
      {
       "output_type": "stream",
       "stream": "stdout",
       "text": [
        "698 699 700 "
       ]
      },
      {
       "output_type": "stream",
       "stream": "stdout",
       "text": [
        "701 702 703 704 "
       ]
      },
      {
       "output_type": "stream",
       "stream": "stdout",
       "text": [
        "705 706 "
       ]
      },
      {
       "output_type": "stream",
       "stream": "stdout",
       "text": [
        "707 708 709 "
       ]
      },
      {
       "output_type": "stream",
       "stream": "stdout",
       "text": [
        "710 "
       ]
      },
      {
       "output_type": "stream",
       "stream": "stdout",
       "text": [
        "711 712 "
       ]
      },
      {
       "output_type": "stream",
       "stream": "stdout",
       "text": [
        "713 714 "
       ]
      },
      {
       "output_type": "stream",
       "stream": "stdout",
       "text": [
        "715 716 "
       ]
      },
      {
       "output_type": "stream",
       "stream": "stdout",
       "text": [
        "717 718 719 "
       ]
      },
      {
       "output_type": "stream",
       "stream": "stdout",
       "text": [
        "720 "
       ]
      },
      {
       "output_type": "stream",
       "stream": "stdout",
       "text": [
        "721 722 "
       ]
      },
      {
       "output_type": "stream",
       "stream": "stdout",
       "text": [
        "723 724 725 726 "
       ]
      },
      {
       "output_type": "stream",
       "stream": "stdout",
       "text": [
        "727 "
       ]
      },
      {
       "output_type": "stream",
       "stream": "stdout",
       "text": [
        "728 729 730 "
       ]
      },
      {
       "output_type": "stream",
       "stream": "stdout",
       "text": [
        "731 732 733 "
       ]
      },
      {
       "output_type": "stream",
       "stream": "stdout",
       "text": [
        "734 735 736 "
       ]
      },
      {
       "output_type": "stream",
       "stream": "stdout",
       "text": [
        "737 738 "
       ]
      },
      {
       "output_type": "stream",
       "stream": "stdout",
       "text": [
        "739 740 741 "
       ]
      },
      {
       "output_type": "stream",
       "stream": "stdout",
       "text": [
        "742 743 "
       ]
      },
      {
       "output_type": "stream",
       "stream": "stdout",
       "text": [
        "744 745 "
       ]
      },
      {
       "output_type": "stream",
       "stream": "stdout",
       "text": [
        "746 747 "
       ]
      },
      {
       "output_type": "stream",
       "stream": "stdout",
       "text": [
        "748 749 750 "
       ]
      },
      {
       "output_type": "stream",
       "stream": "stdout",
       "text": [
        "751 752 753 "
       ]
      },
      {
       "output_type": "stream",
       "stream": "stdout",
       "text": [
        "754 755 756 "
       ]
      },
      {
       "output_type": "stream",
       "stream": "stdout",
       "text": [
        "757 758 759 "
       ]
      },
      {
       "output_type": "stream",
       "stream": "stdout",
       "text": [
        "760 761 "
       ]
      },
      {
       "output_type": "stream",
       "stream": "stdout",
       "text": [
        "762 763 "
       ]
      },
      {
       "output_type": "stream",
       "stream": "stdout",
       "text": [
        "764 765 766 "
       ]
      },
      {
       "output_type": "stream",
       "stream": "stdout",
       "text": [
        "767 768 "
       ]
      },
      {
       "output_type": "stream",
       "stream": "stdout",
       "text": [
        "769 770 "
       ]
      },
      {
       "output_type": "stream",
       "stream": "stdout",
       "text": [
        "771 772 773 "
       ]
      },
      {
       "output_type": "stream",
       "stream": "stdout",
       "text": [
        "774 775 "
       ]
      },
      {
       "output_type": "stream",
       "stream": "stdout",
       "text": [
        "776 777 778 "
       ]
      },
      {
       "output_type": "stream",
       "stream": "stdout",
       "text": [
        "779 780 781 "
       ]
      },
      {
       "output_type": "stream",
       "stream": "stdout",
       "text": [
        "782 783 784 "
       ]
      },
      {
       "output_type": "stream",
       "stream": "stdout",
       "text": [
        "785 786 787 "
       ]
      },
      {
       "output_type": "stream",
       "stream": "stdout",
       "text": [
        "788 789 790 "
       ]
      },
      {
       "output_type": "stream",
       "stream": "stdout",
       "text": [
        "791 792 793 "
       ]
      },
      {
       "output_type": "stream",
       "stream": "stdout",
       "text": [
        "794 795 796 797 "
       ]
      },
      {
       "output_type": "stream",
       "stream": "stdout",
       "text": [
        "798 799 800 801 "
       ]
      },
      {
       "output_type": "stream",
       "stream": "stdout",
       "text": [
        "802 803 804 "
       ]
      },
      {
       "output_type": "stream",
       "stream": "stdout",
       "text": [
        "805 806 807 "
       ]
      },
      {
       "output_type": "stream",
       "stream": "stdout",
       "text": [
        "808 809 810 "
       ]
      },
      {
       "output_type": "stream",
       "stream": "stdout",
       "text": [
        "811 812 813 814 "
       ]
      },
      {
       "output_type": "stream",
       "stream": "stdout",
       "text": [
        "815 816 817 818 "
       ]
      },
      {
       "output_type": "stream",
       "stream": "stdout",
       "text": [
        "819 820 821 822 "
       ]
      },
      {
       "output_type": "stream",
       "stream": "stdout",
       "text": [
        "823 824 825 826 827 "
       ]
      },
      {
       "output_type": "stream",
       "stream": "stdout",
       "text": [
        "828 829 830 831 "
       ]
      },
      {
       "output_type": "stream",
       "stream": "stdout",
       "text": [
        "832 833 834 835 "
       ]
      },
      {
       "output_type": "stream",
       "stream": "stdout",
       "text": [
        "836 837 838 839 "
       ]
      },
      {
       "output_type": "stream",
       "stream": "stdout",
       "text": [
        "840 841 842 843 "
       ]
      },
      {
       "output_type": "stream",
       "stream": "stdout",
       "text": [
        "844 845 "
       ]
      },
      {
       "output_type": "stream",
       "stream": "stdout",
       "text": [
        "846 847 848 "
       ]
      },
      {
       "output_type": "stream",
       "stream": "stdout",
       "text": [
        "849 850 851 852 "
       ]
      },
      {
       "output_type": "stream",
       "stream": "stdout",
       "text": [
        "853 "
       ]
      },
      {
       "output_type": "stream",
       "stream": "stdout",
       "text": [
        "854 855 856 "
       ]
      },
      {
       "output_type": "stream",
       "stream": "stdout",
       "text": [
        "857 858 859 "
       ]
      },
      {
       "output_type": "stream",
       "stream": "stdout",
       "text": [
        "860 861 862 "
       ]
      },
      {
       "output_type": "stream",
       "stream": "stdout",
       "text": [
        "863 864 865 "
       ]
      },
      {
       "output_type": "stream",
       "stream": "stdout",
       "text": [
        "866 867 868 869 870 "
       ]
      },
      {
       "output_type": "stream",
       "stream": "stdout",
       "text": [
        "871 872 873 "
       ]
      },
      {
       "output_type": "stream",
       "stream": "stdout",
       "text": [
        "874 875 876 877 "
       ]
      },
      {
       "output_type": "stream",
       "stream": "stdout",
       "text": [
        "878 879 880 881 "
       ]
      },
      {
       "output_type": "stream",
       "stream": "stdout",
       "text": [
        "882 883 884 885 "
       ]
      },
      {
       "output_type": "stream",
       "stream": "stdout",
       "text": [
        "886 887 "
       ]
      },
      {
       "output_type": "stream",
       "stream": "stdout",
       "text": [
        "888 889 890 891 "
       ]
      },
      {
       "output_type": "stream",
       "stream": "stdout",
       "text": [
        "892 893 894 895 "
       ]
      },
      {
       "output_type": "stream",
       "stream": "stdout",
       "text": [
        "896 897 898 899 "
       ]
      },
      {
       "output_type": "stream",
       "stream": "stdout",
       "text": [
        "900 "
       ]
      },
      {
       "output_type": "stream",
       "stream": "stdout",
       "text": [
        "901 902 903 "
       ]
      },
      {
       "output_type": "stream",
       "stream": "stdout",
       "text": [
        "904 905 906 907 "
       ]
      },
      {
       "output_type": "stream",
       "stream": "stdout",
       "text": [
        "908 909 910 "
       ]
      },
      {
       "output_type": "stream",
       "stream": "stdout",
       "text": [
        "911 912 913 914 "
       ]
      },
      {
       "output_type": "stream",
       "stream": "stdout",
       "text": [
        "915 916 917 "
       ]
      },
      {
       "output_type": "stream",
       "stream": "stdout",
       "text": [
        "918 919 920 921 "
       ]
      },
      {
       "output_type": "stream",
       "stream": "stdout",
       "text": [
        "922 923 924 925 "
       ]
      },
      {
       "ename": "IndexError",
       "evalue": "string index out of range",
       "output_type": "pyerr",
       "traceback": [
        "\u001b[1;31m---------------------------------------------------------------------------\u001b[0m\n\u001b[1;31mIndexError\u001b[0m                                Traceback (most recent call last)",
        "\u001b[1;32m<ipython-input-38-c0b387c00b6c>\u001b[0m in \u001b[0;36m<module>\u001b[1;34m()\u001b[0m\n\u001b[0;32m     19\u001b[0m         \u001b[1;31m#print filename, lawTitleNum, lawSectionNum, lawName\u001b[0m\u001b[1;33m\u001b[0m\u001b[1;33m\u001b[0m\u001b[0m\n\u001b[0;32m     20\u001b[0m         \u001b[1;32mprint\u001b[0m \u001b[0mcount\u001b[0m\u001b[1;33m,\u001b[0m\u001b[1;33m\u001b[0m\u001b[0m\n\u001b[1;32m---> 21\u001b[1;33m         \u001b[0mstdb\u001b[0m\u001b[1;33m.\u001b[0m\u001b[0minsertDoc\u001b[0m\u001b[1;33m(\u001b[0m\u001b[0mfileAsString\u001b[0m\u001b[1;33m,\u001b[0m \u001b[1;34m\"cgntestdoctable1\"\u001b[0m\u001b[1;33m,\u001b[0m \u001b[1;33m[\u001b[0m\u001b[0mlawTitleNum\u001b[0m\u001b[1;33m,\u001b[0m \u001b[0mlawSectionNum\u001b[0m\u001b[1;33m,\u001b[0m \u001b[0mlawName\u001b[0m\u001b[1;33m]\u001b[0m\u001b[1;33m)\u001b[0m\u001b[1;33m\u001b[0m\u001b[0m\n\u001b[0m",
        "\u001b[1;32mC:\\git\\SemanticTextDB\\SemanticTextDB.py\u001b[0m in \u001b[0;36minsertDoc\u001b[1;34m(self, text, table_name, user_column_vals, id, new_transaction)\u001b[0m\n\u001b[0;32m    251\u001b[0m                 \u001b[0mself\u001b[0m\u001b[1;33m-\u001b[0m\u001b[0mmanage\u001b[0m \u001b[0mthe\u001b[0m \u001b[0massigment\u001b[0m \u001b[0mof\u001b[0m \u001b[0mids\u001b[0m \u001b[0mto\u001b[0m \u001b[0mdocuments\u001b[0m\u001b[1;33m.\u001b[0m\u001b[1;33m\u001b[0m\u001b[0m\n\u001b[0;32m    252\u001b[0m                 \u001b[1;33m:\u001b[0m\u001b[0mparam\u001b[0m \u001b[0mnew_transaction\u001b[0m\u001b[1;33m:\u001b[0m \u001b[0mBoolean\u001b[0m \u001b[0mspecifying\u001b[0m \u001b[0mwhether\u001b[0m \u001b[0ma\u001b[0m \u001b[0mnew\u001b[0m \u001b[0mtransaction\u001b[0m\u001b[1;33m\u001b[0m\u001b[0m\n\u001b[1;32m--> 253\u001b[1;33m                 \u001b[0mshould\u001b[0m \u001b[0mbe\u001b[0m \u001b[0mcreated\u001b[0m \u001b[1;32mfor\u001b[0m \u001b[0mthe\u001b[0m \u001b[0moperations\u001b[0m \u001b[1;32min\u001b[0m \u001b[0mthis\u001b[0m \u001b[0mfunction\u001b[0m\u001b[1;33m\u001b[0m\u001b[0m\n\u001b[0m\u001b[0;32m    254\u001b[0m                 \u001b[1;33m(\u001b[0m\u001b[0mset\u001b[0m \u001b[0mto\u001b[0m \u001b[0mTrue\u001b[0m \u001b[1;32mif\u001b[0m \u001b[0mthis\u001b[0m \u001b[0minsert\u001b[0m \u001b[1;32mis\u001b[0m \u001b[1;32mnot\u001b[0m \u001b[0mpart\u001b[0m \u001b[0mof\u001b[0m \u001b[0ma\u001b[0m \u001b[0mlarger\u001b[0m \u001b[0mTransaction\u001b[0m\u001b[1;33m)\u001b[0m\u001b[1;33m.\u001b[0m\u001b[1;33m\u001b[0m\u001b[0m\n\u001b[0;32m    255\u001b[0m \t\t\"\"\"\n",
        "\u001b[1;31mIndexError\u001b[0m: string index out of range"
       ]
      },
      {
       "output_type": "stream",
       "stream": "stdout",
       "text": [
        "926 927 \n",
        "(a) The Congress finds that there are numerous committees, boards, commissions, councils, and similar groups which have been established to advise officers and agencies in the executive branch of the Federal Government and that they are frequently a useful and beneficial means of furnishing expert advice, ideas, and diverse opinions to the Federal Government.\n",
        "\n",
        "\n",
        "\n",
        "(b) Within one year after a Presidential advisory committee has submitted a public report to the President, the President or his delegate shall make a report to the Congress stating either his proposals for action or his reasons for inaction, with respect to the recommendations contained in the public report.\n",
        "\n",
        "\n",
        "930"
       ]
      }
     ],
     "prompt_number": 38
    },
    {
     "cell_type": "code",
     "collapsed": false,
     "input": [
      "stdb.allTables()"
     ],
     "language": "python",
     "metadata": {},
     "outputs": [
      {
       "metadata": {},
       "output_type": "pyout",
       "prompt_number": 15,
       "text": [
        "['testtable',\n",
        " 'cgntestdoctable1',\n",
        " 'cgntestdoctable1_text',\n",
        " 'cgntestdoctable1_useropts',\n",
        " 'cgntestdoctable1_wordinfo']"
       ]
      }
     ],
     "prompt_number": 15
    },
    {
     "cell_type": "code",
     "collapsed": false,
     "input": [
      "cur.execute(\"select count(*) from cgntestdoctable1;\")\n",
      "cur.fetchall()"
     ],
     "language": "python",
     "metadata": {},
     "outputs": [
      {
       "metadata": {},
       "output_type": "pyout",
       "prompt_number": 36,
       "text": [
        "[(4839L,)]"
       ]
      },
      {
       "output_type": "stream",
       "stream": "stdout",
       "text": [
        "\n"
       ]
      }
     ],
     "prompt_number": 36
    },
    {
     "cell_type": "code",
     "collapsed": false,
     "input": [
      "cur.execute(\"select * from cgntestdoctable1_text where id = 65;\")\n",
      "cur.fetchall()"
     ],
     "language": "python",
     "metadata": {},
     "outputs": [
      {
       "metadata": {},
       "output_type": "pyout",
       "prompt_number": 22,
       "text": [
        "[(65,\n",
        "  '\\n\\xc2\\xa7\\xe2\\x80\\xaf58a\\xe2\\x80\\x933. Transferred\\nCodification\\nSection 58a\\xe2\\x80\\x933 was editorially reclassified as section 6623 of this title.\\n\\n')]"
       ]
      }
     ],
     "prompt_number": 22
    },
    {
     "cell_type": "code",
     "collapsed": false,
     "input": [
      "3+3"
     ],
     "language": "python",
     "metadata": {},
     "outputs": [
      {
       "metadata": {},
       "output_type": "pyout",
       "prompt_number": 33,
       "text": [
        "6"
       ]
      },
      {
       "output_type": "stream",
       "stream": "stdout",
       "text": [
        "\n"
       ]
      }
     ],
     "prompt_number": 33
    },
    {
     "cell_type": "code",
     "collapsed": false,
     "input": [],
     "language": "python",
     "metadata": {},
     "outputs": []
    }
   ],
   "metadata": {}
  }
 ]
}