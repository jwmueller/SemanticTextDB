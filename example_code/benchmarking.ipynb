{
 "metadata": {
  "name": "",
  "signature": "sha256:8056e52addbcf3cbae89c3bc28b420fd5ca76e1c8d7e29e6d0c6ee1cee5a95ee"
 },
 "nbformat": 3,
 "nbformat_minor": 0,
 "worksheets": [
  {
   "cells": [
    {
     "cell_type": "markdown",
     "metadata": {},
     "source": [
      "##Import system modules. Import psycopg2 (requires install). This is the python interface driver for the postgresql database."
     ]
    },
    {
     "cell_type": "code",
     "collapsed": false,
     "input": [
      "import sys, os, time, csv\n",
      "import psycopg2"
     ],
     "language": "python",
     "metadata": {},
     "outputs": [],
     "prompt_number": 2
    },
    {
     "cell_type": "markdown",
     "metadata": {},
     "source": [
      "##Add the directory of our SemanticTextDB library to your absolute path to support import dependencies in our library files."
     ]
    },
    {
     "cell_type": "code",
     "collapsed": false,
     "input": [
      "mypath = os.path.dirname(os.path.abspath(\"__file__\"))\n",
      "repositoryLocation = \"C:/git/SemanticTextDB\"\n",
      "sys.path.insert(0, os.path.normpath(os.path.join(mypath, 'C:/git/SemanticTextDB')))\n",
      "\n",
      "import SemanticTextDB as stdb"
     ],
     "language": "python",
     "metadata": {},
     "outputs": [],
     "prompt_number": 3
    },
    {
     "cell_type": "markdown",
     "metadata": {},
     "source": [
      "##Create a connection to the database withe the psycopg2.connect() method. Create a cursor to execute operations. Lastly create the SemanticTextDB object. This object is the primary object you will use to interact with, query, perform statistical modelling queries, and interact with the features available with our library."
     ]
    },
    {
     "cell_type": "code",
     "collapsed": false,
     "input": [
      "conn = psycopg2.connect(database=\"benchmark\", user=\"Curtis Northcutt\", host=\"18.251.7.99\", password=\"coldnips\")\n",
      "cur = conn.cursor()\n",
      "\n",
      "# Now create a new SemanticTextDB object based on the underlying DB's state:\n",
      "my_stdb = stdb.SemanticTextDB(conn, cur)"
     ],
     "language": "python",
     "metadata": {},
     "outputs": [
      {
       "output_type": "stream",
       "stream": "stdout",
       "text": [
        "Document tables in this database:  ['twitter']\n"
       ]
      }
     ],
     "prompt_number": 4
    },
    {
     "cell_type": "markdown",
     "metadata": {},
     "source": [
      "##How to create our document tables in a postgres database"
     ]
    },
    {
     "cell_type": "code",
     "collapsed": false,
     "input": [
      "# Returns a list of all tables in underyling DB:\n",
      "my_stdb.allTables()\n",
      "\n",
      "#Returns a list of only document tables in the DB:m\n",
      "my_stdb.allDocTables()"
     ],
     "language": "python",
     "metadata": {},
     "outputs": [
      {
       "metadata": {},
       "output_type": "pyout",
       "prompt_number": 5,
       "text": [
        "['twitter']"
       ]
      }
     ],
     "prompt_number": 5
    },
    {
     "cell_type": "markdown",
     "metadata": {},
     "source": [
      "##Delete all tables"
     ]
    },
    {
     "cell_type": "code",
     "collapsed": false,
     "input": [
      "# PRINTS ALL TABLES IN DB:\n",
      "def allTables(cur):\n",
      "    cur.execute(\"select table_name from information_schema.tables WHERE table_schema='public' AND table_type='BASE TABLE';\")\n",
      "    return [x[0] for x in cur.fetchall()]\n",
      "\n",
      "# Shows at most 5 results from table:\n",
      "def seeTable(cur, name):\n",
      "    cur.execute(\"select * from \" + name + \";\")\n",
      "    x = cur.fetchall()\n",
      "    if len(x) < 5:\n",
      "        return x\n",
      "    else:\n",
      "        return x[:4]\n",
      "\n",
      "\n",
      "# Deletes all tables from DB:\t\n",
      "def clearDB(cur):\n",
      "    x = allTables(cur)\n",
      "    for t in x:\n",
      "        cur.execute(\"DROP TABLE \" + t + \";\")\n",
      "        cur.execute(\"COMMIT;\")"
     ],
     "language": "python",
     "metadata": {},
     "outputs": [],
     "prompt_number": 6
    },
    {
     "cell_type": "code",
     "collapsed": false,
     "input": [
      "clearDB(cur)"
     ],
     "language": "python",
     "metadata": {},
     "outputs": [],
     "prompt_number": 7
    },
    {
     "cell_type": "markdown",
     "metadata": {},
     "source": [
      "## Loading in all U.S. Code Laws (over 56,000 laws) fully formatted and substantial length"
     ]
    },
    {
     "cell_type": "code",
     "collapsed": false,
     "input": [
      "cur.execute(\"END;\")\n",
      "cur.execute(\"ABORT;\")\n",
      "\n",
      "import warnings\n",
      "warnings.filterwarnings(\"ignore\")\n",
      "\n",
      "import re\n",
      "readPath = \"C:/git/SemanticTextDB/example_code/all_US_Law_Codes/\"\n",
      "author = \"United States Government\"\n",
      "base_time = time.time()\n",
      "\n",
      "NUM_INTERTIMES = 10\n",
      "NUM_TRIALS = 5\n",
      "NUM_LAWS = 1001\n",
      "\n",
      "law_trials = []\n",
      "for i in range(NUM_TRIALS):\n",
      "    \n",
      "    clearDB(cur)\n",
      "\n",
      "    # Delete the document table (iff you want to replace table with same name):\n",
      "    if 'laws' in my_stdb.document_tables.keys(): #check that the table exists before deleting it\n",
      "        my_stdb.dropDocTable(\"laws\")\n",
      "\n",
      "    # Creates a document table (and associated machine-generated tables):\n",
      "    my_stdb.createDocTable(\"laws\", ['lawTitleNumber text', 'lawSectionNumber text', 'lawName text'],\n",
      "                       summary = None, topics = None, entities = None, \n",
      "                       sentiment = False, count_words = False, length_count = False, \n",
      "                       vs_representations = None, max_word_length = 200,\n",
      "                       update_increment = 1, new_transaction = True)\n",
      "    \n",
      "    intertimes = []\n",
      "    count = 0\n",
      "    totaltime = 0\n",
      "    for filename in os.listdir(readPath):\n",
      "        count = count + 1\n",
      "        f = open(readPath + filename,'r')\n",
      "        fileAsString = f.read()\n",
      "        result = re.search(r'[0-9].*?\\n', fileAsString)\n",
      "        if result == None:\n",
      "            continue\n",
      "            #print fileAsString\n",
      "        else:\n",
      "            result = re.sub(r'\\n', '', result.group())\n",
      "            lawTitleNum = filename.split('_')[0]\n",
      "            lawSectionNum = (re.search(r'.*?\\.', result)).group()[:-1]\n",
      "            lawName = (re.search(r'\\..*', result)).group()[2:]\n",
      "\n",
      "            if lawName == \"\" or re.search(r'\\..*', result).group()[1] != \" \": #discard - wrong format\n",
      "                count = count - 1\n",
      "                continue\n",
      "            else:\n",
      "                #stringToInsert = unicode(fileAsString, 'utf-8')\n",
      "                fileAsString = re.sub(r'-', ' ', fileAsString)\n",
      "                fileAsString = re.sub(r'[^a-z ]', '', fileAsString)\n",
      "                fileAsString = re.sub(r' +', ' ', fileAsString)\n",
      "                \n",
      "                start_time = time.time()\n",
      "                my_stdb.insertDoc(fileAsString, \"laws\", [lawTitleNum, lawSectionNum, lawName])\n",
      "                totaltime = totaltime + (time.time() - start_time)\n",
      "                if count % (NUM_LAWS / NUM_INTERTIMES) == 0:\n",
      "                    print count\n",
      "                    intertimes.append(totaltime)\n",
      "        if count >= NUM_LAWS:\n",
      "            break\n",
      "    time_elapsed = time.time() - base_time\n",
      "    print 'Trial Completed:', i\n",
      "    print \"Estimated Minutes Left:\", (time_elapsed * NUM_TRIALS / (i + 1.0) - time_elapsed) / 60.0\n",
      "    print \"Time Elapsed:\", time_elapsed\n",
      "    law_trials.append(intertimes)\n",
      "    "
     ],
     "language": "python",
     "metadata": {},
     "outputs": [
      {
       "output_type": "stream",
       "stream": "stdout",
       "text": [
        "deleted document table: laws\n",
        "created document table: laws"
       ]
      },
      {
       "output_type": "stream",
       "stream": "stdout",
       "text": [
        "\n",
        "100"
       ]
      },
      {
       "output_type": "stream",
       "stream": "stdout",
       "text": [
        "\n",
        "200"
       ]
      },
      {
       "output_type": "stream",
       "stream": "stdout",
       "text": [
        "\n",
        "300"
       ]
      },
      {
       "output_type": "stream",
       "stream": "stdout",
       "text": [
        "\n",
        "400"
       ]
      },
      {
       "output_type": "stream",
       "stream": "stdout",
       "text": [
        "\n",
        "500"
       ]
      },
      {
       "output_type": "stream",
       "stream": "stdout",
       "text": [
        "\n",
        "600"
       ]
      },
      {
       "output_type": "stream",
       "stream": "stdout",
       "text": [
        "\n",
        "700"
       ]
      },
      {
       "output_type": "stream",
       "stream": "stdout",
       "text": [
        "\n",
        "800"
       ]
      },
      {
       "output_type": "stream",
       "stream": "stdout",
       "text": [
        "\n",
        "900"
       ]
      },
      {
       "output_type": "stream",
       "stream": "stdout",
       "text": [
        "\n",
        "1000"
       ]
      },
      {
       "output_type": "stream",
       "stream": "stdout",
       "text": [
        "\n",
        "Trial Completed: 0\n",
        "Estimated Minutes Left: 1.31346667608\n",
        "Time Elapsed: 19.7020001411\n",
        "deleted document table: laws"
       ]
      },
      {
       "output_type": "stream",
       "stream": "stdout",
       "text": [
        "\n",
        "created document table: laws\n",
        "100"
       ]
      },
      {
       "output_type": "stream",
       "stream": "stdout",
       "text": [
        "\n",
        "200"
       ]
      },
      {
       "output_type": "stream",
       "stream": "stdout",
       "text": [
        "\n",
        "300"
       ]
      },
      {
       "output_type": "stream",
       "stream": "stdout",
       "text": [
        "\n",
        "400"
       ]
      },
      {
       "output_type": "stream",
       "stream": "stdout",
       "text": [
        "\n",
        "500"
       ]
      },
      {
       "output_type": "stream",
       "stream": "stdout",
       "text": [
        "\n",
        "600"
       ]
      },
      {
       "output_type": "stream",
       "stream": "stdout",
       "text": [
        "\n",
        "700"
       ]
      },
      {
       "output_type": "stream",
       "stream": "stdout",
       "text": [
        "\n",
        "800"
       ]
      },
      {
       "output_type": "stream",
       "stream": "stdout",
       "text": [
        "\n",
        "900"
       ]
      },
      {
       "output_type": "stream",
       "stream": "stdout",
       "text": [
        "\n",
        "1000"
       ]
      },
      {
       "output_type": "stream",
       "stream": "stdout",
       "text": [
        "\n",
        "Trial Completed: 1\n",
        "Estimated Minutes Left: 0.97365000248\n",
        "Time Elapsed: 38.9460000992\n",
        "deleted document table: laws"
       ]
      },
      {
       "output_type": "stream",
       "stream": "stdout",
       "text": [
        "\n",
        "created document table: laws\n",
        "100"
       ]
      },
      {
       "output_type": "stream",
       "stream": "stdout",
       "text": [
        "\n",
        "200"
       ]
      },
      {
       "output_type": "stream",
       "stream": "stdout",
       "text": [
        "\n",
        "300"
       ]
      },
      {
       "output_type": "stream",
       "stream": "stdout",
       "text": [
        "\n",
        "400"
       ]
      },
      {
       "output_type": "stream",
       "stream": "stdout",
       "text": [
        "\n",
        "500"
       ]
      },
      {
       "output_type": "stream",
       "stream": "stdout",
       "text": [
        "\n",
        "600"
       ]
      },
      {
       "output_type": "stream",
       "stream": "stdout",
       "text": [
        "\n",
        "700"
       ]
      },
      {
       "output_type": "stream",
       "stream": "stdout",
       "text": [
        "\n",
        "800"
       ]
      },
      {
       "output_type": "stream",
       "stream": "stdout",
       "text": [
        "\n",
        "900"
       ]
      },
      {
       "output_type": "stream",
       "stream": "stdout",
       "text": [
        "\n",
        "1000"
       ]
      },
      {
       "output_type": "stream",
       "stream": "stdout",
       "text": [
        "\n",
        "Trial Completed: 2\n",
        "Estimated Minutes Left: 0.647988888952\n",
        "Time Elapsed: 58.3190000057\n",
        "deleted document table: laws"
       ]
      },
      {
       "output_type": "stream",
       "stream": "stdout",
       "text": [
        "\n",
        "created document table: laws\n",
        "100"
       ]
      },
      {
       "output_type": "stream",
       "stream": "stdout",
       "text": [
        "\n",
        "200"
       ]
      },
      {
       "output_type": "stream",
       "stream": "stdout",
       "text": [
        "\n",
        "300"
       ]
      },
      {
       "output_type": "stream",
       "stream": "stdout",
       "text": [
        "\n",
        "400"
       ]
      },
      {
       "output_type": "stream",
       "stream": "stdout",
       "text": [
        "\n",
        "500"
       ]
      },
      {
       "output_type": "stream",
       "stream": "stdout",
       "text": [
        "\n",
        "600"
       ]
      },
      {
       "output_type": "stream",
       "stream": "stdout",
       "text": [
        "\n",
        "700"
       ]
      },
      {
       "output_type": "stream",
       "stream": "stdout",
       "text": [
        "\n",
        "800"
       ]
      },
      {
       "output_type": "stream",
       "stream": "stdout",
       "text": [
        "\n",
        "900"
       ]
      },
      {
       "output_type": "stream",
       "stream": "stdout",
       "text": [
        "\n",
        "1000"
       ]
      },
      {
       "output_type": "stream",
       "stream": "stdout",
       "text": [
        "\n",
        "Trial Completed: 3\n",
        "Estimated Minutes Left: 0.323908333977\n",
        "Time Elapsed: 77.7380001545\n",
        "deleted document table: laws"
       ]
      },
      {
       "output_type": "stream",
       "stream": "stdout",
       "text": [
        "\n",
        "created document table: laws\n",
        "100"
       ]
      },
      {
       "output_type": "stream",
       "stream": "stdout",
       "text": [
        "\n",
        "200"
       ]
      },
      {
       "output_type": "stream",
       "stream": "stdout",
       "text": [
        "\n",
        "300"
       ]
      },
      {
       "output_type": "stream",
       "stream": "stdout",
       "text": [
        "\n",
        "400"
       ]
      },
      {
       "output_type": "stream",
       "stream": "stdout",
       "text": [
        "\n",
        "500"
       ]
      },
      {
       "output_type": "stream",
       "stream": "stdout",
       "text": [
        "\n",
        "600"
       ]
      },
      {
       "output_type": "stream",
       "stream": "stdout",
       "text": [
        "\n",
        "700"
       ]
      },
      {
       "output_type": "stream",
       "stream": "stdout",
       "text": [
        "\n",
        "800"
       ]
      },
      {
       "output_type": "stream",
       "stream": "stdout",
       "text": [
        "\n",
        "900"
       ]
      },
      {
       "output_type": "stream",
       "stream": "stdout",
       "text": [
        "\n",
        "1000"
       ]
      },
      {
       "output_type": "stream",
       "stream": "stdout",
       "text": [
        "\n",
        "Trial Completed: 4\n",
        "Estimated Minutes Left: 0.0\n",
        "Time Elapsed: 97.2820000648\n"
       ]
      }
     ],
     "prompt_number": 37
    },
    {
     "cell_type": "code",
     "collapsed": false,
     "input": [],
     "language": "python",
     "metadata": {},
     "outputs": [],
     "prompt_number": 39
    },
    {
     "cell_type": "code",
     "collapsed": false,
     "input": [
      "import csv\n",
      "\n",
      "with open(\"C:\\\\git\\\\SemanticTextDB\\\\example_code\\\\benchmark_results\\\\laws_1k_insert_only_NEW_TRANSACTION_TRUE.csv\", \"wb\") as f:\n",
      "    writer = csv.writer(f)\n",
      "    writer.writerows(law_trials)"
     ],
     "language": "python",
     "metadata": {},
     "outputs": [],
     "prompt_number": 38
    },
    {
     "cell_type": "markdown",
     "metadata": {},
     "source": [
      "## Loading up to 2.5 million twitter posts into our database"
     ]
    },
    {
     "cell_type": "code",
     "collapsed": false,
     "input": [
      "def exception_proof_csv_reader(csv_reader):\n",
      "    '''Wraps a try-except clause around the csv reader to\n",
      "    prevent throwing of exceptions which will stop reading.'''\n",
      "    while True: \n",
      "      try: \n",
      "          yield next(csv_reader) \n",
      "      except csv.Error: \n",
      "          pass\n",
      "      continue "
     ],
     "language": "python",
     "metadata": {},
     "outputs": [],
     "prompt_number": 8
    },
    {
     "cell_type": "code",
     "collapsed": false,
     "input": [
      "cur.execute(\"END;\")\n",
      "cur.execute(\"ABORT;\")\n",
      "\n",
      "import re\n",
      "import warnings\n",
      "warnings.filterwarnings(\"ignore\")\n",
      "\n",
      "twitterReadPath = \"C:/git/SemanticTextDB/example_code/twitter.csv\"\n",
      "base_time = time.time()\n",
      "\n",
      "NUM_INTERTIMES = 10\n",
      "NUM_TRIALS = 5\n",
      "NUM_TWEETS = 5001\n",
      "\n",
      "twitter_trials = []\n",
      "for i in range(NUM_TRIALS):\n",
      "    \n",
      "    clearDB(cur)\n",
      "    \n",
      "    # Delete the document table (iff you want to replace table with same name):\n",
      "    if 'twitter' in my_stdb.document_tables.keys(): #check that the table exists before deleting it\n",
      "        my_stdb.dropDocTable(\"twitter\")\n",
      "\n",
      "    # Creates a document table (and associated machine-generated tables):\n",
      "    my_stdb.createDocTable(\"twitter\", ['twitterId text', 'location text', 'username text'],\n",
      "                       summary = None, topics = None, entities = None, \n",
      "                       sentiment = False, count_words = False, length_count = False, \n",
      "                       vs_representations = None, max_word_length = 200,\n",
      "                       update_increment = 1, new_transaction = True)\n",
      "    \n",
      "    intertimes = []\n",
      "    count = 0\n",
      "    totaltime = 0\n",
      "    with open(twitterReadPath, 'rU') as csvfile:\n",
      "        reader = exception_proof_csv_reader(csv.reader(csvfile, delimiter=','))\n",
      "        for row in reader:\n",
      "            count = count + 1\n",
      "            try:           \n",
      "                twitterID = row.pop(0)\n",
      "                location = row.pop(0)\n",
      "                username = row.pop(-1)\n",
      "                tweet = ', '.join(row)\n",
      "            except:\n",
      "                #print \"Error occurred at item\", count, \"skipping insertion.\"\n",
      "                count = count - 1\n",
      "                continue\n",
      "            \n",
      "            start_time = time.time()\n",
      "            \n",
      "            tweet = re.sub(r'-', ' ', tweet)\n",
      "            tweet = re.sub(r'[^a-z ]', '', tweet)\n",
      "            tweet = re.sub(r' +', ' ', tweet)\n",
      "\n",
      "            start_time = time.time()\n",
      "            my_stdb.insertDoc(tweet, \"twitter\", [twitterID, location, username])\n",
      "            \n",
      "            totaltime = totaltime + (time.time() - start_time)\n",
      "            \n",
      "            if count % (NUM_TWEETS / NUM_INTERTIMES) == 0:\n",
      "                intertimes.append(totaltime)                    \n",
      "                print count\n",
      "            if count >= NUM_TWEETS:\n",
      "                break\n",
      "    time_elapsed = time.time() - base_time\n",
      "    print 'Trial Completed:', i\n",
      "    print \"Estimated Minutes Left:\", (time_elapsed * NUM_TRIALS / (i + 1.0) - time_elapsed) / 60.0\n",
      "    print \"Time Elapsed:\", time_elapsed     \n",
      "    twitter_trials.append(intertimes)"
     ],
     "language": "python",
     "metadata": {},
     "outputs": [
      {
       "output_type": "stream",
       "stream": "stdout",
       "text": [
        "deleted document table: twitter\n",
        "created document table: twitter"
       ]
      },
      {
       "output_type": "stream",
       "stream": "stdout",
       "text": [
        "\n",
        "500"
       ]
      },
      {
       "output_type": "stream",
       "stream": "stdout",
       "text": [
        "\n",
        "1000"
       ]
      },
      {
       "output_type": "stream",
       "stream": "stdout",
       "text": [
        "\n",
        "1500"
       ]
      },
      {
       "output_type": "stream",
       "stream": "stdout",
       "text": [
        "\n",
        "2000"
       ]
      },
      {
       "output_type": "stream",
       "stream": "stdout",
       "text": [
        "\n",
        "2500"
       ]
      },
      {
       "output_type": "stream",
       "stream": "stdout",
       "text": [
        "\n",
        "3000"
       ]
      },
      {
       "output_type": "stream",
       "stream": "stdout",
       "text": [
        "\n",
        "3500"
       ]
      },
      {
       "output_type": "stream",
       "stream": "stdout",
       "text": [
        "\n",
        "4000"
       ]
      },
      {
       "output_type": "stream",
       "stream": "stdout",
       "text": [
        "\n",
        "4500"
       ]
      },
      {
       "output_type": "stream",
       "stream": "stdout",
       "text": [
        "\n",
        "5000"
       ]
      },
      {
       "output_type": "stream",
       "stream": "stdout",
       "text": [
        "\n",
        "Trial Completed: 0\n",
        "Estimated Minutes Left: 5.56939999262\n",
        "Time Elapsed: 83.5409998894\n",
        "deleted document table: twitter"
       ]
      },
      {
       "output_type": "stream",
       "stream": "stdout",
       "text": [
        "\n",
        "created document table: twitter\n",
        "500"
       ]
      },
      {
       "output_type": "stream",
       "stream": "stdout",
       "text": [
        "\n",
        "1000"
       ]
      },
      {
       "output_type": "stream",
       "stream": "stdout",
       "text": [
        "\n",
        "1500"
       ]
      },
      {
       "output_type": "stream",
       "stream": "stdout",
       "text": [
        "\n",
        "2000"
       ]
      },
      {
       "output_type": "stream",
       "stream": "stdout",
       "text": [
        "\n",
        "2500"
       ]
      },
      {
       "output_type": "stream",
       "stream": "stdout",
       "text": [
        "\n",
        "3000"
       ]
      },
      {
       "output_type": "stream",
       "stream": "stdout",
       "text": [
        "\n",
        "3500"
       ]
      },
      {
       "output_type": "stream",
       "stream": "stdout",
       "text": [
        "\n",
        "4000"
       ]
      },
      {
       "output_type": "stream",
       "stream": "stdout",
       "text": [
        "\n",
        "4500"
       ]
      },
      {
       "output_type": "stream",
       "stream": "stdout",
       "text": [
        "\n",
        "5000"
       ]
      },
      {
       "output_type": "stream",
       "stream": "stdout",
       "text": [
        "\n",
        "Trial Completed: 1\n",
        "Estimated Minutes Left: 4.15090000033\n",
        "Time Elapsed: 166.036000013\n",
        "deleted document table: twitter"
       ]
      },
      {
       "output_type": "stream",
       "stream": "stdout",
       "text": [
        "\n",
        "created document table: twitter\n",
        "500"
       ]
      },
      {
       "output_type": "stream",
       "stream": "stdout",
       "text": [
        "\n",
        "1000"
       ]
      },
      {
       "output_type": "stream",
       "stream": "stdout",
       "text": [
        "\n",
        "1500"
       ]
      },
      {
       "output_type": "stream",
       "stream": "stdout",
       "text": [
        "\n",
        "2000"
       ]
      },
      {
       "output_type": "stream",
       "stream": "stdout",
       "text": [
        "\n",
        "2500"
       ]
      },
      {
       "output_type": "stream",
       "stream": "stdout",
       "text": [
        "\n",
        "3000"
       ]
      },
      {
       "output_type": "stream",
       "stream": "stdout",
       "text": [
        "\n",
        "3500"
       ]
      },
      {
       "output_type": "stream",
       "stream": "stdout",
       "text": [
        "\n",
        "4000"
       ]
      },
      {
       "output_type": "stream",
       "stream": "stdout",
       "text": [
        "\n",
        "4500"
       ]
      },
      {
       "output_type": "stream",
       "stream": "stdout",
       "text": [
        "\n",
        "5000"
       ]
      },
      {
       "output_type": "stream",
       "stream": "stdout",
       "text": [
        "\n",
        "Trial Completed: 2\n",
        "Estimated Minutes Left: 2.75863333278\n",
        "Time Elapsed: 248.27699995\n",
        "deleted document table: twitter"
       ]
      },
      {
       "output_type": "stream",
       "stream": "stdout",
       "text": [
        "\n",
        "created document table: twitter\n",
        "500"
       ]
      },
      {
       "output_type": "stream",
       "stream": "stdout",
       "text": [
        "\n",
        "1000"
       ]
      },
      {
       "output_type": "stream",
       "stream": "stdout",
       "text": [
        "\n",
        "1500"
       ]
      },
      {
       "output_type": "stream",
       "stream": "stdout",
       "text": [
        "\n",
        "2000"
       ]
      },
      {
       "output_type": "stream",
       "stream": "stdout",
       "text": [
        "\n",
        "2500"
       ]
      },
      {
       "output_type": "stream",
       "stream": "stdout",
       "text": [
        "\n",
        "3000"
       ]
      },
      {
       "output_type": "stream",
       "stream": "stdout",
       "text": [
        "\n",
        "3500"
       ]
      },
      {
       "output_type": "stream",
       "stream": "stdout",
       "text": [
        "\n",
        "4000"
       ]
      },
      {
       "output_type": "stream",
       "stream": "stdout",
       "text": [
        "\n",
        "4500"
       ]
      },
      {
       "output_type": "stream",
       "stream": "stdout",
       "text": [
        "\n",
        "5000"
       ]
      },
      {
       "output_type": "stream",
       "stream": "stdout",
       "text": [
        "\n",
        "Trial Completed: 3\n",
        "Estimated Minutes Left: 1.3799333324\n",
        "Time Elapsed: 331.183999777\n",
        "deleted document table: twitter"
       ]
      },
      {
       "output_type": "stream",
       "stream": "stdout",
       "text": [
        "\n",
        "created document table: twitter\n",
        "500"
       ]
      },
      {
       "output_type": "stream",
       "stream": "stdout",
       "text": [
        "\n",
        "1000"
       ]
      },
      {
       "output_type": "stream",
       "stream": "stdout",
       "text": [
        "\n",
        "1500"
       ]
      },
      {
       "output_type": "stream",
       "stream": "stdout",
       "text": [
        "\n",
        "2000"
       ]
      },
      {
       "output_type": "stream",
       "stream": "stdout",
       "text": [
        "\n",
        "2500"
       ]
      },
      {
       "output_type": "stream",
       "stream": "stdout",
       "text": [
        "\n",
        "3000"
       ]
      },
      {
       "output_type": "stream",
       "stream": "stdout",
       "text": [
        "\n",
        "3500"
       ]
      },
      {
       "output_type": "stream",
       "stream": "stdout",
       "text": [
        "\n",
        "4000"
       ]
      },
      {
       "output_type": "stream",
       "stream": "stdout",
       "text": [
        "\n",
        "4500"
       ]
      },
      {
       "output_type": "stream",
       "stream": "stdout",
       "text": [
        "\n",
        "5000"
       ]
      },
      {
       "output_type": "stream",
       "stream": "stdout",
       "text": [
        "\n",
        "Trial Completed: 4\n",
        "Estimated Minutes Left: 0.0\n",
        "Time Elapsed: 415.708999872\n"
       ]
      }
     ],
     "prompt_number": 13
    },
    {
     "cell_type": "code",
     "collapsed": false,
     "input": [
      "twitter_trials"
     ],
     "language": "python",
     "metadata": {},
     "outputs": [
      {
       "metadata": {},
       "output_type": "pyout",
       "prompt_number": 11,
       "text": [
        "[[105.03800058364868,\n",
        "  208.27800059318542,\n",
        "  311.39200139045715,\n",
        "  413.1760025024414,\n",
        "  516.1210010051727,\n",
        "  617.5910005569458,\n",
        "  720.2330002784729,\n",
        "  821.3360016345978,\n",
        "  927.8870005607605,\n",
        "  1029.4950003623962],\n",
        " [104.93799948692322,\n",
        "  207.7459990978241,\n",
        "  312.40599822998047,\n",
        "  413.40999817848206,\n",
        "  516.3379983901978,\n",
        "  618.4659979343414,\n",
        "  720.6399984359741,\n",
        "  820.9619989395142,\n",
        "  924.0699987411499,\n",
        "  1026.5330007076263]]"
       ]
      }
     ],
     "prompt_number": 11
    },
    {
     "cell_type": "code",
     "collapsed": false,
     "input": [
      "import csv\n",
      "\n",
      "with open(\"C:\\\\git\\\\SemanticTextDB\\\\example_code\\\\benchmark_results\\\\twitter_5k_insert_only_NEW_TRANSACTION_TRUE.csv\", \"wb\") as f:\n",
      "    writer = csv.writer(f)\n",
      "    writer.writerows(twitter_trials)"
     ],
     "language": "python",
     "metadata": {},
     "outputs": [],
     "prompt_number": 14
    },
    {
     "cell_type": "markdown",
     "metadata": {},
     "source": [
      "##Benchmarking fetches"
     ]
    },
    {
     "cell_type": "code",
     "collapsed": false,
     "input": [
      "import NLPfunctions as nlpf\n",
      "\n",
      "NUM_INTERTIMES = 10\n",
      "NUM_TRIALS = 10\n",
      "NUM_ITEMS = 50001\n",
      "\n",
      "trials = []\n",
      "results = []\n",
      "for trial in range(NUM_TRIALS):\n",
      "    intertimes = []\n",
      "    for level in range(NUM_ITEMS / NUM_INTERTIMES, NUM_ITEMS, NUM_ITEMS / NUM_INTERTIMES):\n",
      "        start_time = time.time()\n",
      "        cur.execute(\"SELECT content FROM twitter_text LIMIT \" + str(level))\n",
      "        results = cur.fetchall()       \n",
      "        intertimes.append(time.time() - start_time)\n",
      "        print trial, level\n",
      "    trials.append(intertimes)"
     ],
     "language": "python",
     "metadata": {},
     "outputs": [],
     "prompt_number": 32
    },
    {
     "cell_type": "code",
     "collapsed": false,
     "input": [
      "import csv\n",
      "\n",
      "with open(\"C:\\\\git\\\\SemanticTextDB\\\\example_code\\\\benchmark_results\\\\twitter_50k_read_only.csv\", \"wb\") as f:\n",
      "    writer = csv.writer(f)\n",
      "    writer.writerows(trials)"
     ],
     "language": "python",
     "metadata": {},
     "outputs": [],
     "prompt_number": 30
    },
    {
     "cell_type": "code",
     "collapsed": false,
     "input": [
      "import pickle\n",
      "pickle.dump(results, open(\"C:\\\\git\\\\SemanticTextDB\\\\example_code\\\\benchmark_results\\\\twitter_50k.p\", \"wb\"))"
     ],
     "language": "python",
     "metadata": {},
     "outputs": [],
     "prompt_number": 31
    },
    {
     "cell_type": "code",
     "collapsed": false,
     "input": [
      "import NLPfunctions as nlpf\n",
      "import pandas as pd\n",
      "import summarizer as s\n",
      "import runOnDocuments as lda\n",
      "\n",
      "data = pd.read_pickle(\"C:\\\\git\\\\SemanticTextDB\\\\example_code\\\\benchmark_results\\\\laws_10k.p\")\n",
      "\n",
      "NUM_INTERTIMES = 10\n",
      "NUM_TRIALS = 10\n",
      "NUM_ITEMS = 1001\n",
      "\n",
      "lda_trials = []\n",
      "summary_trials = []\n",
      "sentiment_trials = []\n",
      "\n",
      "base_time = time.time()\n",
      "\n",
      "for trial in range(NUM_TRIALS):\n",
      "    lda_intertimes = []\n",
      "    summary_intertimes = []\n",
      "    sentiment_intertimes = []\n",
      "    for level in range(NUM_ITEMS / NUM_INTERTIMES, NUM_ITEMS, NUM_ITEMS / NUM_INTERTIMES):\n",
      "        \n",
      "        data_this_level = data[:level]\n",
      "        data_this_level = [item[0] for item in data_this_level]#Remove tuple wrapping strings\n",
      "        \n",
      "        start_time = time.time()        \n",
      "        ldaResults = []        \n",
      "        ldaResults.append(lda.runLDA(data_this_level))\n",
      "        lda_intertimes.append(time.time() - start_time)\n",
      "        \n",
      "        summaryResults = []\n",
      "        sentimentResults = []        \n",
      "        \n",
      "        sentiment_total_time = 0\n",
      "        summary_total_time = 0\n",
      "        \n",
      "        for item in data_this_level:            \n",
      "            start_time = time.time()\n",
      "            sentimentResults.append(nlpf.sentimentAnalysis(item))\n",
      "            sentiment_total_time = sentiment_total_time + (time.time() - start_time)\n",
      "            \n",
      "            start_time = time.time()\n",
      "            summaryResults.append(s.summarize(item))\n",
      "            summary_total_time = summary_total_time + (time.time() - start_time)\n",
      "        \n",
      "        summary_intertimes = [summary_total_time]\n",
      "        sentiment_intertimes = [sentiment_total_time] \n",
      "        \n",
      "        print trial, level\n",
      "        \n",
      "    lda_trials.append(lda_intertimes)\n",
      "    summary_trials.append(summary_intertimes)\n",
      "    sentiment_trials.append(sentiment_intertimes)\n",
      "    time_elapsed = time.time() - base_time\n",
      "    print 'Trial Completed:', trial + 1\n",
      "    print \"Estimated Minutes Left:\", (time_elapsed * NUM_TRIALS / (trial + 1.0) - time_elapsed) / 60.0\n",
      "    print \"Time Elapsed:\", time_elapsed"
     ],
     "language": "python",
     "metadata": {},
     "outputs": [
      {
       "output_type": "stream",
       "stream": "stdout",
       "text": [
        "topic 1:\n",
        "             capitol  \t---\t  0.0135\n",
        "               title  \t---\t  0.0135\n",
        "              police  \t---\t  0.0131\n",
        "                   l  \t---\t  0.0122\n",
        "               shall  \t---\t  0.0120\n",
        "                stat  \t---\t  0.0116\n",
        "                 pub  \t---\t  0.0099\n",
        "             section  \t---\t  0.0086\n",
        "            congress  \t---\t  0.0074\n",
        "                 act  \t---\t  0.0066\n",
        "\n",
        "topic 2:"
       ]
      },
      {
       "output_type": "stream",
       "stream": "stdout",
       "text": [
        "\n",
        "          enrollment  \t---\t  0.0130\n",
        "               shall  \t---\t  0.0100\n",
        "             printed  \t---\t  0.0075\n",
        "          resolution  \t---\t  0.0062\n",
        "                bill  \t---\t  0.0055\n",
        "               joint  \t---\t  0.0055\n",
        "              states  \t---\t  0.0054\n",
        "               title  \t---\t  0.0052\n",
        "                stat  \t---\t  0.0049\n",
        "           recording  \t---\t  0.0048\n",
        "\n",
        "topic 3:"
       ]
      },
      {
       "output_type": "stream",
       "stream": "stdout",
       "text": [
        "\n",
        "                   l  \t---\t  0.0252\n",
        "               title  \t---\t  0.0217\n",
        "                 pub  \t---\t  0.0204\n",
        "                stat  \t---\t  0.0168\n",
        "             section  \t---\t  0.0143\n",
        "               shall  \t---\t  0.0089\n",
        "             acreage  \t---\t  0.0083\n",
        "                 act  \t---\t  0.0081\n",
        "                   b  \t---\t  0.0067\n",
        "              states  \t---\t  0.0054\n",
        "\n",
        "topic 4:"
       ]
      },
      {
       "output_type": "stream",
       "stream": "stdout",
       "text": [
        "\n",
        "                stat  \t---\t  0.0187\n",
        "                   l  \t---\t  0.0168\n",
        "               title  \t---\t  0.0149\n",
        "                 pub  \t---\t  0.0134\n",
        "             section  \t---\t  0.0120\n",
        "                 act  \t---\t  0.0098\n",
        "               shall  \t---\t  0.0086\n",
        "                   b  \t---\t  0.0067\n",
        "             capitol  \t---\t  0.0061\n",
        "                  ch  \t---\t  0.0060\n",
        "\n",
        "topic 5:"
       ]
      },
      {
       "output_type": "stream",
       "stream": "stdout",
       "text": [
        "\n",
        "                   l  \t---\t  0.0121\n",
        "                 pub  \t---\t  0.0074\n",
        "             section  \t---\t  0.0070\n",
        "               shall  \t---\t  0.0057\n",
        "               title  \t---\t  0.0052\n",
        "                stat  \t---\t  0.0048\n",
        "             acreage  \t---\t  0.0046\n",
        "                 act  \t---\t  0.0045\n",
        "                   b  \t---\t  0.0040\n",
        "              states  \t---\t  0.0038\n",
        "\n",
        "topic 6:"
       ]
      },
      {
       "output_type": "stream",
       "stream": "stdout",
       "text": [
        "\n",
        "             capitol  \t---\t  0.0200\n",
        "           architect  \t---\t  0.0194\n",
        "               title  \t---\t  0.0183\n",
        "                stat  \t---\t  0.0161\n",
        "               shall  \t---\t  0.0139\n",
        "                   l  \t---\t  0.0126\n",
        "                 act  \t---\t  0.0109\n",
        "                 pub  \t---\t  0.0105\n",
        "             section  \t---\t  0.0105\n",
        "              office  \t---\t  0.0080\n",
        "\n",
        "topic 7:"
       ]
      },
      {
       "output_type": "stream",
       "stream": "stdout",
       "text": [
        "\n",
        "               shall  \t---\t  0.0231\n",
        "             section  \t---\t  0.0187\n",
        "                stat  \t---\t  0.0172\n",
        "                   l  \t---\t  0.0170\n",
        "               title  \t---\t  0.0160\n",
        "                 pub  \t---\t  0.0127\n",
        "              united  \t---\t  0.0115\n",
        "              states  \t---\t  0.0110\n",
        "              police  \t---\t  0.0094\n",
        "                 act  \t---\t  0.0085\n",
        "\n",
        "topic 8:"
       ]
      },
      {
       "output_type": "stream",
       "stream": "stdout",
       "text": [
        "\n",
        "               shall  \t---\t  0.0122\n",
        "           recording  \t---\t  0.0101\n",
        "                stat  \t---\t  0.0094\n",
        "               sound  \t---\t  0.0080\n",
        "           librarian  \t---\t  0.0064\n",
        "                   l  \t---\t  0.0063\n",
        "                  ch  \t---\t  0.0056\n",
        "            national  \t---\t  0.0053\n",
        "                 act  \t---\t  0.0053\n",
        "               title  \t---\t  0.0046\n",
        "\n",
        "topic 9:"
       ]
      },
      {
       "output_type": "stream",
       "stream": "stdout",
       "text": [
        "\n",
        "                stat  \t---\t  0.0124\n",
        "           recording  \t---\t  0.0081\n",
        "                  ch  \t---\t  0.0074\n",
        "               sound  \t---\t  0.0071\n",
        "                   l  \t---\t  0.0058\n",
        "               title  \t---\t  0.0057\n",
        "               shall  \t---\t  0.0056\n",
        "                 act  \t---\t  0.0042\n",
        "                term  \t---\t  0.0041\n",
        "                june  \t---\t  0.0037\n",
        "\n",
        "topic 10:"
       ]
      },
      {
       "output_type": "stream",
       "stream": "stdout",
       "text": [
        "\n",
        "               shall  \t---\t  0.0134\n",
        "                   l  \t---\t  0.0094\n",
        "             section  \t---\t  0.0077\n",
        "               title  \t---\t  0.0076\n",
        "                stat  \t---\t  0.0068\n",
        "                 pub  \t---\t  0.0068\n",
        "             capitol  \t---\t  0.0067\n",
        "                 act  \t---\t  0.0064\n",
        "           architect  \t---\t  0.0052\n",
        "      appropriations  \t---\t  0.0044\n",
        "\n",
        "topic 11:"
       ]
      },
      {
       "output_type": "stream",
       "stream": "stdout",
       "text": [
        "\n",
        "                stat  \t---\t  0.0185\n",
        "                   l  \t---\t  0.0176\n",
        "               shall  \t---\t  0.0166\n",
        "               title  \t---\t  0.0130\n",
        "                 pub  \t---\t  0.0129\n",
        "             section  \t---\t  0.0092\n",
        "                  ch  \t---\t  0.0088\n",
        "                year  \t---\t  0.0084\n",
        "                 act  \t---\t  0.0077\n",
        "                   b  \t---\t  0.0064\n",
        "\n",
        "topic 12:"
       ]
      },
      {
       "output_type": "stream",
       "stream": "stdout",
       "text": [
        "\n",
        "          enrollment  \t---\t  0.0181\n",
        "               shall  \t---\t  0.0156\n",
        "                 act  \t---\t  0.0143\n",
        "                   l  \t---\t  0.0121\n",
        "                 pub  \t---\t  0.0099\n",
        "              united  \t---\t  0.0096\n",
        "              states  \t---\t  0.0094\n",
        "             printed  \t---\t  0.0092\n",
        "            provided  \t---\t  0.0091\n",
        "          resolution  \t---\t  0.0088\n",
        "\n",
        "0"
       ]
      },
      {
       "output_type": "stream",
       "stream": "stdout",
       "text": [
        " 100\n",
        "topic 1:"
       ]
      },
      {
       "output_type": "stream",
       "stream": "stdout",
       "text": [
        "\n",
        "             acreage  \t---\t  0.0070\n",
        "               shall  \t---\t  0.0059\n",
        "                   l  \t---\t  0.0035\n",
        "                 pub  \t---\t  0.0034\n",
        "             planted  \t---\t  0.0032\n",
        "                farm  \t---\t  0.0028\n",
        "             provide  \t---\t  0.0025\n",
        "           commodity  \t---\t  0.0024\n",
        "              cotton  \t---\t  0.0023\n",
        "                stat  \t---\t  0.0023\n",
        "\n",
        "topic 2:"
       ]
      },
      {
       "output_type": "stream",
       "stream": "stdout",
       "text": [
        "\n",
        "               shall  \t---\t  0.0124\n",
        "          enrollment  \t---\t  0.0076\n",
        "                   l  \t---\t  0.0076\n",
        "             section  \t---\t  0.0075\n",
        "               title  \t---\t  0.0075\n",
        "                stat  \t---\t  0.0065\n",
        "                crop  \t---\t  0.0056\n",
        "              united  \t---\t  0.0052\n",
        "           secretary  \t---\t  0.0051\n",
        "              states  \t---\t  0.0051\n",
        "\n",
        "topic 3:"
       ]
      },
      {
       "output_type": "stream",
       "stream": "stdout",
       "text": [
        "\n",
        "               shall  \t---\t  0.0130\n",
        "               title  \t---\t  0.0106\n",
        "              states  \t---\t  0.0086\n",
        "              united  \t---\t  0.0076\n",
        "             section  \t---\t  0.0063\n",
        "          enrollment  \t---\t  0.0059\n",
        "                 pub  \t---\t  0.0055\n",
        "                   l  \t---\t  0.0055\n",
        "                code  \t---\t  0.0052\n",
        "                 act  \t---\t  0.0052\n",
        "\n",
        "topic 4:"
       ]
      },
      {
       "output_type": "stream",
       "stream": "stdout",
       "text": [
        "\n",
        "                   l  \t---\t  0.0141\n",
        "               title  \t---\t  0.0135\n",
        "               shall  \t---\t  0.0127\n",
        "                stat  \t---\t  0.0111\n",
        "             section  \t---\t  0.0098\n",
        "             capitol  \t---\t  0.0084\n",
        "               house  \t---\t  0.0075\n",
        "                 act  \t---\t  0.0070\n",
        "                 pub  \t---\t  0.0070\n",
        "            congress  \t---\t  0.0055\n",
        "\n",
        "topic 5:"
       ]
      },
      {
       "output_type": "stream",
       "stream": "stdout",
       "text": [
        "\n",
        "              states  \t---\t  0.0204\n",
        "              united  \t---\t  0.0199\n",
        "             section  \t---\t  0.0177\n",
        "                   l  \t---\t  0.0171\n",
        "                 pub  \t---\t  0.0136\n",
        "               shall  \t---\t  0.0126\n",
        "               title  \t---\t  0.0115\n",
        "                stat  \t---\t  0.0113\n",
        "               house  \t---\t  0.0085\n",
        "                   b  \t---\t  0.0072\n",
        "\n",
        "topic 6:"
       ]
      },
      {
       "output_type": "stream",
       "stream": "stdout",
       "text": [
        "\n",
        "               shall  \t---\t  0.0101\n",
        "             acreage  \t---\t  0.0088\n",
        "                   l  \t---\t  0.0086\n",
        "                 pub  \t---\t  0.0080\n",
        "               title  \t---\t  0.0059\n",
        "             capitol  \t---\t  0.0059\n",
        "                stat  \t---\t  0.0053\n",
        "                farm  \t---\t  0.0051\n",
        "           architect  \t---\t  0.0047\n",
        "             section  \t---\t  0.0043\n",
        "\n",
        "topic 7:"
       ]
      },
      {
       "output_type": "stream",
       "stream": "stdout",
       "text": [
        "\n",
        "             capitol  \t---\t  0.0275\n",
        "                   l  \t---\t  0.0247\n",
        "             section  \t---\t  0.0236\n",
        "               title  \t---\t  0.0232\n",
        "                stat  \t---\t  0.0232\n",
        "               shall  \t---\t  0.0196\n",
        "                 pub  \t---\t  0.0184\n",
        "              police  \t---\t  0.0174\n",
        "               house  \t---\t  0.0111\n",
        "           architect  \t---\t  0.0097\n",
        "\n",
        "topic 8:"
       ]
      },
      {
       "output_type": "stream",
       "stream": "stdout",
       "text": [
        "\n",
        "                stat  \t---\t  0.0306\n",
        "                   l  \t---\t  0.0255\n",
        "               title  \t---\t  0.0250\n",
        "                 pub  \t---\t  0.0197\n",
        "             section  \t---\t  0.0153\n",
        "                  ch  \t---\t  0.0152\n",
        "               shall  \t---\t  0.0140\n",
        "             capitol  \t---\t  0.0127\n",
        "                 act  \t---\t  0.0093\n",
        "           architect  \t---\t  0.0085\n",
        "\n",
        "topic 9:"
       ]
      },
      {
       "output_type": "stream",
       "stream": "stdout",
       "text": [
        "\n",
        "               shall  \t---\t  0.0131\n",
        "             section  \t---\t  0.0118\n",
        "                   l  \t---\t  0.0113\n",
        "               title  \t---\t  0.0094\n",
        "                 pub  \t---\t  0.0094\n",
        "                stat  \t---\t  0.0076\n",
        "           secretary  \t---\t  0.0062\n",
        "               yield  \t---\t  0.0059\n",
        "                 act  \t---\t  0.0059\n",
        "                year  \t---\t  0.0059\n",
        "\n",
        "topic 10:"
       ]
      },
      {
       "output_type": "stream",
       "stream": "stdout",
       "text": [
        "\n",
        "               shall  \t---\t  0.0163\n",
        "                year  \t---\t  0.0121\n",
        "               title  \t---\t  0.0104\n",
        "               yield  \t---\t  0.0098\n",
        "                case  \t---\t  0.0095\n",
        "           recording  \t---\t  0.0094\n",
        "                 act  \t---\t  0.0086\n",
        "                   l  \t---\t  0.0081\n",
        "                stat  \t---\t  0.0072\n",
        "               sound  \t---\t  0.0071\n",
        "\n",
        "topic 11:"
       ]
      },
      {
       "output_type": "stream",
       "stream": "stdout",
       "text": [
        "\n",
        "                   l  \t---\t  0.0200\n",
        "                 act  \t---\t  0.0199\n",
        "               title  \t---\t  0.0186\n",
        "             section  \t---\t  0.0174\n",
        "                stat  \t---\t  0.0168\n",
        "                 pub  \t---\t  0.0153\n",
        "               shall  \t---\t  0.0145\n",
        "            provided  \t---\t  0.0114\n",
        "             capitol  \t---\t  0.0099\n",
        "           architect  \t---\t  0.0089\n",
        "\n",
        "topic 12:"
       ]
      },
      {
       "output_type": "stream",
       "stream": "stdout",
       "text": [
        "\n",
        "             section  \t---\t  0.0099\n",
        "                stat  \t---\t  0.0080\n",
        "               shall  \t---\t  0.0071\n",
        "               title  \t---\t  0.0061\n",
        "                 act  \t---\t  0.0060\n",
        "                 may  \t---\t  0.0053\n",
        "           recording  \t---\t  0.0053\n",
        "                   l  \t---\t  0.0052\n",
        "             capitol  \t---\t  0.0049\n",
        "                  ch  \t---\t  0.0047\n",
        "\n",
        "0"
       ]
      },
      {
       "output_type": "stream",
       "stream": "stdout",
       "text": [
        " 200\n",
        "topic 1:"
       ]
      },
      {
       "output_type": "stream",
       "stream": "stdout",
       "text": [
        "\n",
        "             capitol  \t---\t  0.0239\n",
        "               shall  \t---\t  0.0229\n",
        "             section  \t---\t  0.0196\n",
        "              police  \t---\t  0.0193\n",
        "                   l  \t---\t  0.0130\n",
        "               title  \t---\t  0.0129\n",
        "            employee  \t---\t  0.0109\n",
        "               house  \t---\t  0.0102\n",
        "              united  \t---\t  0.0100\n",
        "                stat  \t---\t  0.0097\n",
        "\n",
        "topic 2:"
       ]
      },
      {
       "output_type": "stream",
       "stream": "stdout",
       "text": [
        "\n",
        "               shall  \t---\t  0.0152\n",
        "             section  \t---\t  0.0149\n",
        "               title  \t---\t  0.0141\n",
        "                stat  \t---\t  0.0128\n",
        "                 pub  \t---\t  0.0118\n",
        "              states  \t---\t  0.0107\n",
        "                   l  \t---\t  0.0099\n",
        "              united  \t---\t  0.0091\n",
        "          enrollment  \t---\t  0.0073\n",
        "                 act  \t---\t  0.0073\n",
        "\n",
        "topic 3:"
       ]
      },
      {
       "output_type": "stream",
       "stream": "stdout",
       "text": [
        "\n",
        "               title  \t---\t  0.0311\n",
        "                   l  \t---\t  0.0303\n",
        "                stat  \t---\t  0.0268\n",
        "             section  \t---\t  0.0242\n",
        "                 pub  \t---\t  0.0222\n",
        "               shall  \t---\t  0.0190\n",
        "             capitol  \t---\t  0.0189\n",
        "           architect  \t---\t  0.0147\n",
        "               house  \t---\t  0.0117\n",
        "              senate  \t---\t  0.0114\n",
        "\n",
        "topic 4:"
       ]
      },
      {
       "output_type": "stream",
       "stream": "stdout",
       "text": [
        "\n",
        "                 art  \t---\t  0.0231\n",
        "            election  \t---\t  0.0144\n",
        "               shall  \t---\t  0.0074\n",
        "                 day  \t---\t  0.0069\n",
        "          contractor  \t---\t  0.0054\n",
        "               state  \t---\t  0.0040\n",
        "             statute  \t---\t  0.0037\n",
        "           liability  \t---\t  0.0032\n",
        "               terms  \t---\t  0.0032\n",
        "             penalty  \t---\t  0.0032\n",
        "\n",
        "topic 5:"
       ]
      },
      {
       "output_type": "stream",
       "stream": "stdout",
       "text": [
        "\n",
        "               shall  \t---\t  0.0137\n",
        "                stat  \t---\t  0.0078\n",
        "                 act  \t---\t  0.0077\n",
        "                year  \t---\t  0.0075\n",
        "                   l  \t---\t  0.0067\n",
        "               yield  \t---\t  0.0051\n",
        "             section  \t---\t  0.0050\n",
        "                case  \t---\t  0.0048\n",
        "                 pub  \t---\t  0.0047\n",
        "               title  \t---\t  0.0045\n",
        "\n",
        "topic 6:"
       ]
      },
      {
       "output_type": "stream",
       "stream": "stdout",
       "text": [
        "\n",
        "               title  \t---\t  0.0146\n",
        "               shall  \t---\t  0.0128\n",
        "              states  \t---\t  0.0124\n",
        "                   l  \t---\t  0.0103\n",
        "              united  \t---\t  0.0102\n",
        "                stat  \t---\t  0.0102\n",
        "               house  \t---\t  0.0101\n",
        "             section  \t---\t  0.0101\n",
        "             capitol  \t---\t  0.0085\n",
        "          enrollment  \t---\t  0.0077\n",
        "\n",
        "topic 7:"
       ]
      },
      {
       "output_type": "stream",
       "stream": "stdout",
       "text": [
        "\n",
        "                 act  \t---\t  0.0137\n",
        "               shall  \t---\t  0.0100\n",
        "               title  \t---\t  0.0087\n",
        "                   l  \t---\t  0.0075\n",
        "                 pub  \t---\t  0.0071\n",
        "                stat  \t---\t  0.0066\n",
        "                case  \t---\t  0.0064\n",
        "             section  \t---\t  0.0061\n",
        "               yield  \t---\t  0.0061\n",
        "                year  \t---\t  0.0057\n",
        "\n",
        "topic 8:"
       ]
      },
      {
       "output_type": "stream",
       "stream": "stdout",
       "text": [
        "\n",
        "               title  \t---\t  0.0145\n",
        "               shall  \t---\t  0.0142\n",
        "                stat  \t---\t  0.0124\n",
        "                   l  \t---\t  0.0121\n",
        "             section  \t---\t  0.0108\n",
        "                 pub  \t---\t  0.0107\n",
        "              united  \t---\t  0.0102\n",
        "              states  \t---\t  0.0101\n",
        "              police  \t---\t  0.0078\n",
        "                code  \t---\t  0.0074\n",
        "\n",
        "topic 9:"
       ]
      },
      {
       "output_type": "stream",
       "stream": "stdout",
       "text": [
        "\n",
        "                   l  \t---\t  0.0056\n",
        "             section  \t---\t  0.0052\n",
        "                stat  \t---\t  0.0046\n",
        "              senate  \t---\t  0.0045\n",
        "                 pub  \t---\t  0.0044\n",
        "              carbon  \t---\t  0.0043\n",
        "               shall  \t---\t  0.0041\n",
        "                year  \t---\t  0.0040\n",
        "             dioxide  \t---\t  0.0032\n",
        "                 act  \t---\t  0.0032\n",
        "\n",
        "topic 10:"
       ]
      },
      {
       "output_type": "stream",
       "stream": "stdout",
       "text": [
        "\n",
        "               title  \t---\t  0.0143\n",
        "             section  \t---\t  0.0142\n",
        "         editorially  \t---\t  0.0129\n",
        "        reclassified  \t---\t  0.0129\n",
        "transferredcodificationsection  \t---\t  0.0129\n",
        "                 pub  \t---\t  0.0047\n",
        "           committed  \t---\t  0.0040\n",
        "                   l  \t---\t  0.0036\n",
        "                   b  \t---\t  0.0034\n",
        "               shall  \t---\t  0.0030\n",
        "\n",
        "topic 11:"
       ]
      },
      {
       "output_type": "stream",
       "stream": "stdout",
       "text": [
        "\n",
        "                year  \t---\t  0.0128\n",
        "                   l  \t---\t  0.0092\n",
        "               shall  \t---\t  0.0082\n",
        "              fiscal  \t---\t  0.0075\n",
        "                 pub  \t---\t  0.0062\n",
        "                sale  \t---\t  0.0052\n",
        "               yield  \t---\t  0.0050\n",
        "               years  \t---\t  0.0049\n",
        "                 act  \t---\t  0.0049\n",
        "                stat  \t---\t  0.0048\n",
        "\n",
        "topic 12:"
       ]
      },
      {
       "output_type": "stream",
       "stream": "stdout",
       "text": [
        "\n",
        "                stat  \t---\t  0.0185\n",
        "                  ch  \t---\t  0.0107\n",
        "                   l  \t---\t  0.0098\n",
        "               shall  \t---\t  0.0094\n",
        "                 act  \t---\t  0.0085\n",
        "             capitol  \t---\t  0.0070\n",
        "               title  \t---\t  0.0065\n",
        "                 pub  \t---\t  0.0063\n",
        "               yield  \t---\t  0.0057\n",
        "                year  \t---\t  0.0055\n",
        "\n",
        "0"
       ]
      },
      {
       "output_type": "stream",
       "stream": "stdout",
       "text": [
        " 300\n",
        "topic 1:"
       ]
      },
      {
       "output_type": "stream",
       "stream": "stdout",
       "text": [
        "\n",
        "                stat  \t---\t  0.0147\n",
        "               shall  \t---\t  0.0130\n",
        "                 act  \t---\t  0.0105\n",
        "                   l  \t---\t  0.0093\n",
        "               title  \t---\t  0.0092\n",
        "             section  \t---\t  0.0082\n",
        "                 pub  \t---\t  0.0071\n",
        "                  ch  \t---\t  0.0060\n",
        "            provided  \t---\t  0.0053\n",
        "          enrollment  \t---\t  0.0046\n",
        "\n",
        "topic 2:"
       ]
      },
      {
       "output_type": "stream",
       "stream": "stdout",
       "text": [
        "\n",
        "               shall  \t---\t  0.0085\n",
        "              united  \t---\t  0.0083\n",
        "          enrollment  \t---\t  0.0083\n",
        "              states  \t---\t  0.0078\n",
        "               title  \t---\t  0.0059\n",
        "                code  \t---\t  0.0056\n",
        "             printed  \t---\t  0.0053\n",
        "                stat  \t---\t  0.0051\n",
        "             section  \t---\t  0.0051\n",
        "                 act  \t---\t  0.0050\n",
        "\n",
        "topic 3:"
       ]
      },
      {
       "output_type": "stream",
       "stream": "stdout",
       "text": [
        "\n",
        "                   l  \t---\t  0.0084\n",
        "              states  \t---\t  0.0070\n",
        "              united  \t---\t  0.0068\n",
        "                 pub  \t---\t  0.0061\n",
        "             section  \t---\t  0.0058\n",
        "               shall  \t---\t  0.0052\n",
        "                stat  \t---\t  0.0050\n",
        "               title  \t---\t  0.0048\n",
        "                 act  \t---\t  0.0036\n",
        "           architect  \t---\t  0.0030\n",
        "\n",
        "topic 4:"
       ]
      },
      {
       "output_type": "stream",
       "stream": "stdout",
       "text": [
        "\n",
        "               shall  \t---\t  0.0163\n",
        "             section  \t---\t  0.0129\n",
        "                   l  \t---\t  0.0120\n",
        "               title  \t---\t  0.0112\n",
        "                 pub  \t---\t  0.0104\n",
        "              united  \t---\t  0.0091\n",
        "              states  \t---\t  0.0078\n",
        "                stat  \t---\t  0.0076\n",
        "                   b  \t---\t  0.0067\n",
        "                 act  \t---\t  0.0066\n",
        "\n",
        "topic 5:"
       ]
      },
      {
       "output_type": "stream",
       "stream": "stdout",
       "text": [
        "\n",
        "               shall  \t---\t  0.0179\n",
        "                year  \t---\t  0.0136\n",
        "                   l  \t---\t  0.0132\n",
        "                 pub  \t---\t  0.0104\n",
        "               yield  \t---\t  0.0100\n",
        "                stat  \t---\t  0.0097\n",
        "             section  \t---\t  0.0092\n",
        "                 act  \t---\t  0.0091\n",
        "               title  \t---\t  0.0087\n",
        "                case  \t---\t  0.0066\n",
        "\n",
        "topic 6:"
       ]
      },
      {
       "output_type": "stream",
       "stream": "stdout",
       "text": [
        "\n",
        "                stat  \t---\t  0.0238\n",
        "                   l  \t---\t  0.0144\n",
        "                 pub  \t---\t  0.0137\n",
        "               title  \t---\t  0.0113\n",
        "                  ch  \t---\t  0.0104\n",
        "               shall  \t---\t  0.0088\n",
        "           permanent  \t---\t  0.0085\n",
        "                 res  \t---\t  0.0084\n",
        "            congress  \t---\t  0.0081\n",
        "             capitol  \t---\t  0.0080\n",
        "\n",
        "topic 7:"
       ]
      },
      {
       "output_type": "stream",
       "stream": "stdout",
       "text": [
        "\n",
        "               shall  \t---\t  0.0254\n",
        "             capitol  \t---\t  0.0250\n",
        "               house  \t---\t  0.0210\n",
        "              senate  \t---\t  0.0182\n",
        "                   l  \t---\t  0.0182\n",
        "             section  \t---\t  0.0172\n",
        "                stat  \t---\t  0.0142\n",
        "                 pub  \t---\t  0.0136\n",
        "               title  \t---\t  0.0127\n",
        "              police  \t---\t  0.0115\n",
        "\n",
        "topic 8:"
       ]
      },
      {
       "output_type": "stream",
       "stream": "stdout",
       "text": [
        "\n",
        "           recording  \t---\t  0.0148\n",
        "              studio  \t---\t  0.0127\n",
        "               title  \t---\t  0.0107\n",
        "              united  \t---\t  0.0105\n",
        "                   l  \t---\t  0.0100\n",
        "              states  \t---\t  0.0099\n",
        "                stat  \t---\t  0.0090\n",
        "               shall  \t---\t  0.0078\n",
        "        photographic  \t---\t  0.0074\n",
        "          enrollment  \t---\t  0.0070\n",
        "\n",
        "topic 9:"
       ]
      },
      {
       "output_type": "stream",
       "stream": "stdout",
       "text": [
        "\n",
        "               title  \t---\t  0.0416\n",
        "                   l  \t---\t  0.0298\n",
        "                stat  \t---\t  0.0243\n",
        "             section  \t---\t  0.0214\n",
        "                 pub  \t---\t  0.0184\n",
        "               shall  \t---\t  0.0135\n",
        "                   b  \t---\t  0.0094\n",
        "              center  \t---\t  0.0085\n",
        "              united  \t---\t  0.0080\n",
        "                 act  \t---\t  0.0071\n",
        "\n",
        "topic 10:"
       ]
      },
      {
       "output_type": "stream",
       "stream": "stdout",
       "text": [
        "\n",
        "           architect  \t---\t  0.0120\n",
        "             capitol  \t---\t  0.0105\n",
        "               shall  \t---\t  0.0088\n",
        "              united  \t---\t  0.0066\n",
        "                stat  \t---\t  0.0063\n",
        "              office  \t---\t  0.0062\n",
        "               title  \t---\t  0.0058\n",
        "           inspector  \t---\t  0.0052\n",
        "                   l  \t---\t  0.0052\n",
        "                 act  \t---\t  0.0048\n",
        "\n",
        "topic 11:"
       ]
      },
      {
       "output_type": "stream",
       "stream": "stdout",
       "text": [
        "\n",
        "                   l  \t---\t  0.0225\n",
        "                 act  \t---\t  0.0195\n",
        "                 pub  \t---\t  0.0178\n",
        "               title  \t---\t  0.0174\n",
        "               shall  \t---\t  0.0146\n",
        "                stat  \t---\t  0.0145\n",
        "             visitor  \t---\t  0.0136\n",
        "             section  \t---\t  0.0120\n",
        "            provided  \t---\t  0.0086\n",
        "      classification  \t---\t  0.0072\n",
        "\n",
        "topic 12:"
       ]
      },
      {
       "output_type": "stream",
       "stream": "stdout",
       "text": [
        "\n",
        "             section  \t---\t  0.0380\n",
        "               title  \t---\t  0.0354\n",
        "                   l  \t---\t  0.0233\n",
        "                stat  \t---\t  0.0232\n",
        "                 pub  \t---\t  0.0183\n",
        "             capitol  \t---\t  0.0118\n",
        "               shall  \t---\t  0.0115\n",
        "                   b  \t---\t  0.0101\n",
        "                 aug  \t---\t  0.0097\n",
        "           architect  \t---\t  0.0097\n",
        "\n",
        "0"
       ]
      },
      {
       "output_type": "stream",
       "stream": "stdout",
       "text": [
        " 400\n",
        "topic 1:"
       ]
      },
      {
       "output_type": "stream",
       "stream": "stdout",
       "text": [
        "\n",
        "               house  \t---\t  0.0326\n",
        "               shall  \t---\t  0.0196\n",
        "           committee  \t---\t  0.0171\n",
        "               title  \t---\t  0.0161\n",
        "             section  \t---\t  0.0160\n",
        "     representatives  \t---\t  0.0143\n",
        "                   l  \t---\t  0.0126\n",
        "             capitol  \t---\t  0.0122\n",
        "                stat  \t---\t  0.0121\n",
        "              senate  \t---\t  0.0114\n",
        "\n",
        "topic 2:"
       ]
      },
      {
       "output_type": "stream",
       "stream": "stdout",
       "text": [
        "\n",
        "                stat  \t---\t  0.0310\n",
        "               shall  \t---\t  0.0178\n",
        "               house  \t---\t  0.0162\n",
        "               title  \t---\t  0.0160\n",
        "                  ch  \t---\t  0.0141\n",
        "             section  \t---\t  0.0118\n",
        "                   l  \t---\t  0.0118\n",
        "             capitol  \t---\t  0.0111\n",
        "     representatives  \t---\t  0.0108\n",
        "                 act  \t---\t  0.0079\n",
        "\n",
        "topic 3:"
       ]
      },
      {
       "output_type": "stream",
       "stream": "stdout",
       "text": [
        "\n",
        "              states  \t---\t  0.0118\n",
        "               shall  \t---\t  0.0109\n",
        "              united  \t---\t  0.0107\n",
        "             capitol  \t---\t  0.0107\n",
        "          enrollment  \t---\t  0.0095\n",
        "              police  \t---\t  0.0092\n",
        "             section  \t---\t  0.0089\n",
        "                   l  \t---\t  0.0086\n",
        "               house  \t---\t  0.0081\n",
        "               title  \t---\t  0.0075\n",
        "\n",
        "topic 4:"
       ]
      },
      {
       "output_type": "stream",
       "stream": "stdout",
       "text": [
        "\n",
        "             capitol  \t---\t  0.0292\n",
        "           architect  \t---\t  0.0212\n",
        "              center  \t---\t  0.0177\n",
        "               shall  \t---\t  0.0144\n",
        "             general  \t---\t  0.0126\n",
        "              police  \t---\t  0.0098\n",
        "           inspector  \t---\t  0.0093\n",
        "              office  \t---\t  0.0093\n",
        "                   l  \t---\t  0.0084\n",
        "             section  \t---\t  0.0083\n",
        "\n",
        "topic 5:"
       ]
      },
      {
       "output_type": "stream",
       "stream": "stdout",
       "text": [
        "\n",
        "            academic  \t---\t  0.0051\n",
        "             webster  \t---\t  0.0031\n",
        "              carbon  \t---\t  0.0030\n",
        "             dioxide  \t---\t  0.0030\n",
        "              daniel  \t---\t  0.0028\n",
        "               shall  \t---\t  0.0024\n",
        "           semesters  \t---\t  0.0016\n",
        "                 day  \t---\t  0.0016\n",
        "                room  \t---\t  0.0015\n",
        "                  ch  \t---\t  0.0014\n",
        "\n",
        "topic 6:"
       ]
      },
      {
       "output_type": "stream",
       "stream": "stdout",
       "text": [
        "\n",
        "                stat  \t---\t  0.0237\n",
        "               title  \t---\t  0.0142\n",
        "                   l  \t---\t  0.0135\n",
        "                 pub  \t---\t  0.0127\n",
        "                  ch  \t---\t  0.0111\n",
        "               shall  \t---\t  0.0088\n",
        "             figures  \t---\t  0.0084\n",
        "             section  \t---\t  0.0070\n",
        "            district  \t---\t  0.0063\n",
        "                july  \t---\t  0.0062\n",
        "\n",
        "topic 7:"
       ]
      },
      {
       "output_type": "stream",
       "stream": "stdout",
       "text": [
        "\n",
        "              studio  \t---\t  0.0132\n",
        "        photographic  \t---\t  0.0104\n",
        "          enrollment  \t---\t  0.0043\n",
        "              intern  \t---\t  0.0039\n",
        "              states  \t---\t  0.0031\n",
        "                bill  \t---\t  0.0025\n",
        "             printed  \t---\t  0.0022\n",
        "              united  \t---\t  0.0022\n",
        "               shall  \t---\t  0.0020\n",
        "          resolution  \t---\t  0.0020\n",
        "\n",
        "topic 8:"
       ]
      },
      {
       "output_type": "stream",
       "stream": "stdout",
       "text": [
        "\n",
        "               shall  \t---\t  0.0195\n",
        "                   l  \t---\t  0.0160\n",
        "               title  \t---\t  0.0152\n",
        "           recording  \t---\t  0.0143\n",
        "                 pub  \t---\t  0.0110\n",
        "             section  \t---\t  0.0107\n",
        "                fund  \t---\t  0.0097\n",
        "                stat  \t---\t  0.0094\n",
        "                 may  \t---\t  0.0091\n",
        "              police  \t---\t  0.0076\n",
        "\n",
        "topic 9:"
       ]
      },
      {
       "output_type": "stream",
       "stream": "stdout",
       "text": [
        "\n",
        "                   l  \t---\t  0.0126\n",
        "               title  \t---\t  0.0117\n",
        "                 pub  \t---\t  0.0103\n",
        "                 act  \t---\t  0.0102\n",
        "                stat  \t---\t  0.0101\n",
        "               shall  \t---\t  0.0093\n",
        "           architect  \t---\t  0.0088\n",
        "                year  \t---\t  0.0087\n",
        "               yield  \t---\t  0.0069\n",
        "             capitol  \t---\t  0.0069\n",
        "\n",
        "topic 10:"
       ]
      },
      {
       "output_type": "stream",
       "stream": "stdout",
       "text": [
        "\n",
        "               shall  \t---\t  0.0169\n",
        "             section  \t---\t  0.0119\n",
        "               title  \t---\t  0.0102\n",
        "                   l  \t---\t  0.0099\n",
        "                 pub  \t---\t  0.0093\n",
        "              united  \t---\t  0.0083\n",
        "                 act  \t---\t  0.0074\n",
        "                   b  \t---\t  0.0065\n",
        "                year  \t---\t  0.0065\n",
        "              states  \t---\t  0.0059\n",
        "\n",
        "topic 11:"
       ]
      },
      {
       "output_type": "stream",
       "stream": "stdout",
       "text": [
        "\n",
        "               title  \t---\t  0.0271\n",
        "             section  \t---\t  0.0222\n",
        "                   l  \t---\t  0.0186\n",
        "                stat  \t---\t  0.0155\n",
        "               shall  \t---\t  0.0121\n",
        "                 act  \t---\t  0.0119\n",
        "                 pub  \t---\t  0.0110\n",
        "        reclassified  \t---\t  0.0106\n",
        "            provided  \t---\t  0.0105\n",
        "         editorially  \t---\t  0.0104\n",
        "\n",
        "topic 12:"
       ]
      },
      {
       "output_type": "stream",
       "stream": "stdout",
       "text": [
        "\n",
        "             section  \t---\t  0.0353\n",
        "                   l  \t---\t  0.0281\n",
        "               title  \t---\t  0.0272\n",
        "                 pub  \t---\t  0.0201\n",
        "               shall  \t---\t  0.0176\n",
        "              senate  \t---\t  0.0170\n",
        "                stat  \t---\t  0.0167\n",
        "             capitol  \t---\t  0.0114\n",
        "           effective  \t---\t  0.0094\n",
        "                   b  \t---\t  0.0087\n",
        "\n",
        "0"
       ]
      },
      {
       "output_type": "stream",
       "stream": "stdout",
       "text": [
        " 500\n",
        "topic 1:"
       ]
      },
      {
       "output_type": "stream",
       "stream": "stdout",
       "text": [
        "\n",
        "               shall  \t---\t  0.0259\n",
        "                   l  \t---\t  0.0122\n",
        "               title  \t---\t  0.0120\n",
        "             section  \t---\t  0.0113\n",
        "            employee  \t---\t  0.0103\n",
        "                 pub  \t---\t  0.0094\n",
        "              police  \t---\t  0.0089\n",
        "              member  \t---\t  0.0085\n",
        "                year  \t---\t  0.0083\n",
        "                stat  \t---\t  0.0071\n",
        "\n",
        "topic 2:"
       ]
      },
      {
       "output_type": "stream",
       "stream": "stdout",
       "text": [
        "\n",
        "                stat  \t---\t  0.0260\n",
        "               house  \t---\t  0.0240\n",
        "               shall  \t---\t  0.0203\n",
        "             section  \t---\t  0.0146\n",
        "               title  \t---\t  0.0146\n",
        "                   l  \t---\t  0.0142\n",
        "              senate  \t---\t  0.0131\n",
        "           architect  \t---\t  0.0123\n",
        "              fiscal  \t---\t  0.0108\n",
        "     representatives  \t---\t  0.0105\n",
        "\n",
        "topic 3:"
       ]
      },
      {
       "output_type": "stream",
       "stream": "stdout",
       "text": [
        "\n",
        "          enrollment  \t---\t  0.0108\n",
        "               shall  \t---\t  0.0085\n",
        "                stat  \t---\t  0.0073\n",
        "               house  \t---\t  0.0071\n",
        "              states  \t---\t  0.0067\n",
        "             section  \t---\t  0.0065\n",
        "              united  \t---\t  0.0060\n",
        "               title  \t---\t  0.0058\n",
        "          resolution  \t---\t  0.0052\n",
        "      transportation  \t---\t  0.0050\n",
        "\n",
        "topic 4:"
       ]
      },
      {
       "output_type": "stream",
       "stream": "stdout",
       "text": [
        "\n",
        "           recording  \t---\t  0.0185\n",
        "              studio  \t---\t  0.0166\n",
        "               shall  \t---\t  0.0143\n",
        "           architect  \t---\t  0.0091\n",
        "        photographic  \t---\t  0.0080\n",
        "                   l  \t---\t  0.0067\n",
        "             capitol  \t---\t  0.0066\n",
        "               house  \t---\t  0.0058\n",
        "          subsection  \t---\t  0.0057\n",
        "               title  \t---\t  0.0047\n",
        "\n",
        "topic 5:"
       ]
      },
      {
       "output_type": "stream",
       "stream": "stdout",
       "text": [
        "\n",
        "               shall  \t---\t  0.0181\n",
        "               title  \t---\t  0.0137\n",
        "                   l  \t---\t  0.0131\n",
        "             section  \t---\t  0.0122\n",
        "                 pub  \t---\t  0.0109\n",
        "           secretary  \t---\t  0.0099\n",
        "                stat  \t---\t  0.0087\n",
        "                crop  \t---\t  0.0066\n",
        "                   b  \t---\t  0.0061\n",
        "              united  \t---\t  0.0061\n",
        "\n",
        "topic 6:"
       ]
      },
      {
       "output_type": "stream",
       "stream": "stdout",
       "text": [
        "\n",
        "               title  \t---\t  0.0281\n",
        "             section  \t---\t  0.0257\n",
        "        reclassified  \t---\t  0.0216\n",
        "         editorially  \t---\t  0.0213\n",
        "transferredcodificationsection  \t---\t  0.0210\n",
        "                 act  \t---\t  0.0138\n",
        "            provided  \t---\t  0.0121\n",
        "                   l  \t---\t  0.0118\n",
        "                stat  \t---\t  0.0097\n",
        "               shall  \t---\t  0.0090\n",
        "\n",
        "topic 7:"
       ]
      },
      {
       "output_type": "stream",
       "stream": "stdout",
       "text": [
        "\n",
        "             section  \t---\t  0.0326\n",
        "               title  \t---\t  0.0296\n",
        "                   l  \t---\t  0.0281\n",
        "                 pub  \t---\t  0.0196\n",
        "                stat  \t---\t  0.0187\n",
        "               shall  \t---\t  0.0165\n",
        "               house  \t---\t  0.0160\n",
        "              senate  \t---\t  0.0158\n",
        "             capitol  \t---\t  0.0116\n",
        "     representatives  \t---\t  0.0085\n",
        "\n",
        "topic 8:"
       ]
      },
      {
       "output_type": "stream",
       "stream": "stdout",
       "text": [
        "\n",
        "               shall  \t---\t  0.0105\n",
        "          enrollment  \t---\t  0.0084\n",
        "                   l  \t---\t  0.0072\n",
        "              united  \t---\t  0.0067\n",
        "               title  \t---\t  0.0061\n",
        "                stat  \t---\t  0.0056\n",
        "              states  \t---\t  0.0050\n",
        "                year  \t---\t  0.0049\n",
        "             capitol  \t---\t  0.0045\n",
        "                 act  \t---\t  0.0045\n",
        "\n",
        "topic 9:"
       ]
      },
      {
       "output_type": "stream",
       "stream": "stdout",
       "text": [
        "\n",
        "             capitol  \t---\t  0.0233\n",
        "              office  \t---\t  0.0227\n",
        "               shall  \t---\t  0.0192\n",
        "             general  \t---\t  0.0153\n",
        "           architect  \t---\t  0.0144\n",
        "               house  \t---\t  0.0124\n",
        "          individual  \t---\t  0.0085\n",
        "              police  \t---\t  0.0084\n",
        "             section  \t---\t  0.0084\n",
        "           committee  \t---\t  0.0081\n",
        "\n",
        "topic 10:"
       ]
      },
      {
       "output_type": "stream",
       "stream": "stdout",
       "text": [
        "\n",
        "       accessibility  \t---\t  0.0214\n",
        "                stat  \t---\t  0.0054\n",
        "               shall  \t---\t  0.0050\n",
        "                   l  \t---\t  0.0047\n",
        "               title  \t---\t  0.0043\n",
        "                code  \t---\t  0.0037\n",
        "               yield  \t---\t  0.0034\n",
        "              states  \t---\t  0.0033\n",
        "             section  \t---\t  0.0033\n",
        "              united  \t---\t  0.0032\n",
        "\n",
        "topic 11:"
       ]
      },
      {
       "output_type": "stream",
       "stream": "stdout",
       "text": [
        "\n",
        "             section  \t---\t  0.0196\n",
        "           directive  \t---\t  0.0187\n",
        "                   l  \t---\t  0.0184\n",
        "                stat  \t---\t  0.0175\n",
        "                 pub  \t---\t  0.0166\n",
        "               title  \t---\t  0.0139\n",
        "                 oct  \t---\t  0.0124\n",
        "                 act  \t---\t  0.0118\n",
        "           president  \t---\t  0.0115\n",
        "               shall  \t---\t  0.0108\n",
        "\n",
        "topic 12:"
       ]
      },
      {
       "output_type": "stream",
       "stream": "stdout",
       "text": [
        "\n",
        "                stat  \t---\t  0.0195\n",
        "               shall  \t---\t  0.0179\n",
        "                   l  \t---\t  0.0131\n",
        "                  ch  \t---\t  0.0123\n",
        "                 act  \t---\t  0.0107\n",
        "            resident  \t---\t  0.0095\n",
        "                 pub  \t---\t  0.0090\n",
        "           delegates  \t---\t  0.0075\n",
        "            congress  \t---\t  0.0071\n",
        "               title  \t---\t  0.0070\n",
        "\n",
        "0"
       ]
      },
      {
       "output_type": "stream",
       "stream": "stdout",
       "text": [
        " 600\n",
        "topic 1:"
       ]
      },
      {
       "output_type": "stream",
       "stream": "stdout",
       "text": [
        "\n",
        "             senator  \t---\t  0.0687\n",
        "            election  \t---\t  0.0116\n",
        "            senators  \t---\t  0.0091\n",
        "               shall  \t---\t  0.0082\n",
        "          population  \t---\t  0.0076\n",
        "               state  \t---\t  0.0059\n",
        "             elected  \t---\t  0.0049\n",
        "                 day  \t---\t  0.0046\n",
        "                 art  \t---\t  0.0040\n",
        "           architect  \t---\t  0.0040\n",
        "\n",
        "topic 2:"
       ]
      },
      {
       "output_type": "stream",
       "stream": "stdout",
       "text": [
        "\n",
        "               shall  \t---\t  0.0123\n",
        "          enrollment  \t---\t  0.0093\n",
        "                stat  \t---\t  0.0080\n",
        "               title  \t---\t  0.0068\n",
        "                   l  \t---\t  0.0061\n",
        "              united  \t---\t  0.0059\n",
        "             section  \t---\t  0.0053\n",
        "              states  \t---\t  0.0050\n",
        "                code  \t---\t  0.0050\n",
        "                year  \t---\t  0.0043\n",
        "\n",
        "topic 3:"
       ]
      },
      {
       "output_type": "stream",
       "stream": "stdout",
       "text": [
        "\n",
        "               child  \t---\t  0.0112\n",
        "               human  \t---\t  0.0058\n",
        "          contractor  \t---\t  0.0056\n",
        "               shall  \t---\t  0.0036\n",
        "           expulsion  \t---\t  0.0035\n",
        "              united  \t---\t  0.0034\n",
        "              states  \t---\t  0.0031\n",
        "              daniel  \t---\t  0.0027\n",
        "             section  \t---\t  0.0026\n",
        "                term  \t---\t  0.0025\n",
        "\n",
        "topic 4:"
       ]
      },
      {
       "output_type": "stream",
       "stream": "stdout",
       "text": [
        "\n",
        "                stat  \t---\t  0.0241\n",
        "               title  \t---\t  0.0238\n",
        "                 pub  \t---\t  0.0172\n",
        "                   l  \t---\t  0.0171\n",
        "               shall  \t---\t  0.0162\n",
        "                 act  \t---\t  0.0157\n",
        "             section  \t---\t  0.0144\n",
        "             capitol  \t---\t  0.0125\n",
        "                year  \t---\t  0.0079\n",
        "           architect  \t---\t  0.0078\n",
        "\n",
        "topic 5:"
       ]
      },
      {
       "output_type": "stream",
       "stream": "stdout",
       "text": [
        "\n",
        "             section  \t---\t  0.0293\n",
        "               title  \t---\t  0.0259\n",
        "        reclassified  \t---\t  0.0153\n",
        "transferredcodificationsection  \t---\t  0.0151\n",
        "         editorially  \t---\t  0.0151\n",
        "                   l  \t---\t  0.0101\n",
        "               shall  \t---\t  0.0095\n",
        "               court  \t---\t  0.0064\n",
        "            district  \t---\t  0.0063\n",
        "                   b  \t---\t  0.0059\n",
        "\n",
        "topic 6:"
       ]
      },
      {
       "output_type": "stream",
       "stream": "stdout",
       "text": [
        "\n",
        "               shall  \t---\t  0.0200\n",
        "                   l  \t---\t  0.0142\n",
        "               title  \t---\t  0.0123\n",
        "             section  \t---\t  0.0123\n",
        "                 pub  \t---\t  0.0113\n",
        "           secretary  \t---\t  0.0108\n",
        "                stat  \t---\t  0.0084\n",
        "              united  \t---\t  0.0072\n",
        "               claim  \t---\t  0.0062\n",
        "              states  \t---\t  0.0061\n",
        "\n",
        "topic 7:"
       ]
      },
      {
       "output_type": "stream",
       "stream": "stdout",
       "text": [
        "\n",
        "             section  \t---\t  0.0342\n",
        "                   l  \t---\t  0.0328\n",
        "               title  \t---\t  0.0291\n",
        "                 pub  \t---\t  0.0238\n",
        "                stat  \t---\t  0.0209\n",
        "              senate  \t---\t  0.0159\n",
        "               shall  \t---\t  0.0150\n",
        "           effective  \t---\t  0.0111\n",
        "                   b  \t---\t  0.0101\n",
        "        compensation  \t---\t  0.0094\n",
        "\n",
        "topic 8:"
       ]
      },
      {
       "output_type": "stream",
       "stream": "stdout",
       "text": [
        "\n",
        "             section  \t---\t  0.0225\n",
        "               house  \t---\t  0.0222\n",
        "               title  \t---\t  0.0207\n",
        "               shall  \t---\t  0.0205\n",
        "                   l  \t---\t  0.0190\n",
        "                stat  \t---\t  0.0170\n",
        "              senate  \t---\t  0.0164\n",
        "             capitol  \t---\t  0.0144\n",
        "                 pub  \t---\t  0.0125\n",
        "     representatives  \t---\t  0.0115\n",
        "\n",
        "topic 9:"
       ]
      },
      {
       "output_type": "stream",
       "stream": "stdout",
       "text": [
        "\n",
        "               shall  \t---\t  0.0116\n",
        "           recording  \t---\t  0.0083\n",
        "               title  \t---\t  0.0069\n",
        "              states  \t---\t  0.0064\n",
        "            national  \t---\t  0.0058\n",
        "             section  \t---\t  0.0057\n",
        "              studio  \t---\t  0.0054\n",
        "              senate  \t---\t  0.0052\n",
        "                stat  \t---\t  0.0051\n",
        "               house  \t---\t  0.0051\n",
        "\n",
        "topic 10:"
       ]
      },
      {
       "output_type": "stream",
       "stream": "stdout",
       "text": [
        "\n",
        "                stat  \t---\t  0.0233\n",
        "                  ch  \t---\t  0.0177\n",
        "                   l  \t---\t  0.0132\n",
        "                 pub  \t---\t  0.0087\n",
        "               title  \t---\t  0.0083\n",
        "                year  \t---\t  0.0083\n",
        "             section  \t---\t  0.0072\n",
        "             payment  \t---\t  0.0071\n",
        "                june  \t---\t  0.0066\n",
        "               shall  \t---\t  0.0066\n",
        "\n",
        "topic 11:"
       ]
      },
      {
       "output_type": "stream",
       "stream": "stdout",
       "text": [
        "\n",
        "                   l  \t---\t  0.0158\n",
        "               shall  \t---\t  0.0126\n",
        "          enrollment  \t---\t  0.0119\n",
        "                stat  \t---\t  0.0119\n",
        "                 act  \t---\t  0.0110\n",
        "                 pub  \t---\t  0.0108\n",
        "               title  \t---\t  0.0093\n",
        "            provided  \t---\t  0.0081\n",
        "              united  \t---\t  0.0078\n",
        "              states  \t---\t  0.0077\n",
        "\n",
        "topic 12:"
       ]
      },
      {
       "output_type": "stream",
       "stream": "stdout",
       "text": [
        "\n",
        "           recording  \t---\t  0.0264\n",
        "              studio  \t---\t  0.0157\n",
        "               shall  \t---\t  0.0102\n",
        "        photographic  \t---\t  0.0085\n",
        "        preservation  \t---\t  0.0064\n",
        "               sound  \t---\t  0.0059\n",
        "                year  \t---\t  0.0054\n",
        "               title  \t---\t  0.0053\n",
        "            national  \t---\t  0.0049\n",
        "          recordings  \t---\t  0.0049\n",
        "\n",
        "0"
       ]
      },
      {
       "output_type": "stream",
       "stream": "stdout",
       "text": [
        " 700\n",
        "topic 1:"
       ]
      },
      {
       "output_type": "stream",
       "stream": "stdout",
       "text": [
        "\n",
        "          enrollment  \t---\t  0.0199\n",
        "               shall  \t---\t  0.0118\n",
        "             printed  \t---\t  0.0095\n",
        "              states  \t---\t  0.0091\n",
        "               title  \t---\t  0.0088\n",
        "          resolution  \t---\t  0.0084\n",
        "               joint  \t---\t  0.0079\n",
        "             section  \t---\t  0.0077\n",
        "              united  \t---\t  0.0075\n",
        "                bill  \t---\t  0.0070\n",
        "\n",
        "topic 2:"
       ]
      },
      {
       "output_type": "stream",
       "stream": "stdout",
       "text": [
        "\n",
        "             section  \t---\t  0.0331\n",
        "                   l  \t---\t  0.0267\n",
        "               title  \t---\t  0.0209\n",
        "                 pub  \t---\t  0.0175\n",
        "        compensation  \t---\t  0.0164\n",
        "           effective  \t---\t  0.0148\n",
        "                stat  \t---\t  0.0130\n",
        "               shall  \t---\t  0.0128\n",
        "                rate  \t---\t  0.0122\n",
        "              senate  \t---\t  0.0117\n",
        "\n",
        "topic 3:"
       ]
      },
      {
       "output_type": "stream",
       "stream": "stdout",
       "text": [
        "\n",
        "                   l  \t---\t  0.0095\n",
        "                 pub  \t---\t  0.0070\n",
        "             section  \t---\t  0.0059\n",
        "               shall  \t---\t  0.0050\n",
        "               title  \t---\t  0.0039\n",
        "           secretary  \t---\t  0.0035\n",
        "                crop  \t---\t  0.0032\n",
        "             acreage  \t---\t  0.0027\n",
        "                stat  \t---\t  0.0027\n",
        "                 old  \t---\t  0.0027\n",
        "\n",
        "topic 4:"
       ]
      },
      {
       "output_type": "stream",
       "stream": "stdout",
       "text": [
        "\n",
        "               title  \t---\t  0.0304\n",
        "             section  \t---\t  0.0294\n",
        "        reclassified  \t---\t  0.0235\n",
        "         editorially  \t---\t  0.0233\n",
        "transferredcodificationsection  \t---\t  0.0228\n",
        "              travel  \t---\t  0.0137\n",
        "               shall  \t---\t  0.0123\n",
        "                   b  \t---\t  0.0114\n",
        "                   l  \t---\t  0.0107\n",
        "                 pub  \t---\t  0.0098\n",
        "\n",
        "topic 5:"
       ]
      },
      {
       "output_type": "stream",
       "stream": "stdout",
       "text": [
        "\n",
        "               shall  \t---\t  0.0138\n",
        "             section  \t---\t  0.0105\n",
        "           architect  \t---\t  0.0094\n",
        "                stat  \t---\t  0.0080\n",
        "                 act  \t---\t  0.0076\n",
        "               title  \t---\t  0.0071\n",
        "                 pub  \t---\t  0.0070\n",
        "                   l  \t---\t  0.0066\n",
        "             capitol  \t---\t  0.0058\n",
        "                year  \t---\t  0.0048\n",
        "\n",
        "topic 6:"
       ]
      },
      {
       "output_type": "stream",
       "stream": "stdout",
       "text": [
        "\n",
        "              intern  \t---\t  0.0057\n",
        "              studio  \t---\t  0.0046\n",
        "                fuel  \t---\t  0.0033\n",
        "           committee  \t---\t  0.0026\n",
        "        photographic  \t---\t  0.0025\n",
        "                crop  \t---\t  0.0023\n",
        "               shall  \t---\t  0.0022\n",
        "               title  \t---\t  0.0020\n",
        "                   l  \t---\t  0.0020\n",
        "                room  \t---\t  0.0019\n",
        "\n",
        "topic 7:"
       ]
      },
      {
       "output_type": "stream",
       "stream": "stdout",
       "text": [
        "\n",
        "           recording  \t---\t  0.0172\n",
        "               shall  \t---\t  0.0167\n",
        "                   l  \t---\t  0.0141\n",
        "               title  \t---\t  0.0135\n",
        "              senate  \t---\t  0.0117\n",
        "                 pub  \t---\t  0.0105\n",
        "             section  \t---\t  0.0097\n",
        "                stat  \t---\t  0.0095\n",
        "       accessibility  \t---\t  0.0085\n",
        "                 act  \t---\t  0.0084\n",
        "\n",
        "topic 8:"
       ]
      },
      {
       "output_type": "stream",
       "stream": "stdout",
       "text": [
        "\n",
        "              united  \t---\t  0.0117\n",
        "             section  \t---\t  0.0115\n",
        "               title  \t---\t  0.0103\n",
        "              states  \t---\t  0.0103\n",
        "                   l  \t---\t  0.0099\n",
        "               shall  \t---\t  0.0090\n",
        "                stat  \t---\t  0.0080\n",
        "                 act  \t---\t  0.0070\n",
        "                   b  \t---\t  0.0065\n",
        "                 pub  \t---\t  0.0060\n",
        "\n",
        "topic 9:"
       ]
      },
      {
       "output_type": "stream",
       "stream": "stdout",
       "text": [
        "\n",
        "                stat  \t---\t  0.0162\n",
        "                   l  \t---\t  0.0153\n",
        "               title  \t---\t  0.0150\n",
        "                  ch  \t---\t  0.0137\n",
        "               shall  \t---\t  0.0096\n",
        "             section  \t---\t  0.0095\n",
        "              states  \t---\t  0.0090\n",
        "              united  \t---\t  0.0076\n",
        "                code  \t---\t  0.0071\n",
        "                 pub  \t---\t  0.0069\n",
        "\n",
        "topic 10:"
       ]
      },
      {
       "output_type": "stream",
       "stream": "stdout",
       "text": [
        "\n",
        "             section  \t---\t  0.0224\n",
        "               house  \t---\t  0.0211\n",
        "               shall  \t---\t  0.0204\n",
        "               title  \t---\t  0.0150\n",
        "             capitol  \t---\t  0.0148\n",
        "     representatives  \t---\t  0.0141\n",
        "            employee  \t---\t  0.0139\n",
        "              senate  \t---\t  0.0121\n",
        "                   l  \t---\t  0.0119\n",
        "                stat  \t---\t  0.0109\n",
        "\n",
        "topic 11:"
       ]
      },
      {
       "output_type": "stream",
       "stream": "stdout",
       "text": [
        "\n",
        "               title  \t---\t  0.0344\n",
        "                stat  \t---\t  0.0330\n",
        "                   l  \t---\t  0.0328\n",
        "             section  \t---\t  0.0292\n",
        "                 pub  \t---\t  0.0249\n",
        "              senate  \t---\t  0.0225\n",
        "               house  \t---\t  0.0182\n",
        "               shall  \t---\t  0.0159\n",
        "                 act  \t---\t  0.0098\n",
        "           committee  \t---\t  0.0090\n",
        "\n",
        "topic 12:"
       ]
      },
      {
       "output_type": "stream",
       "stream": "stdout",
       "text": [
        "\n",
        "               shall  \t---\t  0.0280\n",
        "                   l  \t---\t  0.0158\n",
        "             capitol  \t---\t  0.0140\n",
        "               title  \t---\t  0.0121\n",
        "                year  \t---\t  0.0117\n",
        "              fiscal  \t---\t  0.0111\n",
        "             section  \t---\t  0.0110\n",
        "                 may  \t---\t  0.0109\n",
        "                 pub  \t---\t  0.0093\n",
        "                 act  \t---\t  0.0093\n",
        "\n",
        "0"
       ]
      },
      {
       "output_type": "stream",
       "stream": "stdout",
       "text": [
        " 800\n",
        "topic 1:"
       ]
      },
      {
       "output_type": "stream",
       "stream": "stdout",
       "text": [
        "\n",
        "               staff  \t---\t  0.0209\n",
        "                 act  \t---\t  0.0199\n",
        "                   l  \t---\t  0.0192\n",
        "                 pub  \t---\t  0.0132\n",
        "                year  \t---\t  0.0127\n",
        "               shall  \t---\t  0.0114\n",
        "                stat  \t---\t  0.0101\n",
        "            provided  \t---\t  0.0099\n",
        "               yield  \t---\t  0.0083\n",
        "               title  \t---\t  0.0077\n",
        "\n",
        "topic 2:"
       ]
      },
      {
       "output_type": "stream",
       "stream": "stdout",
       "text": [
        "\n",
        "               shall  \t---\t  0.0027\n",
        "                year  \t---\t  0.0026\n",
        "                 pub  \t---\t  0.0026\n",
        "               yield  \t---\t  0.0025\n",
        "                   l  \t---\t  0.0023\n",
        "               title  \t---\t  0.0022\n",
        "                case  \t---\t  0.0022\n",
        "                stat  \t---\t  0.0020\n",
        "           secretary  \t---\t  0.0019\n",
        "              normal  \t---\t  0.0019\n",
        "\n",
        "topic 3:"
       ]
      },
      {
       "output_type": "stream",
       "stream": "stdout",
       "text": [
        "\n",
        "           recording  \t---\t  0.0249\n",
        "              studio  \t---\t  0.0128\n",
        "          precedents  \t---\t  0.0089\n",
        "        photographic  \t---\t  0.0080\n",
        "               shall  \t---\t  0.0066\n",
        "      transportation  \t---\t  0.0063\n",
        "               title  \t---\t  0.0061\n",
        "            national  \t---\t  0.0059\n",
        "               house  \t---\t  0.0057\n",
        "             studios  \t---\t  0.0054\n",
        "\n",
        "topic 4:"
       ]
      },
      {
       "output_type": "stream",
       "stream": "stdout",
       "text": [
        "\n",
        "             section  \t---\t  0.0526\n",
        "               title  \t---\t  0.0350\n",
        "              salary  \t---\t  0.0233\n",
        "        compensation  \t---\t  0.0232\n",
        "                   l  \t---\t  0.0180\n",
        "        reclassified  \t---\t  0.0161\n",
        "         editorially  \t---\t  0.0160\n",
        "transferredcodificationsection  \t---\t  0.0158\n",
        "                   b  \t---\t  0.0132\n",
        "                note  \t---\t  0.0125\n",
        "\n",
        "topic 5:"
       ]
      },
      {
       "output_type": "stream",
       "stream": "stdout",
       "text": [
        "\n",
        "                 pub  \t---\t  0.0047\n",
        "               shall  \t---\t  0.0046\n",
        "                   l  \t---\t  0.0034\n",
        "              united  \t---\t  0.0031\n",
        "                stat  \t---\t  0.0030\n",
        "               title  \t---\t  0.0028\n",
        "             section  \t---\t  0.0026\n",
        "              states  \t---\t  0.0024\n",
        "             peanuts  \t---\t  0.0024\n",
        "                term  \t---\t  0.0022\n",
        "\n",
        "topic 6:"
       ]
      },
      {
       "output_type": "stream",
       "stream": "stdout",
       "text": [
        "\n",
        "             capitol  \t---\t  0.0128\n",
        "               shall  \t---\t  0.0093\n",
        "               title  \t---\t  0.0092\n",
        "           architect  \t---\t  0.0085\n",
        "             section  \t---\t  0.0079\n",
        "                   l  \t---\t  0.0077\n",
        "                 act  \t---\t  0.0074\n",
        "                stat  \t---\t  0.0070\n",
        "              police  \t---\t  0.0052\n",
        "                 pub  \t---\t  0.0050\n",
        "\n",
        "topic 7:"
       ]
      },
      {
       "output_type": "stream",
       "stream": "stdout",
       "text": [
        "\n",
        "                stat  \t---\t  0.0376\n",
        "                   l  \t---\t  0.0361\n",
        "               title  \t---\t  0.0337\n",
        "             section  \t---\t  0.0292\n",
        "                 pub  \t---\t  0.0270\n",
        "               house  \t---\t  0.0161\n",
        "               shall  \t---\t  0.0159\n",
        "                  ch  \t---\t  0.0115\n",
        "                 act  \t---\t  0.0108\n",
        "              senate  \t---\t  0.0105\n",
        "\n",
        "topic 8:"
       ]
      },
      {
       "output_type": "stream",
       "stream": "stdout",
       "text": [
        "\n",
        "          enrollment  \t---\t  0.0111\n",
        "               shall  \t---\t  0.0106\n",
        "              united  \t---\t  0.0077\n",
        "             printed  \t---\t  0.0072\n",
        "                   l  \t---\t  0.0069\n",
        "                stat  \t---\t  0.0067\n",
        "              states  \t---\t  0.0061\n",
        "                hand  \t---\t  0.0061\n",
        "                bill  \t---\t  0.0057\n",
        "                  aa  \t---\t  0.0052\n",
        "\n",
        "topic 9:"
       ]
      },
      {
       "output_type": "stream",
       "stream": "stdout",
       "text": [
        "\n",
        "             section  \t---\t  0.0228\n",
        "                   l  \t---\t  0.0194\n",
        "               shall  \t---\t  0.0176\n",
        "               title  \t---\t  0.0156\n",
        "                 pub  \t---\t  0.0109\n",
        "                   b  \t---\t  0.0088\n",
        "           secretary  \t---\t  0.0087\n",
        "                stat  \t---\t  0.0084\n",
        "              states  \t---\t  0.0078\n",
        "                 act  \t---\t  0.0076\n",
        "\n",
        "topic 10:"
       ]
      },
      {
       "output_type": "stream",
       "stream": "stdout",
       "text": [
        "\n",
        "                fund  \t---\t  0.0539\n",
        "           revolving  \t---\t  0.0124\n",
        "               title  \t---\t  0.0108\n",
        "             section  \t---\t  0.0096\n",
        "             capitol  \t---\t  0.0088\n",
        "               shall  \t---\t  0.0082\n",
        "             deposit  \t---\t  0.0075\n",
        "                   l  \t---\t  0.0071\n",
        "           available  \t---\t  0.0066\n",
        "              police  \t---\t  0.0064\n",
        "\n",
        "topic 11:"
       ]
      },
      {
       "output_type": "stream",
       "stream": "stdout",
       "text": [
        "\n",
        "          enrollment  \t---\t  0.0140\n",
        "               shall  \t---\t  0.0138\n",
        "               house  \t---\t  0.0104\n",
        "          resolution  \t---\t  0.0100\n",
        "               title  \t---\t  0.0089\n",
        "              states  \t---\t  0.0079\n",
        "             printed  \t---\t  0.0079\n",
        "            congress  \t---\t  0.0077\n",
        "                   l  \t---\t  0.0076\n",
        "              united  \t---\t  0.0073\n",
        "\n",
        "topic 12:"
       ]
      },
      {
       "output_type": "stream",
       "stream": "stdout",
       "text": [
        "\n",
        "             section  \t---\t  0.0219\n",
        "              senate  \t---\t  0.0217\n",
        "               shall  \t---\t  0.0210\n",
        "               title  \t---\t  0.0177\n",
        "                   l  \t---\t  0.0175\n",
        "             capitol  \t---\t  0.0155\n",
        "               house  \t---\t  0.0143\n",
        "                 pub  \t---\t  0.0127\n",
        "              office  \t---\t  0.0114\n",
        "                stat  \t---\t  0.0102\n",
        "\n",
        "0"
       ]
      },
      {
       "output_type": "stream",
       "stream": "stdout",
       "text": [
        " 900\n",
        "topic 1:"
       ]
      },
      {
       "output_type": "stream",
       "stream": "stdout",
       "text": [
        "\n",
        "                   l  \t---\t  0.0158\n",
        "               shall  \t---\t  0.0154\n",
        "           secretary  \t---\t  0.0148\n",
        "                 pub  \t---\t  0.0135\n",
        "             section  \t---\t  0.0097\n",
        "                mail  \t---\t  0.0095\n",
        "               title  \t---\t  0.0093\n",
        "                stat  \t---\t  0.0064\n",
        "                   b  \t---\t  0.0056\n",
        "         information  \t---\t  0.0053\n",
        "\n",
        "topic 2:"
       ]
      },
      {
       "output_type": "stream",
       "stream": "stdout",
       "text": [
        "\n",
        "               staff  \t---\t  0.0209\n",
        "              member  \t---\t  0.0191\n",
        "               shall  \t---\t  0.0176\n",
        "                 may  \t---\t  0.0096\n",
        "               title  \t---\t  0.0090\n",
        "           recording  \t---\t  0.0081\n",
        "             section  \t---\t  0.0077\n",
        "          conference  \t---\t  0.0072\n",
        "                   l  \t---\t  0.0066\n",
        "          subsection  \t---\t  0.0065\n",
        "\n",
        "topic 3:"
       ]
      },
      {
       "output_type": "stream",
       "stream": "stdout",
       "text": [
        "\n",
        "           equipment  \t---\t  0.0141\n",
        "             amounts  \t---\t  0.0120\n",
        "               shall  \t---\t  0.0116\n",
        "                sale  \t---\t  0.0092\n",
        "              fiscal  \t---\t  0.0084\n",
        "             section  \t---\t  0.0076\n",
        "                year  \t---\t  0.0070\n",
        "                stat  \t---\t  0.0068\n",
        "               title  \t---\t  0.0067\n",
        "            personal  \t---\t  0.0066\n",
        "\n",
        "topic 4:"
       ]
      },
      {
       "output_type": "stream",
       "stream": "stdout",
       "text": [
        "\n",
        "               shall  \t---\t  0.0151\n",
        "             section  \t---\t  0.0151\n",
        "              states  \t---\t  0.0123\n",
        "              united  \t---\t  0.0113\n",
        "                stat  \t---\t  0.0100\n",
        "               title  \t---\t  0.0093\n",
        "            congress  \t---\t  0.0090\n",
        "                   l  \t---\t  0.0089\n",
        "                 pub  \t---\t  0.0082\n",
        "                 act  \t---\t  0.0072\n",
        "\n",
        "topic 5:"
       ]
      },
      {
       "output_type": "stream",
       "stream": "stdout",
       "text": [
        "\n",
        "             section  \t---\t  0.0295\n",
        "                   l  \t---\t  0.0279\n",
        "               title  \t---\t  0.0271\n",
        "                stat  \t---\t  0.0240\n",
        "                 pub  \t---\t  0.0199\n",
        "              senate  \t---\t  0.0181\n",
        "               shall  \t---\t  0.0179\n",
        "               house  \t---\t  0.0162\n",
        "             capitol  \t---\t  0.0110\n",
        "                 act  \t---\t  0.0090\n",
        "\n",
        "topic 6:"
       ]
      },
      {
       "output_type": "stream",
       "stream": "stdout",
       "text": [
        "\n",
        "               title  \t---\t  0.0569\n",
        "             section  \t---\t  0.0505\n",
        "        reclassified  \t---\t  0.0430\n",
        "         editorially  \t---\t  0.0427\n",
        "transferredcodificationsection  \t---\t  0.0420\n",
        "                   b  \t---\t  0.0129\n",
        "                stat  \t---\t  0.0118\n",
        "                   l  \t---\t  0.0118\n",
        "               shall  \t---\t  0.0111\n",
        "                 act  \t---\t  0.0102\n",
        "\n",
        "topic 7:"
       ]
      },
      {
       "output_type": "stream",
       "stream": "stdout",
       "text": [
        "\n",
        "              travel  \t---\t  0.0205\n",
        "               shall  \t---\t  0.0123\n",
        "             section  \t---\t  0.0109\n",
        "                   l  \t---\t  0.0094\n",
        "               title  \t---\t  0.0093\n",
        "               child  \t---\t  0.0079\n",
        "               claim  \t---\t  0.0076\n",
        "                 pub  \t---\t  0.0069\n",
        "       reimbursement  \t---\t  0.0066\n",
        "                term  \t---\t  0.0055\n",
        "\n",
        "topic 8:"
       ]
      },
      {
       "output_type": "stream",
       "stream": "stdout",
       "text": [
        "\n",
        "           directive  \t---\t  0.0267\n",
        "             section  \t---\t  0.0144\n",
        "                   l  \t---\t  0.0127\n",
        "           allowance  \t---\t  0.0124\n",
        "             figures  \t---\t  0.0121\n",
        "                year  \t---\t  0.0112\n",
        "          population  \t---\t  0.0109\n",
        "               shall  \t---\t  0.0099\n",
        "           president  \t---\t  0.0092\n",
        "                 pub  \t---\t  0.0092\n",
        "\n",
        "topic 9:"
       ]
      },
      {
       "output_type": "stream",
       "stream": "stdout",
       "text": [
        "\n",
        "             senator  \t---\t  0.0514\n",
        "               shall  \t---\t  0.0158\n",
        "             section  \t---\t  0.0140\n",
        "            senators  \t---\t  0.0125\n",
        "               title  \t---\t  0.0111\n",
        "                stat  \t---\t  0.0108\n",
        "            election  \t---\t  0.0103\n",
        "                   l  \t---\t  0.0092\n",
        "           president  \t---\t  0.0090\n",
        "              states  \t---\t  0.0087\n",
        "\n",
        "topic 10:"
       ]
      },
      {
       "output_type": "stream",
       "stream": "stdout",
       "text": [
        "\n",
        "                   l  \t---\t  0.0131\n",
        "               shall  \t---\t  0.0122\n",
        "               title  \t---\t  0.0110\n",
        "                 pub  \t---\t  0.0099\n",
        "                 act  \t---\t  0.0091\n",
        "                year  \t---\t  0.0089\n",
        "                stat  \t---\t  0.0078\n",
        "               yield  \t---\t  0.0076\n",
        "                   b  \t---\t  0.0073\n",
        "             section  \t---\t  0.0069\n",
        "\n",
        "topic 11:"
       ]
      },
      {
       "output_type": "stream",
       "stream": "stdout",
       "text": [
        "\n",
        "                   l  \t---\t  0.0152\n",
        "               shall  \t---\t  0.0137\n",
        "                 pub  \t---\t  0.0110\n",
        "             section  \t---\t  0.0101\n",
        "           secretary  \t---\t  0.0087\n",
        "               title  \t---\t  0.0083\n",
        "              united  \t---\t  0.0075\n",
        "                stat  \t---\t  0.0071\n",
        "              states  \t---\t  0.0069\n",
        "               house  \t---\t  0.0060\n",
        "\n",
        "topic 12:"
       ]
      },
      {
       "output_type": "stream",
       "stream": "stdout",
       "text": [
        "\n",
        "          contingent  \t---\t  0.0309\n",
        "              senate  \t---\t  0.0234\n",
        "                   l  \t---\t  0.0132\n",
        "                stat  \t---\t  0.0108\n",
        "               shall  \t---\t  0.0106\n",
        "                 act  \t---\t  0.0105\n",
        "                 pub  \t---\t  0.0104\n",
        "          doorkeeper  \t---\t  0.0097\n",
        "                 art  \t---\t  0.0092\n",
        "               title  \t---\t  0.0084\n",
        "\n",
        "0"
       ]
      },
      {
       "output_type": "stream",
       "stream": "stdout",
       "text": [
        " 1000\n",
        "Trial Completed: 1\n",
        "Estimated Minutes Left: 261.106050003\n",
        "Time Elapsed: 1740.70700002\n",
        "topic 1:"
       ]
      },
      {
       "output_type": "stream",
       "stream": "stdout",
       "text": [
        "\n",
        "               title  \t---\t  0.0219\n",
        "                 pub  \t---\t  0.0211\n",
        "                   l  \t---\t  0.0208\n",
        "             section  \t---\t  0.0199\n",
        "                stat  \t---\t  0.0188\n",
        "              united  \t---\t  0.0113\n",
        "              states  \t---\t  0.0109\n",
        "               shall  \t---\t  0.0105\n",
        "                   b  \t---\t  0.0076\n",
        "                 act  \t---\t  0.0067\n",
        "\n",
        "topic 2:"
       ]
      },
      {
       "output_type": "stream",
       "stream": "stdout",
       "text": [
        "\n",
        "               shall  \t---\t  0.0144\n",
        "                   l  \t---\t  0.0129\n",
        "               title  \t---\t  0.0099\n",
        "             section  \t---\t  0.0098\n",
        "                stat  \t---\t  0.0088\n",
        "                 act  \t---\t  0.0088\n",
        "                year  \t---\t  0.0083\n",
        "                 pub  \t---\t  0.0077\n",
        "              states  \t---\t  0.0061\n",
        "              united  \t---\t  0.0058\n",
        "\n",
        "topic 3:"
       ]
      },
      {
       "output_type": "stream",
       "stream": "stdout",
       "text": [
        "\n",
        "               shall  \t---\t  0.0066\n",
        "              states  \t---\t  0.0058\n",
        "          enrollment  \t---\t  0.0048\n",
        "              united  \t---\t  0.0047\n",
        "                   l  \t---\t  0.0043\n",
        "             section  \t---\t  0.0038\n",
        "             printed  \t---\t  0.0036\n",
        "                bill  \t---\t  0.0035\n",
        "                 pub  \t---\t  0.0035\n",
        "                stat  \t---\t  0.0035\n",
        "\n",
        "topic 4:"
       ]
      },
      {
       "output_type": "stream",
       "stream": "stdout",
       "text": [
        "\n",
        "               shall  \t---\t  0.0206\n",
        "             capitol  \t---\t  0.0175\n",
        "                   l  \t---\t  0.0150\n",
        "               title  \t---\t  0.0119\n",
        "                stat  \t---\t  0.0107\n",
        "               house  \t---\t  0.0086\n",
        "             section  \t---\t  0.0085\n",
        "           architect  \t---\t  0.0083\n",
        "                 pub  \t---\t  0.0079\n",
        "              police  \t---\t  0.0079\n",
        "\n",
        "topic 5:"
       ]
      },
      {
       "output_type": "stream",
       "stream": "stdout",
       "text": [
        "\n",
        "                   l  \t---\t  0.0202\n",
        "                 act  \t---\t  0.0196\n",
        "                 pub  \t---\t  0.0182\n",
        "            provided  \t---\t  0.0136\n",
        "                stat  \t---\t  0.0119\n",
        "               shall  \t---\t  0.0117\n",
        "               title  \t---\t  0.0078\n",
        "                 see  \t---\t  0.0069\n",
        "          provisions  \t---\t  0.0065\n",
        "      classification  \t---\t  0.0059\n",
        "\n",
        "topic 6:"
       ]
      },
      {
       "output_type": "stream",
       "stream": "stdout",
       "text": [
        "\n",
        "               shall  \t---\t  0.0183\n",
        "                stat  \t---\t  0.0145\n",
        "               title  \t---\t  0.0136\n",
        "             capitol  \t---\t  0.0132\n",
        "              police  \t---\t  0.0128\n",
        "                   l  \t---\t  0.0108\n",
        "             section  \t---\t  0.0104\n",
        "                 act  \t---\t  0.0073\n",
        "            congress  \t---\t  0.0066\n",
        "                 pub  \t---\t  0.0066\n",
        "\n",
        "topic 7:"
       ]
      },
      {
       "output_type": "stream",
       "stream": "stdout",
       "text": [
        "\n",
        "                   l  \t---\t  0.0130\n",
        "                 pub  \t---\t  0.0097\n",
        "             section  \t---\t  0.0087\n",
        "               shall  \t---\t  0.0085\n",
        "               title  \t---\t  0.0078\n",
        "             acreage  \t---\t  0.0058\n",
        "                stat  \t---\t  0.0055\n",
        "            congress  \t---\t  0.0045\n",
        "                crop  \t---\t  0.0042\n",
        "           secretary  \t---\t  0.0042\n",
        "\n",
        "topic 8:"
       ]
      },
      {
       "output_type": "stream",
       "stream": "stdout",
       "text": [
        "\n",
        "                stat  \t---\t  0.0246\n",
        "               title  \t---\t  0.0206\n",
        "                   l  \t---\t  0.0197\n",
        "               shall  \t---\t  0.0186\n",
        "             section  \t---\t  0.0178\n",
        "                 pub  \t---\t  0.0150\n",
        "                  ch  \t---\t  0.0116\n",
        "                 act  \t---\t  0.0111\n",
        "           architect  \t---\t  0.0082\n",
        "             capitol  \t---\t  0.0078\n",
        "\n",
        "topic 9:"
       ]
      },
      {
       "output_type": "stream",
       "stream": "stdout",
       "text": [
        "\n",
        "               shall  \t---\t  0.0066\n",
        "           recording  \t---\t  0.0053\n",
        "                stat  \t---\t  0.0046\n",
        "             section  \t---\t  0.0044\n",
        "                   l  \t---\t  0.0040\n",
        "               sound  \t---\t  0.0040\n",
        "             capitol  \t---\t  0.0038\n",
        "               title  \t---\t  0.0038\n",
        "            national  \t---\t  0.0036\n",
        "          recordings  \t---\t  0.0035\n",
        "\n",
        "topic 10:"
       ]
      },
      {
       "output_type": "stream",
       "stream": "stdout",
       "text": [
        "\n",
        "                stat  \t---\t  0.0175\n",
        "               title  \t---\t  0.0172\n",
        "                   l  \t---\t  0.0133\n",
        "               shall  \t---\t  0.0092\n",
        "             section  \t---\t  0.0089\n",
        "                  ch  \t---\t  0.0084\n",
        "              united  \t---\t  0.0079\n",
        "                 act  \t---\t  0.0078\n",
        "                 pub  \t---\t  0.0076\n",
        "           architect  \t---\t  0.0072\n",
        "\n",
        "topic 11:"
       ]
      },
      {
       "output_type": "stream",
       "stream": "stdout",
       "text": [
        "\n",
        "          enrollment  \t---\t  0.0166\n",
        "                stat  \t---\t  0.0140\n",
        "               shall  \t---\t  0.0128\n",
        "                   l  \t---\t  0.0087\n",
        "             printed  \t---\t  0.0084\n",
        "              states  \t---\t  0.0080\n",
        "               house  \t---\t  0.0079\n",
        "              united  \t---\t  0.0074\n",
        "                 act  \t---\t  0.0072\n",
        "             section  \t---\t  0.0065\n",
        "\n",
        "topic 12:"
       ]
      },
      {
       "output_type": "stream",
       "stream": "stdout",
       "text": [
        "\n",
        "               shall  \t---\t  0.0119\n",
        "               yield  \t---\t  0.0108\n",
        "                stat  \t---\t  0.0075\n",
        "                 act  \t---\t  0.0071\n",
        "               title  \t---\t  0.0067\n",
        "                year  \t---\t  0.0067\n",
        "                case  \t---\t  0.0063\n",
        "                   b  \t---\t  0.0051\n",
        "              normal  \t---\t  0.0050\n",
        "               years  \t---\t  0.0050\n",
        "\n",
        "1"
       ]
      },
      {
       "output_type": "stream",
       "stream": "stdout",
       "text": [
        " 100\n",
        "topic 1:"
       ]
      },
      {
       "output_type": "stream",
       "stream": "stdout",
       "text": [
        "\n",
        "                   l  \t---\t  0.0118\n",
        "                 pub  \t---\t  0.0099\n",
        "               title  \t---\t  0.0074\n",
        "             acreage  \t---\t  0.0073\n",
        "                stat  \t---\t  0.0072\n",
        "               shall  \t---\t  0.0070\n",
        "             capitol  \t---\t  0.0052\n",
        "                   b  \t---\t  0.0049\n",
        "              united  \t---\t  0.0048\n",
        "             section  \t---\t  0.0046\n",
        "\n",
        "topic 2:"
       ]
      },
      {
       "output_type": "stream",
       "stream": "stdout",
       "text": [
        "\n",
        "                 pub  \t---\t  0.0198\n",
        "                   l  \t---\t  0.0198\n",
        "               title  \t---\t  0.0195\n",
        "             section  \t---\t  0.0182\n",
        "                stat  \t---\t  0.0148\n",
        "               shall  \t---\t  0.0132\n",
        "                   b  \t---\t  0.0105\n",
        "                year  \t---\t  0.0076\n",
        "                case  \t---\t  0.0072\n",
        "                 act  \t---\t  0.0066\n",
        "\n",
        "topic 3:"
       ]
      },
      {
       "output_type": "stream",
       "stream": "stdout",
       "text": [
        "\n",
        "                stat  \t---\t  0.0377\n",
        "             section  \t---\t  0.0271\n",
        "                   l  \t---\t  0.0271\n",
        "               title  \t---\t  0.0227\n",
        "                 pub  \t---\t  0.0185\n",
        "               shall  \t---\t  0.0184\n",
        "                  ch  \t---\t  0.0184\n",
        "                 act  \t---\t  0.0097\n",
        "              states  \t---\t  0.0089\n",
        "             capitol  \t---\t  0.0074\n",
        "\n",
        "topic 4:"
       ]
      },
      {
       "output_type": "stream",
       "stream": "stdout",
       "text": [
        "\n",
        "                   l  \t---\t  0.0173\n",
        "             section  \t---\t  0.0162\n",
        "               shall  \t---\t  0.0144\n",
        "                 pub  \t---\t  0.0133\n",
        "                 act  \t---\t  0.0120\n",
        "                stat  \t---\t  0.0114\n",
        "              united  \t---\t  0.0110\n",
        "               title  \t---\t  0.0106\n",
        "              states  \t---\t  0.0096\n",
        "             capitol  \t---\t  0.0072\n",
        "\n",
        "topic 5:"
       ]
      },
      {
       "output_type": "stream",
       "stream": "stdout",
       "text": [
        "\n",
        "               shall  \t---\t  0.0166\n",
        "                stat  \t---\t  0.0103\n",
        "               title  \t---\t  0.0091\n",
        "                 act  \t---\t  0.0085\n",
        "                   l  \t---\t  0.0081\n",
        "               yield  \t---\t  0.0077\n",
        "                year  \t---\t  0.0069\n",
        "             section  \t---\t  0.0063\n",
        "                 pub  \t---\t  0.0057\n",
        "              united  \t---\t  0.0056\n",
        "\n",
        "topic 6:"
       ]
      },
      {
       "output_type": "stream",
       "stream": "stdout",
       "text": [
        "\n",
        "             capitol  \t---\t  0.0212\n",
        "               title  \t---\t  0.0193\n",
        "                stat  \t---\t  0.0180\n",
        "              police  \t---\t  0.0175\n",
        "                   l  \t---\t  0.0127\n",
        "               shall  \t---\t  0.0102\n",
        "               house  \t---\t  0.0081\n",
        "                  ch  \t---\t  0.0076\n",
        "                 pub  \t---\t  0.0075\n",
        "     representatives  \t---\t  0.0064\n",
        "\n",
        "topic 7:"
       ]
      },
      {
       "output_type": "stream",
       "stream": "stdout",
       "text": [
        "\n",
        "               house  \t---\t  0.0164\n",
        "               title  \t---\t  0.0139\n",
        "                   l  \t---\t  0.0136\n",
        "               shall  \t---\t  0.0133\n",
        "                stat  \t---\t  0.0125\n",
        "             capitol  \t---\t  0.0105\n",
        "                 pub  \t---\t  0.0101\n",
        "             section  \t---\t  0.0088\n",
        "     representatives  \t---\t  0.0078\n",
        "      appropriations  \t---\t  0.0064\n",
        "\n",
        "topic 8:"
       ]
      },
      {
       "output_type": "stream",
       "stream": "stdout",
       "text": [
        "\n",
        "          enrollment  \t---\t  0.0220\n",
        "               shall  \t---\t  0.0150\n",
        "               title  \t---\t  0.0136\n",
        "              united  \t---\t  0.0132\n",
        "              states  \t---\t  0.0122\n",
        "                   l  \t---\t  0.0120\n",
        "                stat  \t---\t  0.0102\n",
        "                bill  \t---\t  0.0100\n",
        "             printed  \t---\t  0.0099\n",
        "          resolution  \t---\t  0.0099\n",
        "\n",
        "topic 9:"
       ]
      },
      {
       "output_type": "stream",
       "stream": "stdout",
       "text": [
        "\n",
        "                   l  \t---\t  0.0127\n",
        "                stat  \t---\t  0.0123\n",
        "               shall  \t---\t  0.0098\n",
        "                 pub  \t---\t  0.0096\n",
        "                 act  \t---\t  0.0095\n",
        "               title  \t---\t  0.0075\n",
        "             capitol  \t---\t  0.0072\n",
        "           architect  \t---\t  0.0069\n",
        "                  ch  \t---\t  0.0057\n",
        "            provided  \t---\t  0.0053\n",
        "\n",
        "topic 10:"
       ]
      },
      {
       "output_type": "stream",
       "stream": "stdout",
       "text": [
        "\n",
        "             capitol  \t---\t  0.0303\n",
        "             section  \t---\t  0.0223\n",
        "               title  \t---\t  0.0219\n",
        "                   l  \t---\t  0.0214\n",
        "               shall  \t---\t  0.0182\n",
        "              police  \t---\t  0.0164\n",
        "                 pub  \t---\t  0.0159\n",
        "           architect  \t---\t  0.0154\n",
        "                stat  \t---\t  0.0136\n",
        "               house  \t---\t  0.0100\n",
        "\n",
        "topic 11:"
       ]
      },
      {
       "output_type": "stream",
       "stream": "stdout",
       "text": [
        "\n",
        "               shall  \t---\t  0.0174\n",
        "                 act  \t---\t  0.0163\n",
        "              police  \t---\t  0.0159\n",
        "             capitol  \t---\t  0.0143\n",
        "                   l  \t---\t  0.0140\n",
        "               title  \t---\t  0.0117\n",
        "                 pub  \t---\t  0.0109\n",
        "                stat  \t---\t  0.0106\n",
        "            provided  \t---\t  0.0098\n",
        "             section  \t---\t  0.0072\n",
        "\n",
        "topic 12:"
       ]
      },
      {
       "output_type": "stream",
       "stream": "stdout",
       "text": [
        "\n",
        "                stat  \t---\t  0.0122\n",
        "           recording  \t---\t  0.0110\n",
        "               sound  \t---\t  0.0085\n",
        "                   l  \t---\t  0.0081\n",
        "               shall  \t---\t  0.0073\n",
        "            national  \t---\t  0.0061\n",
        "                 may  \t---\t  0.0047\n",
        "               title  \t---\t  0.0047\n",
        "                seal  \t---\t  0.0045\n",
        "            registry  \t---\t  0.0044\n",
        "\n",
        "1"
       ]
      },
      {
       "output_type": "stream",
       "stream": "stdout",
       "text": [
        " 200\n",
        "topic 1:"
       ]
      },
      {
       "output_type": "stream",
       "stream": "stdout",
       "text": [
        "\n",
        "                stat  \t---\t  0.0057\n",
        "                   l  \t---\t  0.0046\n",
        "                 pub  \t---\t  0.0040\n",
        "                  ch  \t---\t  0.0029\n",
        "               shall  \t---\t  0.0027\n",
        "             capitol  \t---\t  0.0026\n",
        "              police  \t---\t  0.0025\n",
        "                 act  \t---\t  0.0024\n",
        "            congress  \t---\t  0.0023\n",
        "             section  \t---\t  0.0022\n",
        "\n",
        "topic 2:"
       ]
      },
      {
       "output_type": "stream",
       "stream": "stdout",
       "text": [
        "\n",
        "               title  \t---\t  0.0297\n",
        "                   l  \t---\t  0.0274\n",
        "             section  \t---\t  0.0253\n",
        "                stat  \t---\t  0.0234\n",
        "                 pub  \t---\t  0.0197\n",
        "               shall  \t---\t  0.0194\n",
        "             capitol  \t---\t  0.0190\n",
        "              senate  \t---\t  0.0134\n",
        "               house  \t---\t  0.0130\n",
        "           architect  \t---\t  0.0128\n",
        "\n",
        "topic 3:"
       ]
      },
      {
       "output_type": "stream",
       "stream": "stdout",
       "text": [
        "\n",
        "                stat  \t---\t  0.0351\n",
        "                  ch  \t---\t  0.0194\n",
        "                   l  \t---\t  0.0193\n",
        "               title  \t---\t  0.0180\n",
        "               shall  \t---\t  0.0144\n",
        "                 pub  \t---\t  0.0143\n",
        "             section  \t---\t  0.0132\n",
        "                 art  \t---\t  0.0089\n",
        "              united  \t---\t  0.0087\n",
        "                june  \t---\t  0.0074\n",
        "\n",
        "topic 4:"
       ]
      },
      {
       "output_type": "stream",
       "stream": "stdout",
       "text": [
        "\n",
        "               shall  \t---\t  0.0209\n",
        "               title  \t---\t  0.0200\n",
        "             section  \t---\t  0.0196\n",
        "                   l  \t---\t  0.0194\n",
        "                stat  \t---\t  0.0155\n",
        "                 pub  \t---\t  0.0150\n",
        "                 act  \t---\t  0.0098\n",
        "              states  \t---\t  0.0097\n",
        "               house  \t---\t  0.0087\n",
        "              united  \t---\t  0.0082\n",
        "\n",
        "topic 5:"
       ]
      },
      {
       "output_type": "stream",
       "stream": "stdout",
       "text": [
        "\n",
        "           recording  \t---\t  0.0091\n",
        "               shall  \t---\t  0.0085\n",
        "               sound  \t---\t  0.0082\n",
        "       accessibility  \t---\t  0.0061\n",
        "            national  \t---\t  0.0058\n",
        "                stat  \t---\t  0.0053\n",
        "               title  \t---\t  0.0045\n",
        "                year  \t---\t  0.0045\n",
        "                   l  \t---\t  0.0044\n",
        "          recordings  \t---\t  0.0043\n",
        "\n",
        "topic 6:"
       ]
      },
      {
       "output_type": "stream",
       "stream": "stdout",
       "text": [
        "\n",
        "             capitol  \t---\t  0.0115\n",
        "              police  \t---\t  0.0084\n",
        "               shall  \t---\t  0.0081\n",
        "               sound  \t---\t  0.0051\n",
        "            congress  \t---\t  0.0046\n",
        "             library  \t---\t  0.0044\n",
        "               title  \t---\t  0.0044\n",
        "                   l  \t---\t  0.0043\n",
        "                stat  \t---\t  0.0043\n",
        "                 act  \t---\t  0.0039\n",
        "\n",
        "topic 7:"
       ]
      },
      {
       "output_type": "stream",
       "stream": "stdout",
       "text": [
        "\n",
        "             capitol  \t---\t  0.0274\n",
        "              police  \t---\t  0.0256\n",
        "             section  \t---\t  0.0129\n",
        "               shall  \t---\t  0.0105\n",
        "            employee  \t---\t  0.0103\n",
        "               chief  \t---\t  0.0102\n",
        "               title  \t---\t  0.0094\n",
        "                   l  \t---\t  0.0086\n",
        "          individual  \t---\t  0.0073\n",
        "              street  \t---\t  0.0066\n",
        "\n",
        "topic 8:"
       ]
      },
      {
       "output_type": "stream",
       "stream": "stdout",
       "text": [
        "\n",
        "             section  \t---\t  0.0154\n",
        "               title  \t---\t  0.0146\n",
        "                   l  \t---\t  0.0138\n",
        "               shall  \t---\t  0.0117\n",
        "                 act  \t---\t  0.0098\n",
        "            provided  \t---\t  0.0093\n",
        "                 pub  \t---\t  0.0092\n",
        "                stat  \t---\t  0.0078\n",
        "        reclassified  \t---\t  0.0070\n",
        "transferredcodificationsection  \t---\t  0.0070\n",
        "\n",
        "topic 9:"
       ]
      },
      {
       "output_type": "stream",
       "stream": "stdout",
       "text": [
        "\n",
        "               shall  \t---\t  0.0066\n",
        "                   l  \t---\t  0.0052\n",
        "                stat  \t---\t  0.0052\n",
        "             capitol  \t---\t  0.0051\n",
        "             section  \t---\t  0.0050\n",
        "               title  \t---\t  0.0050\n",
        "                code  \t---\t  0.0044\n",
        "                 act  \t---\t  0.0043\n",
        "           architect  \t---\t  0.0040\n",
        "                 pub  \t---\t  0.0037\n",
        "\n",
        "topic 10:"
       ]
      },
      {
       "output_type": "stream",
       "stream": "stdout",
       "text": [
        "\n",
        "          enrollment  \t---\t  0.0107\n",
        "               shall  \t---\t  0.0082\n",
        "              states  \t---\t  0.0082\n",
        "               title  \t---\t  0.0071\n",
        "             section  \t---\t  0.0066\n",
        "              united  \t---\t  0.0065\n",
        "          resolution  \t---\t  0.0058\n",
        "             printed  \t---\t  0.0054\n",
        "               house  \t---\t  0.0048\n",
        "                bill  \t---\t  0.0045\n",
        "\n",
        "topic 11:"
       ]
      },
      {
       "output_type": "stream",
       "stream": "stdout",
       "text": [
        "\n",
        "              police  \t---\t  0.0218\n",
        "               shall  \t---\t  0.0168\n",
        "             capitol  \t---\t  0.0106\n",
        "              member  \t---\t  0.0088\n",
        "                stat  \t---\t  0.0075\n",
        "                   l  \t---\t  0.0072\n",
        "               title  \t---\t  0.0061\n",
        "            congress  \t---\t  0.0061\n",
        "               board  \t---\t  0.0058\n",
        "                 pub  \t---\t  0.0056\n",
        "\n",
        "topic 12:"
       ]
      },
      {
       "output_type": "stream",
       "stream": "stdout",
       "text": [
        "\n",
        "             capitol  \t---\t  0.0252\n",
        "               shall  \t---\t  0.0210\n",
        "                   l  \t---\t  0.0141\n",
        "                 pub  \t---\t  0.0128\n",
        "           architect  \t---\t  0.0123\n",
        "               title  \t---\t  0.0118\n",
        "             section  \t---\t  0.0117\n",
        "              police  \t---\t  0.0112\n",
        "                stat  \t---\t  0.0103\n",
        "            employee  \t---\t  0.0093\n",
        "\n",
        "1"
       ]
      },
      {
       "output_type": "stream",
       "stream": "stdout",
       "text": [
        " 300\n",
        "topic 1:"
       ]
      },
      {
       "output_type": "stream",
       "stream": "stdout",
       "text": [
        "\n",
        "               shall  \t---\t  0.0187\n",
        "                   l  \t---\t  0.0160\n",
        "               title  \t---\t  0.0144\n",
        "             section  \t---\t  0.0140\n",
        "              united  \t---\t  0.0123\n",
        "              states  \t---\t  0.0120\n",
        "                 act  \t---\t  0.0118\n",
        "                 pub  \t---\t  0.0117\n",
        "             capitol  \t---\t  0.0100\n",
        "                stat  \t---\t  0.0091\n",
        "\n",
        "topic 2:"
       ]
      },
      {
       "output_type": "stream",
       "stream": "stdout",
       "text": [
        "\n",
        "          enrollment  \t---\t  0.0131\n",
        "               shall  \t---\t  0.0078\n",
        "             printed  \t---\t  0.0070\n",
        "               house  \t---\t  0.0069\n",
        "              states  \t---\t  0.0061\n",
        "                bill  \t---\t  0.0059\n",
        "              united  \t---\t  0.0057\n",
        "                stat  \t---\t  0.0054\n",
        "               title  \t---\t  0.0049\n",
        "          resolution  \t---\t  0.0048\n",
        "\n",
        "topic 3:"
       ]
      },
      {
       "output_type": "stream",
       "stream": "stdout",
       "text": [
        "\n",
        "                   l  \t---\t  0.0144\n",
        "                stat  \t---\t  0.0126\n",
        "                 pub  \t---\t  0.0120\n",
        "              studio  \t---\t  0.0116\n",
        "           recording  \t---\t  0.0113\n",
        "               shall  \t---\t  0.0107\n",
        "                case  \t---\t  0.0067\n",
        "               title  \t---\t  0.0066\n",
        "             section  \t---\t  0.0061\n",
        "                  ch  \t---\t  0.0059\n",
        "\n",
        "topic 4:"
       ]
      },
      {
       "output_type": "stream",
       "stream": "stdout",
       "text": [
        "\n",
        "               shall  \t---\t  0.0167\n",
        "           architect  \t---\t  0.0164\n",
        "             general  \t---\t  0.0129\n",
        "             capitol  \t---\t  0.0128\n",
        "           inspector  \t---\t  0.0112\n",
        "              office  \t---\t  0.0094\n",
        "                 may  \t---\t  0.0082\n",
        "                   l  \t---\t  0.0073\n",
        "                stat  \t---\t  0.0063\n",
        "               title  \t---\t  0.0060\n",
        "\n",
        "topic 5:"
       ]
      },
      {
       "output_type": "stream",
       "stream": "stdout",
       "text": [
        "\n",
        "               shall  \t---\t  0.0132\n",
        "                   l  \t---\t  0.0112\n",
        "               title  \t---\t  0.0106\n",
        "             section  \t---\t  0.0102\n",
        "               house  \t---\t  0.0102\n",
        "          enrollment  \t---\t  0.0094\n",
        "             capitol  \t---\t  0.0092\n",
        "                stat  \t---\t  0.0087\n",
        "                 pub  \t---\t  0.0086\n",
        "              police  \t---\t  0.0080\n",
        "\n",
        "topic 6:"
       ]
      },
      {
       "output_type": "stream",
       "stream": "stdout",
       "text": [
        "\n",
        "               staff  \t---\t  0.0149\n",
        "            employee  \t---\t  0.0124\n",
        "               shall  \t---\t  0.0117\n",
        "              member  \t---\t  0.0116\n",
        "             capitol  \t---\t  0.0114\n",
        "              senate  \t---\t  0.0113\n",
        "              police  \t---\t  0.0111\n",
        "               title  \t---\t  0.0103\n",
        "             members  \t---\t  0.0081\n",
        "                stat  \t---\t  0.0078\n",
        "\n",
        "topic 7:"
       ]
      },
      {
       "output_type": "stream",
       "stream": "stdout",
       "text": [
        "\n",
        "             section  \t---\t  0.0281\n",
        "               title  \t---\t  0.0257\n",
        "                   l  \t---\t  0.0235\n",
        "               shall  \t---\t  0.0206\n",
        "             capitol  \t---\t  0.0204\n",
        "                stat  \t---\t  0.0174\n",
        "               house  \t---\t  0.0171\n",
        "                 pub  \t---\t  0.0165\n",
        "              senate  \t---\t  0.0148\n",
        "           architect  \t---\t  0.0100\n",
        "\n",
        "topic 8:"
       ]
      },
      {
       "output_type": "stream",
       "stream": "stdout",
       "text": [
        "\n",
        "               title  \t---\t  0.0198\n",
        "             section  \t---\t  0.0195\n",
        "         editorially  \t---\t  0.0141\n",
        "        reclassified  \t---\t  0.0141\n",
        "transferredcodificationsection  \t---\t  0.0137\n",
        "                   l  \t---\t  0.0095\n",
        "                   b  \t---\t  0.0084\n",
        "               shall  \t---\t  0.0079\n",
        "                 pub  \t---\t  0.0079\n",
        "                stat  \t---\t  0.0077\n",
        "\n",
        "topic 9:"
       ]
      },
      {
       "output_type": "stream",
       "stream": "stdout",
       "text": [
        "\n",
        "               shall  \t---\t  0.0053\n",
        "                stat  \t---\t  0.0051\n",
        "                 pub  \t---\t  0.0051\n",
        "                   l  \t---\t  0.0045\n",
        "               title  \t---\t  0.0038\n",
        "                 act  \t---\t  0.0033\n",
        "                year  \t---\t  0.0030\n",
        "                   b  \t---\t  0.0030\n",
        "                case  \t---\t  0.0030\n",
        "             peanuts  \t---\t  0.0030\n",
        "\n",
        "topic 10:"
       ]
      },
      {
       "output_type": "stream",
       "stream": "stdout",
       "text": [
        "\n",
        "                stat  \t---\t  0.0397\n",
        "               title  \t---\t  0.0339\n",
        "                   l  \t---\t  0.0283\n",
        "                 pub  \t---\t  0.0227\n",
        "             section  \t---\t  0.0198\n",
        "                  ch  \t---\t  0.0159\n",
        "                 act  \t---\t  0.0142\n",
        "               shall  \t---\t  0.0142\n",
        "                july  \t---\t  0.0099\n",
        "                 aug  \t---\t  0.0087\n",
        "\n",
        "topic 11:"
       ]
      },
      {
       "output_type": "stream",
       "stream": "stdout",
       "text": [
        "\n",
        "               shall  \t---\t  0.0141\n",
        "                stat  \t---\t  0.0094\n",
        "                 act  \t---\t  0.0081\n",
        "           architect  \t---\t  0.0079\n",
        "                   l  \t---\t  0.0076\n",
        "             capitol  \t---\t  0.0071\n",
        "                 pub  \t---\t  0.0070\n",
        "               house  \t---\t  0.0052\n",
        "            provided  \t---\t  0.0047\n",
        "             general  \t---\t  0.0047\n",
        "\n",
        "topic 12:"
       ]
      },
      {
       "output_type": "stream",
       "stream": "stdout",
       "text": [
        "\n",
        "               shall  \t---\t  0.0190\n",
        "                   l  \t---\t  0.0166\n",
        "                 pub  \t---\t  0.0126\n",
        "             capitol  \t---\t  0.0122\n",
        "                stat  \t---\t  0.0118\n",
        "               title  \t---\t  0.0113\n",
        "              united  \t---\t  0.0090\n",
        "                 act  \t---\t  0.0086\n",
        "             section  \t---\t  0.0086\n",
        "              states  \t---\t  0.0084\n",
        "\n",
        "1"
       ]
      },
      {
       "output_type": "stream",
       "stream": "stdout",
       "text": [
        " 400\n",
        "topic 1:"
       ]
      },
      {
       "output_type": "stream",
       "stream": "stdout",
       "text": [
        "\n",
        "              office  \t---\t  0.0204\n",
        "               shall  \t---\t  0.0199\n",
        "             section  \t---\t  0.0190\n",
        "           architect  \t---\t  0.0175\n",
        "             capitol  \t---\t  0.0175\n",
        "                   l  \t---\t  0.0130\n",
        "               title  \t---\t  0.0123\n",
        "               house  \t---\t  0.0111\n",
        "                 pub  \t---\t  0.0092\n",
        "             general  \t---\t  0.0092\n",
        "\n",
        "topic 2:"
       ]
      },
      {
       "output_type": "stream",
       "stream": "stdout",
       "text": [
        "\n",
        "               title  \t---\t  0.0214\n",
        "               staff  \t---\t  0.0156\n",
        "               shall  \t---\t  0.0150\n",
        "                stat  \t---\t  0.0134\n",
        "                   l  \t---\t  0.0128\n",
        "             figures  \t---\t  0.0110\n",
        "             section  \t---\t  0.0108\n",
        "              states  \t---\t  0.0098\n",
        "              member  \t---\t  0.0094\n",
        "                 pub  \t---\t  0.0087\n",
        "\n",
        "topic 3:"
       ]
      },
      {
       "output_type": "stream",
       "stream": "stdout",
       "text": [
        "\n",
        "                stat  \t---\t  0.0031\n",
        "              states  \t---\t  0.0028\n",
        "               shall  \t---\t  0.0027\n",
        "                 pub  \t---\t  0.0027\n",
        "                  ch  \t---\t  0.0025\n",
        "                   l  \t---\t  0.0025\n",
        "                 act  \t---\t  0.0024\n",
        "               title  \t---\t  0.0020\n",
        "              united  \t---\t  0.0019\n",
        "             section  \t---\t  0.0017\n",
        "\n",
        "topic 4:"
       ]
      },
      {
       "output_type": "stream",
       "stream": "stdout",
       "text": [
        "\n",
        "              united  \t---\t  0.0189\n",
        "              states  \t---\t  0.0185\n",
        "             section  \t---\t  0.0147\n",
        "               shall  \t---\t  0.0135\n",
        "               title  \t---\t  0.0116\n",
        "                   l  \t---\t  0.0102\n",
        "                stat  \t---\t  0.0100\n",
        "          enrollment  \t---\t  0.0077\n",
        "                 pub  \t---\t  0.0074\n",
        "                   b  \t---\t  0.0071\n",
        "\n",
        "topic 5:"
       ]
      },
      {
       "output_type": "stream",
       "stream": "stdout",
       "text": [
        "\n",
        "                   l  \t---\t  0.0146\n",
        "                 pub  \t---\t  0.0118\n",
        "               shall  \t---\t  0.0110\n",
        "               title  \t---\t  0.0106\n",
        "             section  \t---\t  0.0092\n",
        "                stat  \t---\t  0.0077\n",
        "              states  \t---\t  0.0075\n",
        "             acreage  \t---\t  0.0072\n",
        "              united  \t---\t  0.0064\n",
        "          enrollment  \t---\t  0.0060\n",
        "\n",
        "topic 6:"
       ]
      },
      {
       "output_type": "stream",
       "stream": "stdout",
       "text": [
        "\n",
        "               title  \t---\t  0.0215\n",
        "             section  \t---\t  0.0187\n",
        "                   l  \t---\t  0.0173\n",
        "                stat  \t---\t  0.0153\n",
        "               shall  \t---\t  0.0140\n",
        "                 pub  \t---\t  0.0115\n",
        "              states  \t---\t  0.0105\n",
        "              united  \t---\t  0.0103\n",
        "                   b  \t---\t  0.0092\n",
        "             figures  \t---\t  0.0091\n",
        "\n",
        "topic 7:"
       ]
      },
      {
       "output_type": "stream",
       "stream": "stdout",
       "text": [
        "\n",
        "             section  \t---\t  0.0278\n",
        "               title  \t---\t  0.0240\n",
        "        reclassified  \t---\t  0.0161\n",
        "         editorially  \t---\t  0.0158\n",
        "transferredcodificationsection  \t---\t  0.0155\n",
        "                   l  \t---\t  0.0090\n",
        "                   b  \t---\t  0.0066\n",
        "               shall  \t---\t  0.0063\n",
        "                stat  \t---\t  0.0061\n",
        "                 pub  \t---\t  0.0047\n",
        "\n",
        "topic 8:"
       ]
      },
      {
       "output_type": "stream",
       "stream": "stdout",
       "text": [
        "\n",
        "                   l  \t---\t  0.0114\n",
        "                stat  \t---\t  0.0086\n",
        "                 pub  \t---\t  0.0085\n",
        "               shall  \t---\t  0.0081\n",
        "               title  \t---\t  0.0060\n",
        "                 act  \t---\t  0.0053\n",
        "             section  \t---\t  0.0052\n",
        "             peanuts  \t---\t  0.0047\n",
        "                crop  \t---\t  0.0046\n",
        "           secretary  \t---\t  0.0046\n",
        "\n",
        "topic 9:"
       ]
      },
      {
       "output_type": "stream",
       "stream": "stdout",
       "text": [
        "\n",
        "             section  \t---\t  0.0290\n",
        "                   l  \t---\t  0.0244\n",
        "               title  \t---\t  0.0232\n",
        "                stat  \t---\t  0.0186\n",
        "                 pub  \t---\t  0.0168\n",
        "               shall  \t---\t  0.0165\n",
        "             capitol  \t---\t  0.0139\n",
        "              senate  \t---\t  0.0136\n",
        "               house  \t---\t  0.0130\n",
        "            employee  \t---\t  0.0103\n",
        "\n",
        "topic 10:"
       ]
      },
      {
       "output_type": "stream",
       "stream": "stdout",
       "text": [
        "\n",
        "                stat  \t---\t  0.0116\n",
        "                 act  \t---\t  0.0114\n",
        "               shall  \t---\t  0.0110\n",
        "                   l  \t---\t  0.0095\n",
        "                 pub  \t---\t  0.0094\n",
        "               title  \t---\t  0.0069\n",
        "             section  \t---\t  0.0065\n",
        "             penalty  \t---\t  0.0059\n",
        "              energy  \t---\t  0.0056\n",
        "            provided  \t---\t  0.0056\n",
        "\n",
        "topic 11:"
       ]
      },
      {
       "output_type": "stream",
       "stream": "stdout",
       "text": [
        "\n",
        "               shall  \t---\t  0.0140\n",
        "           recording  \t---\t  0.0133\n",
        "               title  \t---\t  0.0116\n",
        "              studio  \t---\t  0.0113\n",
        "              police  \t---\t  0.0108\n",
        "                stat  \t---\t  0.0106\n",
        "               house  \t---\t  0.0097\n",
        "             capitol  \t---\t  0.0082\n",
        "                   l  \t---\t  0.0078\n",
        "              united  \t---\t  0.0071\n",
        "\n",
        "topic 12:"
       ]
      },
      {
       "output_type": "stream",
       "stream": "stdout",
       "text": [
        "\n",
        "             section  \t---\t  0.0244\n",
        "               title  \t---\t  0.0231\n",
        "                   l  \t---\t  0.0214\n",
        "               shall  \t---\t  0.0214\n",
        "              senate  \t---\t  0.0193\n",
        "                stat  \t---\t  0.0192\n",
        "                 pub  \t---\t  0.0176\n",
        "               house  \t---\t  0.0167\n",
        "           committee  \t---\t  0.0128\n",
        "           architect  \t---\t  0.0123\n",
        "\n",
        "1"
       ]
      },
      {
       "output_type": "stream",
       "stream": "stdout",
       "text": [
        " 500\n",
        "topic 1:"
       ]
      },
      {
       "output_type": "stream",
       "stream": "stdout",
       "text": [
        "\n",
        "             section  \t---\t  0.0258\n",
        "              senate  \t---\t  0.0238\n",
        "               title  \t---\t  0.0200\n",
        "             capitol  \t---\t  0.0189\n",
        "               shall  \t---\t  0.0169\n",
        "                   l  \t---\t  0.0151\n",
        "           architect  \t---\t  0.0141\n",
        "                stat  \t---\t  0.0135\n",
        "                 pub  \t---\t  0.0116\n",
        "           committee  \t---\t  0.0101\n",
        "\n",
        "topic 2:"
       ]
      },
      {
       "output_type": "stream",
       "stream": "stdout",
       "text": [
        "\n",
        "                 act  \t---\t  0.0200\n",
        "               shall  \t---\t  0.0125\n",
        "            provided  \t---\t  0.0117\n",
        "                 pub  \t---\t  0.0112\n",
        "                   l  \t---\t  0.0101\n",
        "                stat  \t---\t  0.0076\n",
        "               title  \t---\t  0.0069\n",
        "            division  \t---\t  0.0054\n",
        "          provisions  \t---\t  0.0051\n",
        "      classification  \t---\t  0.0048\n",
        "\n",
        "topic 3:"
       ]
      },
      {
       "output_type": "stream",
       "stream": "stdout",
       "text": [
        "\n",
        "                   l  \t---\t  0.0144\n",
        "                 pub  \t---\t  0.0121\n",
        "                stat  \t---\t  0.0100\n",
        "               shall  \t---\t  0.0098\n",
        "                 act  \t---\t  0.0089\n",
        "            provided  \t---\t  0.0083\n",
        "             section  \t---\t  0.0068\n",
        "              states  \t---\t  0.0052\n",
        "              united  \t---\t  0.0052\n",
        "               title  \t---\t  0.0051\n",
        "\n",
        "topic 4:"
       ]
      },
      {
       "output_type": "stream",
       "stream": "stdout",
       "text": [
        "\n",
        "               house  \t---\t  0.0283\n",
        "             section  \t---\t  0.0214\n",
        "               shall  \t---\t  0.0211\n",
        "                   l  \t---\t  0.0209\n",
        "               title  \t---\t  0.0198\n",
        "              senate  \t---\t  0.0163\n",
        "                 pub  \t---\t  0.0151\n",
        "     representatives  \t---\t  0.0137\n",
        "           committee  \t---\t  0.0123\n",
        "                stat  \t---\t  0.0116\n",
        "\n",
        "topic 5:"
       ]
      },
      {
       "output_type": "stream",
       "stream": "stdout",
       "text": [
        "\n",
        "          enrollment  \t---\t  0.0196\n",
        "               title  \t---\t  0.0143\n",
        "              states  \t---\t  0.0139\n",
        "              united  \t---\t  0.0137\n",
        "               shall  \t---\t  0.0114\n",
        "             printed  \t---\t  0.0104\n",
        "             section  \t---\t  0.0104\n",
        "          resolution  \t---\t  0.0102\n",
        "                bill  \t---\t  0.0094\n",
        "                   l  \t---\t  0.0081\n",
        "\n",
        "topic 6:"
       ]
      },
      {
       "output_type": "stream",
       "stream": "stdout",
       "text": [
        "\n",
        "                   l  \t---\t  0.0150\n",
        "               shall  \t---\t  0.0094\n",
        "                 pub  \t---\t  0.0082\n",
        "                stat  \t---\t  0.0077\n",
        "               title  \t---\t  0.0064\n",
        "      transportation  \t---\t  0.0056\n",
        "                 act  \t---\t  0.0048\n",
        "             section  \t---\t  0.0047\n",
        "                year  \t---\t  0.0045\n",
        "             acreage  \t---\t  0.0037\n",
        "\n",
        "topic 7:"
       ]
      },
      {
       "output_type": "stream",
       "stream": "stdout",
       "text": [
        "\n",
        "             section  \t---\t  0.0448\n",
        "               title  \t---\t  0.0230\n",
        "        compensation  \t---\t  0.0196\n",
        "                   l  \t---\t  0.0191\n",
        "              salary  \t---\t  0.0185\n",
        "           effective  \t---\t  0.0150\n",
        "                 pro  \t---\t  0.0149\n",
        "             tempore  \t---\t  0.0148\n",
        "                rate  \t---\t  0.0148\n",
        "              senate  \t---\t  0.0147\n",
        "\n",
        "topic 8:"
       ]
      },
      {
       "output_type": "stream",
       "stream": "stdout",
       "text": [
        "\n",
        "                 pub  \t---\t  0.0072\n",
        "                stat  \t---\t  0.0068\n",
        "                   l  \t---\t  0.0068\n",
        "               title  \t---\t  0.0043\n",
        "             peanuts  \t---\t  0.0041\n",
        "               shall  \t---\t  0.0039\n",
        "             section  \t---\t  0.0038\n",
        "              united  \t---\t  0.0037\n",
        "              states  \t---\t  0.0032\n",
        "                year  \t---\t  0.0030\n",
        "\n",
        "topic 9:"
       ]
      },
      {
       "output_type": "stream",
       "stream": "stdout",
       "text": [
        "\n",
        "                stat  \t---\t  0.0319\n",
        "                   l  \t---\t  0.0312\n",
        "               title  \t---\t  0.0309\n",
        "             section  \t---\t  0.0248\n",
        "                 pub  \t---\t  0.0213\n",
        "               shall  \t---\t  0.0184\n",
        "             capitol  \t---\t  0.0124\n",
        "               house  \t---\t  0.0124\n",
        "                 act  \t---\t  0.0123\n",
        "              police  \t---\t  0.0096\n",
        "\n",
        "topic 10:"
       ]
      },
      {
       "output_type": "stream",
       "stream": "stdout",
       "text": [
        "\n",
        "                   l  \t---\t  0.0131\n",
        "               shall  \t---\t  0.0125\n",
        "             section  \t---\t  0.0121\n",
        "                stat  \t---\t  0.0117\n",
        "                 pub  \t---\t  0.0100\n",
        "               title  \t---\t  0.0099\n",
        "                year  \t---\t  0.0081\n",
        "                 act  \t---\t  0.0072\n",
        "              united  \t---\t  0.0070\n",
        "              states  \t---\t  0.0068\n",
        "\n",
        "topic 11:"
       ]
      },
      {
       "output_type": "stream",
       "stream": "stdout",
       "text": [
        "\n",
        "               shall  \t---\t  0.0212\n",
        "               title  \t---\t  0.0163\n",
        "             section  \t---\t  0.0153\n",
        "                   l  \t---\t  0.0144\n",
        "                 pub  \t---\t  0.0118\n",
        "                stat  \t---\t  0.0111\n",
        "                fund  \t---\t  0.0088\n",
        "               house  \t---\t  0.0082\n",
        "           committee  \t---\t  0.0081\n",
        "               state  \t---\t  0.0080\n",
        "\n",
        "topic 12:"
       ]
      },
      {
       "output_type": "stream",
       "stream": "stdout",
       "text": [
        "\n",
        "             capitol  \t---\t  0.0185\n",
        "               shall  \t---\t  0.0182\n",
        "             general  \t---\t  0.0145\n",
        "             section  \t---\t  0.0138\n",
        "           recording  \t---\t  0.0125\n",
        "           architect  \t---\t  0.0125\n",
        "              office  \t---\t  0.0115\n",
        "                care  \t---\t  0.0105\n",
        "           inspector  \t---\t  0.0096\n",
        "              center  \t---\t  0.0093\n",
        "\n",
        "1"
       ]
      }
     ]
    },
    {
     "cell_type": "code",
     "collapsed": false,
     "input": [
      "reload(lda)"
     ],
     "language": "python",
     "metadata": {},
     "outputs": [
      {
       "metadata": {},
       "output_type": "pyout",
       "prompt_number": 33,
       "text": [
        "<module 'runOnDocuments' from 'runOnDocuments.py'>"
       ]
      }
     ],
     "prompt_number": 33
    },
    {
     "cell_type": "markdown",
     "metadata": {},
     "source": [
      "##Now that there is data in the database, here is an example query using pyscopg2"
     ]
    },
    {
     "cell_type": "code",
     "collapsed": false,
     "input": [
      "#Single items can be found by their unique id (deterministically the order each tuple was inserted)\n",
      "cur.execute(\"select content from twitter_text where id = 65 or id = 66;\")\n",
      "result = cur.fetchall()\n",
      "result"
     ],
     "language": "python",
     "metadata": {},
     "outputs": [
      {
       "metadata": {},
       "output_type": "pyout",
       "prompt_number": 9,
       "text": [
        "[('http://www.aurumescorts.co.uk/blog/archives/1280 London top escorts know how to treat sexual disorders',),\n",
        " ('@gareth_davies84 watched south park yet? Its pretty sick!',)]"
       ]
      }
     ],
     "prompt_number": 9
    },
    {
     "cell_type": "code",
     "collapsed": false,
     "input": [
      "statement = \"SELECT COUNT(*) FROM twitter_text WHERE content LIKE '%wedding%'\"\n",
      "posCount = my_stdb.semanticSelect('twitter_text', statement, 'positive_only', 0.8)\n",
      "negCount = my_stdb.semanticSelect('twitter_text', statement, 'negative_only', -0.8)\n",
      "if negCount != 0:\n",
      "    ratio = posCount / (1.0 * negCount)\n",
      "    print \"Ratio of support to non-support of Kate Middleton:\", ratio\n",
      "else:\n",
      "    print \"Supporter count:\", posCount\n"
     ],
     "language": "python",
     "metadata": {},
     "outputs": [
      {
       "output_type": "stream",
       "stream": "stdout",
       "text": [
        "Supporter count: 0\n"
       ]
      }
     ],
     "prompt_number": 17
    },
    {
     "cell_type": "code",
     "collapsed": false,
     "input": [
      "statement = \"select content from twitter_text where id < 500;\"\n",
      "my_stdb.semanticSelect('twitter_text', statement, 'positive_only', 0.8)"
     ],
     "language": "python",
     "metadata": {},
     "outputs": [
      {
       "metadata": {},
       "output_type": "pyout",
       "prompt_number": 6,
       "text": [
        "[('#Jobs #Sales Deputy Manager: London-City of London,  This is a great opportunity to become Deputy Manager of ... http://bit.ly/lTgD57 #UK',),\n",
        " ('http://escort-find.com/ will help you to find the best escort girl in London to meet all your demands. All elite escorts of London are here!',),\n",
        " ('2 months of Strictly no smoking. Feels very good #nosmoking',),\n",
        " ('No Catches and just great deals - http://www.groupon.co.uk/deals/london/absolutely/344934/.dTF4Os',),\n",
        " ('Damn! 60% of chance of rain in London on Sat. What am I supposed to wear? lol #dramaqueen',)]"
       ]
      }
     ],
     "prompt_number": 6
    },
    {
     "cell_type": "code",
     "collapsed": false,
     "input": [
      "statement = \"select count(*) from twitter_text where id < 150;\"\n",
      "my_stdb.semanticSelect('twitter_text', statement, 'positive_only', 0.8)"
     ],
     "language": "python",
     "metadata": {},
     "outputs": [
      {
       "metadata": {},
       "output_type": "pyout",
       "prompt_number": 5,
       "text": [
        "5"
       ]
      }
     ],
     "prompt_number": 5
    },
    {
     "cell_type": "code",
     "collapsed": false,
     "input": [
      "statement = \"select * from laws where id < 5;\"\n",
      "my_stdb.semanticSelect('laws', statement, 'view_summaries', 1)"
     ],
     "language": "python",
     "metadata": {},
     "outputs": [
      {
       "metadata": {},
       "output_type": "pyout",
       "prompt_number": 6,
       "text": [
        "['2813, provided that: \\xe2\\x80\\x9cExcept as expressly provided otherwise, any reference to \\xe2\\x80\\x98this Act\\xe2\\x80\\x99 contained in either division A [Department of Defense Appropriations Act, 2006, see Tables for classification] or division B [Emergency Supplemental Appropriations Act to Address Hurricanes in the Gulf of Mexico and Pandemic Influenza, 2006, see Tables for classification] shall be treated as referring only to the provisions of that division.\\xe2\\x80\\x9d',\n",
        " 'The resolving clause of all joint resolutions shall be in the following form: \\xe2\\x80\\x9cResolved by the Senate and House of Representatives of the United States of America in Congress assembled.\\xe2\\x80\\x9d (July 30, 1947, ch.',\n",
        " 'No enacting or resolving words shall be used in any section of an Act or resolution of Congress except in the first.',\n",
        " 'Each section shall be numbered, and shall contain, as nearly as may be, a single proposition of enactment.']"
       ]
      }
     ],
     "prompt_number": 6
    },
    {
     "cell_type": "code",
     "collapsed": false,
     "input": [
      "import NLPfunctions as nlpf\n",
      "nlpf.correct_spelling(\"au ll main ayunan tante,  to london ah? of @zachzachra: Seat sekolahannya si @Indrarbk\")"
     ],
     "language": "python",
     "metadata": {},
     "outputs": [
      {
       "metadata": {},
       "output_type": "pyout",
       "prompt_number": 5,
       "text": [
        "TextBlob(\"au ll main ayunan tante,  to london ah? of @zachzachra: Seat sekolahannya si @Indrarbk\")"
       ]
      }
     ],
     "prompt_number": 5
    },
    {
     "cell_type": "code",
     "collapsed": false,
     "input": [
      "statement = \"select content from twitter_text where id < 10;\"\n",
      "my_stdb.semanticSelect('twitter_text', statement, 'correct_spelling')"
     ],
     "language": "python",
     "metadata": {},
     "outputs": [
      {
       "metadata": {},
       "output_type": "pyout",
       "prompt_number": 4,
       "text": [
        "['au ll main ayunan tante,  to london ah? of @zachzachra: Seat sekolahannya si @Indrarbk',\n",
        " 'A pink taxi covered in flags? Seriously? To glad him getting out of London tonight...',\n",
        " '@ShelaghFogarty you will be missed in the mornings. Took forward to your new show!',\n",
        " 'http://www.book-limb.com/money-machine-penguin-business-library.html #london #stock #exchange #let Money Machine (Penguin Business Library',\n",
        " 'Midday Supervisor: Midday Supervisor at London Borough of Waltham Forest in Waltham Forest,  Greater London. Cal... http://bit.ly/ifotPo',\n",
        " 'Moves waking up in London:-)',\n",
        " 'of @RoyalsWed: Must 24 hours until @news & @online go LIVE from London for the #RoyalWedding! http://only.ne/ROYALS #rw2011',\n",
        " 'him at Starbucks (London Waterloo Station (WAT),  London) w/ 2 others http://esq.com/lpZkfo',\n",
        " 'since so and royal wedding again, curious a king piano b and busy no ma royalties a look no buckingham palace sa London? @kuyakim_atienza']"
       ]
      }
     ],
     "prompt_number": 4
    },
    {
     "cell_type": "code",
     "collapsed": false,
     "input": [
      "t = time.time()\n",
      "cur.execute(\"select * from laws\")\n",
      "#result = cur.fetchall()\n",
      "print \"entire thing:\", time.time() - t"
     ],
     "language": "python",
     "metadata": {},
     "outputs": [
      {
       "output_type": "stream",
       "stream": "stdout",
       "text": [
        "[(10001L,)]\n",
        "entire thing: 0.029000043869\n"
       ]
      }
     ],
     "prompt_number": 24
    },
    {
     "cell_type": "code",
     "collapsed": false,
     "input": [
      "t = time.time()\n",
      "cur.execute(\"select * from laws limit 2\")\n",
      "#result = cur.fetchall()\n",
      "print \"limit 2 things only:\", time.time() - t"
     ],
     "language": "python",
     "metadata": {},
     "outputs": [
      {
       "output_type": "stream",
       "stream": "stdout",
       "text": [
        "limit 2 things only: 0.00999999046326\n"
       ]
      }
     ],
     "prompt_number": 23
    },
    {
     "cell_type": "code",
     "collapsed": false,
     "input": [
      "#If you ever end a transaction while its running, the following two commands be necessary to reset for next transaction.\n",
      "cur.execute(\"END;\")\n",
      "cur.execute(\"ABORT;\")"
     ],
     "language": "python",
     "metadata": {},
     "outputs": [],
     "prompt_number": 35
    },
    {
     "cell_type": "markdown",
     "metadata": {},
     "source": [
      "##Using our machine-generated tables. Everytime you insert a document, machine generated tables are created. One of these tables is called \"tablename_text.\" This table contains the actual text for each document you've inserted. For example the twitter table and twitter_text table can be joined by id. Thus, you can efficiently find documents of interest in the twitter table, then view the text in the twitter_text table. This allows for efficient manipulation of tables containing many documents without handling all of the text for each document simultaneously. "
     ]
    },
    {
     "cell_type": "code",
     "collapsed": false,
     "input": [
      "cur.execute(\"select * from twitter_text limit 5;\")\n",
      "cur.fetchall()"
     ],
     "language": "python",
     "metadata": {},
     "outputs": [
      {
       "metadata": {},
       "output_type": "pyout",
       "prompt_number": 58,
       "text": [
        "[(1,\n",
        "  'aku lg main ayunan tante,  tk london yah? RT @zachzachra: Lewat sekolahannya si @Indrarbk'),\n",
        " (2,\n",
        "  \"A pink taxi covered in flags? Seriously? So glad I'm getting out of London tonight...\"),\n",
        " (3,\n",
        "  '@ShelaghFogarty you will be missed in the mornings. Look forward to your new show!'),\n",
        " (4,\n",
        "  'http://www.book-lib.com/money-machine-penguin-business-library.html #london #stock #exchange #lex Money Machine (Penguin Business Librar'),\n",
        " (5,\n",
        "  'Midday Supervisor: Midday Supervisor at London Borough of Waltham Forest in Waltham Forest,  Greater London. Scal... http://bit.ly/ifotPo')]"
       ]
      }
     ],
     "prompt_number": 58
    }
   ],
   "metadata": {}
  }
 ]
}