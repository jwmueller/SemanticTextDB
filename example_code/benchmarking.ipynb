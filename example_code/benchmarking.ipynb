{
 "metadata": {
  "name": "",
  "signature": "sha256:7996f441a5d8f58b877691756d5c3ed18e4bffd129191af5ffe251751f8d8e91"
 },
 "nbformat": 3,
 "nbformat_minor": 0,
 "worksheets": [
  {
   "cells": [
    {
     "cell_type": "markdown",
     "metadata": {},
     "source": [
      "##Import system modules. Import psycopg2 (requires install). This is the python interface driver for the postgresql database."
     ]
    },
    {
     "cell_type": "code",
     "collapsed": false,
     "input": [
      "import sys, os, time, csv\n",
      "import psycopg2"
     ],
     "language": "python",
     "metadata": {},
     "outputs": [],
     "prompt_number": 67
    },
    {
     "cell_type": "markdown",
     "metadata": {},
     "source": [
      "##Add the directory of our SemanticTextDB library to your absolute path to support import dependencies in our library files."
     ]
    },
    {
     "cell_type": "code",
     "collapsed": false,
     "input": [
      "mypath = os.path.dirname(os.path.abspath(\"__file__\"))\n",
      "repositoryLocation = \"C:/git/SemanticTextDB\"\n",
      "sys.path.insert(0, os.path.normpath(os.path.join(mypath, 'C:/git/SemanticTextDB')))\n",
      "\n",
      "import SemanticTextDB as stdb"
     ],
     "language": "python",
     "metadata": {},
     "outputs": [],
     "prompt_number": 68
    },
    {
     "cell_type": "markdown",
     "metadata": {},
     "source": [
      "##Create a connection to the database withe the psycopg2.connect() method. Create a cursor to execute operations. Lastly create the SemanticTextDB object. This object is the primary object you will use to interact with, query, perform statistical modelling queries, and interact with the features available with our library."
     ]
    },
    {
     "cell_type": "code",
     "collapsed": false,
     "input": [
      "conn = psycopg2.connect(database=\"benchmark\", user=\"Curtis Northcutt\", host=\"18.251.7.99\", password=\"coldnips\")\n",
      "cur = conn.cursor()\n",
      "\n",
      "# Now create a new SemanticTextDB object based on the underlying DB's state:\n",
      "my_stdb = stdb.SemanticTextDB(conn, cur)"
     ],
     "language": "python",
     "metadata": {},
     "outputs": [
      {
       "output_type": "stream",
       "stream": "stdout",
       "text": [
        "Document tables in this database:  ['twitter']\n"
       ]
      }
     ],
     "prompt_number": 69
    },
    {
     "cell_type": "markdown",
     "metadata": {},
     "source": [
      "##How to create our document tables in a postgres database"
     ]
    },
    {
     "cell_type": "code",
     "collapsed": false,
     "input": [
      "# Returns a list of all tables in underyling DB:\n",
      "my_stdb.allTables()\n",
      "\n",
      "#Returns a list of only document tables in the DB:m\n",
      "my_stdb.allDocTables()"
     ],
     "language": "python",
     "metadata": {},
     "outputs": [
      {
       "metadata": {},
       "output_type": "pyout",
       "prompt_number": 70,
       "text": [
        "['twitter']"
       ]
      }
     ],
     "prompt_number": 70
    },
    {
     "cell_type": "markdown",
     "metadata": {},
     "source": [
      "##Delete all tables"
     ]
    },
    {
     "cell_type": "code",
     "collapsed": false,
     "input": [
      "# PRINTS ALL TABLES IN DB:\n",
      "def allTables(cur):\n",
      "    cur.execute(\"select table_name from information_schema.tables WHERE table_schema='public' AND table_type='BASE TABLE';\")\n",
      "    return [x[0] for x in cur.fetchall()]\n",
      "\n",
      "# Shows at most 5 results from table:\n",
      "def seeTable(cur, name):\n",
      "    cur.execute(\"select * from \" + name + \";\")\n",
      "    x = cur.fetchall()\n",
      "    if len(x) < 5:\n",
      "        return x\n",
      "    else:\n",
      "        return x[:4]\n",
      "\n",
      "\n",
      "# Deletes all tables from DB:\t\n",
      "def clearDB(cur):\n",
      "    x = allTables(cur)\n",
      "    for t in x:\n",
      "        cur.execute(\"DROP TABLE \" + t + \";\")\n",
      "        cur.execute(\"COMMIT;\")"
     ],
     "language": "python",
     "metadata": {},
     "outputs": [],
     "prompt_number": 71
    },
    {
     "cell_type": "code",
     "collapsed": false,
     "input": [
      "clearDB(cur)"
     ],
     "language": "python",
     "metadata": {},
     "outputs": [],
     "prompt_number": 72
    },
    {
     "cell_type": "markdown",
     "metadata": {},
     "source": [
      "## Loading in all U.S. Code Laws (over 56,000 laws) fully formatted and substantial length"
     ]
    },
    {
     "cell_type": "code",
     "collapsed": false,
     "input": [
      "cur.execute(\"END;\")\n",
      "cur.execute(\"ABORT;\")\n",
      "\n",
      "import warnings\n",
      "warnings.filterwarnings(\"ignore\")\n",
      "\n",
      "import re\n",
      "readPath = \"C:/git/SemanticTextDB/example_code/all_US_Law_Codes/\"\n",
      "author = \"United States Government\"\n",
      "base_time = time.time()\n",
      "\n",
      "NUM_INTERTIMES = 1\n",
      "NUM_TRIALS = 1\n",
      "NUM_LAWS = 1001\n",
      "\n",
      "law_trials = []\n",
      "for i in range(NUM_TRIALS):\n",
      "    \n",
      "    clearDB(cur)\n",
      "\n",
      "    # Delete the document table (iff you want to replace table with same name):\n",
      "    if 'laws' in my_stdb.document_tables.keys(): #check that the table exists before deleting it\n",
      "        my_stdb.dropDocTable(\"laws\")\n",
      "\n",
      "    # Creates a document table (and associated machine-generated tables):\n",
      "    my_stdb.createDocTable(\"laws\", ['lawTitleNumber text', 'lawSectionNumber text', 'lawName text'],\n",
      "                       summary = 1, topics = (10,20), entities = None, \n",
      "                       sentiment = True, count_words = False, length_count = False, \n",
      "                       vs_representations = None, max_word_length = 200,\n",
      "                       update_increment = 50, new_transaction = False)\n",
      "    \n",
      "    intertimes = []\n",
      "    count = 0\n",
      "    totaltime = 0\n",
      "    for filename in os.listdir(readPath):\n",
      "        count = count + 1\n",
      "        f = open(readPath + filename,'r')\n",
      "        fileAsString = f.read()\n",
      "        result = re.search(r'[0-9].*?\\n', fileAsString)\n",
      "        if result == None:\n",
      "            continue\n",
      "            #print fileAsString\n",
      "        else:\n",
      "            result = re.sub(r'\\n', '', result.group())\n",
      "            lawTitleNum = filename.split('_')[0]\n",
      "            lawSectionNum = (re.search(r'.*?\\.', result)).group()[:-1]\n",
      "            lawName = (re.search(r'\\..*', result)).group()[2:]\n",
      "\n",
      "            if lawName == \"\" or re.search(r'\\..*', result).group()[1] != \" \": #discard - wrong format\n",
      "                count = count - 1\n",
      "                continue\n",
      "            else:\n",
      "                #stringToInsert = unicode(fileAsString, 'utf-8')\n",
      "                fileAsString = re.sub(r'-', ' ', fileAsString)\n",
      "                fileAsString = re.sub(r'[^a-z ]', '', fileAsString)\n",
      "                fileAsString = re.sub(r' +', ' ', fileAsString)\n",
      "                \n",
      "                start_time = time.time()\n",
      "                my_stdb.insertDoc(fileAsString, \"laws\", [lawTitleNum, lawSectionNum, lawName])\n",
      "                totaltime = totaltime + (time.time() - start_time)\n",
      "                if count % (NUM_LAWS / NUM_INTERTIMES) == 0:\n",
      "                    print count\n",
      "                    intertimes.append(totaltime)\n",
      "        if count >= NUM_LAWS:\n",
      "            break\n",
      "    time_elapsed = time.time() - base_time\n",
      "    print 'Trial Completed:', i\n",
      "    print \"Estimated Minutes Left:\", (time_elapsed * NUM_TRIALS / (i + 1.0) - time_elapsed) / 60.0\n",
      "    print \"Time Elapsed:\", time_elapsed\n",
      "    law_trials.append(intertimes)\n",
      "    "
     ],
     "language": "python",
     "metadata": {},
     "outputs": [
      {
       "output_type": "stream",
       "stream": "stdout",
       "text": [
        "created document table: laws\n",
        "1001"
       ]
      },
      {
       "output_type": "stream",
       "stream": "stdout",
       "text": [
        "\n",
        "Trial Completed: 0\n",
        "Estimated Minutes Left: 0.0\n",
        "Time Elapsed: 85.2939999104\n"
       ]
      }
     ],
     "prompt_number": 57
    },
    {
     "cell_type": "code",
     "collapsed": false,
     "input": [
      "my_stdb.persistModels('laws')"
     ],
     "language": "python",
     "metadata": {},
     "outputs": [],
     "prompt_number": 58
    },
    {
     "cell_type": "code",
     "collapsed": false,
     "input": [
      "import csv\n",
      "\n",
      "with open(\"C:\\\\git\\\\SemanticTextDB\\\\example_code\\\\benchmark_results\\\\laws_1k_insert_only_NEW_TRANSACTION_TRUE.csv\", \"wb\") as f:\n",
      "    writer = csv.writer(f)\n",
      "    writer.writerows(law_trials)"
     ],
     "language": "python",
     "metadata": {},
     "outputs": [],
     "prompt_number": 38
    },
    {
     "cell_type": "markdown",
     "metadata": {},
     "source": [
      "## Loading up to 2.5 million twitter posts into our database"
     ]
    },
    {
     "cell_type": "code",
     "collapsed": false,
     "input": [
      "def exception_proof_csv_reader(csv_reader):\n",
      "    '''Wraps a try-except clause around the csv reader to\n",
      "    prevent throwing of exceptions which will stop reading.'''\n",
      "    while True: \n",
      "      try: \n",
      "          yield next(csv_reader) \n",
      "      except csv.Error: \n",
      "          pass\n",
      "      continue "
     ],
     "language": "python",
     "metadata": {},
     "outputs": [],
     "prompt_number": 61
    },
    {
     "cell_type": "code",
     "collapsed": false,
     "input": [
      "cur.execute(\"END;\")\n",
      "cur.execute(\"ABORT;\")\n",
      "\n",
      "import re\n",
      "import warnings\n",
      "warnings.filterwarnings(\"ignore\")\n",
      "\n",
      "twitterReadPath = \"C:/git/SemanticTextDB/example_code/twitter.csv\"\n",
      "base_time = time.time()\n",
      "\n",
      "NUM_INTERTIMES = 1\n",
      "NUM_TRIALS = 1\n",
      "NUM_TWEETS = 5001\n",
      "\n",
      "twitter_trials = []\n",
      "for i in range(NUM_TRIALS):\n",
      "    \n",
      "    clearDB(cur)\n",
      "    \n",
      "    # Delete the document table (iff you want to replace table with same name):\n",
      "    if 'twitter' in my_stdb.document_tables.keys(): #check that the table exists before deleting it\n",
      "        my_stdb.dropDocTable(\"twitter\")\n",
      "\n",
      "    # Creates a document table (and associated machine-generated tables):\n",
      "    my_stdb.createDocTable(\"twitter\", ['twitterId text', 'location text', 'username text'],\n",
      "                       summary = 1, topics = (10,20), entities = None, \n",
      "                       sentiment = True, count_words = False, length_count = False, \n",
      "                       vs_representations = None, max_word_length = 200,\n",
      "                       update_increment = 50, new_transaction = True)\n",
      "    \n",
      "    intertimes = []\n",
      "    count = 0\n",
      "    totaltime = 0\n",
      "    with open(twitterReadPath, 'rU') as csvfile:\n",
      "        reader = exception_proof_csv_reader(csv.reader(csvfile, delimiter=','))\n",
      "        for row in reader:\n",
      "            count = count + 1\n",
      "            try:           \n",
      "                twitterID = row.pop(0)\n",
      "                location = row.pop(0)\n",
      "                username = row.pop(-1)\n",
      "                tweet = ', '.join(row)\n",
      "            except:\n",
      "                #print \"Error occurred at item\", count, \"skipping insertion.\"\n",
      "                count = count - 1\n",
      "                continue\n",
      "            \n",
      "            start_time = time.time()\n",
      "            \n",
      "            tweet = re.sub(r'-', ' ', tweet)\n",
      "            tweet = re.sub(r'[^a-z ]', '', tweet)\n",
      "            tweet = re.sub(r' +', ' ', tweet)\n",
      "\n",
      "            start_time = time.time()\n",
      "            my_stdb.insertDoc(tweet, \"twitter\", [twitterID, location, username])\n",
      "            \n",
      "            totaltime = totaltime + (time.time() - start_time)\n",
      "            \n",
      "            if count % (NUM_TWEETS / NUM_INTERTIMES) == 0:\n",
      "                intertimes.append(totaltime)                    \n",
      "                print count\n",
      "            if count >= NUM_TWEETS:\n",
      "                break\n",
      "    time_elapsed = time.time() - base_time\n",
      "    print 'Trial Completed:', i\n",
      "    print \"Estimated Minutes Left:\", (time_elapsed * NUM_TRIALS / (i + 1.0) - time_elapsed) / 60.0\n",
      "    print \"Time Elapsed:\", time_elapsed     \n",
      "    twitter_trials.append(intertimes)"
     ],
     "language": "python",
     "metadata": {},
     "outputs": [
      {
       "output_type": "stream",
       "stream": "stdout",
       "text": [
        "deleted document table: twitter\n",
        "created document table: twitter"
       ]
      },
      {
       "output_type": "stream",
       "stream": "stdout",
       "text": [
        "\n",
        "5001"
       ]
      },
      {
       "output_type": "stream",
       "stream": "stdout",
       "text": [
        "\n",
        "Trial Completed: 0\n",
        "Estimated Minutes Left: 0.0\n",
        "Time Elapsed: 180.350999832\n"
       ]
      }
     ],
     "prompt_number": 64
    },
    {
     "cell_type": "code",
     "collapsed": false,
     "input": [
      "twitter_trials"
     ],
     "language": "python",
     "metadata": {},
     "outputs": [
      {
       "metadata": {},
       "output_type": "pyout",
       "prompt_number": 11,
       "text": [
        "[[105.03800058364868,\n",
        "  208.27800059318542,\n",
        "  311.39200139045715,\n",
        "  413.1760025024414,\n",
        "  516.1210010051727,\n",
        "  617.5910005569458,\n",
        "  720.2330002784729,\n",
        "  821.3360016345978,\n",
        "  927.8870005607605,\n",
        "  1029.4950003623962],\n",
        " [104.93799948692322,\n",
        "  207.7459990978241,\n",
        "  312.40599822998047,\n",
        "  413.40999817848206,\n",
        "  516.3379983901978,\n",
        "  618.4659979343414,\n",
        "  720.6399984359741,\n",
        "  820.9619989395142,\n",
        "  924.0699987411499,\n",
        "  1026.5330007076263]]"
       ]
      }
     ],
     "prompt_number": 11
    },
    {
     "cell_type": "code",
     "collapsed": false,
     "input": [
      "import csv\n",
      "\n",
      "with open(\"C:\\\\git\\\\SemanticTextDB\\\\example_code\\\\benchmark_results\\\\twitter_5k_insert_only_NEW_TRANSACTION_TRUE.csv\", \"wb\") as f:\n",
      "    writer = csv.writer(f)\n",
      "    writer.writerows(twitter_trials)"
     ],
     "language": "python",
     "metadata": {},
     "outputs": [],
     "prompt_number": 14
    },
    {
     "cell_type": "markdown",
     "metadata": {},
     "source": [
      "##Benchmarking fetches"
     ]
    },
    {
     "cell_type": "code",
     "collapsed": false,
     "input": [
      "import NLPfunctions as nlpf\n",
      "\n",
      "NUM_INTERTIMES = 10\n",
      "NUM_TRIALS = 2\n",
      "NUM_ITEMS = 5001\n",
      "\n",
      "trials = []\n",
      "results = []\n",
      "for trial in range(NUM_TRIALS):\n",
      "    intertimes = []\n",
      "    for level in range(NUM_ITEMS / NUM_INTERTIMES, NUM_ITEMS, NUM_ITEMS / NUM_INTERTIMES):\n",
      "        start_time = time.time()\n",
      "        cur.execute(\"SELECT * FROM twitter NATURAL JOIN twitter_topicprops_10 LIMIT \" + str(level))\n",
      "        results = cur.fetchall()       \n",
      "        intertimes.append(time.time() - start_time)\n",
      "        print trial, level\n",
      "    trials.append(intertimes)"
     ],
     "language": "python",
     "metadata": {},
     "outputs": [
      {
       "output_type": "stream",
       "stream": "stdout",
       "text": [
        "0 500\n",
        "0 1000\n",
        "0 1500\n",
        "0 2000\n",
        "0 2500\n",
        "0 3000\n",
        "0 3500\n",
        "0 4000\n",
        "0 4500\n",
        "0 5000\n",
        "1 500\n",
        "1 1000\n",
        "1 1500\n",
        "1 2000\n",
        "1 2500\n",
        "1 3000\n",
        "1 3500\n",
        "1"
       ]
      },
      {
       "output_type": "stream",
       "stream": "stdout",
       "text": [
        " 4000\n",
        "1 4500\n",
        "1 5000\n"
       ]
      }
     ],
     "prompt_number": 65
    },
    {
     "cell_type": "code",
     "collapsed": false,
     "input": [
      "import csv\n",
      "\n",
      "with open(\"C:\\\\git\\\\SemanticTextDB\\\\example_code\\\\benchmark_results\\\\twitter_5k_read_all_algorithms.csv\", \"wb\") as f:\n",
      "    writer = csv.writer(f)\n",
      "    writer.writerows(trials)"
     ],
     "language": "python",
     "metadata": {},
     "outputs": [],
     "prompt_number": 66
    },
    {
     "cell_type": "code",
     "collapsed": false,
     "input": [
      "import pickle\n",
      "pickle.dump(results, open(\"C:\\\\git\\\\SemanticTextDB\\\\example_code\\\\benchmark_results\\\\twitter_50k.p\", \"wb\"))"
     ],
     "language": "python",
     "metadata": {},
     "outputs": [],
     "prompt_number": 31
    },
    {
     "cell_type": "code",
     "collapsed": false,
     "input": [
      "import NLPfunctions as nlpf\n",
      "import pandas as pd\n",
      "import summarizer as s\n",
      "import runOnDocuments as lda\n",
      "\n",
      "data = pd.read_pickle(\"C:\\\\git\\\\SemanticTextDB\\\\example_code\\\\benchmark_results\\\\twitter_50k.p\")\n",
      "\n",
      "NUM_INTERTIMES = 10\n",
      "NUM_TRIALS = 2\n",
      "NUM_ITEMS = 001\n",
      "\n",
      "lda_trials = []\n",
      "summary_trials = []\n",
      "sentiment_trials = []\n",
      "\n",
      "base_time = time.time()\n",
      "\n",
      "for trial in range(NUM_TRIALS):\n",
      "    lda_intertimes = []\n",
      "    summary_intertimes = []\n",
      "    sentiment_intertimes = []\n",
      "    for level in range(NUM_ITEMS / NUM_INTERTIMES, NUM_ITEMS, NUM_ITEMS / NUM_INTERTIMES):\n",
      "        \n",
      "        data_this_level = data[:level]\n",
      "        data_this_level = [item[0] for item in data_this_level]#Remove tuple wrapping strings\n",
      "        \n",
      "        start_time = time.time()        \n",
      "        ldaResults = []        \n",
      "        ldaResults.append(lda.runLDA(data_this_level))\n",
      "        lda_intertimes.append(time.time() - start_time)\n",
      "        \n",
      "        summaryResults = []\n",
      "        sentimentResults = []        \n",
      "        \n",
      "        sentiment_total_time = 0\n",
      "        summary_total_time = 0\n",
      "        \n",
      "        for item in data_this_level:            \n",
      "            start_time = time.time()\n",
      "            sentimentResults.append(nlpf.sentimentAnalysis(item))\n",
      "            sentiment_total_time = sentiment_total_time + (time.time() - start_time)\n",
      "            \n",
      "            start_time = time.time()\n",
      "            summaryResults.append(s.summarize(item))\n",
      "            summary_total_time = summary_total_time + (time.time() - start_time)\n",
      "        \n",
      "        summary_intertimes = [summary_total_time]\n",
      "        sentiment_intertimes = [sentiment_total_time] \n",
      "        \n",
      "        print trial, level\n",
      "        \n",
      "    lda_trials.append(lda_intertimes)\n",
      "    summary_trials.append(summary_intertimes)\n",
      "    sentiment_trials.append(sentiment_intertimes)\n",
      "    time_elapsed = time.time() - base_time\n",
      "    print 'Trial Completed:', trial + 1\n",
      "    print \"Estimated Minutes Left:\", (time_elapsed * NUM_TRIALS / (trial + 1.0) - time_elapsed) / 60.0\n",
      "    print \"Time Elapsed:\", time_elapsed"
     ],
     "language": "python",
     "metadata": {},
     "outputs": [
      {
       "output_type": "stream",
       "stream": "stdout",
       "text": [
        "topic 1:\n",
        "              london  \t---\t  0.0104\n",
        "               great  \t---\t  0.0064\n",
        "             morning  \t---\t  0.0064\n",
        "                work  \t---\t  0.0058\n",
        "               sales  \t---\t  0.0057\n",
        "                  uk  \t---\t  0.0046\n",
        "                 ill  \t---\t  0.0044\n",
        "                love  \t---\t  0.0040\n",
        "              moving  \t---\t  0.0034\n",
        "                 way  \t---\t  0.0030\n",
        "\n",
        "topic 2:"
       ]
      },
      {
       "output_type": "stream",
       "stream": "stdout",
       "text": [
        "\n",
        "                last  \t---\t  0.0080\n",
        "                 new  \t---\t  0.0066\n",
        "              london  \t---\t  0.0061\n",
        "                 got  \t---\t  0.0054\n",
        "                show  \t---\t  0.0033\n",
        "                  oh  \t---\t  0.0027\n",
        "                   u  \t---\t  0.0026\n",
        "               paris  \t---\t  0.0020\n",
        "                wish  \t---\t  0.0020\n",
        "                look  \t---\t  0.0020\n",
        "\n",
        "topic 3:"
       ]
      },
      {
       "output_type": "stream",
       "stream": "stdout",
       "text": [
        "\n",
        "              london  \t---\t  0.0060\n",
        "                take  \t---\t  0.0041\n",
        "                  de  \t---\t  0.0021\n",
        "                walk  \t---\t  0.0020\n",
        "                 new  \t---\t  0.0016\n",
        "                life  \t---\t  0.0015\n",
        "                  en  \t---\t  0.0014\n",
        "          nowplaying  \t---\t  0.0014\n",
        "             college  \t---\t  0.0014\n",
        "              stupid  \t---\t  0.0014\n",
        "\n",
        "topic 4:"
       ]
      },
      {
       "output_type": "stream",
       "stream": "stdout",
       "text": [
        "\n",
        "              london  \t---\t  0.0600\n",
        "                  rt  \t---\t  0.0229\n",
        "            tomorrow  \t---\t  0.0137\n",
        "             wedding  \t---\t  0.0118\n",
        "               royal  \t---\t  0.0109\n",
        "                 via  \t---\t  0.0098\n",
        "                jack  \t---\t  0.0090\n",
        "             issuing  \t---\t  0.0086\n",
        "                flag  \t---\t  0.0086\n",
        "                hide  \t---\t  0.0086\n",
        "\n",
        "topic 5:"
       ]
      },
      {
       "output_type": "stream",
       "stream": "stdout",
       "text": [
        "\n",
        "              london  \t---\t  0.0339\n",
        "               today  \t---\t  0.0056\n",
        "              street  \t---\t  0.0046\n",
        "               south  \t---\t  0.0045\n",
        "            business  \t---\t  0.0045\n",
        "         recruitment  \t---\t  0.0039\n",
        "                  im  \t---\t  0.0036\n",
        "              global  \t---\t  0.0032\n",
        "          consultant  \t---\t  0.0030\n",
        "               north  \t---\t  0.0028\n",
        "\n",
        "topic 6:"
       ]
      },
      {
       "output_type": "stream",
       "stream": "stdout",
       "text": [
        "\n",
        "                jobs  \t---\t  0.0130\n",
        "              london  \t---\t  0.0105\n",
        "             manager  \t---\t  0.0072\n",
        "                 job  \t---\t  0.0053\n",
        "            location  \t---\t  0.0039\n",
        "           marketing  \t---\t  0.0033\n",
        "               quant  \t---\t  0.0027\n",
        "              senior  \t---\t  0.0026\n",
        "             finance  \t---\t  0.0020\n",
        "                  ib  \t---\t  0.0020\n",
        "\n",
        "topic 7:"
       ]
      },
      {
       "output_type": "stream",
       "stream": "stdout",
       "text": [
        "\n",
        "            olympics  \t---\t  0.0053\n",
        "              london  \t---\t  0.0044\n",
        "               house  \t---\t  0.0040\n",
        "                 lol  \t---\t  0.0040\n",
        "                rent  \t---\t  0.0033\n",
        "               never  \t---\t  0.0027\n",
        "                seen  \t---\t  0.0027\n",
        "                 lot  \t---\t  0.0026\n",
        "              always  \t---\t  0.0023\n",
        "                 ive  \t---\t  0.0022\n",
        "\n",
        "topic 8:"
       ]
      },
      {
       "output_type": "stream",
       "stream": "stdout",
       "text": [
        "\n",
        "                  ok  \t---\t  0.0055\n",
        "                park  \t---\t  0.0037\n",
        "               think  \t---\t  0.0030\n",
        "             watched  \t---\t  0.0027\n",
        "                ning  \t---\t  0.0022\n",
        "              london  \t---\t  0.0018\n",
        "                sick  \t---\t  0.0015\n",
        "              pretty  \t---\t  0.0015\n",
        "             pakaian  \t---\t  0.0014\n",
        "               sesok  \t---\t  0.0014\n",
        "\n",
        "topic 9:"
       ]
      },
      {
       "output_type": "stream",
       "stream": "stdout",
       "text": [
        "\n",
        "              london  \t---\t  0.0404\n",
        "                kate  \t---\t  0.0059\n",
        "             william  \t---\t  0.0050\n",
        "              escort  \t---\t  0.0050\n",
        "                live  \t---\t  0.0049\n",
        "               going  \t---\t  0.0035\n",
        "             tonight  \t---\t  0.0035\n",
        "                best  \t---\t  0.0034\n",
        "                 may  \t---\t  0.0033\n",
        "              report  \t---\t  0.0032\n",
        "\n",
        "topic 10:"
       ]
      },
      {
       "output_type": "stream",
       "stream": "stdout",
       "text": [
        "\n",
        "                 sun  \t---\t  0.0040\n",
        "               happy  \t---\t  0.0040\n",
        "              london  \t---\t  0.0039\n",
        "                real  \t---\t  0.0033\n",
        "                time  \t---\t  0.0027\n",
        "                   u  \t---\t  0.0026\n",
        "              around  \t---\t  0.0026\n",
        "                 rat  \t---\t  0.0026\n",
        "                bank  \t---\t  0.0025\n",
        "                   x  \t---\t  0.0025\n",
        "\n",
        "topic 11:"
       ]
      },
      {
       "output_type": "stream",
       "stream": "stdout",
       "text": [
        "\n",
        "              london  \t---\t  0.0027\n",
        "                  en  \t---\t  0.0023\n",
        "                naar  \t---\t  0.0021\n",
        "              school  \t---\t  0.0020\n",
        "                hour  \t---\t  0.0019\n",
        "                  im  \t---\t  0.0017\n",
        "                mijn  \t---\t  0.0017\n",
        "                 ten  \t---\t  0.0015\n",
        "                 hey  \t---\t  0.0014\n",
        "                 van  \t---\t  0.0013\n",
        "\n",
        "topic 12:"
       ]
      },
      {
       "output_type": "stream",
       "stream": "stdout",
       "text": [
        "\n",
        "              london  \t---\t  0.0303\n",
        "                  rt  \t---\t  0.0149\n",
        "                  go  \t---\t  0.0115\n",
        "                live  \t---\t  0.0089\n",
        "        royalwedding  \t---\t  0.0088\n",
        "             eonline  \t---\t  0.0085\n",
        "               enews  \t---\t  0.0081\n",
        "               hours  \t---\t  0.0076\n",
        "                 day  \t---\t  0.0074\n",
        "           royalswed  \t---\t  0.0071\n",
        "\n",
        "0"
       ]
      },
      {
       "output_type": "stream",
       "stream": "stdout",
       "text": [
        " 500\n",
        "topic 1:"
       ]
      },
      {
       "output_type": "stream",
       "stream": "stdout",
       "text": [
        "\n",
        "              london  \t---\t  0.0456\n",
        "                  rt  \t---\t  0.0352\n",
        "            tomorrow  \t---\t  0.0182\n",
        "                 via  \t---\t  0.0175\n",
        "                jack  \t---\t  0.0160\n",
        "             issuing  \t---\t  0.0152\n",
        "           twoptwips  \t---\t  0.0152\n",
        "                flag  \t---\t  0.0152\n",
        "               union  \t---\t  0.0152\n",
        "                hats  \t---\t  0.0152\n",
        "\n",
        "topic 2:"
       ]
      },
      {
       "output_type": "stream",
       "stream": "stdout",
       "text": [
        "\n",
        "              london  \t---\t  0.0521\n",
        "                  rt  \t---\t  0.0207\n",
        "                  go  \t---\t  0.0196\n",
        "        royalwedding  \t---\t  0.0185\n",
        "                live  \t---\t  0.0164\n",
        "               enews  \t---\t  0.0127\n",
        "             eonline  \t---\t  0.0123\n",
        "               hours  \t---\t  0.0119\n",
        "                  rw  \t---\t  0.0116\n",
        "                jobs  \t---\t  0.0111\n",
        "\n",
        "topic 3:"
       ]
      },
      {
       "output_type": "stream",
       "stream": "stdout",
       "text": [
        "\n",
        "              london  \t---\t  0.0829\n",
        "                  im  \t---\t  0.0137\n",
        "             wedding  \t---\t  0.0135\n",
        "               royal  \t---\t  0.0113\n",
        "                  rt  \t---\t  0.0096\n",
        "                 day  \t---\t  0.0067\n",
        "                 get  \t---\t  0.0066\n",
        "                back  \t---\t  0.0060\n",
        "                 one  \t---\t  0.0057\n",
        "                 ill  \t---\t  0.0053\n",
        "\n",
        "topic 4:"
       ]
      },
      {
       "output_type": "stream",
       "stream": "stdout",
       "text": [
        "\n",
        "                work  \t---\t  0.0095\n",
        "                love  \t---\t  0.0082\n",
        "             londons  \t---\t  0.0061\n",
        "                busy  \t---\t  0.0054\n",
        "                  ik  \t---\t  0.0042\n",
        "              london  \t---\t  0.0042\n",
        "             network  \t---\t  0.0040\n",
        "             morning  \t---\t  0.0036\n",
        "              second  \t---\t  0.0033\n",
        "              better  \t---\t  0.0030\n",
        "\n",
        "topic 5:"
       ]
      },
      {
       "output_type": "stream",
       "stream": "stdout",
       "text": [
        "\n",
        "              london  \t---\t  0.0141\n",
        "              escort  \t---\t  0.0093\n",
        "             escorts  \t---\t  0.0062\n",
        "                best  \t---\t  0.0062\n",
        "               girls  \t---\t  0.0047\n",
        "                sure  \t---\t  0.0044\n",
        "             olympic  \t---\t  0.0043\n",
        "                help  \t---\t  0.0037\n",
        "               house  \t---\t  0.0037\n",
        "                 hot  \t---\t  0.0036\n",
        "\n",
        "topic 6:"
       ]
      },
      {
       "output_type": "stream",
       "stream": "stdout",
       "text": [
        "\n",
        "              london  \t---\t  0.0241\n",
        "                free  \t---\t  0.0070\n",
        "                  th  \t---\t  0.0065\n",
        "                time  \t---\t  0.0065\n",
        "                 may  \t---\t  0.0048\n",
        "              hotels  \t---\t  0.0045\n",
        "            business  \t---\t  0.0045\n",
        "                  pm  \t---\t  0.0041\n",
        "           developer  \t---\t  0.0040\n",
        "                wait  \t---\t  0.0040\n",
        "\n",
        "topic 7:"
       ]
      },
      {
       "output_type": "stream",
       "stream": "stdout",
       "text": [
        "\n",
        "                  tv  \t---\t  0.0067\n",
        "                  ok  \t---\t  0.0061\n",
        "             watched  \t---\t  0.0055\n",
        "                mins  \t---\t  0.0051\n",
        "                sick  \t---\t  0.0050\n",
        "                 rat  \t---\t  0.0045\n",
        "                star  \t---\t  0.0039\n",
        "               muted  \t---\t  0.0039\n",
        "            mentally  \t---\t  0.0038\n",
        "                 gym  \t---\t  0.0038\n",
        "\n",
        "topic 8:"
       ]
      },
      {
       "output_type": "stream",
       "stream": "stdout",
       "text": [
        "\n",
        "              london  \t---\t  0.0127\n",
        "                next  \t---\t  0.0060\n",
        "                 sun  \t---\t  0.0054\n",
        "                take  \t---\t  0.0054\n",
        "                time  \t---\t  0.0051\n",
        "                nice  \t---\t  0.0043\n",
        "               paris  \t---\t  0.0036\n",
        "                cold  \t---\t  0.0036\n",
        "                play  \t---\t  0.0036\n",
        "            victoria  \t---\t  0.0032\n",
        "\n",
        "topic 9:"
       ]
      },
      {
       "output_type": "stream",
       "stream": "stdout",
       "text": [
        "\n",
        "              london  \t---\t  0.0232\n",
        "                 way  \t---\t  0.0094\n",
        "                  im  \t---\t  0.0070\n",
        "                   p  \t---\t  0.0059\n",
        "              coming  \t---\t  0.0053\n",
        "                  xx  \t---\t  0.0053\n",
        "                   k  \t---\t  0.0047\n",
        "                  st  \t---\t  0.0042\n",
        "                june  \t---\t  0.0037\n",
        "                soon  \t---\t  0.0036\n",
        "\n",
        "topic 10:"
       ]
      },
      {
       "output_type": "stream",
       "stream": "stdout",
       "text": [
        "\n",
        "              london  \t---\t  0.0310\n",
        "                  uk  \t---\t  0.0091\n",
        "               sales  \t---\t  0.0061\n",
        "                kate  \t---\t  0.0054\n",
        "             wedding  \t---\t  0.0047\n",
        "               going  \t---\t  0.0047\n",
        "                  rt  \t---\t  0.0044\n",
        "              report  \t---\t  0.0043\n",
        "               final  \t---\t  0.0043\n",
        "                  sa  \t---\t  0.0043\n",
        "\n",
        "topic 11:"
       ]
      },
      {
       "output_type": "stream",
       "stream": "stdout",
       "text": [
        "\n",
        "               today  \t---\t  0.0139\n",
        "              london  \t---\t  0.0119\n",
        "                 got  \t---\t  0.0088\n",
        "                 lol  \t---\t  0.0073\n",
        "                  ib  \t---\t  0.0068\n",
        "                  oh  \t---\t  0.0057\n",
        "               quant  \t---\t  0.0052\n",
        "             finance  \t---\t  0.0051\n",
        "               going  \t---\t  0.0050\n",
        "                stop  \t---\t  0.0047\n",
        "\n",
        "topic 12:"
       ]
      },
      {
       "output_type": "stream",
       "stream": "stdout",
       "text": [
        "\n",
        "              london  \t---\t  0.0263\n",
        "                last  \t---\t  0.0106\n",
        "                want  \t---\t  0.0082\n",
        "                  rt  \t---\t  0.0075\n",
        "             tonight  \t---\t  0.0072\n",
        "                   u  \t---\t  0.0061\n",
        "                time  \t---\t  0.0057\n",
        "               train  \t---\t  0.0052\n",
        "                 day  \t---\t  0.0049\n",
        "               great  \t---\t  0.0042\n",
        "\n",
        "0"
       ]
      },
      {
       "output_type": "stream",
       "stream": "stdout",
       "text": [
        " 1000\n",
        "topic 1:"
       ]
      },
      {
       "output_type": "stream",
       "stream": "stdout",
       "text": [
        "\n",
        "             olympic  \t---\t  0.0074\n",
        "            olympics  \t---\t  0.0066\n",
        "                miss  \t---\t  0.0034\n",
        "           drupalcon  \t---\t  0.0031\n",
        "             pleased  \t---\t  0.0031\n",
        "               proud  \t---\t  0.0027\n",
        "              jaques  \t---\t  0.0027\n",
        "                rent  \t---\t  0.0026\n",
        "            announce  \t---\t  0.0025\n",
        "      cameronwilding  \t---\t  0.0025\n",
        "\n",
        "topic 2:"
       ]
      },
      {
       "output_type": "stream",
       "stream": "stdout",
       "text": [
        "\n",
        "              london  \t---\t  0.0584\n",
        "                  im  \t---\t  0.0142\n",
        "               today  \t---\t  0.0128\n",
        "                 get  \t---\t  0.0083\n",
        "                 way  \t---\t  0.0082\n",
        "                jobs  \t---\t  0.0069\n",
        "                dont  \t---\t  0.0064\n",
        "                  ib  \t---\t  0.0063\n",
        "               would  \t---\t  0.0059\n",
        "                 job  \t---\t  0.0057\n",
        "\n",
        "topic 3:"
       ]
      },
      {
       "output_type": "stream",
       "stream": "stdout",
       "text": [
        "\n",
        "                work  \t---\t  0.0138\n",
        "                love  \t---\t  0.0138\n",
        "             londons  \t---\t  0.0102\n",
        "                days  \t---\t  0.0099\n",
        "             morning  \t---\t  0.0080\n",
        "                busy  \t---\t  0.0075\n",
        "            everyone  \t---\t  0.0064\n",
        "              better  \t---\t  0.0046\n",
        "                 tea  \t---\t  0.0040\n",
        "               looks  \t---\t  0.0040\n",
        "\n",
        "topic 4:"
       ]
      },
      {
       "output_type": "stream",
       "stream": "stdout",
       "text": [
        "\n",
        "              london  \t---\t  0.0295\n",
        "                back  \t---\t  0.0161\n",
        "               right  \t---\t  0.0076\n",
        "                best  \t---\t  0.0070\n",
        "                home  \t---\t  0.0069\n",
        "              escort  \t---\t  0.0069\n",
        "                make  \t---\t  0.0066\n",
        "                  im  \t---\t  0.0064\n",
        "                sure  \t---\t  0.0057\n",
        "               night  \t---\t  0.0053\n",
        "\n",
        "topic 5:"
       ]
      },
      {
       "output_type": "stream",
       "stream": "stdout",
       "text": [
        "\n",
        "              london  \t---\t  0.0398\n",
        "                  rt  \t---\t  0.0290\n",
        "            tomorrow  \t---\t  0.0197\n",
        "                 via  \t---\t  0.0196\n",
        "               union  \t---\t  0.0189\n",
        "                jack  \t---\t  0.0184\n",
        "                hats  \t---\t  0.0177\n",
        "              tramps  \t---\t  0.0173\n",
        "                flag  \t---\t  0.0173\n",
        "                hide  \t---\t  0.0172\n",
        "\n",
        "topic 6:"
       ]
      },
      {
       "output_type": "stream",
       "stream": "stdout",
       "text": [
        "\n",
        "              london  \t---\t  0.0231\n",
        "                jobs  \t---\t  0.0135\n",
        "                 job  \t---\t  0.0088\n",
        "             amazing  \t---\t  0.0071\n",
        "                  rt  \t---\t  0.0069\n",
        "         underground  \t---\t  0.0068\n",
        "             manager  \t---\t  0.0068\n",
        "                city  \t---\t  0.0067\n",
        "              hiring  \t---\t  0.0063\n",
        "                 new  \t---\t  0.0059\n",
        "\n",
        "topic 7:"
       ]
      },
      {
       "output_type": "stream",
       "stream": "stdout",
       "text": [
        "\n",
        "              london  \t---\t  0.0192\n",
        "               going  \t---\t  0.0154\n",
        "                 see  \t---\t  0.0065\n",
        "                  oh  \t---\t  0.0062\n",
        "                   o  \t---\t  0.0062\n",
        "                   b  \t---\t  0.0047\n",
        "             william  \t---\t  0.0043\n",
        "                 got  \t---\t  0.0042\n",
        "                  sa  \t---\t  0.0042\n",
        "                kate  \t---\t  0.0038\n",
        "\n",
        "topic 8:"
       ]
      },
      {
       "output_type": "stream",
       "stream": "stdout",
       "text": [
        "\n",
        "              london  \t---\t  0.0173\n",
        "                last  \t---\t  0.0135\n",
        "                 one  \t---\t  0.0123\n",
        "                 new  \t---\t  0.0112\n",
        "                want  \t---\t  0.0109\n",
        "                 lol  \t---\t  0.0075\n",
        "                next  \t---\t  0.0074\n",
        "                  en  \t---\t  0.0041\n",
        "              really  \t---\t  0.0040\n",
        "              school  \t---\t  0.0040\n",
        "\n",
        "topic 9:"
       ]
      },
      {
       "output_type": "stream",
       "stream": "stdout",
       "text": [
        "\n",
        "              london  \t---\t  0.0740\n",
        "                  rt  \t---\t  0.0188\n",
        "             wedding  \t---\t  0.0164\n",
        "               royal  \t---\t  0.0140\n",
        "                  uk  \t---\t  0.0079\n",
        "                   d  \t---\t  0.0077\n",
        "                   u  \t---\t  0.0074\n",
        "               great  \t---\t  0.0072\n",
        "                time  \t---\t  0.0071\n",
        "                  th  \t---\t  0.0071\n",
        "\n",
        "topic 10:"
       ]
      },
      {
       "output_type": "stream",
       "stream": "stdout",
       "text": [
        "\n",
        "              london  \t---\t  0.0622\n",
        "                  rt  \t---\t  0.0291\n",
        "        royalwedding  \t---\t  0.0256\n",
        "                  go  \t---\t  0.0242\n",
        "                live  \t---\t  0.0200\n",
        "               enews  \t---\t  0.0132\n",
        "             eonline  \t---\t  0.0129\n",
        "               hours  \t---\t  0.0128\n",
        "                  rw  \t---\t  0.0122\n",
        "           royalswed  \t---\t  0.0116\n",
        "\n",
        "topic 11:"
       ]
      },
      {
       "output_type": "stream",
       "stream": "stdout",
       "text": [
        "\n",
        "              london  \t---\t  0.0593\n",
        "                 day  \t---\t  0.0128\n",
        "                  rt  \t---\t  0.0125\n",
        "                 ill  \t---\t  0.0070\n",
        "                free  \t---\t  0.0067\n",
        "                come  \t---\t  0.0064\n",
        "                like  \t---\t  0.0062\n",
        "               media  \t---\t  0.0060\n",
        "             william  \t---\t  0.0055\n",
        "               still  \t---\t  0.0053\n",
        "\n",
        "topic 12:"
       ]
      },
      {
       "output_type": "stream",
       "stream": "stdout",
       "text": [
        "\n",
        "              london  \t---\t  0.0261\n",
        "               royal  \t---\t  0.0118\n",
        "             wedding  \t---\t  0.0090\n",
        "                time  \t---\t  0.0086\n",
        "               happy  \t---\t  0.0066\n",
        "               thats  \t---\t  0.0059\n",
        "             central  \t---\t  0.0056\n",
        "                take  \t---\t  0.0054\n",
        "            tomorrow  \t---\t  0.0049\n",
        "                know  \t---\t  0.0049\n",
        "\n",
        "0"
       ]
      },
      {
       "output_type": "stream",
       "stream": "stdout",
       "text": [
        " 1500\n",
        "topic 1:"
       ]
      },
      {
       "output_type": "stream",
       "stream": "stdout",
       "text": [
        "\n",
        "                back  \t---\t  0.0170\n",
        "              london  \t---\t  0.0167\n",
        "                   u  \t---\t  0.0106\n",
        "                show  \t---\t  0.0074\n",
        "                   o  \t---\t  0.0070\n",
        "               paris  \t---\t  0.0066\n",
        "                  di  \t---\t  0.0065\n",
        "                home  \t---\t  0.0063\n",
        "                haha  \t---\t  0.0061\n",
        "                make  \t---\t  0.0061\n",
        "\n",
        "topic 2:"
       ]
      },
      {
       "output_type": "stream",
       "stream": "stdout",
       "text": [
        "\n",
        "              london  \t---\t  0.0959\n",
        "                  rt  \t---\t  0.0348\n",
        "               royal  \t---\t  0.0208\n",
        "             wedding  \t---\t  0.0189\n",
        "        royalwedding  \t---\t  0.0166\n",
        "                  go  \t---\t  0.0159\n",
        "                live  \t---\t  0.0135\n",
        "                time  \t---\t  0.0131\n",
        "                 day  \t---\t  0.0102\n",
        "                  rw  \t---\t  0.0076\n",
        "\n",
        "topic 3:"
       ]
      },
      {
       "output_type": "stream",
       "stream": "stdout",
       "text": [
        "\n",
        "              london  \t---\t  0.0546\n",
        "                help  \t---\t  0.0103\n",
        "               right  \t---\t  0.0084\n",
        "             weather  \t---\t  0.0079\n",
        "                well  \t---\t  0.0067\n",
        "                best  \t---\t  0.0066\n",
        "             wedding  \t---\t  0.0064\n",
        "                 big  \t---\t  0.0062\n",
        "                   k  \t---\t  0.0059\n",
        "               thats  \t---\t  0.0057\n",
        "\n",
        "topic 4:"
       ]
      },
      {
       "output_type": "stream",
       "stream": "stdout",
       "text": [
        "\n",
        "              london  \t---\t  0.0128\n",
        "               happy  \t---\t  0.0102\n",
        "               music  \t---\t  0.0063\n",
        "                real  \t---\t  0.0062\n",
        "               radio  \t---\t  0.0058\n",
        "          nowplaying  \t---\t  0.0056\n",
        "                 bus  \t---\t  0.0053\n",
        "           barcelona  \t---\t  0.0042\n",
        "                 apr  \t---\t  0.0042\n",
        "              people  \t---\t  0.0041\n",
        "\n",
        "topic 5:"
       ]
      },
      {
       "output_type": "stream",
       "stream": "stdout",
       "text": [
        "\n",
        "              london  \t---\t  0.0260\n",
        "                last  \t---\t  0.0205\n",
        "            business  \t---\t  0.0130\n",
        "                want  \t---\t  0.0127\n",
        "                week  \t---\t  0.0089\n",
        "                 got  \t---\t  0.0086\n",
        "               still  \t---\t  0.0084\n",
        "                  ib  \t---\t  0.0083\n",
        "                maps  \t---\t  0.0079\n",
        "             finance  \t---\t  0.0073\n",
        "\n",
        "topic 6:"
       ]
      },
      {
       "output_type": "stream",
       "stream": "stdout",
       "text": [
        "\n",
        "              london  \t---\t  0.0503\n",
        "                  rt  \t---\t  0.0382\n",
        "                 via  \t---\t  0.0181\n",
        "            tomorrow  \t---\t  0.0167\n",
        "                jack  \t---\t  0.0159\n",
        "               union  \t---\t  0.0157\n",
        "                hats  \t---\t  0.0145\n",
        "                flag  \t---\t  0.0142\n",
        "                hide  \t---\t  0.0142\n",
        "             issuing  \t---\t  0.0142\n",
        "\n",
        "topic 7:"
       ]
      },
      {
       "output_type": "stream",
       "stream": "stdout",
       "text": [
        "\n",
        "              london  \t---\t  0.0266\n",
        "                  im  \t---\t  0.0113\n",
        "                  xx  \t---\t  0.0093\n",
        "                 way  \t---\t  0.0089\n",
        "                   p  \t---\t  0.0083\n",
        "                  st  \t---\t  0.0079\n",
        "               world  \t---\t  0.0072\n",
        "            olympics  \t---\t  0.0060\n",
        "             olympic  \t---\t  0.0057\n",
        "              coming  \t---\t  0.0056\n",
        "\n",
        "topic 8:"
       ]
      },
      {
       "output_type": "stream",
       "stream": "stdout",
       "text": [
        "\n",
        "              london  \t---\t  0.0160\n",
        "              street  \t---\t  0.0127\n",
        "               would  \t---\t  0.0103\n",
        "                east  \t---\t  0.0103\n",
        "              events  \t---\t  0.0093\n",
        "                high  \t---\t  0.0084\n",
        "                 top  \t---\t  0.0059\n",
        "              really  \t---\t  0.0056\n",
        "             calling  \t---\t  0.0050\n",
        "                  rt  \t---\t  0.0044\n",
        "\n",
        "topic 9:"
       ]
      },
      {
       "output_type": "stream",
       "stream": "stdout",
       "text": [
        "\n",
        "              london  \t---\t  0.0235\n",
        "             william  \t---\t  0.0163\n",
        "                kate  \t---\t  0.0158\n",
        "                 lol  \t---\t  0.0116\n",
        "             morning  \t---\t  0.0098\n",
        "              prince  \t---\t  0.0079\n",
        "                  im  \t---\t  0.0076\n",
        "                 sun  \t---\t  0.0068\n",
        "                 die  \t---\t  0.0058\n",
        "               never  \t---\t  0.0057\n",
        "\n",
        "topic 10:"
       ]
      },
      {
       "output_type": "stream",
       "stream": "stdout",
       "text": [
        "\n",
        "              london  \t---\t  0.0108\n",
        "                  de  \t---\t  0.0060\n",
        "                  en  \t---\t  0.0050\n",
        "                  rt  \t---\t  0.0045\n",
        "               looks  \t---\t  0.0043\n",
        "                 bad  \t---\t  0.0043\n",
        "                  mr  \t---\t  0.0043\n",
        "              always  \t---\t  0.0030\n",
        "                  el  \t---\t  0.0028\n",
        "                fine  \t---\t  0.0028\n",
        "\n",
        "topic 11:"
       ]
      },
      {
       "output_type": "stream",
       "stream": "stdout",
       "text": [
        "\n",
        "              london  \t---\t  0.0214\n",
        "             londons  \t---\t  0.0122\n",
        "                  th  \t---\t  0.0117\n",
        "                love  \t---\t  0.0112\n",
        "              school  \t---\t  0.0097\n",
        "                work  \t---\t  0.0094\n",
        "                 may  \t---\t  0.0092\n",
        "                  pm  \t---\t  0.0063\n",
        "              theres  \t---\t  0.0060\n",
        "                busy  \t---\t  0.0056\n",
        "\n",
        "topic 12:"
       ]
      },
      {
       "output_type": "stream",
       "stream": "stdout",
       "text": [
        "\n",
        "              london  \t---\t  0.0842\n",
        "                jobs  \t---\t  0.0162\n",
        "               today  \t---\t  0.0125\n",
        "                 new  \t---\t  0.0124\n",
        "                 job  \t---\t  0.0119\n",
        "                  uk  \t---\t  0.0108\n",
        "               going  \t---\t  0.0104\n",
        "                  im  \t---\t  0.0085\n",
        "                  ke  \t---\t  0.0081\n",
        "                city  \t---\t  0.0070\n",
        "\n",
        "0"
       ]
      },
      {
       "output_type": "stream",
       "stream": "stdout",
       "text": [
        " 2000\n",
        "topic 1:"
       ]
      },
      {
       "output_type": "stream",
       "stream": "stdout",
       "text": [
        "\n",
        "              london  \t---\t  0.0601\n",
        "               royal  \t---\t  0.0327\n",
        "             wedding  \t---\t  0.0305\n",
        "            business  \t---\t  0.0109\n",
        "                help  \t---\t  0.0087\n",
        "               right  \t---\t  0.0079\n",
        "             weather  \t---\t  0.0075\n",
        "                   k  \t---\t  0.0070\n",
        "                best  \t---\t  0.0070\n",
        "            tomorrow  \t---\t  0.0066\n",
        "\n",
        "topic 2:"
       ]
      },
      {
       "output_type": "stream",
       "stream": "stdout",
       "text": [
        "\n",
        "              london  \t---\t  0.0332\n",
        "               would  \t---\t  0.0107\n",
        "                  ok  \t---\t  0.0094\n",
        "                  rt  \t---\t  0.0088\n",
        "               think  \t---\t  0.0085\n",
        "                  tv  \t---\t  0.0084\n",
        "                east  \t---\t  0.0083\n",
        "            actually  \t---\t  0.0074\n",
        "                  oh  \t---\t  0.0071\n",
        "                take  \t---\t  0.0064\n",
        "\n",
        "topic 3:"
       ]
      },
      {
       "output_type": "stream",
       "stream": "stdout",
       "text": [
        "\n",
        "             londons  \t---\t  0.0179\n",
        "                love  \t---\t  0.0163\n",
        "                work  \t---\t  0.0141\n",
        "             morning  \t---\t  0.0135\n",
        "                  rt  \t---\t  0.0099\n",
        "                busy  \t---\t  0.0090\n",
        "              better  \t---\t  0.0073\n",
        "                 tea  \t---\t  0.0070\n",
        "             network  \t---\t  0.0066\n",
        "              second  \t---\t  0.0065\n",
        "\n",
        "topic 4:"
       ]
      },
      {
       "output_type": "stream",
       "stream": "stdout",
       "text": [
        "\n",
        "              london  \t---\t  0.0721\n",
        "                  rt  \t---\t  0.0346\n",
        "        royalwedding  \t---\t  0.0263\n",
        "                live  \t---\t  0.0220\n",
        "                  go  \t---\t  0.0210\n",
        "             wedding  \t---\t  0.0146\n",
        "                last  \t---\t  0.0133\n",
        "               hours  \t---\t  0.0122\n",
        "                 see  \t---\t  0.0118\n",
        "                  rw  \t---\t  0.0112\n",
        "\n",
        "topic 5:"
       ]
      },
      {
       "output_type": "stream",
       "stream": "stdout",
       "text": [
        "\n",
        "              london  \t---\t  0.1000\n",
        "                  im  \t---\t  0.0188\n",
        "                  rt  \t---\t  0.0109\n",
        "                back  \t---\t  0.0100\n",
        "                well  \t---\t  0.0075\n",
        "             tonight  \t---\t  0.0069\n",
        "              street  \t---\t  0.0064\n",
        "                  us  \t---\t  0.0059\n",
        "                home  \t---\t  0.0057\n",
        "             getting  \t---\t  0.0054\n",
        "\n",
        "topic 6:"
       ]
      },
      {
       "output_type": "stream",
       "stream": "stdout",
       "text": [
        "\n",
        "              london  \t---\t  0.0455\n",
        "                time  \t---\t  0.0176\n",
        "                  uk  \t---\t  0.0173\n",
        "                   d  \t---\t  0.0147\n",
        "              school  \t---\t  0.0090\n",
        "                  us  \t---\t  0.0087\n",
        "               paris  \t---\t  0.0066\n",
        "                   u  \t---\t  0.0064\n",
        "                  rt  \t---\t  0.0055\n",
        "               sales  \t---\t  0.0054\n",
        "\n",
        "topic 7:"
       ]
      },
      {
       "output_type": "stream",
       "stream": "stdout",
       "text": [
        "\n",
        "              london  \t---\t  0.0204\n",
        "              travel  \t---\t  0.0149\n",
        "                free  \t---\t  0.0143\n",
        "              iphone  \t---\t  0.0137\n",
        "                time  \t---\t  0.0121\n",
        "               music  \t---\t  0.0082\n",
        "                save  \t---\t  0.0078\n",
        "                tips  \t---\t  0.0072\n",
        "              thanks  \t---\t  0.0070\n",
        "           homepages  \t---\t  0.0068\n",
        "\n",
        "topic 8:"
       ]
      },
      {
       "output_type": "stream",
       "stream": "stdout",
       "text": [
        "\n",
        "             william  \t---\t  0.0185\n",
        "                kate  \t---\t  0.0177\n",
        "              london  \t---\t  0.0142\n",
        "               world  \t---\t  0.0132\n",
        "               thats  \t---\t  0.0094\n",
        "                news  \t---\t  0.0070\n",
        "                life  \t---\t  0.0060\n",
        "               reina  \t---\t  0.0042\n",
        "                  mr  \t---\t  0.0041\n",
        "                stay  \t---\t  0.0038\n",
        "\n",
        "topic 9:"
       ]
      },
      {
       "output_type": "stream",
       "stream": "stdout",
       "text": [
        "\n",
        "                 way  \t---\t  0.0158\n",
        "                cant  \t---\t  0.0109\n",
        "             morning  \t---\t  0.0081\n",
        "                 die  \t---\t  0.0080\n",
        "                wait  \t---\t  0.0078\n",
        "              living  \t---\t  0.0052\n",
        "                  ur  \t---\t  0.0048\n",
        "               metro  \t---\t  0.0045\n",
        "               could  \t---\t  0.0044\n",
        "               dream  \t---\t  0.0043\n",
        "\n",
        "topic 10:"
       ]
      },
      {
       "output_type": "stream",
       "stream": "stdout",
       "text": [
        "\n",
        "              london  \t---\t  0.0738\n",
        "                jobs  \t---\t  0.0142\n",
        "                 job  \t---\t  0.0126\n",
        "                  im  \t---\t  0.0124\n",
        "               today  \t---\t  0.0100\n",
        "                 get  \t---\t  0.0093\n",
        "                dont  \t---\t  0.0072\n",
        "                want  \t---\t  0.0071\n",
        "                  rt  \t---\t  0.0069\n",
        "                 day  \t---\t  0.0068\n",
        "\n",
        "topic 11:"
       ]
      },
      {
       "output_type": "stream",
       "stream": "stdout",
       "text": [
        "\n",
        "              london  \t---\t  0.0514\n",
        "                  rt  \t---\t  0.0413\n",
        "            tomorrow  \t---\t  0.0195\n",
        "                 via  \t---\t  0.0189\n",
        "                jack  \t---\t  0.0156\n",
        "               union  \t---\t  0.0154\n",
        "                hats  \t---\t  0.0146\n",
        "              tramps  \t---\t  0.0146\n",
        "                flag  \t---\t  0.0143\n",
        "                hide  \t---\t  0.0143\n",
        "\n",
        "topic 12:"
       ]
      },
      {
       "output_type": "stream",
       "stream": "stdout",
       "text": [
        "\n",
        "                real  \t---\t  0.0111\n",
        "                star  \t---\t  0.0062\n",
        "                 rat  \t---\t  0.0061\n",
        "                 bus  \t---\t  0.0057\n",
        "                  la  \t---\t  0.0057\n",
        "              raided  \t---\t  0.0057\n",
        "                 apr  \t---\t  0.0046\n",
        "              london  \t---\t  0.0043\n",
        "           barcelona  \t---\t  0.0041\n",
        "              police  \t---\t  0.0039\n",
        "\n",
        "0"
       ]
      },
      {
       "output_type": "stream",
       "stream": "stdout",
       "text": [
        " 2500\n",
        "topic 1:"
       ]
      },
      {
       "output_type": "stream",
       "stream": "stdout",
       "text": [
        "\n",
        "              london  \t---\t  0.0194\n",
        "             morning  \t---\t  0.0109\n",
        "                 got  \t---\t  0.0105\n",
        "                real  \t---\t  0.0100\n",
        "                  oh  \t---\t  0.0090\n",
        "                 sun  \t---\t  0.0087\n",
        "                 two  \t---\t  0.0083\n",
        "                cold  \t---\t  0.0061\n",
        "              around  \t---\t  0.0057\n",
        "                 lol  \t---\t  0.0054\n",
        "\n",
        "topic 2:"
       ]
      },
      {
       "output_type": "stream",
       "stream": "stdout",
       "text": [
        "\n",
        "              london  \t---\t  0.0506\n",
        "                  rt  \t---\t  0.0456\n",
        "        royalwedding  \t---\t  0.0425\n",
        "                  go  \t---\t  0.0373\n",
        "                live  \t---\t  0.0259\n",
        "               hours  \t---\t  0.0205\n",
        "                  rw  \t---\t  0.0178\n",
        "             eonline  \t---\t  0.0175\n",
        "               enews  \t---\t  0.0172\n",
        "           royalswed  \t---\t  0.0161\n",
        "\n",
        "topic 3:"
       ]
      },
      {
       "output_type": "stream",
       "stream": "stdout",
       "text": [
        "\n",
        "              london  \t---\t  0.0708\n",
        "                  rt  \t---\t  0.0460\n",
        "            tomorrow  \t---\t  0.0236\n",
        "                 via  \t---\t  0.0220\n",
        "                jack  \t---\t  0.0171\n",
        "               union  \t---\t  0.0170\n",
        "                flag  \t---\t  0.0163\n",
        "              tramps  \t---\t  0.0163\n",
        "                hats  \t---\t  0.0163\n",
        "                hide  \t---\t  0.0160\n",
        "\n",
        "topic 4:"
       ]
      },
      {
       "output_type": "stream",
       "stream": "stdout",
       "text": [
        "\n",
        "              london  \t---\t  0.0294\n",
        "                back  \t---\t  0.0247\n",
        "                next  \t---\t  0.0153\n",
        "                home  \t---\t  0.0116\n",
        "                make  \t---\t  0.0080\n",
        "               night  \t---\t  0.0077\n",
        "                   m  \t---\t  0.0076\n",
        "             excited  \t---\t  0.0067\n",
        "              thanks  \t---\t  0.0064\n",
        "                 day  \t---\t  0.0062\n",
        "\n",
        "topic 5:"
       ]
      },
      {
       "output_type": "stream",
       "stream": "stdout",
       "text": [
        "\n",
        "              london  \t---\t  0.0960\n",
        "                time  \t---\t  0.0143\n",
        "                   u  \t---\t  0.0113\n",
        "                  im  \t---\t  0.0101\n",
        "                  us  \t---\t  0.0087\n",
        "                  rt  \t---\t  0.0085\n",
        "                 way  \t---\t  0.0075\n",
        "                 new  \t---\t  0.0075\n",
        "            business  \t---\t  0.0070\n",
        "                well  \t---\t  0.0069\n",
        "\n",
        "topic 6:"
       ]
      },
      {
       "output_type": "stream",
       "stream": "stdout",
       "text": [
        "\n",
        "              london  \t---\t  0.0764\n",
        "             wedding  \t---\t  0.0296\n",
        "               royal  \t---\t  0.0271\n",
        "                  uk  \t---\t  0.0117\n",
        "                want  \t---\t  0.0092\n",
        "                love  \t---\t  0.0084\n",
        "                news  \t---\t  0.0084\n",
        "             getting  \t---\t  0.0075\n",
        "              really  \t---\t  0.0072\n",
        "                work  \t---\t  0.0072\n",
        "\n",
        "topic 7:"
       ]
      },
      {
       "output_type": "stream",
       "stream": "stdout",
       "text": [
        "\n",
        "              london  \t---\t  0.0313\n",
        "                 job  \t---\t  0.0150\n",
        "                  ib  \t---\t  0.0118\n",
        "                 lol  \t---\t  0.0109\n",
        "             finance  \t---\t  0.0103\n",
        "                   k  \t---\t  0.0101\n",
        "               quant  \t---\t  0.0079\n",
        "                jobs  \t---\t  0.0070\n",
        "               never  \t---\t  0.0058\n",
        "                soon  \t---\t  0.0055\n",
        "\n",
        "topic 8:"
       ]
      },
      {
       "output_type": "stream",
       "stream": "stdout",
       "text": [
        "\n",
        "              london  \t---\t  0.0453\n",
        "                  rt  \t---\t  0.0187\n",
        "                last  \t---\t  0.0159\n",
        "                 day  \t---\t  0.0147\n",
        "                  im  \t---\t  0.0114\n",
        "                 ill  \t---\t  0.0097\n",
        "               would  \t---\t  0.0093\n",
        "               think  \t---\t  0.0083\n",
        "               still  \t---\t  0.0082\n",
        "                east  \t---\t  0.0081\n",
        "\n",
        "topic 9:"
       ]
      },
      {
       "output_type": "stream",
       "stream": "stdout",
       "text": [
        "\n",
        "              london  \t---\t  0.0095\n",
        "                  de  \t---\t  0.0091\n",
        "            everyone  \t---\t  0.0069\n",
        "               reina  \t---\t  0.0042\n",
        "                  mr  \t---\t  0.0042\n",
        "                  lo  \t---\t  0.0041\n",
        "                   u  \t---\t  0.0036\n",
        "              coffee  \t---\t  0.0035\n",
        "               thing  \t---\t  0.0034\n",
        "                  tv  \t---\t  0.0033\n",
        "\n",
        "topic 10:"
       ]
      },
      {
       "output_type": "stream",
       "stream": "stdout",
       "text": [
        "\n",
        "               today  \t---\t  0.0290\n",
        "              london  \t---\t  0.0233\n",
        "                  di  \t---\t  0.0184\n",
        "                   o  \t---\t  0.0110\n",
        "               watch  \t---\t  0.0105\n",
        "                 ada  \t---\t  0.0088\n",
        "                buat  \t---\t  0.0078\n",
        "                live  \t---\t  0.0077\n",
        "                nice  \t---\t  0.0066\n",
        "                  rt  \t---\t  0.0052\n",
        "\n",
        "topic 11:"
       ]
      },
      {
       "output_type": "stream",
       "stream": "stdout",
       "text": [
        "\n",
        "              london  \t---\t  0.0361\n",
        "                kate  \t---\t  0.0233\n",
        "                 one  \t---\t  0.0188\n",
        "             william  \t---\t  0.0174\n",
        "                  th  \t---\t  0.0159\n",
        "                 see  \t---\t  0.0147\n",
        "                 may  \t---\t  0.0141\n",
        "                  pm  \t---\t  0.0094\n",
        "                sure  \t---\t  0.0059\n",
        "                 ive  \t---\t  0.0055\n",
        "\n",
        "topic 12:"
       ]
      },
      {
       "output_type": "stream",
       "stream": "stdout",
       "text": [
        "\n",
        "              london  \t---\t  0.0619\n",
        "                  rt  \t---\t  0.0179\n",
        "                jobs  \t---\t  0.0170\n",
        "                  ke  \t---\t  0.0162\n",
        "                   d  \t---\t  0.0131\n",
        "                 job  \t---\t  0.0085\n",
        "                city  \t---\t  0.0078\n",
        "              school  \t---\t  0.0076\n",
        "                  ya  \t---\t  0.0064\n",
        "                 mau  \t---\t  0.0059\n",
        "\n",
        "0"
       ]
      },
      {
       "output_type": "stream",
       "stream": "stdout",
       "text": [
        " 3000\n",
        "topic 1:"
       ]
      },
      {
       "output_type": "stream",
       "stream": "stdout",
       "text": [
        "\n",
        "              london  \t---\t  0.0597\n",
        "               going  \t---\t  0.0193\n",
        "                  rt  \t---\t  0.0167\n",
        "                 day  \t---\t  0.0155\n",
        "                kate  \t---\t  0.0131\n",
        "             william  \t---\t  0.0120\n",
        "                next  \t---\t  0.0115\n",
        "             wedding  \t---\t  0.0080\n",
        "                 big  \t---\t  0.0074\n",
        "              ticket  \t---\t  0.0067\n",
        "\n",
        "topic 2:"
       ]
      },
      {
       "output_type": "stream",
       "stream": "stdout",
       "text": [
        "\n",
        "              london  \t---\t  0.0687\n",
        "                back  \t---\t  0.0191\n",
        "                   u  \t---\t  0.0173\n",
        "                  im  \t---\t  0.0162\n",
        "                 see  \t---\t  0.0119\n",
        "                 may  \t---\t  0.0117\n",
        "                  th  \t---\t  0.0117\n",
        "                time  \t---\t  0.0111\n",
        "                home  \t---\t  0.0095\n",
        "               night  \t---\t  0.0078\n",
        "\n",
        "topic 3:"
       ]
      },
      {
       "output_type": "stream",
       "stream": "stdout",
       "text": [
        "\n",
        "              london  \t---\t  0.0446\n",
        "                 aku  \t---\t  0.0134\n",
        "                hope  \t---\t  0.0101\n",
        "               paris  \t---\t  0.0087\n",
        "                   c  \t---\t  0.0086\n",
        "                   b  \t---\t  0.0078\n",
        "                nice  \t---\t  0.0074\n",
        "                   w  \t---\t  0.0069\n",
        "                  rt  \t---\t  0.0050\n",
        "                  sa  \t---\t  0.0050\n",
        "\n",
        "topic 4:"
       ]
      },
      {
       "output_type": "stream",
       "stream": "stdout",
       "text": [
        "\n",
        "              london  \t---\t  0.0804\n",
        "                  rt  \t---\t  0.0412\n",
        "            tomorrow  \t---\t  0.0198\n",
        "               today  \t---\t  0.0197\n",
        "                 via  \t---\t  0.0176\n",
        "                  uk  \t---\t  0.0151\n",
        "                jack  \t---\t  0.0135\n",
        "               union  \t---\t  0.0134\n",
        "                flag  \t---\t  0.0127\n",
        "                hats  \t---\t  0.0127\n",
        "\n",
        "topic 5:"
       ]
      },
      {
       "output_type": "stream",
       "stream": "stdout",
       "text": [
        "\n",
        "              london  \t---\t  0.0339\n",
        "                   d  \t---\t  0.0221\n",
        "             getting  \t---\t  0.0122\n",
        "             tonight  \t---\t  0.0120\n",
        "               still  \t---\t  0.0117\n",
        "                   k  \t---\t  0.0109\n",
        "                  ib  \t---\t  0.0105\n",
        "             finance  \t---\t  0.0092\n",
        "             reuters  \t---\t  0.0075\n",
        "               quant  \t---\t  0.0074\n",
        "\n",
        "topic 6:"
       ]
      },
      {
       "output_type": "stream",
       "stream": "stdout",
       "text": [
        "\n",
        "                 one  \t---\t  0.0237\n",
        "                good  \t---\t  0.0154\n",
        "              school  \t---\t  0.0135\n",
        "              london  \t---\t  0.0123\n",
        "                 two  \t---\t  0.0077\n",
        "                  en  \t---\t  0.0068\n",
        "                  ga  \t---\t  0.0060\n",
        "                 ive  \t---\t  0.0052\n",
        "                 old  \t---\t  0.0052\n",
        "               might  \t---\t  0.0048\n",
        "\n",
        "topic 7:"
       ]
      },
      {
       "output_type": "stream",
       "stream": "stdout",
       "text": [
        "\n",
        "              london  \t---\t  0.0772\n",
        "                  rt  \t---\t  0.0483\n",
        "               royal  \t---\t  0.0300\n",
        "             wedding  \t---\t  0.0274\n",
        "        royalwedding  \t---\t  0.0236\n",
        "                  go  \t---\t  0.0190\n",
        "                live  \t---\t  0.0187\n",
        "                  ke  \t---\t  0.0155\n",
        "               hours  \t---\t  0.0135\n",
        "                  rw  \t---\t  0.0113\n",
        "\n",
        "topic 8:"
       ]
      },
      {
       "output_type": "stream",
       "stream": "stdout",
       "text": [
        "\n",
        "              london  \t---\t  0.1032\n",
        "                jobs  \t---\t  0.0205\n",
        "                  im  \t---\t  0.0129\n",
        "                 new  \t---\t  0.0125\n",
        "                 job  \t---\t  0.0110\n",
        "                  us  \t---\t  0.0093\n",
        "                 way  \t---\t  0.0078\n",
        "             manager  \t---\t  0.0076\n",
        "              street  \t---\t  0.0070\n",
        "           marketing  \t---\t  0.0069\n",
        "\n",
        "topic 9:"
       ]
      },
      {
       "output_type": "stream",
       "stream": "stdout",
       "text": [
        "\n",
        "                last  \t---\t  0.0257\n",
        "              london  \t---\t  0.0202\n",
        "            business  \t---\t  0.0168\n",
        "                cant  \t---\t  0.0115\n",
        "                week  \t---\t  0.0112\n",
        "               class  \t---\t  0.0102\n",
        "                 sun  \t---\t  0.0083\n",
        "                wait  \t---\t  0.0081\n",
        "               royal  \t---\t  0.0071\n",
        "              events  \t---\t  0.0070\n",
        "\n",
        "topic 10:"
       ]
      },
      {
       "output_type": "stream",
       "stream": "stdout",
       "text": [
        "\n",
        "              london  \t---\t  0.0187\n",
        "                free  \t---\t  0.0163\n",
        "              travel  \t---\t  0.0126\n",
        "               media  \t---\t  0.0122\n",
        "                come  \t---\t  0.0118\n",
        "              iphone  \t---\t  0.0117\n",
        "               music  \t---\t  0.0098\n",
        "          nowplaying  \t---\t  0.0096\n",
        "           developer  \t---\t  0.0084\n",
        "               radio  \t---\t  0.0083\n",
        "\n",
        "topic 11:"
       ]
      },
      {
       "output_type": "stream",
       "stream": "stdout",
       "text": [
        "\n",
        "              london  \t---\t  0.0567\n",
        "                want  \t---\t  0.0171\n",
        "               would  \t---\t  0.0139\n",
        "                east  \t---\t  0.0124\n",
        "               right  \t---\t  0.0117\n",
        "                help  \t---\t  0.0105\n",
        "                best  \t---\t  0.0103\n",
        "               girls  \t---\t  0.0082\n",
        "              escort  \t---\t  0.0059\n",
        "             olympic  \t---\t  0.0058\n",
        "\n",
        "topic 12:"
       ]
      },
      {
       "output_type": "stream",
       "stream": "stdout",
       "text": [
        "\n",
        "             morning  \t---\t  0.0150\n",
        "                love  \t---\t  0.0136\n",
        "              london  \t---\t  0.0131\n",
        "             londons  \t---\t  0.0123\n",
        "                well  \t---\t  0.0116\n",
        "                work  \t---\t  0.0111\n",
        "                 day  \t---\t  0.0109\n",
        "                  rt  \t---\t  0.0101\n",
        "         underground  \t---\t  0.0079\n",
        "                 lol  \t---\t  0.0078\n",
        "\n",
        "0"
       ]
      },
      {
       "output_type": "stream",
       "stream": "stdout",
       "text": [
        " 3500\n",
        "topic 1:"
       ]
      },
      {
       "output_type": "stream",
       "stream": "stdout",
       "text": [
        "\n",
        "              london  \t---\t  0.0369\n",
        "                  th  \t---\t  0.0168\n",
        "            business  \t---\t  0.0154\n",
        "                 may  \t---\t  0.0135\n",
        "                  pm  \t---\t  0.0123\n",
        "              people  \t---\t  0.0092\n",
        "               first  \t---\t  0.0085\n",
        "            olympics  \t---\t  0.0082\n",
        "              ticket  \t---\t  0.0080\n",
        "               house  \t---\t  0.0079\n",
        "\n",
        "topic 2:"
       ]
      },
      {
       "output_type": "stream",
       "stream": "stdout",
       "text": [
        "\n",
        "               world  \t---\t  0.0136\n",
        "                sure  \t---\t  0.0095\n",
        "                  ur  \t---\t  0.0081\n",
        "              stupid  \t---\t  0.0076\n",
        "                week  \t---\t  0.0071\n",
        "             someone  \t---\t  0.0067\n",
        "               ready  \t---\t  0.0066\n",
        "               women  \t---\t  0.0062\n",
        "                shit  \t---\t  0.0058\n",
        "            teaching  \t---\t  0.0054\n",
        "\n",
        "topic 3:"
       ]
      },
      {
       "output_type": "stream",
       "stream": "stdout",
       "text": [
        "\n",
        "              better  \t---\t  0.0099\n",
        "           fucktyler  \t---\t  0.0055\n",
        "              london  \t---\t  0.0049\n",
        "                july  \t---\t  0.0047\n",
        "              garden  \t---\t  0.0047\n",
        "            hospital  \t---\t  0.0044\n",
        "                keep  \t---\t  0.0039\n",
        "                  lo  \t---\t  0.0035\n",
        "                call  \t---\t  0.0034\n",
        "                dale  \t---\t  0.0034\n",
        "\n",
        "topic 4:"
       ]
      },
      {
       "output_type": "stream",
       "stream": "stdout",
       "text": [
        "\n",
        "              london  \t---\t  0.0745\n",
        "                jobs  \t---\t  0.0236\n",
        "                back  \t---\t  0.0205\n",
        "                  uk  \t---\t  0.0175\n",
        "                 job  \t---\t  0.0144\n",
        "                next  \t---\t  0.0097\n",
        "                home  \t---\t  0.0093\n",
        "             manager  \t---\t  0.0081\n",
        "                  ib  \t---\t  0.0078\n",
        "              school  \t---\t  0.0070\n",
        "\n",
        "topic 5:"
       ]
      },
      {
       "output_type": "stream",
       "stream": "stdout",
       "text": [
        "\n",
        "              london  \t---\t  0.0609\n",
        "                  rt  \t---\t  0.0327\n",
        "            tomorrow  \t---\t  0.0290\n",
        "                 via  \t---\t  0.0226\n",
        "                jack  \t---\t  0.0162\n",
        "               union  \t---\t  0.0160\n",
        "                hats  \t---\t  0.0152\n",
        "                flag  \t---\t  0.0150\n",
        "              tramps  \t---\t  0.0147\n",
        "             issuing  \t---\t  0.0145\n",
        "\n",
        "topic 6:"
       ]
      },
      {
       "output_type": "stream",
       "stream": "stdout",
       "text": [
        "\n",
        "              london  \t---\t  0.0771\n",
        "                  rt  \t---\t  0.0171\n",
        "                 day  \t---\t  0.0146\n",
        "               today  \t---\t  0.0106\n",
        "                like  \t---\t  0.0100\n",
        "             william  \t---\t  0.0095\n",
        "                kate  \t---\t  0.0091\n",
        "             morning  \t---\t  0.0082\n",
        "                love  \t---\t  0.0080\n",
        "                 see  \t---\t  0.0076\n",
        "\n",
        "topic 7:"
       ]
      },
      {
       "output_type": "stream",
       "stream": "stdout",
       "text": [
        "\n",
        "               would  \t---\t  0.0210\n",
        "                east  \t---\t  0.0192\n",
        "                nyse  \t---\t  0.0116\n",
        "                 bid  \t---\t  0.0115\n",
        "            euronext  \t---\t  0.0107\n",
        "            deutsche  \t---\t  0.0066\n",
        "               every  \t---\t  0.0064\n",
        "               looks  \t---\t  0.0055\n",
        "                 car  \t---\t  0.0053\n",
        "              street  \t---\t  0.0050\n",
        "\n",
        "topic 8:"
       ]
      },
      {
       "output_type": "stream",
       "stream": "stdout",
       "text": [
        "\n",
        "              london  \t---\t  0.0267\n",
        "                   k  \t---\t  0.0143\n",
        "                  ok  \t---\t  0.0096\n",
        "                  de  \t---\t  0.0089\n",
        "                  en  \t---\t  0.0070\n",
        "                soon  \t---\t  0.0070\n",
        "                 die  \t---\t  0.0059\n",
        "               visit  \t---\t  0.0055\n",
        "                siap  \t---\t  0.0055\n",
        "             packing  \t---\t  0.0054\n",
        "\n",
        "topic 9:"
       ]
      },
      {
       "output_type": "stream",
       "stream": "stdout",
       "text": [
        "\n",
        "              london  \t---\t  0.0322\n",
        "                good  \t---\t  0.0164\n",
        "                 way  \t---\t  0.0156\n",
        "               still  \t---\t  0.0134\n",
        "                  rt  \t---\t  0.0104\n",
        "               thats  \t---\t  0.0087\n",
        "                haha  \t---\t  0.0084\n",
        "               paris  \t---\t  0.0084\n",
        "                 ada  \t---\t  0.0079\n",
        "                  im  \t---\t  0.0076\n",
        "\n",
        "topic 10:"
       ]
      },
      {
       "output_type": "stream",
       "stream": "stdout",
       "text": [
        "\n",
        "              london  \t---\t  0.1127\n",
        "                  rt  \t---\t  0.0305\n",
        "             wedding  \t---\t  0.0225\n",
        "               royal  \t---\t  0.0200\n",
        "        royalwedding  \t---\t  0.0191\n",
        "                  go  \t---\t  0.0183\n",
        "                  im  \t---\t  0.0176\n",
        "                live  \t---\t  0.0138\n",
        "               going  \t---\t  0.0108\n",
        "                last  \t---\t  0.0089\n",
        "\n",
        "topic 11:"
       ]
      },
      {
       "output_type": "stream",
       "stream": "stdout",
       "text": [
        "\n",
        "                 got  \t---\t  0.0157\n",
        "                  oh  \t---\t  0.0123\n",
        "              london  \t---\t  0.0112\n",
        "                left  \t---\t  0.0091\n",
        "              thanks  \t---\t  0.0091\n",
        "               event  \t---\t  0.0066\n",
        "                 afp  \t---\t  0.0066\n",
        "                june  \t---\t  0.0062\n",
        "                 day  \t---\t  0.0059\n",
        "          manchester  \t---\t  0.0039\n",
        "\n",
        "topic 12:"
       ]
      },
      {
       "output_type": "stream",
       "stream": "stdout",
       "text": [
        "\n",
        "              london  \t---\t  0.0613\n",
        "                  rt  \t---\t  0.0236\n",
        "                  ke  \t---\t  0.0190\n",
        "                 mau  \t---\t  0.0090\n",
        "                  ya  \t---\t  0.0078\n",
        "               today  \t---\t  0.0075\n",
        "                  im  \t---\t  0.0073\n",
        "                wish  \t---\t  0.0069\n",
        "             airport  \t---\t  0.0065\n",
        "                 aku  \t---\t  0.0064\n",
        "\n",
        "0"
       ]
      },
      {
       "output_type": "stream",
       "stream": "stdout",
       "text": [
        " 4000\n",
        "topic 1:"
       ]
      },
      {
       "output_type": "stream",
       "stream": "stdout",
       "text": [
        "\n",
        "              london  \t---\t  0.0531\n",
        "                  ke  \t---\t  0.0270\n",
        "                  rt  \t---\t  0.0228\n",
        "                 mau  \t---\t  0.0138\n",
        "                  di  \t---\t  0.0129\n",
        "                  ya  \t---\t  0.0107\n",
        "                  ib  \t---\t  0.0095\n",
        "             finance  \t---\t  0.0086\n",
        "               besok  \t---\t  0.0082\n",
        "                 aku  \t---\t  0.0076\n",
        "\n",
        "topic 2:"
       ]
      },
      {
       "output_type": "stream",
       "stream": "stdout",
       "text": [
        "\n",
        "              london  \t---\t  0.0642\n",
        "             wedding  \t---\t  0.0142\n",
        "               royal  \t---\t  0.0137\n",
        "                  uk  \t---\t  0.0135\n",
        "                 day  \t---\t  0.0112\n",
        "                 see  \t---\t  0.0107\n",
        "                love  \t---\t  0.0094\n",
        "                like  \t---\t  0.0078\n",
        "               going  \t---\t  0.0076\n",
        "                work  \t---\t  0.0072\n",
        "\n",
        "topic 3:"
       ]
      },
      {
       "output_type": "stream",
       "stream": "stdout",
       "text": [
        "\n",
        "              london  \t---\t  0.0461\n",
        "               royal  \t---\t  0.0319\n",
        "             wedding  \t---\t  0.0301\n",
        "              school  \t---\t  0.0115\n",
        "                   c  \t---\t  0.0098\n",
        "               south  \t---\t  0.0095\n",
        "                news  \t---\t  0.0088\n",
        "                west  \t---\t  0.0085\n",
        "                  ok  \t---\t  0.0081\n",
        "               guest  \t---\t  0.0072\n",
        "\n",
        "topic 4:"
       ]
      },
      {
       "output_type": "stream",
       "stream": "stdout",
       "text": [
        "\n",
        "                 way  \t---\t  0.0220\n",
        "                cant  \t---\t  0.0163\n",
        "              london  \t---\t  0.0129\n",
        "                need  \t---\t  0.0117\n",
        "                   b  \t---\t  0.0110\n",
        "                wait  \t---\t  0.0088\n",
        "                  ur  \t---\t  0.0082\n",
        "                  sa  \t---\t  0.0054\n",
        "                shit  \t---\t  0.0052\n",
        "              living  \t---\t  0.0050\n",
        "\n",
        "topic 5:"
       ]
      },
      {
       "output_type": "stream",
       "stream": "stdout",
       "text": [
        "\n",
        "              london  \t---\t  0.0600\n",
        "                  rt  \t---\t  0.0262\n",
        "                  us  \t---\t  0.0137\n",
        "               royal  \t---\t  0.0122\n",
        "                 day  \t---\t  0.0113\n",
        "                good  \t---\t  0.0106\n",
        "                come  \t---\t  0.0105\n",
        "                next  \t---\t  0.0098\n",
        "                free  \t---\t  0.0084\n",
        "              travel  \t---\t  0.0081\n",
        "\n",
        "topic 6:"
       ]
      },
      {
       "output_type": "stream",
       "stream": "stdout",
       "text": [
        "\n",
        "              london  \t---\t  0.0301\n",
        "                open  \t---\t  0.0208\n",
        "                 afp  \t---\t  0.0138\n",
        "                ftse  \t---\t  0.0127\n",
        "              shares  \t---\t  0.0109\n",
        "            thursday  \t---\t  0.0108\n",
        "               rally  \t---\t  0.0095\n",
        "                rose  \t---\t  0.0094\n",
        "                cold  \t---\t  0.0082\n",
        "                 two  \t---\t  0.0082\n",
        "\n",
        "topic 7:"
       ]
      },
      {
       "output_type": "stream",
       "stream": "stdout",
       "text": [
        "\n",
        "              london  \t---\t  0.1143\n",
        "                  rt  \t---\t  0.0388\n",
        "                  im  \t---\t  0.0259\n",
        "        royalwedding  \t---\t  0.0202\n",
        "                  go  \t---\t  0.0194\n",
        "                live  \t---\t  0.0138\n",
        "               today  \t---\t  0.0126\n",
        "                   u  \t---\t  0.0118\n",
        "               hours  \t---\t  0.0092\n",
        "              street  \t---\t  0.0091\n",
        "\n",
        "topic 8:"
       ]
      },
      {
       "output_type": "stream",
       "stream": "stdout",
       "text": [
        "\n",
        "                  rt  \t---\t  0.0524\n",
        "              london  \t---\t  0.0471\n",
        "            tomorrow  \t---\t  0.0398\n",
        "                 via  \t---\t  0.0296\n",
        "                 win  \t---\t  0.0244\n",
        "                jack  \t---\t  0.0225\n",
        "               union  \t---\t  0.0223\n",
        "                flag  \t---\t  0.0212\n",
        "                hats  \t---\t  0.0212\n",
        "              tramps  \t---\t  0.0206\n",
        "\n",
        "topic 9:"
       ]
      },
      {
       "output_type": "stream",
       "stream": "stdout",
       "text": [
        "\n",
        "                back  \t---\t  0.0360\n",
        "              london  \t---\t  0.0254\n",
        "                kate  \t---\t  0.0230\n",
        "             william  \t---\t  0.0229\n",
        "                home  \t---\t  0.0162\n",
        "                life  \t---\t  0.0116\n",
        "               media  \t---\t  0.0105\n",
        "                make  \t---\t  0.0085\n",
        "               night  \t---\t  0.0084\n",
        "           developer  \t---\t  0.0082\n",
        "\n",
        "topic 10:"
       ]
      },
      {
       "output_type": "stream",
       "stream": "stdout",
       "text": [
        "\n",
        "              london  \t---\t  0.0468\n",
        "                last  \t---\t  0.0206\n",
        "                 got  \t---\t  0.0159\n",
        "              people  \t---\t  0.0148\n",
        "                best  \t---\t  0.0099\n",
        "               right  \t---\t  0.0096\n",
        "                post  \t---\t  0.0092\n",
        "                  oh  \t---\t  0.0089\n",
        "                help  \t---\t  0.0089\n",
        "                dont  \t---\t  0.0085\n",
        "\n",
        "topic 11:"
       ]
      },
      {
       "output_type": "stream",
       "stream": "stdout",
       "text": [
        "\n",
        "              london  \t---\t  0.0889\n",
        "                jobs  \t---\t  0.0241\n",
        "                   d  \t---\t  0.0146\n",
        "                 job  \t---\t  0.0131\n",
        "                  th  \t---\t  0.0109\n",
        "                 new  \t---\t  0.0105\n",
        "            business  \t---\t  0.0103\n",
        "                  rt  \t---\t  0.0095\n",
        "                city  \t---\t  0.0090\n",
        "           marketing  \t---\t  0.0088\n",
        "\n",
        "topic 12:"
       ]
      },
      {
       "output_type": "stream",
       "stream": "stdout",
       "text": [
        "\n",
        "                want  \t---\t  0.0265\n",
        "               would  \t---\t  0.0174\n",
        "               still  \t---\t  0.0158\n",
        "                east  \t---\t  0.0157\n",
        "             olympic  \t---\t  0.0097\n",
        "          nowplaying  \t---\t  0.0089\n",
        "                 ada  \t---\t  0.0085\n",
        "               video  \t---\t  0.0075\n",
        "                buat  \t---\t  0.0073\n",
        "               radio  \t---\t  0.0066\n",
        "\n",
        "0"
       ]
      },
      {
       "output_type": "stream",
       "stream": "stdout",
       "text": [
        " 4500\n",
        "topic 1:"
       ]
      },
      {
       "output_type": "stream",
       "stream": "stdout",
       "text": [
        "\n",
        "              london  \t---\t  0.0627\n",
        "                  rt  \t---\t  0.0451\n",
        "            tomorrow  \t---\t  0.0304\n",
        "                 via  \t---\t  0.0232\n",
        "                jack  \t---\t  0.0166\n",
        "               union  \t---\t  0.0162\n",
        "                flag  \t---\t  0.0155\n",
        "                hats  \t---\t  0.0155\n",
        "                hide  \t---\t  0.0152\n",
        "              tramps  \t---\t  0.0151\n",
        "\n",
        "topic 2:"
       ]
      },
      {
       "output_type": "stream",
       "stream": "stdout",
       "text": [
        "\n",
        "              london  \t---\t  0.0555\n",
        "                  im  \t---\t  0.0309\n",
        "              street  \t---\t  0.0199\n",
        "                 day  \t---\t  0.0194\n",
        "               think  \t---\t  0.0142\n",
        "               would  \t---\t  0.0140\n",
        "             tonight  \t---\t  0.0139\n",
        "                east  \t---\t  0.0121\n",
        "             getting  \t---\t  0.0116\n",
        "                town  \t---\t  0.0089\n",
        "\n",
        "topic 3:"
       ]
      },
      {
       "output_type": "stream",
       "stream": "stdout",
       "text": [
        "\n",
        "              london  \t---\t  0.0756\n",
        "                jobs  \t---\t  0.0329\n",
        "                 job  \t---\t  0.0200\n",
        "                  th  \t---\t  0.0143\n",
        "                 new  \t---\t  0.0116\n",
        "             manager  \t---\t  0.0114\n",
        "                 may  \t---\t  0.0113\n",
        "           marketing  \t---\t  0.0101\n",
        "                city  \t---\t  0.0098\n",
        "                next  \t---\t  0.0095\n",
        "\n",
        "topic 4:"
       ]
      },
      {
       "output_type": "stream",
       "stream": "stdout",
       "text": [
        "\n",
        "              around  \t---\t  0.0122\n",
        "                 two  \t---\t  0.0114\n",
        "                real  \t---\t  0.0107\n",
        "                 top  \t---\t  0.0089\n",
        "               happy  \t---\t  0.0086\n",
        "              london  \t---\t  0.0069\n",
        "             cyclist  \t---\t  0.0063\n",
        "                 ive  \t---\t  0.0057\n",
        "                 apr  \t---\t  0.0053\n",
        "                  la  \t---\t  0.0051\n",
        "\n",
        "topic 5:"
       ]
      },
      {
       "output_type": "stream",
       "stream": "stdout",
       "text": [
        "\n",
        "              london  \t---\t  0.0818\n",
        "                back  \t---\t  0.0217\n",
        "                want  \t---\t  0.0164\n",
        "                open  \t---\t  0.0110\n",
        "                home  \t---\t  0.0095\n",
        "                 afp  \t---\t  0.0082\n",
        "              school  \t---\t  0.0077\n",
        "                 day  \t---\t  0.0075\n",
        "                life  \t---\t  0.0074\n",
        "            thursday  \t---\t  0.0071\n",
        "\n",
        "topic 6:"
       ]
      },
      {
       "output_type": "stream",
       "stream": "stdout",
       "text": [
        "\n",
        "              london  \t---\t  0.0608\n",
        "                  rt  \t---\t  0.0224\n",
        "                   d  \t---\t  0.0190\n",
        "                   u  \t---\t  0.0143\n",
        "              really  \t---\t  0.0108\n",
        "                 one  \t---\t  0.0099\n",
        "               still  \t---\t  0.0097\n",
        "                best  \t---\t  0.0088\n",
        "                  di  \t---\t  0.0083\n",
        "               right  \t---\t  0.0083\n",
        "\n",
        "topic 7:"
       ]
      },
      {
       "output_type": "stream",
       "stream": "stdout",
       "text": [
        "\n",
        "              london  \t---\t  0.0951\n",
        "                  rt  \t---\t  0.0379\n",
        "        royalwedding  \t---\t  0.0313\n",
        "                  go  \t---\t  0.0285\n",
        "                live  \t---\t  0.0259\n",
        "                  uk  \t---\t  0.0183\n",
        "                 win  \t---\t  0.0147\n",
        "               hours  \t---\t  0.0142\n",
        "                  rw  \t---\t  0.0128\n",
        "               going  \t---\t  0.0119\n",
        "\n",
        "topic 8:"
       ]
      },
      {
       "output_type": "stream",
       "stream": "stdout",
       "text": [
        "\n",
        "              london  \t---\t  0.0249\n",
        "                   k  \t---\t  0.0178\n",
        "                 bid  \t---\t  0.0107\n",
        "                siap  \t---\t  0.0105\n",
        "                  ok  \t---\t  0.0096\n",
        "                soon  \t---\t  0.0089\n",
        "                nyse  \t---\t  0.0088\n",
        "                sure  \t---\t  0.0081\n",
        "             packing  \t---\t  0.0079\n",
        "            euronext  \t---\t  0.0079\n",
        "\n",
        "topic 9:"
       ]
      },
      {
       "output_type": "stream",
       "stream": "stdout",
       "text": [
        "\n",
        "              london  \t---\t  0.0641\n",
        "             wedding  \t---\t  0.0349\n",
        "               royal  \t---\t  0.0343\n",
        "                  rt  \t---\t  0.0303\n",
        "                  ke  \t---\t  0.0212\n",
        "                 see  \t---\t  0.0136\n",
        "                kate  \t---\t  0.0123\n",
        "                 mau  \t---\t  0.0107\n",
        "             william  \t---\t  0.0094\n",
        "                news  \t---\t  0.0077\n",
        "\n",
        "topic 10:"
       ]
      },
      {
       "output_type": "stream",
       "stream": "stdout",
       "text": [
        "\n",
        "              london  \t---\t  0.0615\n",
        "               today  \t---\t  0.0177\n",
        "                  rt  \t---\t  0.0132\n",
        "                love  \t---\t  0.0123\n",
        "             morning  \t---\t  0.0111\n",
        "             wedding  \t---\t  0.0110\n",
        "                 lol  \t---\t  0.0105\n",
        "                like  \t---\t  0.0096\n",
        "               royal  \t---\t  0.0096\n",
        "                 way  \t---\t  0.0094\n",
        "\n",
        "topic 11:"
       ]
      },
      {
       "output_type": "stream",
       "stream": "stdout",
       "text": [
        "\n",
        "            business  \t---\t  0.0240\n",
        "               music  \t---\t  0.0111\n",
        "          nowplaying  \t---\t  0.0111\n",
        "               nigga  \t---\t  0.0106\n",
        "                week  \t---\t  0.0088\n",
        "                  ur  \t---\t  0.0085\n",
        "                call  \t---\t  0.0077\n",
        "               radio  \t---\t  0.0073\n",
        "               world  \t---\t  0.0073\n",
        "           fucktyler  \t---\t  0.0066\n",
        "\n",
        "topic 12:"
       ]
      },
      {
       "output_type": "stream",
       "stream": "stdout",
       "text": [
        "\n",
        "              london  \t---\t  0.0741\n",
        "                time  \t---\t  0.0174\n",
        "                last  \t---\t  0.0158\n",
        "                 get  \t---\t  0.0122\n",
        "                 got  \t---\t  0.0115\n",
        "                  rt  \t---\t  0.0111\n",
        "                cant  \t---\t  0.0094\n",
        "              travel  \t---\t  0.0084\n",
        "                free  \t---\t  0.0083\n",
        "                post  \t---\t  0.0071\n",
        "\n",
        "0"
       ]
      },
      {
       "output_type": "stream",
       "stream": "stdout",
       "text": [
        " 5000\n",
        "Trial Completed: 1\n",
        "Estimated Minutes Left: 31.8434000015\n",
        "Time Elapsed: 1910.60400009\n",
        "topic 1:"
       ]
      },
      {
       "output_type": "stream",
       "stream": "stdout",
       "text": [
        "\n",
        "              london  \t---\t  0.0230\n",
        "                time  \t---\t  0.0069\n",
        "                work  \t---\t  0.0055\n",
        "            business  \t---\t  0.0044\n",
        "               south  \t---\t  0.0044\n",
        "                 day  \t---\t  0.0039\n",
        "                love  \t---\t  0.0038\n",
        "             morning  \t---\t  0.0033\n",
        "                good  \t---\t  0.0032\n",
        "                 may  \t---\t  0.0031\n",
        "\n",
        "topic 2:"
       ]
      },
      {
       "output_type": "stream",
       "stream": "stdout",
       "text": [
        "\n",
        "                east  \t---\t  0.0072\n",
        "              street  \t---\t  0.0071\n",
        "                free  \t---\t  0.0065\n",
        "              london  \t---\t  0.0056\n",
        "                high  \t---\t  0.0042\n",
        "              travel  \t---\t  0.0039\n",
        "               would  \t---\t  0.0038\n",
        "            location  \t---\t  0.0038\n",
        "                jobs  \t---\t  0.0033\n",
        "             walking  \t---\t  0.0033\n",
        "\n",
        "topic 3:"
       ]
      },
      {
       "output_type": "stream",
       "stream": "stdout",
       "text": [
        "\n",
        "              london  \t---\t  0.0341\n",
        "                  im  \t---\t  0.0114\n",
        "                  rt  \t---\t  0.0073\n",
        "                last  \t---\t  0.0061\n",
        "                 day  \t---\t  0.0055\n",
        "                 one  \t---\t  0.0054\n",
        "               media  \t---\t  0.0053\n",
        "                   d  \t---\t  0.0040\n",
        "           developer  \t---\t  0.0038\n",
        "                 new  \t---\t  0.0036\n",
        "\n",
        "topic 4:"
       ]
      },
      {
       "output_type": "stream",
       "stream": "stdout",
       "text": [
        "\n",
        "              london  \t---\t  0.0188\n",
        "              escort  \t---\t  0.0064\n",
        "                best  \t---\t  0.0044\n",
        "             escorts  \t---\t  0.0039\n",
        "               right  \t---\t  0.0030\n",
        "                help  \t---\t  0.0026\n",
        "               world  \t---\t  0.0026\n",
        "                meet  \t---\t  0.0026\n",
        "                 bbc  \t---\t  0.0026\n",
        "                find  \t---\t  0.0025\n",
        "\n",
        "topic 5:"
       ]
      },
      {
       "output_type": "stream",
       "stream": "stdout",
       "text": [
        "\n",
        "              london  \t---\t  0.0054\n",
        "               going  \t---\t  0.0040\n",
        "                 got  \t---\t  0.0037\n",
        "               think  \t---\t  0.0034\n",
        "               never  \t---\t  0.0027\n",
        "                seen  \t---\t  0.0027\n",
        "        royalwedding  \t---\t  0.0027\n",
        "                  oh  \t---\t  0.0027\n",
        "                  go  \t---\t  0.0026\n",
        "             morning  \t---\t  0.0024\n",
        "\n",
        "topic 6:"
       ]
      },
      {
       "output_type": "stream",
       "stream": "stdout",
       "text": [
        "\n",
        "              london  \t---\t  0.0537\n",
        "                jobs  \t---\t  0.0075\n",
        "             manager  \t---\t  0.0064\n",
        "               royal  \t---\t  0.0050\n",
        "                  rt  \t---\t  0.0048\n",
        "               sales  \t---\t  0.0047\n",
        "             wedding  \t---\t  0.0043\n",
        "                  uk  \t---\t  0.0037\n",
        "            olympics  \t---\t  0.0037\n",
        "         recruitment  \t---\t  0.0036\n",
        "\n",
        "topic 7:"
       ]
      },
      {
       "output_type": "stream",
       "stream": "stdout",
       "text": [
        "\n",
        "              london  \t---\t  0.0173\n",
        "             wedding  \t---\t  0.0113\n",
        "                 get  \t---\t  0.0055\n",
        "               royal  \t---\t  0.0052\n",
        "              report  \t---\t  0.0039\n",
        "                dont  \t---\t  0.0035\n",
        "               great  \t---\t  0.0034\n",
        "               final  \t---\t  0.0034\n",
        "                real  \t---\t  0.0029\n",
        "              prince  \t---\t  0.0029\n",
        "\n",
        "topic 8:"
       ]
      },
      {
       "output_type": "stream",
       "stream": "stdout",
       "text": [
        "\n",
        "              london  \t---\t  0.0163\n",
        "                  rt  \t---\t  0.0152\n",
        "                live  \t---\t  0.0135\n",
        "        royalwedding  \t---\t  0.0133\n",
        "                  go  \t---\t  0.0130\n",
        "             eonline  \t---\t  0.0116\n",
        "               enews  \t---\t  0.0110\n",
        "               hours  \t---\t  0.0104\n",
        "           royalswed  \t---\t  0.0098\n",
        "                  rw  \t---\t  0.0098\n",
        "\n",
        "topic 9:"
       ]
      },
      {
       "output_type": "stream",
       "stream": "stdout",
       "text": [
        "\n",
        "              london  \t---\t  0.0129\n",
        "                 way  \t---\t  0.0075\n",
        "             william  \t---\t  0.0052\n",
        "               today  \t---\t  0.0051\n",
        "                kate  \t---\t  0.0050\n",
        "                 see  \t---\t  0.0044\n",
        "                  im  \t---\t  0.0042\n",
        "                many  \t---\t  0.0032\n",
        "                good  \t---\t  0.0031\n",
        "                life  \t---\t  0.0031\n",
        "\n",
        "topic 10:"
       ]
      },
      {
       "output_type": "stream",
       "stream": "stdout",
       "text": [
        "\n",
        "              london  \t---\t  0.0141\n",
        "                  sa  \t---\t  0.0048\n",
        "                  ok  \t---\t  0.0048\n",
        "               royal  \t---\t  0.0039\n",
        "                  ik  \t---\t  0.0036\n",
        "                take  \t---\t  0.0036\n",
        "             wedding  \t---\t  0.0031\n",
        "            victoria  \t---\t  0.0030\n",
        "                park  \t---\t  0.0030\n",
        "             central  \t---\t  0.0024\n",
        "\n",
        "topic 11:"
       ]
      },
      {
       "output_type": "stream",
       "stream": "stdout",
       "text": [
        "\n",
        "                 ill  \t---\t  0.0057\n",
        "              london  \t---\t  0.0036\n",
        "                  im  \t---\t  0.0023\n",
        "               still  \t---\t  0.0022\n",
        "            electric  \t---\t  0.0021\n",
        "              launch  \t---\t  0.0021\n",
        "             airport  \t---\t  0.0021\n",
        "                   o  \t---\t  0.0017\n",
        "             morning  \t---\t  0.0017\n",
        "              wanted  \t---\t  0.0017\n",
        "\n",
        "topic 12:"
       ]
      },
      {
       "output_type": "stream",
       "stream": "stdout",
       "text": [
        "\n",
        "              london  \t---\t  0.0294\n",
        "                  rt  \t---\t  0.0210\n",
        "            tomorrow  \t---\t  0.0167\n",
        "                 via  \t---\t  0.0133\n",
        "                jack  \t---\t  0.0122\n",
        "                flag  \t---\t  0.0116\n",
        "              tramps  \t---\t  0.0116\n",
        "                hats  \t---\t  0.0116\n",
        "               union  \t---\t  0.0116\n",
        "           twoptwips  \t---\t  0.0116\n",
        "\n",
        "1"
       ]
      },
      {
       "output_type": "stream",
       "stream": "stdout",
       "text": [
        " 500\n",
        "topic 1:"
       ]
      },
      {
       "output_type": "stream",
       "stream": "stdout",
       "text": [
        "\n",
        "                  oh  \t---\t  0.0076\n",
        "                 got  \t---\t  0.0048\n",
        "               round  \t---\t  0.0027\n",
        "                fuck  \t---\t  0.0021\n",
        "                 mix  \t---\t  0.0020\n",
        "               rises  \t---\t  0.0019\n",
        "                 wow  \t---\t  0.0017\n",
        "              flying  \t---\t  0.0017\n",
        "                 win  \t---\t  0.0016\n",
        "              nearly  \t---\t  0.0014\n",
        "\n",
        "topic 2:"
       ]
      },
      {
       "output_type": "stream",
       "stream": "stdout",
       "text": [
        "\n",
        "                  ib  \t---\t  0.0081\n",
        "               quant  \t---\t  0.0062\n",
        "             finance  \t---\t  0.0044\n",
        "                must  \t---\t  0.0043\n",
        "               never  \t---\t  0.0043\n",
        "                  de  \t---\t  0.0041\n",
        "          nowplaying  \t---\t  0.0037\n",
        "                  mr  \t---\t  0.0037\n",
        "                 job  \t---\t  0.0033\n",
        "                seen  \t---\t  0.0030\n",
        "\n",
        "topic 3:"
       ]
      },
      {
       "output_type": "stream",
       "stream": "stdout",
       "text": [
        "\n",
        "                 sun  \t---\t  0.0065\n",
        "                cold  \t---\t  0.0044\n",
        "            together  \t---\t  0.0029\n",
        "              london  \t---\t  0.0021\n",
        "                goin  \t---\t  0.0015\n",
        "                  jw  \t---\t  0.0015\n",
        "                mean  \t---\t  0.0014\n",
        "                   d  \t---\t  0.0014\n",
        "                line  \t---\t  0.0013\n",
        "                  nd  \t---\t  0.0013\n",
        "\n",
        "topic 4:"
       ]
      },
      {
       "output_type": "stream",
       "stream": "stdout",
       "text": [
        "\n",
        "               happy  \t---\t  0.0094\n",
        "                 lol  \t---\t  0.0073\n",
        "                take  \t---\t  0.0056\n",
        "                time  \t---\t  0.0039\n",
        "                real  \t---\t  0.0037\n",
        "               looks  \t---\t  0.0032\n",
        "              around  \t---\t  0.0031\n",
        "                test  \t---\t  0.0025\n",
        "              london  \t---\t  0.0025\n",
        "                walk  \t---\t  0.0025\n",
        "\n",
        "topic 5:"
       ]
      },
      {
       "output_type": "stream",
       "stream": "stdout",
       "text": [
        "\n",
        "              london  \t---\t  0.0796\n",
        "                jobs  \t---\t  0.0097\n",
        "               today  \t---\t  0.0083\n",
        "                  im  \t---\t  0.0073\n",
        "                 get  \t---\t  0.0064\n",
        "             manager  \t---\t  0.0062\n",
        "               great  \t---\t  0.0056\n",
        "                  uk  \t---\t  0.0054\n",
        "                 job  \t---\t  0.0048\n",
        "                 way  \t---\t  0.0047\n",
        "\n",
        "topic 6:"
       ]
      },
      {
       "output_type": "stream",
       "stream": "stdout",
       "text": [
        "\n",
        "                 ill  \t---\t  0.0103\n",
        "               still  \t---\t  0.0060\n",
        "               video  \t---\t  0.0056\n",
        "              london  \t---\t  0.0051\n",
        "            watching  \t---\t  0.0040\n",
        "                 ada  \t---\t  0.0036\n",
        "               visit  \t---\t  0.0034\n",
        "                  re  \t---\t  0.0027\n",
        "          everything  \t---\t  0.0026\n",
        "              indeed  \t---\t  0.0026\n",
        "\n",
        "topic 7:"
       ]
      },
      {
       "output_type": "stream",
       "stream": "stdout",
       "text": [
        "\n",
        "              london  \t---\t  0.0533\n",
        "                  rt  \t---\t  0.0361\n",
        "                live  \t---\t  0.0174\n",
        "        royalwedding  \t---\t  0.0173\n",
        "                  go  \t---\t  0.0173\n",
        "                 day  \t---\t  0.0125\n",
        "               enews  \t---\t  0.0118\n",
        "             eonline  \t---\t  0.0115\n",
        "               hours  \t---\t  0.0114\n",
        "                  rw  \t---\t  0.0108\n",
        "\n",
        "topic 8:"
       ]
      },
      {
       "output_type": "stream",
       "stream": "stdout",
       "text": [
        "\n",
        "              london  \t---\t  0.0434\n",
        "             wedding  \t---\t  0.0179\n",
        "               royal  \t---\t  0.0173\n",
        "                  rt  \t---\t  0.0105\n",
        "             weather  \t---\t  0.0049\n",
        "            tomorrow  \t---\t  0.0046\n",
        "                   p  \t---\t  0.0041\n",
        "                  ok  \t---\t  0.0041\n",
        "                 one  \t---\t  0.0039\n",
        "              syrias  \t---\t  0.0037\n",
        "\n",
        "topic 9:"
       ]
      },
      {
       "output_type": "stream",
       "stream": "stdout",
       "text": [
        "\n",
        "              london  \t---\t  0.0123\n",
        "             morning  \t---\t  0.0104\n",
        "                want  \t---\t  0.0091\n",
        "                work  \t---\t  0.0085\n",
        "                love  \t---\t  0.0072\n",
        "             londons  \t---\t  0.0053\n",
        "                next  \t---\t  0.0053\n",
        "                busy  \t---\t  0.0048\n",
        "              really  \t---\t  0.0048\n",
        "                  im  \t---\t  0.0047\n",
        "\n",
        "topic 10:"
       ]
      },
      {
       "output_type": "stream",
       "stream": "stdout",
       "text": [
        "\n",
        "              london  \t---\t  0.0501\n",
        "                  im  \t---\t  0.0141\n",
        "               going  \t---\t  0.0086\n",
        "                back  \t---\t  0.0080\n",
        "                 one  \t---\t  0.0067\n",
        "                 may  \t---\t  0.0063\n",
        "                 see  \t---\t  0.0062\n",
        "               media  \t---\t  0.0054\n",
        "                  th  \t---\t  0.0053\n",
        "                show  \t---\t  0.0053\n",
        "\n",
        "topic 11:"
       ]
      },
      {
       "output_type": "stream",
       "stream": "stdout",
       "text": [
        "\n",
        "              london  \t---\t  0.0393\n",
        "                  rt  \t---\t  0.0193\n",
        "            tomorrow  \t---\t  0.0186\n",
        "                 via  \t---\t  0.0157\n",
        "                jack  \t---\t  0.0151\n",
        "                hide  \t---\t  0.0147\n",
        "                hats  \t---\t  0.0147\n",
        "                flag  \t---\t  0.0147\n",
        "              tramps  \t---\t  0.0147\n",
        "               union  \t---\t  0.0147\n",
        "\n",
        "topic 12:"
       ]
      },
      {
       "output_type": "stream",
       "stream": "stdout",
       "text": [
        "\n",
        "                   d  \t---\t  0.0116\n",
        "              london  \t---\t  0.0079\n",
        "                boys  \t---\t  0.0055\n",
        "                 rat  \t---\t  0.0049\n",
        "              police  \t---\t  0.0044\n",
        "                star  \t---\t  0.0043\n",
        "                  ik  \t---\t  0.0042\n",
        "                  rt  \t---\t  0.0040\n",
        "                 aku  \t---\t  0.0037\n",
        "              raided  \t---\t  0.0037\n",
        "\n",
        "1"
       ]
      },
      {
       "output_type": "stream",
       "stream": "stdout",
       "text": [
        " 1000\n",
        "topic 1:"
       ]
      },
      {
       "output_type": "stream",
       "stream": "stdout",
       "text": [
        "\n",
        "               royal  \t---\t  0.0304\n",
        "             wedding  \t---\t  0.0301\n",
        "              london  \t---\t  0.0244\n",
        "                west  \t---\t  0.0070\n",
        "                 one  \t---\t  0.0059\n",
        "            business  \t---\t  0.0057\n",
        "                 lol  \t---\t  0.0048\n",
        "               never  \t---\t  0.0045\n",
        "               first  \t---\t  0.0043\n",
        "                   b  \t---\t  0.0041\n",
        "\n",
        "topic 2:"
       ]
      },
      {
       "output_type": "stream",
       "stream": "stdout",
       "text": [
        "\n",
        "              london  \t---\t  0.0601\n",
        "                  rt  \t---\t  0.0111\n",
        "                  th  \t---\t  0.0085\n",
        "                love  \t---\t  0.0075\n",
        "                work  \t---\t  0.0075\n",
        "                 may  \t---\t  0.0063\n",
        "              really  \t---\t  0.0060\n",
        "               right  \t---\t  0.0058\n",
        "             morning  \t---\t  0.0054\n",
        "                  pm  \t---\t  0.0053\n",
        "\n",
        "topic 3:"
       ]
      },
      {
       "output_type": "stream",
       "stream": "stdout",
       "text": [
        "\n",
        "              london  \t---\t  0.0122\n",
        "                  ok  \t---\t  0.0110\n",
        "                show  \t---\t  0.0103\n",
        "               south  \t---\t  0.0063\n",
        "                sick  \t---\t  0.0052\n",
        "                nice  \t---\t  0.0052\n",
        "               radio  \t---\t  0.0047\n",
        "             packing  \t---\t  0.0047\n",
        "                look  \t---\t  0.0040\n",
        "          nowplaying  \t---\t  0.0040\n",
        "\n",
        "topic 4:"
       ]
      },
      {
       "output_type": "stream",
       "stream": "stdout",
       "text": [
        "\n",
        "              london  \t---\t  0.0298\n",
        "                  rt  \t---\t  0.0078\n",
        "                 new  \t---\t  0.0078\n",
        "                   d  \t---\t  0.0066\n",
        "             william  \t---\t  0.0063\n",
        "                jobs  \t---\t  0.0063\n",
        "             amazing  \t---\t  0.0059\n",
        "              hiring  \t---\t  0.0053\n",
        "                 job  \t---\t  0.0052\n",
        "         underground  \t---\t  0.0051\n",
        "\n",
        "topic 5:"
       ]
      },
      {
       "output_type": "stream",
       "stream": "stdout",
       "text": [
        "\n",
        "              london  \t---\t  0.0149\n",
        "                dont  \t---\t  0.0110\n",
        "                 sun  \t---\t  0.0073\n",
        "                cold  \t---\t  0.0063\n",
        "               music  \t---\t  0.0046\n",
        "               bored  \t---\t  0.0045\n",
        "                 car  \t---\t  0.0040\n",
        "                  rt  \t---\t  0.0037\n",
        "                  de  \t---\t  0.0036\n",
        "                  en  \t---\t  0.0034\n",
        "\n",
        "topic 6:"
       ]
      },
      {
       "output_type": "stream",
       "stream": "stdout",
       "text": [
        "\n",
        "              london  \t---\t  0.0303\n",
        "                 day  \t---\t  0.0194\n",
        "                last  \t---\t  0.0116\n",
        "                time  \t---\t  0.0086\n",
        "                free  \t---\t  0.0082\n",
        "                come  \t---\t  0.0082\n",
        "                 new  \t---\t  0.0077\n",
        "               would  \t---\t  0.0075\n",
        "                 big  \t---\t  0.0064\n",
        "                east  \t---\t  0.0063\n",
        "\n",
        "topic 7:"
       ]
      },
      {
       "output_type": "stream",
       "stream": "stdout",
       "text": [
        "\n",
        "              london  \t---\t  0.0893\n",
        "                  rt  \t---\t  0.0238\n",
        "            tomorrow  \t---\t  0.0159\n",
        "                 via  \t---\t  0.0135\n",
        "                jack  \t---\t  0.0121\n",
        "               union  \t---\t  0.0118\n",
        "                jobs  \t---\t  0.0110\n",
        "                hats  \t---\t  0.0108\n",
        "              tramps  \t---\t  0.0106\n",
        "                flag  \t---\t  0.0106\n",
        "\n",
        "topic 8:"
       ]
      },
      {
       "output_type": "stream",
       "stream": "stdout",
       "text": [
        "\n",
        "              london  \t---\t  0.0220\n",
        "                  rt  \t---\t  0.0140\n",
        "             tonight  \t---\t  0.0106\n",
        "                  ke  \t---\t  0.0104\n",
        "                news  \t---\t  0.0089\n",
        "               anger  \t---\t  0.0079\n",
        "              syrias  \t---\t  0.0079\n",
        "             getting  \t---\t  0.0059\n",
        "               royal  \t---\t  0.0054\n",
        "          ambassador  \t---\t  0.0049\n",
        "\n",
        "topic 9:"
       ]
      },
      {
       "output_type": "stream",
       "stream": "stdout",
       "text": [
        "\n",
        "              london  \t---\t  0.0419\n",
        "        royalwedding  \t---\t  0.0342\n",
        "                  rt  \t---\t  0.0336\n",
        "                  go  \t---\t  0.0322\n",
        "                live  \t---\t  0.0250\n",
        "               enews  \t---\t  0.0164\n",
        "               hours  \t---\t  0.0160\n",
        "             eonline  \t---\t  0.0160\n",
        "                  rw  \t---\t  0.0152\n",
        "           royalswed  \t---\t  0.0144\n",
        "\n",
        "topic 10:"
       ]
      },
      {
       "output_type": "stream",
       "stream": "stdout",
       "text": [
        "\n",
        "              london  \t---\t  0.0491\n",
        "                  im  \t---\t  0.0198\n",
        "                   u  \t---\t  0.0103\n",
        "                 way  \t---\t  0.0094\n",
        "                time  \t---\t  0.0089\n",
        "               going  \t---\t  0.0088\n",
        "                want  \t---\t  0.0085\n",
        "                 see  \t---\t  0.0084\n",
        "                kate  \t---\t  0.0076\n",
        "                good  \t---\t  0.0052\n",
        "\n",
        "topic 11:"
       ]
      },
      {
       "output_type": "stream",
       "stream": "stdout",
       "text": [
        "\n",
        "              london  \t---\t  0.0281\n",
        "                know  \t---\t  0.0070\n",
        "                time  \t---\t  0.0044\n",
        "                 bit  \t---\t  0.0039\n",
        "               visit  \t---\t  0.0036\n",
        "               watch  \t---\t  0.0036\n",
        "                 die  \t---\t  0.0034\n",
        "                stay  \t---\t  0.0031\n",
        "               phone  \t---\t  0.0029\n",
        "              please  \t---\t  0.0027\n",
        "\n",
        "topic 12:"
       ]
      },
      {
       "output_type": "stream",
       "stream": "stdout",
       "text": [
        "\n",
        "              london  \t---\t  0.0192\n",
        "                back  \t---\t  0.0152\n",
        "                 ill  \t---\t  0.0080\n",
        "               still  \t---\t  0.0077\n",
        "               media  \t---\t  0.0070\n",
        "                  im  \t---\t  0.0067\n",
        "                home  \t---\t  0.0065\n",
        "                   k  \t---\t  0.0062\n",
        "                make  \t---\t  0.0062\n",
        "                   d  \t---\t  0.0053\n",
        "\n",
        "1"
       ]
      },
      {
       "output_type": "stream",
       "stream": "stdout",
       "text": [
        " 1500\n",
        "topic 1:"
       ]
      },
      {
       "output_type": "stream",
       "stream": "stdout",
       "text": [
        "\n",
        "                want  \t---\t  0.0181\n",
        "              london  \t---\t  0.0145\n",
        "                  oh  \t---\t  0.0086\n",
        "                 die  \t---\t  0.0065\n",
        "              anyone  \t---\t  0.0061\n",
        "                many  \t---\t  0.0050\n",
        "                 mit  \t---\t  0.0037\n",
        "              moving  \t---\t  0.0035\n",
        "                else  \t---\t  0.0030\n",
        "                 got  \t---\t  0.0029\n",
        "\n",
        "topic 2:"
       ]
      },
      {
       "output_type": "stream",
       "stream": "stdout",
       "text": [
        "\n",
        "                dont  \t---\t  0.0136\n",
        "              street  \t---\t  0.0125\n",
        "                east  \t---\t  0.0104\n",
        "               would  \t---\t  0.0104\n",
        "              london  \t---\t  0.0086\n",
        "                  de  \t---\t  0.0050\n",
        "             calling  \t---\t  0.0050\n",
        "                star  \t---\t  0.0045\n",
        "                 rat  \t---\t  0.0045\n",
        "             camping  \t---\t  0.0044\n",
        "\n",
        "topic 3:"
       ]
      },
      {
       "output_type": "stream",
       "stream": "stdout",
       "text": [
        "\n",
        "              london  \t---\t  0.0259\n",
        "                  th  \t---\t  0.0152\n",
        "                 may  \t---\t  0.0094\n",
        "                  pm  \t---\t  0.0082\n",
        "              ticket  \t---\t  0.0059\n",
        "             million  \t---\t  0.0050\n",
        "              friend  \t---\t  0.0047\n",
        "            watching  \t---\t  0.0040\n",
        "            december  \t---\t  0.0040\n",
        "                  rt  \t---\t  0.0038\n",
        "\n",
        "topic 4:"
       ]
      },
      {
       "output_type": "stream",
       "stream": "stdout",
       "text": [
        "\n",
        "              london  \t---\t  0.0268\n",
        "                 one  \t---\t  0.0175\n",
        "                   d  \t---\t  0.0159\n",
        "               world  \t---\t  0.0124\n",
        "                news  \t---\t  0.0092\n",
        "                maps  \t---\t  0.0086\n",
        "                  st  \t---\t  0.0069\n",
        "               thats  \t---\t  0.0069\n",
        "                west  \t---\t  0.0069\n",
        "              syrias  \t---\t  0.0069\n",
        "\n",
        "topic 5:"
       ]
      },
      {
       "output_type": "stream",
       "stream": "stdout",
       "text": [
        "\n",
        "              london  \t---\t  0.0289\n",
        "            business  \t---\t  0.0150\n",
        "                 see  \t---\t  0.0105\n",
        "                  ok  \t---\t  0.0101\n",
        "               class  \t---\t  0.0093\n",
        "               think  \t---\t  0.0081\n",
        "             watched  \t---\t  0.0071\n",
        "                rule  \t---\t  0.0065\n",
        "            teaching  \t---\t  0.0064\n",
        "               going  \t---\t  0.0063\n",
        "\n",
        "topic 6:"
       ]
      },
      {
       "output_type": "stream",
       "stream": "stdout",
       "text": [
        "\n",
        "             william  \t---\t  0.0172\n",
        "                kate  \t---\t  0.0171\n",
        "              london  \t---\t  0.0137\n",
        "                bank  \t---\t  0.0101\n",
        "              events  \t---\t  0.0091\n",
        "              prince  \t---\t  0.0086\n",
        "               royal  \t---\t  0.0086\n",
        "             wedding  \t---\t  0.0085\n",
        "             holiday  \t---\t  0.0071\n",
        "             evening  \t---\t  0.0053\n",
        "\n",
        "topic 7:"
       ]
      },
      {
       "output_type": "stream",
       "stream": "stdout",
       "text": [
        "\n",
        "              london  \t---\t  0.0334\n",
        "                 job  \t---\t  0.0172\n",
        "                jobs  \t---\t  0.0169\n",
        "                 new  \t---\t  0.0085\n",
        "                high  \t---\t  0.0073\n",
        "                  tv  \t---\t  0.0069\n",
        "                city  \t---\t  0.0068\n",
        "                   k  \t---\t  0.0067\n",
        "              hiring  \t---\t  0.0064\n",
        "              senior  \t---\t  0.0054\n",
        "\n",
        "topic 8:"
       ]
      },
      {
       "output_type": "stream",
       "stream": "stdout",
       "text": [
        "\n",
        "              london  \t---\t  0.0975\n",
        "                  rt  \t---\t  0.0361\n",
        "             wedding  \t---\t  0.0168\n",
        "               royal  \t---\t  0.0162\n",
        "            tomorrow  \t---\t  0.0146\n",
        "                  im  \t---\t  0.0129\n",
        "               today  \t---\t  0.0104\n",
        "                 via  \t---\t  0.0095\n",
        "                jack  \t---\t  0.0088\n",
        "               union  \t---\t  0.0086\n",
        "\n",
        "topic 9:"
       ]
      },
      {
       "output_type": "stream",
       "stream": "stdout",
       "text": [
        "\n",
        "              london  \t---\t  0.1028\n",
        "                  rt  \t---\t  0.0204\n",
        "                  go  \t---\t  0.0143\n",
        "                live  \t---\t  0.0114\n",
        "                 day  \t---\t  0.0114\n",
        "        royalwedding  \t---\t  0.0111\n",
        "                time  \t---\t  0.0106\n",
        "                last  \t---\t  0.0099\n",
        "                  uk  \t---\t  0.0083\n",
        "               enews  \t---\t  0.0075\n",
        "\n",
        "topic 10:"
       ]
      },
      {
       "output_type": "stream",
       "stream": "stdout",
       "text": [
        "\n",
        "              london  \t---\t  0.0146\n",
        "                   u  \t---\t  0.0125\n",
        "             londons  \t---\t  0.0121\n",
        "                 way  \t---\t  0.0116\n",
        "                love  \t---\t  0.0112\n",
        "                work  \t---\t  0.0093\n",
        "                   o  \t---\t  0.0074\n",
        "                good  \t---\t  0.0067\n",
        "                  rt  \t---\t  0.0066\n",
        "             morning  \t---\t  0.0065\n",
        "\n",
        "topic 11:"
       ]
      },
      {
       "output_type": "stream",
       "stream": "stdout",
       "text": [
        "\n",
        "              london  \t---\t  0.0144\n",
        "                 win  \t---\t  0.0135\n",
        "                 lol  \t---\t  0.0103\n",
        "                  ib  \t---\t  0.0087\n",
        "               happy  \t---\t  0.0075\n",
        "             finance  \t---\t  0.0068\n",
        "               quant  \t---\t  0.0064\n",
        "              always  \t---\t  0.0060\n",
        "                  di  \t---\t  0.0055\n",
        "                 job  \t---\t  0.0055\n",
        "\n",
        "topic 12:"
       ]
      },
      {
       "output_type": "stream",
       "stream": "stdout",
       "text": [
        "\n",
        "                 sun  \t---\t  0.0094\n",
        "            earnings  \t---\t  0.0089\n",
        "                cold  \t---\t  0.0078\n",
        "             olympic  \t---\t  0.0072\n",
        "            olympics  \t---\t  0.0064\n",
        "               house  \t---\t  0.0062\n",
        "                rent  \t---\t  0.0047\n",
        "                ftse  \t---\t  0.0046\n",
        "             benchma  \t---\t  0.0043\n",
        "               helps  \t---\t  0.0043\n",
        "\n",
        "1"
       ]
      },
      {
       "output_type": "stream",
       "stream": "stdout",
       "text": [
        " 2000\n",
        "topic 1:"
       ]
      },
      {
       "output_type": "stream",
       "stream": "stdout",
       "text": [
        "\n",
        "              london  \t---\t  0.0489\n",
        "                  rt  \t---\t  0.0232\n",
        "                   d  \t---\t  0.0159\n",
        "                  di  \t---\t  0.0119\n",
        "               paris  \t---\t  0.0068\n",
        "                  ke  \t---\t  0.0064\n",
        "               watch  \t---\t  0.0063\n",
        "                   o  \t---\t  0.0061\n",
        "               music  \t---\t  0.0059\n",
        "                 ada  \t---\t  0.0054\n",
        "\n",
        "topic 2:"
       ]
      },
      {
       "output_type": "stream",
       "stream": "stdout",
       "text": [
        "\n",
        "              london  \t---\t  0.0415\n",
        "                  im  \t---\t  0.0167\n",
        "                back  \t---\t  0.0137\n",
        "                good  \t---\t  0.0119\n",
        "               world  \t---\t  0.0100\n",
        "                 ill  \t---\t  0.0091\n",
        "                 way  \t---\t  0.0089\n",
        "               still  \t---\t  0.0087\n",
        "                kate  \t---\t  0.0086\n",
        "             william  \t---\t  0.0085\n",
        "\n",
        "topic 3:"
       ]
      },
      {
       "output_type": "stream",
       "stream": "stdout",
       "text": [
        "\n",
        "              london  \t---\t  0.0830\n",
        "                  rt  \t---\t  0.0322\n",
        "               royal  \t---\t  0.0217\n",
        "        royalwedding  \t---\t  0.0202\n",
        "             wedding  \t---\t  0.0200\n",
        "                  go  \t---\t  0.0192\n",
        "                live  \t---\t  0.0139\n",
        "               hours  \t---\t  0.0099\n",
        "                  rw  \t---\t  0.0090\n",
        "             eonline  \t---\t  0.0090\n",
        "\n",
        "topic 4:"
       ]
      },
      {
       "output_type": "stream",
       "stream": "stdout",
       "text": [
        "\n",
        "              london  \t---\t  0.0928\n",
        "                  rt  \t---\t  0.0344\n",
        "            tomorrow  \t---\t  0.0165\n",
        "                 via  \t---\t  0.0161\n",
        "                jack  \t---\t  0.0132\n",
        "               union  \t---\t  0.0130\n",
        "                  uk  \t---\t  0.0129\n",
        "              tramps  \t---\t  0.0124\n",
        "                hats  \t---\t  0.0123\n",
        "             issuing  \t---\t  0.0121\n",
        "\n",
        "topic 5:"
       ]
      },
      {
       "output_type": "stream",
       "stream": "stdout",
       "text": [
        "\n",
        "              london  \t---\t  0.0447\n",
        "               today  \t---\t  0.0228\n",
        "                  rt  \t---\t  0.0157\n",
        "              school  \t---\t  0.0098\n",
        "                news  \t---\t  0.0090\n",
        "                 big  \t---\t  0.0086\n",
        "                 aku  \t---\t  0.0075\n",
        "             wedding  \t---\t  0.0061\n",
        "              syrias  \t---\t  0.0060\n",
        "               anger  \t---\t  0.0057\n",
        "\n",
        "topic 6:"
       ]
      },
      {
       "output_type": "stream",
       "stream": "stdout",
       "text": [
        "\n",
        "              london  \t---\t  0.0214\n",
        "                  th  \t---\t  0.0158\n",
        "                 may  \t---\t  0.0142\n",
        "                   u  \t---\t  0.0098\n",
        "                show  \t---\t  0.0083\n",
        "                  pm  \t---\t  0.0078\n",
        "                 sun  \t---\t  0.0069\n",
        "                cold  \t---\t  0.0054\n",
        "            everyone  \t---\t  0.0054\n",
        "              hotels  \t---\t  0.0049\n",
        "\n",
        "topic 7:"
       ]
      },
      {
       "output_type": "stream",
       "stream": "stdout",
       "text": [
        "\n",
        "              london  \t---\t  0.0437\n",
        "                 day  \t---\t  0.0242\n",
        "               going  \t---\t  0.0204\n",
        "                 see  \t---\t  0.0155\n",
        "              street  \t---\t  0.0123\n",
        "               would  \t---\t  0.0111\n",
        "               think  \t---\t  0.0107\n",
        "                east  \t---\t  0.0086\n",
        "                  im  \t---\t  0.0064\n",
        "                town  \t---\t  0.0062\n",
        "\n",
        "topic 8:"
       ]
      },
      {
       "output_type": "stream",
       "stream": "stdout",
       "text": [
        "\n",
        "              london  \t---\t  0.0671\n",
        "                jobs  \t---\t  0.0151\n",
        "                last  \t---\t  0.0151\n",
        "                 new  \t---\t  0.0135\n",
        "                want  \t---\t  0.0100\n",
        "                 job  \t---\t  0.0095\n",
        "                kate  \t---\t  0.0076\n",
        "                  ke  \t---\t  0.0075\n",
        "                  ok  \t---\t  0.0069\n",
        "                 got  \t---\t  0.0067\n",
        "\n",
        "topic 9:"
       ]
      },
      {
       "output_type": "stream",
       "stream": "stdout",
       "text": [
        "\n",
        "              london  \t---\t  0.0353\n",
        "             londons  \t---\t  0.0111\n",
        "                love  \t---\t  0.0104\n",
        "                next  \t---\t  0.0097\n",
        "                  im  \t---\t  0.0097\n",
        "             tonight  \t---\t  0.0093\n",
        "                work  \t---\t  0.0087\n",
        "              really  \t---\t  0.0083\n",
        "             getting  \t---\t  0.0080\n",
        "                well  \t---\t  0.0079\n",
        "\n",
        "topic 10:"
       ]
      },
      {
       "output_type": "stream",
       "stream": "stdout",
       "text": [
        "\n",
        "              london  \t---\t  0.0140\n",
        "                  oh  \t---\t  0.0104\n",
        "                  st  \t---\t  0.0091\n",
        "                sure  \t---\t  0.0086\n",
        "               radio  \t---\t  0.0072\n",
        "           liverpool  \t---\t  0.0067\n",
        "          nowplaying  \t---\t  0.0065\n",
        "             someone  \t---\t  0.0062\n",
        "                 die  \t---\t  0.0057\n",
        "               reina  \t---\t  0.0046\n",
        "\n",
        "topic 11:"
       ]
      },
      {
       "output_type": "stream",
       "stream": "stdout",
       "text": [
        "\n",
        "                 one  \t---\t  0.0245\n",
        "               might  \t---\t  0.0052\n",
        "               didnt  \t---\t  0.0042\n",
        "               stand  \t---\t  0.0036\n",
        "                 old  \t---\t  0.0035\n",
        "               mayor  \t---\t  0.0030\n",
        "                 use  \t---\t  0.0029\n",
        "                 fab  \t---\t  0.0027\n",
        "             fashion  \t---\t  0.0027\n",
        "                 buy  \t---\t  0.0027\n",
        "\n",
        "topic 12:"
       ]
      },
      {
       "output_type": "stream",
       "stream": "stdout",
       "text": [
        "\n",
        "              london  \t---\t  0.0279\n",
        "            business  \t---\t  0.0142\n",
        "                 lol  \t---\t  0.0137\n",
        "                 job  \t---\t  0.0123\n",
        "                  ib  \t---\t  0.0109\n",
        "             finance  \t---\t  0.0095\n",
        "                real  \t---\t  0.0075\n",
        "               quant  \t---\t  0.0073\n",
        "                   b  \t---\t  0.0059\n",
        "               never  \t---\t  0.0056\n",
        "\n",
        "1"
       ]
      },
      {
       "output_type": "stream",
       "stream": "stdout",
       "text": [
        " 2500\n",
        "topic 1:"
       ]
      },
      {
       "output_type": "stream",
       "stream": "stdout",
       "text": [
        "\n",
        "              london  \t---\t  0.0562\n",
        "                kate  \t---\t  0.0182\n",
        "             william  \t---\t  0.0137\n",
        "                time  \t---\t  0.0129\n",
        "              travel  \t---\t  0.0089\n",
        "                  rt  \t---\t  0.0087\n",
        "                free  \t---\t  0.0085\n",
        "              school  \t---\t  0.0083\n",
        "             wedding  \t---\t  0.0074\n",
        "              iphone  \t---\t  0.0073\n",
        "\n",
        "topic 2:"
       ]
      },
      {
       "output_type": "stream",
       "stream": "stdout",
       "text": [
        "\n",
        "              london  \t---\t  0.0708\n",
        "                  rt  \t---\t  0.0327\n",
        "               royal  \t---\t  0.0214\n",
        "            tomorrow  \t---\t  0.0194\n",
        "             wedding  \t---\t  0.0166\n",
        "                 via  \t---\t  0.0149\n",
        "                jack  \t---\t  0.0118\n",
        "               union  \t---\t  0.0117\n",
        "                flag  \t---\t  0.0112\n",
        "              tramps  \t---\t  0.0112\n",
        "\n",
        "topic 3:"
       ]
      },
      {
       "output_type": "stream",
       "stream": "stdout",
       "text": [
        "\n",
        "              london  \t---\t  0.0543\n",
        "            business  \t---\t  0.0104\n",
        "                 lol  \t---\t  0.0099\n",
        "                 ill  \t---\t  0.0096\n",
        "                  rt  \t---\t  0.0094\n",
        "                  im  \t---\t  0.0090\n",
        "                 new  \t---\t  0.0087\n",
        "                 one  \t---\t  0.0082\n",
        "               still  \t---\t  0.0081\n",
        "                   u  \t---\t  0.0074\n",
        "\n",
        "topic 4:"
       ]
      },
      {
       "output_type": "stream",
       "stream": "stdout",
       "text": [
        "\n",
        "                  th  \t---\t  0.0205\n",
        "                 may  \t---\t  0.0184\n",
        "              london  \t---\t  0.0148\n",
        "                  pm  \t---\t  0.0121\n",
        "                real  \t---\t  0.0110\n",
        "                sure  \t---\t  0.0075\n",
        "             someone  \t---\t  0.0059\n",
        "                   n  \t---\t  0.0055\n",
        "                  la  \t---\t  0.0052\n",
        "                   h  \t---\t  0.0048\n",
        "\n",
        "topic 5:"
       ]
      },
      {
       "output_type": "stream",
       "stream": "stdout",
       "text": [
        "\n",
        "              london  \t---\t  0.0459\n",
        "                last  \t---\t  0.0170\n",
        "                 see  \t---\t  0.0166\n",
        "               going  \t---\t  0.0160\n",
        "                  uk  \t---\t  0.0155\n",
        "                dont  \t---\t  0.0113\n",
        "               great  \t---\t  0.0088\n",
        "                come  \t---\t  0.0070\n",
        "              people  \t---\t  0.0069\n",
        "                show  \t---\t  0.0065\n",
        "\n",
        "topic 6:"
       ]
      },
      {
       "output_type": "stream",
       "stream": "stdout",
       "text": [
        "\n",
        "              london  \t---\t  0.0837\n",
        "                  rt  \t---\t  0.0310\n",
        "        royalwedding  \t---\t  0.0209\n",
        "                  go  \t---\t  0.0204\n",
        "                live  \t---\t  0.0154\n",
        "                 day  \t---\t  0.0146\n",
        "                back  \t---\t  0.0119\n",
        "                jobs  \t---\t  0.0113\n",
        "               hours  \t---\t  0.0112\n",
        "                 job  \t---\t  0.0097\n",
        "\n",
        "topic 7:"
       ]
      },
      {
       "output_type": "stream",
       "stream": "stdout",
       "text": [
        "\n",
        "              london  \t---\t  0.0153\n",
        "            olympics  \t---\t  0.0096\n",
        "               house  \t---\t  0.0085\n",
        "              events  \t---\t  0.0085\n",
        "             olympic  \t---\t  0.0072\n",
        "              theres  \t---\t  0.0069\n",
        "            earnings  \t---\t  0.0067\n",
        "                rent  \t---\t  0.0056\n",
        "                star  \t---\t  0.0050\n",
        "                 rat  \t---\t  0.0049\n",
        "\n",
        "topic 8:"
       ]
      },
      {
       "output_type": "stream",
       "stream": "stdout",
       "text": [
        "\n",
        "                  di  \t---\t  0.0167\n",
        "               world  \t---\t  0.0146\n",
        "                 ada  \t---\t  0.0099\n",
        "                life  \t---\t  0.0090\n",
        "                buat  \t---\t  0.0088\n",
        "              better  \t---\t  0.0086\n",
        "                  ur  \t---\t  0.0059\n",
        "                haha  \t---\t  0.0058\n",
        "                 nih  \t---\t  0.0056\n",
        "              living  \t---\t  0.0053\n",
        "\n",
        "topic 9:"
       ]
      },
      {
       "output_type": "stream",
       "stream": "stdout",
       "text": [
        "\n",
        "               radio  \t---\t  0.0091\n",
        "                road  \t---\t  0.0075\n",
        "               looks  \t---\t  0.0056\n",
        "                join  \t---\t  0.0039\n",
        "             college  \t---\t  0.0038\n",
        "               sunny  \t---\t  0.0036\n",
        "                 mit  \t---\t  0.0035\n",
        "               maybe  \t---\t  0.0029\n",
        "               trust  \t---\t  0.0027\n",
        "              months  \t---\t  0.0026\n",
        "\n",
        "topic 10:"
       ]
      },
      {
       "output_type": "stream",
       "stream": "stdout",
       "text": [
        "\n",
        "              london  \t---\t  0.1015\n",
        "                  rt  \t---\t  0.0177\n",
        "                  im  \t---\t  0.0156\n",
        "               today  \t---\t  0.0136\n",
        "                  ke  \t---\t  0.0112\n",
        "             wedding  \t---\t  0.0085\n",
        "                news  \t---\t  0.0083\n",
        "                 get  \t---\t  0.0074\n",
        "                   u  \t---\t  0.0067\n",
        "               royal  \t---\t  0.0067\n",
        "\n",
        "topic 11:"
       ]
      },
      {
       "output_type": "stream",
       "stream": "stdout",
       "text": [
        "\n",
        "              london  \t---\t  0.0082\n",
        "                   w  \t---\t  0.0074\n",
        "             airport  \t---\t  0.0072\n",
        "                 one  \t---\t  0.0065\n",
        "                full  \t---\t  0.0043\n",
        "          technology  \t---\t  0.0043\n",
        "               reina  \t---\t  0.0043\n",
        "              garden  \t---\t  0.0043\n",
        "              doesnt  \t---\t  0.0042\n",
        "               hello  \t---\t  0.0039\n",
        "\n",
        "topic 12:"
       ]
      },
      {
       "output_type": "stream",
       "stream": "stdout",
       "text": [
        "\n",
        "                nice  \t---\t  0.0085\n",
        "                 two  \t---\t  0.0081\n",
        "             support  \t---\t  0.0049\n",
        "                  lo  \t---\t  0.0044\n",
        "                  nd  \t---\t  0.0043\n",
        "              london  \t---\t  0.0041\n",
        "                beli  \t---\t  0.0029\n",
        "                shop  \t---\t  0.0029\n",
        "                fine  \t---\t  0.0028\n",
        "               mayor  \t---\t  0.0028\n",
        "\n",
        "1"
       ]
      },
      {
       "output_type": "stream",
       "stream": "stdout",
       "text": [
        " 3000\n",
        "topic 1:"
       ]
      },
      {
       "output_type": "stream",
       "stream": "stdout",
       "text": [
        "\n",
        "               world  \t---\t  0.0122\n",
        "               south  \t---\t  0.0114\n",
        "                take  \t---\t  0.0094\n",
        "                park  \t---\t  0.0071\n",
        "                  ur  \t---\t  0.0064\n",
        "              living  \t---\t  0.0050\n",
        "               looks  \t---\t  0.0047\n",
        "               dream  \t---\t  0.0043\n",
        "                walk  \t---\t  0.0043\n",
        "               house  \t---\t  0.0042\n",
        "\n",
        "topic 2:"
       ]
      },
      {
       "output_type": "stream",
       "stream": "stdout",
       "text": [
        "\n",
        "              london  \t---\t  0.0371\n",
        "                  uk  \t---\t  0.0251\n",
        "                  rt  \t---\t  0.0114\n",
        "                   p  \t---\t  0.0110\n",
        "                  xx  \t---\t  0.0097\n",
        "              ticket  \t---\t  0.0092\n",
        "               sales  \t---\t  0.0085\n",
        "               train  \t---\t  0.0075\n",
        "                   e  \t---\t  0.0069\n",
        "            watching  \t---\t  0.0059\n",
        "\n",
        "topic 3:"
       ]
      },
      {
       "output_type": "stream",
       "stream": "stdout",
       "text": [
        "\n",
        "              london  \t---\t  0.0866\n",
        "                  rt  \t---\t  0.0492\n",
        "        royalwedding  \t---\t  0.0255\n",
        "                  go  \t---\t  0.0242\n",
        "                live  \t---\t  0.0197\n",
        "                back  \t---\t  0.0157\n",
        "               hours  \t---\t  0.0132\n",
        "                  rw  \t---\t  0.0111\n",
        "             eonline  \t---\t  0.0109\n",
        "               enews  \t---\t  0.0107\n",
        "\n",
        "topic 4:"
       ]
      },
      {
       "output_type": "stream",
       "stream": "stdout",
       "text": [
        "\n",
        "            tomorrow  \t---\t  0.0424\n",
        "              london  \t---\t  0.0415\n",
        "                  rt  \t---\t  0.0381\n",
        "                 via  \t---\t  0.0315\n",
        "                jack  \t---\t  0.0239\n",
        "               union  \t---\t  0.0237\n",
        "                flag  \t---\t  0.0225\n",
        "                hats  \t---\t  0.0224\n",
        "              tramps  \t---\t  0.0221\n",
        "             issuing  \t---\t  0.0218\n",
        "\n",
        "topic 5:"
       ]
      },
      {
       "output_type": "stream",
       "stream": "stdout",
       "text": [
        "\n",
        "              london  \t---\t  0.0637\n",
        "             wedding  \t---\t  0.0401\n",
        "               royal  \t---\t  0.0333\n",
        "                kate  \t---\t  0.0177\n",
        "             william  \t---\t  0.0132\n",
        "                 get  \t---\t  0.0113\n",
        "                dont  \t---\t  0.0099\n",
        "             getting  \t---\t  0.0094\n",
        "             tonight  \t---\t  0.0093\n",
        "               first  \t---\t  0.0069\n",
        "\n",
        "topic 6:"
       ]
      },
      {
       "output_type": "stream",
       "stream": "stdout",
       "text": [
        "\n",
        "              london  \t---\t  0.0235\n",
        "                  th  \t---\t  0.0145\n",
        "                love  \t---\t  0.0134\n",
        "                 may  \t---\t  0.0124\n",
        "             londons  \t---\t  0.0123\n",
        "              street  \t---\t  0.0121\n",
        "               would  \t---\t  0.0111\n",
        "                work  \t---\t  0.0110\n",
        "                east  \t---\t  0.0099\n",
        "                  pm  \t---\t  0.0091\n",
        "\n",
        "topic 7:"
       ]
      },
      {
       "output_type": "stream",
       "stream": "stdout",
       "text": [
        "\n",
        "              london  \t---\t  0.0309\n",
        "                  rt  \t---\t  0.0214\n",
        "                  di  \t---\t  0.0117\n",
        "               still  \t---\t  0.0110\n",
        "                 ill  \t---\t  0.0110\n",
        "                 aku  \t---\t  0.0106\n",
        "                wish  \t---\t  0.0094\n",
        "                high  \t---\t  0.0088\n",
        "                siap  \t---\t  0.0085\n",
        "               watch  \t---\t  0.0081\n",
        "\n",
        "topic 8:"
       ]
      },
      {
       "output_type": "stream",
       "stream": "stdout",
       "text": [
        "\n",
        "              london  \t---\t  0.1254\n",
        "                  im  \t---\t  0.0187\n",
        "                jobs  \t---\t  0.0171\n",
        "                 job  \t---\t  0.0119\n",
        "                 new  \t---\t  0.0101\n",
        "               going  \t---\t  0.0091\n",
        "                 one  \t---\t  0.0083\n",
        "                  us  \t---\t  0.0074\n",
        "                 way  \t---\t  0.0067\n",
        "                  rt  \t---\t  0.0067\n",
        "\n",
        "topic 9:"
       ]
      },
      {
       "output_type": "stream",
       "stream": "stdout",
       "text": [
        "\n",
        "              london  \t---\t  0.0521\n",
        "                  ke  \t---\t  0.0238\n",
        "               today  \t---\t  0.0183\n",
        "                next  \t---\t  0.0122\n",
        "                 mau  \t---\t  0.0103\n",
        "              really  \t---\t  0.0101\n",
        "                 lol  \t---\t  0.0092\n",
        "                  rt  \t---\t  0.0086\n",
        "                well  \t---\t  0.0076\n",
        "                real  \t---\t  0.0069\n",
        "\n",
        "topic 10:"
       ]
      },
      {
       "output_type": "stream",
       "stream": "stdout",
       "text": [
        "\n",
        "                last  \t---\t  0.0272\n",
        "            business  \t---\t  0.0179\n",
        "                week  \t---\t  0.0166\n",
        "               night  \t---\t  0.0120\n",
        "                show  \t---\t  0.0109\n",
        "               class  \t---\t  0.0097\n",
        "                 got  \t---\t  0.0089\n",
        "              london  \t---\t  0.0082\n",
        "            olympics  \t---\t  0.0078\n",
        "             olympic  \t---\t  0.0068\n",
        "\n",
        "topic 11:"
       ]
      },
      {
       "output_type": "stream",
       "stream": "stdout",
       "text": [
        "\n",
        "              london  \t---\t  0.0518\n",
        "                   d  \t---\t  0.0186\n",
        "                 day  \t---\t  0.0178\n",
        "                time  \t---\t  0.0126\n",
        "                   u  \t---\t  0.0111\n",
        "                good  \t---\t  0.0104\n",
        "                 see  \t---\t  0.0080\n",
        "              people  \t---\t  0.0074\n",
        "              around  \t---\t  0.0071\n",
        "                 two  \t---\t  0.0060\n",
        "\n",
        "topic 12:"
       ]
      },
      {
       "output_type": "stream",
       "stream": "stdout",
       "text": [
        "\n",
        "                bank  \t---\t  0.0111\n",
        "             support  \t---\t  0.0095\n",
        "              lovely  \t---\t  0.0082\n",
        "                nyse  \t---\t  0.0079\n",
        "                sure  \t---\t  0.0076\n",
        "             holiday  \t---\t  0.0075\n",
        "                 bid  \t---\t  0.0071\n",
        "               enjoy  \t---\t  0.0065\n",
        "            euronext  \t---\t  0.0064\n",
        "             someone  \t---\t  0.0060\n",
        "\n",
        "1"
       ]
      },
      {
       "output_type": "stream",
       "stream": "stdout",
       "text": [
        " 3500\n",
        "topic 1:"
       ]
      },
      {
       "output_type": "stream",
       "stream": "stdout",
       "text": [
        "\n",
        "              london  \t---\t  0.0770\n",
        "                  rt  \t---\t  0.0385\n",
        "               royal  \t---\t  0.0331\n",
        "             wedding  \t---\t  0.0325\n",
        "            tomorrow  \t---\t  0.0236\n",
        "                 via  \t---\t  0.0165\n",
        "                jack  \t---\t  0.0119\n",
        "               union  \t---\t  0.0117\n",
        "                hats  \t---\t  0.0111\n",
        "                flag  \t---\t  0.0110\n",
        "\n",
        "topic 2:"
       ]
      },
      {
       "output_type": "stream",
       "stream": "stdout",
       "text": [
        "\n",
        "                love  \t---\t  0.0224\n",
        "             londons  \t---\t  0.0197\n",
        "                work  \t---\t  0.0179\n",
        "             morning  \t---\t  0.0160\n",
        "             excited  \t---\t  0.0116\n",
        "                  rt  \t---\t  0.0110\n",
        "          nowplaying  \t---\t  0.0092\n",
        "              second  \t---\t  0.0091\n",
        "                busy  \t---\t  0.0090\n",
        "              better  \t---\t  0.0084\n",
        "\n",
        "topic 3:"
       ]
      },
      {
       "output_type": "stream",
       "stream": "stdout",
       "text": [
        "\n",
        "              london  \t---\t  0.0250\n",
        "                 one  \t---\t  0.0163\n",
        "              street  \t---\t  0.0153\n",
        "                 day  \t---\t  0.0128\n",
        "               would  \t---\t  0.0126\n",
        "                east  \t---\t  0.0115\n",
        "               still  \t---\t  0.0113\n",
        "                 lol  \t---\t  0.0111\n",
        "                  im  \t---\t  0.0080\n",
        "              ticket  \t---\t  0.0072\n",
        "\n",
        "topic 4:"
       ]
      },
      {
       "output_type": "stream",
       "stream": "stdout",
       "text": [
        "\n",
        "              london  \t---\t  0.0320\n",
        "                want  \t---\t  0.0199\n",
        "                  st  \t---\t  0.0099\n",
        "                real  \t---\t  0.0097\n",
        "                 two  \t---\t  0.0091\n",
        "               happy  \t---\t  0.0079\n",
        "                 sun  \t---\t  0.0077\n",
        "             support  \t---\t  0.0075\n",
        "              people  \t---\t  0.0069\n",
        "                cold  \t---\t  0.0067\n",
        "\n",
        "topic 5:"
       ]
      },
      {
       "output_type": "stream",
       "stream": "stdout",
       "text": [
        "\n",
        "              london  \t---\t  0.0763\n",
        "                  rt  \t---\t  0.0277\n",
        "                  go  \t---\t  0.0253\n",
        "        royalwedding  \t---\t  0.0251\n",
        "                live  \t---\t  0.0192\n",
        "                  uk  \t---\t  0.0180\n",
        "               hours  \t---\t  0.0148\n",
        "             eonline  \t---\t  0.0122\n",
        "                  rw  \t---\t  0.0121\n",
        "               enews  \t---\t  0.0120\n",
        "\n",
        "topic 6:"
       ]
      },
      {
       "output_type": "stream",
       "stream": "stdout",
       "text": [
        "\n",
        "              london  \t---\t  0.0481\n",
        "               going  \t---\t  0.0207\n",
        "                 see  \t---\t  0.0201\n",
        "                kate  \t---\t  0.0123\n",
        "             reuters  \t---\t  0.0096\n",
        "                wish  \t---\t  0.0095\n",
        "                high  \t---\t  0.0087\n",
        "                 day  \t---\t  0.0082\n",
        "              anyone  \t---\t  0.0073\n",
        "             william  \t---\t  0.0072\n",
        "\n",
        "topic 7:"
       ]
      },
      {
       "output_type": "stream",
       "stream": "stdout",
       "text": [
        "\n",
        "              raided  \t---\t  0.0076\n",
        "                star  \t---\t  0.0075\n",
        "                 rat  \t---\t  0.0070\n",
        "            earnings  \t---\t  0.0063\n",
        "              social  \t---\t  0.0057\n",
        "              police  \t---\t  0.0056\n",
        "             reports  \t---\t  0.0047\n",
        "            received  \t---\t  0.0040\n",
        "               green  \t---\t  0.0039\n",
        "                plan  \t---\t  0.0037\n",
        "\n",
        "topic 8:"
       ]
      },
      {
       "output_type": "stream",
       "stream": "stdout",
       "text": [
        "\n",
        "              london  \t---\t  0.0728\n",
        "                jobs  \t---\t  0.0249\n",
        "                back  \t---\t  0.0184\n",
        "                 job  \t---\t  0.0146\n",
        "                  th  \t---\t  0.0104\n",
        "            business  \t---\t  0.0096\n",
        "                 may  \t---\t  0.0095\n",
        "             manager  \t---\t  0.0090\n",
        "           marketing  \t---\t  0.0087\n",
        "                home  \t---\t  0.0083\n",
        "\n",
        "topic 9:"
       ]
      },
      {
       "output_type": "stream",
       "stream": "stdout",
       "text": [
        "\n",
        "              london  \t---\t  0.0793\n",
        "                  us  \t---\t  0.0131\n",
        "                time  \t---\t  0.0104\n",
        "                  rt  \t---\t  0.0090\n",
        "                 get  \t---\t  0.0082\n",
        "                 new  \t---\t  0.0080\n",
        "                well  \t---\t  0.0080\n",
        "              travel  \t---\t  0.0075\n",
        "                free  \t---\t  0.0072\n",
        "               right  \t---\t  0.0070\n",
        "\n",
        "topic 10:"
       ]
      },
      {
       "output_type": "stream",
       "stream": "stdout",
       "text": [
        "\n",
        "              london  \t---\t  0.1030\n",
        "                  rt  \t---\t  0.0293\n",
        "                  im  \t---\t  0.0162\n",
        "                  ke  \t---\t  0.0136\n",
        "               today  \t---\t  0.0126\n",
        "                   d  \t---\t  0.0112\n",
        "                last  \t---\t  0.0100\n",
        "                   u  \t---\t  0.0095\n",
        "                  di  \t---\t  0.0091\n",
        "                 way  \t---\t  0.0070\n",
        "\n",
        "topic 11:"
       ]
      },
      {
       "output_type": "stream",
       "stream": "stdout",
       "text": [
        "\n",
        "              school  \t---\t  0.0153\n",
        "              london  \t---\t  0.0120\n",
        "                  en  \t---\t  0.0097\n",
        "                open  \t---\t  0.0074\n",
        "                  ga  \t---\t  0.0070\n",
        "               women  \t---\t  0.0064\n",
        "                rule  \t---\t  0.0056\n",
        "            teaching  \t---\t  0.0053\n",
        "                  gw  \t---\t  0.0053\n",
        "                  ik  \t---\t  0.0042\n",
        "\n",
        "topic 12:"
       ]
      },
      {
       "output_type": "stream",
       "stream": "stdout",
       "text": [
        "\n",
        "                nyse  \t---\t  0.0118\n",
        "                 bid  \t---\t  0.0114\n",
        "            euronext  \t---\t  0.0108\n",
        "               world  \t---\t  0.0105\n",
        "                  ur  \t---\t  0.0080\n",
        "               ready  \t---\t  0.0067\n",
        "            deutsche  \t---\t  0.0061\n",
        "                shit  \t---\t  0.0057\n",
        "               looks  \t---\t  0.0056\n",
        "                 jam  \t---\t  0.0052\n",
        "\n",
        "1"
       ]
      },
      {
       "output_type": "stream",
       "stream": "stdout",
       "text": [
        " 4000\n",
        "topic 1:"
       ]
      },
      {
       "output_type": "stream",
       "stream": "stdout",
       "text": [
        "\n",
        "              london  \t---\t  0.0243\n",
        "                   k  \t---\t  0.0145\n",
        "                 see  \t---\t  0.0144\n",
        "               watch  \t---\t  0.0135\n",
        "               think  \t---\t  0.0102\n",
        "               heres  \t---\t  0.0082\n",
        "              thanks  \t---\t  0.0080\n",
        "                 afp  \t---\t  0.0075\n",
        "                soon  \t---\t  0.0070\n",
        "          nowplaying  \t---\t  0.0067\n",
        "\n",
        "topic 2:"
       ]
      },
      {
       "output_type": "stream",
       "stream": "stdout",
       "text": [
        "\n",
        "              london  \t---\t  0.0507\n",
        "                  rt  \t---\t  0.0306\n",
        "                  ke  \t---\t  0.0242\n",
        "                time  \t---\t  0.0160\n",
        "                 mau  \t---\t  0.0124\n",
        "                   u  \t---\t  0.0113\n",
        "                  ya  \t---\t  0.0096\n",
        "              around  \t---\t  0.0072\n",
        "               besok  \t---\t  0.0068\n",
        "               paris  \t---\t  0.0065\n",
        "\n",
        "topic 3:"
       ]
      },
      {
       "output_type": "stream",
       "stream": "stdout",
       "text": [
        "\n",
        "              london  \t---\t  0.0343\n",
        "              school  \t---\t  0.0127\n",
        "               south  \t---\t  0.0112\n",
        "                siap  \t---\t  0.0098\n",
        "                  ok  \t---\t  0.0096\n",
        "                west  \t---\t  0.0092\n",
        "                bank  \t---\t  0.0089\n",
        "            actually  \t---\t  0.0089\n",
        "             packing  \t---\t  0.0083\n",
        "              report  \t---\t  0.0081\n",
        "\n",
        "topic 4:"
       ]
      },
      {
       "output_type": "stream",
       "stream": "stdout",
       "text": [
        "\n",
        "              london  \t---\t  0.1191\n",
        "                  rt  \t---\t  0.0338\n",
        "             wedding  \t---\t  0.0237\n",
        "               royal  \t---\t  0.0219\n",
        "                  im  \t---\t  0.0202\n",
        "            tomorrow  \t---\t  0.0175\n",
        "               today  \t---\t  0.0116\n",
        "                back  \t---\t  0.0107\n",
        "               going  \t---\t  0.0100\n",
        "                 via  \t---\t  0.0093\n",
        "\n",
        "topic 5:"
       ]
      },
      {
       "output_type": "stream",
       "stream": "stdout",
       "text": [
        "\n",
        "              london  \t---\t  0.0586\n",
        "                kate  \t---\t  0.0193\n",
        "             william  \t---\t  0.0143\n",
        "                well  \t---\t  0.0126\n",
        "                week  \t---\t  0.0105\n",
        "                free  \t---\t  0.0103\n",
        "              travel  \t---\t  0.0100\n",
        "               train  \t---\t  0.0088\n",
        "               world  \t---\t  0.0083\n",
        "                time  \t---\t  0.0082\n",
        "\n",
        "topic 6:"
       ]
      },
      {
       "output_type": "stream",
       "stream": "stdout",
       "text": [
        "\n",
        "              london  \t---\t  0.0721\n",
        "                 day  \t---\t  0.0227\n",
        "                jobs  \t---\t  0.0187\n",
        "                dont  \t---\t  0.0108\n",
        "           marketing  \t---\t  0.0107\n",
        "               would  \t---\t  0.0106\n",
        "                 new  \t---\t  0.0097\n",
        "                east  \t---\t  0.0096\n",
        "                 way  \t---\t  0.0093\n",
        "                 job  \t---\t  0.0089\n",
        "\n",
        "topic 7:"
       ]
      },
      {
       "output_type": "stream",
       "stream": "stdout",
       "text": [
        "\n",
        "              london  \t---\t  0.0419\n",
        "                   d  \t---\t  0.0211\n",
        "                last  \t---\t  0.0198\n",
        "                 new  \t---\t  0.0186\n",
        "              street  \t---\t  0.0100\n",
        "                show  \t---\t  0.0094\n",
        "                ftse  \t---\t  0.0088\n",
        "            thursday  \t---\t  0.0088\n",
        "                town  \t---\t  0.0081\n",
        "                wall  \t---\t  0.0080\n",
        "\n",
        "topic 8:"
       ]
      },
      {
       "output_type": "stream",
       "stream": "stdout",
       "text": [
        "\n",
        "                love  \t---\t  0.0231\n",
        "                work  \t---\t  0.0177\n",
        "             londons  \t---\t  0.0166\n",
        "             morning  \t---\t  0.0141\n",
        "               nigga  \t---\t  0.0104\n",
        "                busy  \t---\t  0.0087\n",
        "              better  \t---\t  0.0086\n",
        "              events  \t---\t  0.0078\n",
        "               rates  \t---\t  0.0073\n",
        "                 tea  \t---\t  0.0073\n",
        "\n",
        "topic 9:"
       ]
      },
      {
       "output_type": "stream",
       "stream": "stdout",
       "text": [
        "\n",
        "              london  \t---\t  0.0538\n",
        "                  rt  \t---\t  0.0519\n",
        "                live  \t---\t  0.0296\n",
        "        royalwedding  \t---\t  0.0241\n",
        "                  go  \t---\t  0.0200\n",
        "               hours  \t---\t  0.0172\n",
        "                 win  \t---\t  0.0158\n",
        "                  rw  \t---\t  0.0153\n",
        "                  th  \t---\t  0.0150\n",
        "             eonline  \t---\t  0.0141\n",
        "\n",
        "topic 10:"
       ]
      },
      {
       "output_type": "stream",
       "stream": "stdout",
       "text": [
        "\n",
        "                 one  \t---\t  0.0236\n",
        "              london  \t---\t  0.0119\n",
        "                 two  \t---\t  0.0099\n",
        "                nice  \t---\t  0.0097\n",
        "               thing  \t---\t  0.0093\n",
        "            everyone  \t---\t  0.0086\n",
        "                 aku  \t---\t  0.0065\n",
        "                fair  \t---\t  0.0049\n",
        "             special  \t---\t  0.0039\n",
        "                  tv  \t---\t  0.0037\n",
        "\n",
        "topic 11:"
       ]
      },
      {
       "output_type": "stream",
       "stream": "stdout",
       "text": [
        "\n",
        "              london  \t---\t  0.0642\n",
        "                  uk  \t---\t  0.0201\n",
        "                jobs  \t---\t  0.0166\n",
        "                 job  \t---\t  0.0145\n",
        "             tonight  \t---\t  0.0125\n",
        "               great  \t---\t  0.0106\n",
        "             getting  \t---\t  0.0105\n",
        "                  ib  \t---\t  0.0095\n",
        "             finance  \t---\t  0.0092\n",
        "                  us  \t---\t  0.0082\n",
        "\n",
        "topic 12:"
       ]
      },
      {
       "output_type": "stream",
       "stream": "stdout",
       "text": [
        "\n",
        "              london  \t---\t  0.0440\n",
        "            business  \t---\t  0.0163\n",
        "                 lol  \t---\t  0.0122\n",
        "                   p  \t---\t  0.0100\n",
        "                need  \t---\t  0.0095\n",
        "            olympics  \t---\t  0.0086\n",
        "              anyone  \t---\t  0.0086\n",
        "                know  \t---\t  0.0085\n",
        "              ticket  \t---\t  0.0079\n",
        "             olympic  \t---\t  0.0079\n",
        "\n",
        "1"
       ]
      },
      {
       "output_type": "stream",
       "stream": "stdout",
       "text": [
        " 4500\n",
        "topic 1:"
       ]
      },
      {
       "output_type": "stream",
       "stream": "stdout",
       "text": [
        "\n",
        "              london  \t---\t  0.0278\n",
        "                 lol  \t---\t  0.0187\n",
        "                show  \t---\t  0.0125\n",
        "                 aku  \t---\t  0.0115\n",
        "                  oh  \t---\t  0.0114\n",
        "                real  \t---\t  0.0096\n",
        "                  rt  \t---\t  0.0082\n",
        "               signs  \t---\t  0.0072\n",
        "                look  \t---\t  0.0064\n",
        "             forward  \t---\t  0.0064\n",
        "\n",
        "topic 2:"
       ]
      },
      {
       "output_type": "stream",
       "stream": "stdout",
       "text": [
        "\n",
        "              london  \t---\t  0.0490\n",
        "                love  \t---\t  0.0157\n",
        "             londons  \t---\t  0.0136\n",
        "                 way  \t---\t  0.0123\n",
        "                  rt  \t---\t  0.0121\n",
        "                work  \t---\t  0.0110\n",
        "                need  \t---\t  0.0108\n",
        "               first  \t---\t  0.0090\n",
        "               house  \t---\t  0.0088\n",
        "             morning  \t---\t  0.0084\n",
        "\n",
        "topic 3:"
       ]
      },
      {
       "output_type": "stream",
       "stream": "stdout",
       "text": [
        "\n",
        "              london  \t---\t  0.1216\n",
        "                  im  \t---\t  0.0219\n",
        "                 day  \t---\t  0.0189\n",
        "               today  \t---\t  0.0176\n",
        "                  uk  \t---\t  0.0136\n",
        "               going  \t---\t  0.0122\n",
        "                  rt  \t---\t  0.0119\n",
        "                 may  \t---\t  0.0119\n",
        "                  th  \t---\t  0.0104\n",
        "                 get  \t---\t  0.0077\n",
        "\n",
        "topic 4:"
       ]
      },
      {
       "output_type": "stream",
       "stream": "stdout",
       "text": [
        "\n",
        "                 afp  \t---\t  0.0144\n",
        "                 two  \t---\t  0.0120\n",
        "                cold  \t---\t  0.0091\n",
        "               happy  \t---\t  0.0089\n",
        "                 sun  \t---\t  0.0088\n",
        "              around  \t---\t  0.0085\n",
        "               heres  \t---\t  0.0081\n",
        "                  ur  \t---\t  0.0081\n",
        "                open  \t---\t  0.0079\n",
        "           something  \t---\t  0.0076\n",
        "\n",
        "topic 5:"
       ]
      },
      {
       "output_type": "stream",
       "stream": "stdout",
       "text": [
        "\n",
        "              london  \t---\t  0.0670\n",
        "             wedding  \t---\t  0.0470\n",
        "               royal  \t---\t  0.0393\n",
        "                  rt  \t---\t  0.0188\n",
        "                   d  \t---\t  0.0172\n",
        "                last  \t---\t  0.0153\n",
        "                 win  \t---\t  0.0143\n",
        "                news  \t---\t  0.0119\n",
        "                 got  \t---\t  0.0086\n",
        "                cant  \t---\t  0.0067\n",
        "\n",
        "topic 6:"
       ]
      },
      {
       "output_type": "stream",
       "stream": "stdout",
       "text": [
        "\n",
        "              london  \t---\t  0.0867\n",
        "                  rt  \t---\t  0.0369\n",
        "        royalwedding  \t---\t  0.0297\n",
        "                  go  \t---\t  0.0277\n",
        "                live  \t---\t  0.0218\n",
        "               hours  \t---\t  0.0131\n",
        "                  rw  \t---\t  0.0120\n",
        "               enews  \t---\t  0.0105\n",
        "             eonline  \t---\t  0.0105\n",
        "           royalswed  \t---\t  0.0099\n",
        "\n",
        "topic 7:"
       ]
      },
      {
       "output_type": "stream",
       "stream": "stdout",
       "text": [
        "\n",
        "              london  \t---\t  0.0576\n",
        "                jobs  \t---\t  0.0288\n",
        "                 new  \t---\t  0.0268\n",
        "                 job  \t---\t  0.0180\n",
        "            business  \t---\t  0.0133\n",
        "           marketing  \t---\t  0.0105\n",
        "             manager  \t---\t  0.0100\n",
        "                kate  \t---\t  0.0094\n",
        "             william  \t---\t  0.0082\n",
        "                ftse  \t---\t  0.0075\n",
        "\n",
        "topic 8:"
       ]
      },
      {
       "output_type": "stream",
       "stream": "stdout",
       "text": [
        "\n",
        "              london  \t---\t  0.0723\n",
        "                  rt  \t---\t  0.0295\n",
        "                  ke  \t---\t  0.0195\n",
        "                time  \t---\t  0.0155\n",
        "                  di  \t---\t  0.0113\n",
        "                 see  \t---\t  0.0104\n",
        "                 mau  \t---\t  0.0098\n",
        "                 ill  \t---\t  0.0089\n",
        "               still  \t---\t  0.0074\n",
        "              travel  \t---\t  0.0069\n",
        "\n",
        "topic 9:"
       ]
      },
      {
       "output_type": "stream",
       "stream": "stdout",
       "text": [
        "\n",
        "              london  \t---\t  0.0543\n",
        "                want  \t---\t  0.0191\n",
        "              street  \t---\t  0.0183\n",
        "                  im  \t---\t  0.0176\n",
        "               think  \t---\t  0.0132\n",
        "               would  \t---\t  0.0128\n",
        "                east  \t---\t  0.0108\n",
        "                   u  \t---\t  0.0102\n",
        "              school  \t---\t  0.0088\n",
        "                town  \t---\t  0.0082\n",
        "\n",
        "topic 10:"
       ]
      },
      {
       "output_type": "stream",
       "stream": "stdout",
       "text": [
        "\n",
        "                back  \t---\t  0.0410\n",
        "                home  \t---\t  0.0177\n",
        "               night  \t---\t  0.0142\n",
        "                make  \t---\t  0.0103\n",
        "                road  \t---\t  0.0091\n",
        "                 let  \t---\t  0.0081\n",
        "              stupid  \t---\t  0.0071\n",
        "               radio  \t---\t  0.0071\n",
        "                park  \t---\t  0.0071\n",
        "                   m  \t---\t  0.0067\n",
        "\n",
        "topic 11:"
       ]
      },
      {
       "output_type": "stream",
       "stream": "stdout",
       "text": [
        "\n",
        "              london  \t---\t  0.0558\n",
        "            tomorrow  \t---\t  0.0432\n",
        "                  rt  \t---\t  0.0352\n",
        "                 via  \t---\t  0.0230\n",
        "                jack  \t---\t  0.0167\n",
        "               union  \t---\t  0.0161\n",
        "                flag  \t---\t  0.0154\n",
        "                hats  \t---\t  0.0154\n",
        "                hide  \t---\t  0.0150\n",
        "              tramps  \t---\t  0.0150\n",
        "\n",
        "topic 12:"
       ]
      },
      {
       "output_type": "stream",
       "stream": "stdout",
       "text": [
        "\n",
        "             tonight  \t---\t  0.0205\n",
        "              london  \t---\t  0.0192\n",
        "                   k  \t---\t  0.0183\n",
        "             getting  \t---\t  0.0167\n",
        "               watch  \t---\t  0.0163\n",
        "             british  \t---\t  0.0094\n",
        "                soon  \t---\t  0.0092\n",
        "                   o  \t---\t  0.0085\n",
        "                call  \t---\t  0.0065\n",
        "                part  \t---\t  0.0061\n",
        "\n",
        "1"
       ]
      },
      {
       "output_type": "stream",
       "stream": "stdout",
       "text": [
        " 5000\n",
        "Trial Completed: 2\n",
        "Estimated Minutes Left: 0.0\n",
        "Time Elapsed: 3983.2750001\n"
       ]
      }
     ],
     "prompt_number": 39
    },
    {
     "cell_type": "markdown",
     "metadata": {},
     "source": [
      "##The code below is the same as above, just with lda removed."
     ]
    },
    {
     "cell_type": "code",
     "collapsed": false,
     "input": [
      "import NLPfunctions as nlpf\n",
      "import pandas as pd\n",
      "import summarizer as s\n",
      "import runOnDocuments as lda\n",
      "\n",
      "data = pd.read_pickle(\"C:\\\\git\\\\SemanticTextDB\\\\example_code\\\\benchmark_results\\\\laws_10k.p\")\n",
      "\n",
      "NUM_INTERTIMES = 10\n",
      "NUM_TRIALS = 2\n",
      "NUM_ITEMS = 1001\n",
      "\n",
      "summary_trials = []\n",
      "sentiment_trials = []\n",
      "\n",
      "base_time = time.time()\n",
      "\n",
      "for trial in range(NUM_TRIALS):\n",
      "    summary_intertimes = []\n",
      "    sentiment_intertimes = []\n",
      "    for level in range(NUM_ITEMS / NUM_INTERTIMES, NUM_ITEMS, NUM_ITEMS / NUM_INTERTIMES):\n",
      "        \n",
      "        data_this_level = data[:level]\n",
      "        data_this_level = [item[0] for item in data_this_level]#Remove tuple wrapping strings\n",
      "                \n",
      "        summaryResults = []\n",
      "        sentimentResults = []        \n",
      "        \n",
      "        sentiment_total_time = 0\n",
      "        summary_total_time = 0\n",
      "        \n",
      "        for item in data_this_level:            \n",
      "            start_time = time.time()\n",
      "            sentimentResults.append(nlpf.sentimentAnalysis(item))\n",
      "            sentiment_total_time = sentiment_total_time + (time.time() - start_time)\n",
      "            \n",
      "            start_time = time.time()\n",
      "            summaryResults.append(s.summarize(item))\n",
      "            summary_total_time = summary_total_time + (time.time() - start_time)\n",
      "        \n",
      "        summary_intertimes.append(summary_total_time)\n",
      "        sentiment_intertimes.append(sentiment_total_time) \n",
      "        \n",
      "        print trial, level\n",
      "        \n",
      "    summary_trials.append(summary_intertimes)\n",
      "    sentiment_trials.append(sentiment_intertimes)\n",
      "    time_elapsed = time.time() - base_time\n",
      "    print 'Trial Completed:', trial + 1\n",
      "    print \"Estimated Minutes Left:\", (time_elapsed * NUM_TRIALS / (trial + 1.0) - time_elapsed) / 60.0\n",
      "    print \"Time Elapsed:\", time_elapsed"
     ],
     "language": "python",
     "metadata": {},
     "outputs": [
      {
       "output_type": "stream",
       "stream": "stdout",
       "text": [
        "0 100\n",
        "0"
       ]
      },
      {
       "output_type": "stream",
       "stream": "stdout",
       "text": [
        " 200\n",
        "0"
       ]
      },
      {
       "output_type": "stream",
       "stream": "stdout",
       "text": [
        " 300\n",
        "0"
       ]
      },
      {
       "output_type": "stream",
       "stream": "stdout",
       "text": [
        " 400\n",
        "0"
       ]
      },
      {
       "output_type": "stream",
       "stream": "stdout",
       "text": [
        " 500\n",
        "0"
       ]
      },
      {
       "output_type": "stream",
       "stream": "stdout",
       "text": [
        " 600\n",
        "0"
       ]
      },
      {
       "output_type": "stream",
       "stream": "stdout",
       "text": [
        " 700\n",
        "0"
       ]
      },
      {
       "output_type": "stream",
       "stream": "stdout",
       "text": [
        " 800\n",
        "0"
       ]
      },
      {
       "output_type": "stream",
       "stream": "stdout",
       "text": [
        " 900\n",
        "0"
       ]
      },
      {
       "output_type": "stream",
       "stream": "stdout",
       "text": [
        " 1000\n",
        "Trial Completed: 1\n",
        "Estimated Minutes Left: 7.39853333235\n",
        "Time Elapsed: 443.911999941\n",
        "1"
       ]
      },
      {
       "output_type": "stream",
       "stream": "stdout",
       "text": [
        " 100\n",
        "1"
       ]
      },
      {
       "output_type": "stream",
       "stream": "stdout",
       "text": [
        " 200\n",
        "1"
       ]
      },
      {
       "output_type": "stream",
       "stream": "stdout",
       "text": [
        " 300\n",
        "1"
       ]
      },
      {
       "output_type": "stream",
       "stream": "stdout",
       "text": [
        " 400\n",
        "1"
       ]
      },
      {
       "output_type": "stream",
       "stream": "stdout",
       "text": [
        " 500\n",
        "1"
       ]
      },
      {
       "output_type": "stream",
       "stream": "stdout",
       "text": [
        " 600\n",
        "1"
       ]
      },
      {
       "output_type": "stream",
       "stream": "stdout",
       "text": [
        " 700\n",
        "1"
       ]
      },
      {
       "output_type": "stream",
       "stream": "stdout",
       "text": [
        " 800\n",
        "1"
       ]
      },
      {
       "output_type": "stream",
       "stream": "stdout",
       "text": [
        " 900\n",
        "1"
       ]
      },
      {
       "output_type": "stream",
       "stream": "stdout",
       "text": [
        " 1000\n",
        "Trial Completed: 2\n",
        "Estimated Minutes Left: 0.0\n",
        "Time Elapsed: 863.772000074\n"
       ]
      }
     ],
     "prompt_number": 47
    },
    {
     "cell_type": "code",
     "collapsed": false,
     "input": [
      "import csv\n",
      "\n",
      "#with open(\"C:\\\\git\\\\SemanticTextDB\\\\example_code\\\\benchmark_results\\\\laws_1k_read_lda_algorithm_on_client.csv\", \"wb\") as f:\n",
      "#    writer = csv.writer(f)\n",
      "#    writer.writerows(lda_trials)\n",
      " \n",
      "with open(\"C:\\\\git\\\\SemanticTextDB\\\\example_code\\\\benchmark_results\\\\laws_1k_read_summary_algorithm_on_client.csv\", \"wb\") as f:\n",
      "    writer = csv.writer(f)\n",
      "    writer.writerows(summary_trials)\n",
      "    \n",
      "with open(\"C:\\\\git\\\\SemanticTextDB\\\\example_code\\\\benchmark_results\\\\laws_1k_read_sentiment_algorithm_on_client.csv\", \"wb\") as f:\n",
      "    writer = csv.writer(f)\n",
      "    writer.writerows(sentiment_trials)\n",
      "    \n"
     ],
     "language": "python",
     "metadata": {},
     "outputs": [],
     "prompt_number": 50
    },
    {
     "cell_type": "code",
     "collapsed": false,
     "input": [
      "summary_trials"
     ],
     "language": "python",
     "metadata": {},
     "outputs": [
      {
       "metadata": {},
       "output_type": "pyout",
       "prompt_number": 49,
       "text": [
        "[[9.846000671386719,\n",
        "  15.816998720169067,\n",
        "  22.4499990940094,\n",
        "  31.52700161933899,\n",
        "  39.54100179672241,\n",
        "  44.73199796676636,\n",
        "  53.73100423812866,\n",
        "  53.57300138473511,\n",
        "  57.266003370285034,\n",
        "  54.545997619628906],\n",
        " [11.523999214172363,\n",
        "  16.98900032043457,\n",
        "  22.832998991012573,\n",
        "  28.138001918792725,\n",
        "  39.08300018310547,\n",
        "  43.88399863243103,\n",
        "  46.93699765205383,\n",
        "  50.132997035980225,\n",
        "  51.67400074005127,\n",
        "  51.08299970626831]]"
       ]
      }
     ],
     "prompt_number": 49
    },
    {
     "cell_type": "code",
     "collapsed": false,
     "input": [
      "reload(lda)"
     ],
     "language": "python",
     "metadata": {},
     "outputs": [
      {
       "metadata": {},
       "output_type": "pyout",
       "prompt_number": 33,
       "text": [
        "<module 'runOnDocuments' from 'runOnDocuments.py'>"
       ]
      }
     ],
     "prompt_number": 33
    },
    {
     "cell_type": "markdown",
     "metadata": {},
     "source": [
      "##Now that there is data in the database, here is an example query using pyscopg2"
     ]
    },
    {
     "cell_type": "code",
     "collapsed": false,
     "input": [
      "#Single items can be found by their unique id (deterministically the order each tuple was inserted)\n",
      "cur.execute(\"select content from twitter_text where id = 65 or id = 66;\")\n",
      "result = cur.fetchall()\n",
      "result"
     ],
     "language": "python",
     "metadata": {},
     "outputs": [
      {
       "metadata": {},
       "output_type": "pyout",
       "prompt_number": 9,
       "text": [
        "[('http://www.aurumescorts.co.uk/blog/archives/1280 London top escorts know how to treat sexual disorders',),\n",
        " ('@gareth_davies84 watched south park yet? Its pretty sick!',)]"
       ]
      }
     ],
     "prompt_number": 9
    },
    {
     "cell_type": "code",
     "collapsed": false,
     "input": [
      "statement = \"SELECT COUNT(*) FROM twitter_text WHERE content LIKE '%wedding%'\"\n",
      "posCount = my_stdb.semanticSelect('twitter_text', statement, 'positive_only', 0.8)\n",
      "negCount = my_stdb.semanticSelect('twitter_text', statement, 'negative_only', -0.8)\n",
      "if negCount != 0:\n",
      "    ratio = posCount / (1.0 * negCount)\n",
      "    print \"Ratio of support to non-support of Kate Middleton:\", ratio\n",
      "else:\n",
      "    print \"Supporter count:\", posCount\n"
     ],
     "language": "python",
     "metadata": {},
     "outputs": [
      {
       "output_type": "stream",
       "stream": "stdout",
       "text": [
        "Supporter count: 0\n"
       ]
      }
     ],
     "prompt_number": 17
    },
    {
     "cell_type": "code",
     "collapsed": false,
     "input": [
      "statement = \"select content from twitter_text where id < 500;\"\n",
      "my_stdb.semanticSelect('twitter_text', statement, 'positive_only', 0.8)"
     ],
     "language": "python",
     "metadata": {},
     "outputs": [
      {
       "metadata": {},
       "output_type": "pyout",
       "prompt_number": 6,
       "text": [
        "[('#Jobs #Sales Deputy Manager: London-City of London,  This is a great opportunity to become Deputy Manager of ... http://bit.ly/lTgD57 #UK',),\n",
        " ('http://escort-find.com/ will help you to find the best escort girl in London to meet all your demands. All elite escorts of London are here!',),\n",
        " ('2 months of Strictly no smoking. Feels very good #nosmoking',),\n",
        " ('No Catches and just great deals - http://www.groupon.co.uk/deals/london/absolutely/344934/.dTF4Os',),\n",
        " ('Damn! 60% of chance of rain in London on Sat. What am I supposed to wear? lol #dramaqueen',)]"
       ]
      }
     ],
     "prompt_number": 6
    },
    {
     "cell_type": "code",
     "collapsed": false,
     "input": [
      "statement = \"select count(*) from twitter_text where id < 150;\"\n",
      "my_stdb.semanticSelect('twitter_text', statement, 'positive_only', 0.8)"
     ],
     "language": "python",
     "metadata": {},
     "outputs": [
      {
       "metadata": {},
       "output_type": "pyout",
       "prompt_number": 5,
       "text": [
        "5"
       ]
      }
     ],
     "prompt_number": 5
    },
    {
     "cell_type": "code",
     "collapsed": false,
     "input": [
      "statement = \"select * from laws where id < 5;\"\n",
      "my_stdb.semanticSelect('laws', statement, 'view_summaries', 1)"
     ],
     "language": "python",
     "metadata": {},
     "outputs": [
      {
       "metadata": {},
       "output_type": "pyout",
       "prompt_number": 6,
       "text": [
        "['2813, provided that: \\xe2\\x80\\x9cExcept as expressly provided otherwise, any reference to \\xe2\\x80\\x98this Act\\xe2\\x80\\x99 contained in either division A [Department of Defense Appropriations Act, 2006, see Tables for classification] or division B [Emergency Supplemental Appropriations Act to Address Hurricanes in the Gulf of Mexico and Pandemic Influenza, 2006, see Tables for classification] shall be treated as referring only to the provisions of that division.\\xe2\\x80\\x9d',\n",
        " 'The resolving clause of all joint resolutions shall be in the following form: \\xe2\\x80\\x9cResolved by the Senate and House of Representatives of the United States of America in Congress assembled.\\xe2\\x80\\x9d (July 30, 1947, ch.',\n",
        " 'No enacting or resolving words shall be used in any section of an Act or resolution of Congress except in the first.',\n",
        " 'Each section shall be numbered, and shall contain, as nearly as may be, a single proposition of enactment.']"
       ]
      }
     ],
     "prompt_number": 6
    },
    {
     "cell_type": "code",
     "collapsed": false,
     "input": [
      "import NLPfunctions as nlpf\n",
      "nlpf.correct_spelling(\"au ll main ayunan tante,  to london ah? of @zachzachra: Seat sekolahannya si @Indrarbk\")"
     ],
     "language": "python",
     "metadata": {},
     "outputs": [
      {
       "metadata": {},
       "output_type": "pyout",
       "prompt_number": 5,
       "text": [
        "TextBlob(\"au ll main ayunan tante,  to london ah? of @zachzachra: Seat sekolahannya si @Indrarbk\")"
       ]
      }
     ],
     "prompt_number": 5
    },
    {
     "cell_type": "code",
     "collapsed": false,
     "input": [
      "statement = \"select content from twitter_text where id < 10;\"\n",
      "my_stdb.semanticSelect('twitter_text', statement, 'correct_spelling')"
     ],
     "language": "python",
     "metadata": {},
     "outputs": [
      {
       "metadata": {},
       "output_type": "pyout",
       "prompt_number": 4,
       "text": [
        "['au ll main ayunan tante,  to london ah? of @zachzachra: Seat sekolahannya si @Indrarbk',\n",
        " 'A pink taxi covered in flags? Seriously? To glad him getting out of London tonight...',\n",
        " '@ShelaghFogarty you will be missed in the mornings. Took forward to your new show!',\n",
        " 'http://www.book-limb.com/money-machine-penguin-business-library.html #london #stock #exchange #let Money Machine (Penguin Business Library',\n",
        " 'Midday Supervisor: Midday Supervisor at London Borough of Waltham Forest in Waltham Forest,  Greater London. Cal... http://bit.ly/ifotPo',\n",
        " 'Moves waking up in London:-)',\n",
        " 'of @RoyalsWed: Must 24 hours until @news & @online go LIVE from London for the #RoyalWedding! http://only.ne/ROYALS #rw2011',\n",
        " 'him at Starbucks (London Waterloo Station (WAT),  London) w/ 2 others http://esq.com/lpZkfo',\n",
        " 'since so and royal wedding again, curious a king piano b and busy no ma royalties a look no buckingham palace sa London? @kuyakim_atienza']"
       ]
      }
     ],
     "prompt_number": 4
    },
    {
     "cell_type": "code",
     "collapsed": false,
     "input": [
      "t = time.time()\n",
      "cur.execute(\"select * from laws\")\n",
      "#result = cur.fetchall()\n",
      "print \"entire thing:\", time.time() - t"
     ],
     "language": "python",
     "metadata": {},
     "outputs": [
      {
       "output_type": "stream",
       "stream": "stdout",
       "text": [
        "[(10001L,)]\n",
        "entire thing: 0.029000043869\n"
       ]
      }
     ],
     "prompt_number": 24
    },
    {
     "cell_type": "code",
     "collapsed": false,
     "input": [
      "t = time.time()\n",
      "cur.execute(\"select * from laws limit 2\")\n",
      "#result = cur.fetchall()\n",
      "print \"limit 2 things only:\", time.time() - t"
     ],
     "language": "python",
     "metadata": {},
     "outputs": [
      {
       "output_type": "stream",
       "stream": "stdout",
       "text": [
        "limit 2 things only: 0.00999999046326\n"
       ]
      }
     ],
     "prompt_number": 23
    },
    {
     "cell_type": "code",
     "collapsed": false,
     "input": [
      "#If you ever end a transaction while its running, the following two commands be necessary to reset for next transaction.\n",
      "cur.execute(\"END;\")\n",
      "cur.execute(\"ABORT;\")"
     ],
     "language": "python",
     "metadata": {},
     "outputs": [],
     "prompt_number": 35
    },
    {
     "cell_type": "markdown",
     "metadata": {},
     "source": [
      "##Using our machine-generated tables. Everytime you insert a document, machine generated tables are created. One of these tables is called \"tablename_text.\" This table contains the actual text for each document you've inserted. For example the twitter table and twitter_text table can be joined by id. Thus, you can efficiently find documents of interest in the twitter table, then view the text in the twitter_text table. This allows for efficient manipulation of tables containing many documents without handling all of the text for each document simultaneously. "
     ]
    },
    {
     "cell_type": "code",
     "collapsed": false,
     "input": [
      "cur.execute(\"select * from twitter_text limit 5;\")\n",
      "cur.fetchall()"
     ],
     "language": "python",
     "metadata": {},
     "outputs": [
      {
       "metadata": {},
       "output_type": "pyout",
       "prompt_number": 58,
       "text": [
        "[(1,\n",
        "  'aku lg main ayunan tante,  tk london yah? RT @zachzachra: Lewat sekolahannya si @Indrarbk'),\n",
        " (2,\n",
        "  \"A pink taxi covered in flags? Seriously? So glad I'm getting out of London tonight...\"),\n",
        " (3,\n",
        "  '@ShelaghFogarty you will be missed in the mornings. Look forward to your new show!'),\n",
        " (4,\n",
        "  'http://www.book-lib.com/money-machine-penguin-business-library.html #london #stock #exchange #lex Money Machine (Penguin Business Librar'),\n",
        " (5,\n",
        "  'Midday Supervisor: Midday Supervisor at London Borough of Waltham Forest in Waltham Forest,  Greater London. Scal... http://bit.ly/ifotPo')]"
       ]
      }
     ],
     "prompt_number": 58
    }
   ],
   "metadata": {}
  }
 ]
}