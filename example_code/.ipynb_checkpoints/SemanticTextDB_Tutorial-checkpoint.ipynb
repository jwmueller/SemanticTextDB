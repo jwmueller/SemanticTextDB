{
 "metadata": {
  "name": "",
  "signature": "sha256:537c7046d2ad251ef86a10545a98f3668b2c83f19515189552e753f71b700379"
 },
 "nbformat": 3,
 "nbformat_minor": 0,
 "worksheets": [
  {
   "cells": [
    {
     "cell_type": "markdown",
     "metadata": {},
     "source": [
      "##Import system modules. Import psycopg2 (requires install). This is the python interface driver for the postgresql database."
     ]
    },
    {
     "cell_type": "code",
     "collapsed": false,
     "input": [
      "import sys, os, time, csv\n",
      "import psycopg2"
     ],
     "language": "python",
     "metadata": {},
     "outputs": [],
     "prompt_number": 2
    },
    {
     "cell_type": "markdown",
     "metadata": {},
     "source": [
      "##Add the directory of our SemanticTextDB library to your absolute path to support import dependencies in our library files."
     ]
    },
    {
     "cell_type": "code",
     "collapsed": false,
     "input": [
      "mypath = os.path.dirname(os.path.abspath(\"__file__\"))\n",
      "repositoryLocation = \"C:/git/SemanticTextDB\"\n",
      "sys.path.insert(0, os.path.normpath(os.path.join(mypath, 'C:/git/SemanticTextDB')))\n",
      "\n",
      "import SemanticTextDB as stdb"
     ],
     "language": "python",
     "metadata": {},
     "outputs": [],
     "prompt_number": 3
    },
    {
     "cell_type": "markdown",
     "metadata": {},
     "source": [
      "##Create a connection to the database withe the psycopg2.connect() method. Create a cursor to execute operations. Lastly create the SemanticTextDB object. This object is the primary object you will use to interact with, query, perform statistical modelling queries, and interact with the features available with our library."
     ]
    },
    {
     "cell_type": "code",
     "collapsed": false,
     "input": [
      "conn = psycopg2.connect(database=\"semanticdb\", user=\"Curtis Northcutt\", host=\"18.251.7.99\", password=\"coldnips\")\n",
      "cur = conn.cursor()"
     ],
     "language": "python",
     "metadata": {},
     "outputs": [],
     "prompt_number": 4
    },
    {
     "cell_type": "code",
     "collapsed": false,
     "input": [
      "# Now create a new SemanticTextDB object based on the underlying DB's state:\n",
      "my_stdb = stdb.SemanticTextDB(conn, cur)"
     ],
     "language": "python",
     "metadata": {},
     "outputs": [
      {
       "output_type": "stream",
       "stream": "stdout",
       "text": [
        "Document tables in this database:  ['poop']\n"
       ]
      }
     ],
     "prompt_number": 5
    },
    {
     "cell_type": "markdown",
     "metadata": {},
     "source": [
      "##How to create our document tables in a postgres database"
     ]
    },
    {
     "cell_type": "code",
     "collapsed": false,
     "input": [
      "# Returns a list of all tables in underyling DB:\n",
      "my_stdb.allTables()\n",
      "\n",
      "#Returns a list of only document tables in the DB:\n",
      "my_stdb.allDocTables()\n",
      "\n",
      "# Delete the document table (iff you want to replace table with same name):\n",
      "if 'laws' in my_stdb.document_tables.keys(): #check that the table exists before deleting it\n",
      "    my_stdb.dropDocTable(\"laws\")\n",
      "    \n",
      "# Creates a document table (and associated machine-generated tables):\n",
      "my_stdb.createDocTable(\"laws\", ['lawTitleNumber text', 'lawSectionNumber text', 'lawName text'],\n",
      "                   summary = None, topics = None, entities = None, \n",
      "                   sentiment = True, count_words = False, length_count = False, \n",
      "                   vs_representations = None, max_word_length = 200,\n",
      "                   update_increment = 1, new_transaction = False)"
     ],
     "language": "python",
     "metadata": {},
     "outputs": [
      {
       "output_type": "stream",
       "stream": "stdout",
       "text": [
        "deleted document table: laws\n",
        "created document table: laws"
       ]
      },
      {
       "output_type": "stream",
       "stream": "stdout",
       "text": [
        "\n"
       ]
      }
     ],
     "prompt_number": 12
    },
    {
     "cell_type": "markdown",
     "metadata": {},
     "source": [
      "## Loading in all U.S. Code Laws (over 56,000 laws) fully formatted and substantial length\n",
      "### This is how you insert a document into the database using our SemanticTextDB library (see last line)"
     ]
    },
    {
     "cell_type": "code",
     "collapsed": false,
     "input": [
      "import re\n",
      "readPath = \"C:/git/SemanticTextDB/example_code/all_US_Law_Codes/\"\n",
      "author = \"United States Government\"\n",
      "\n",
      "count = 0\n",
      "for filename in os.listdir(readPath): #We pre-parsed each law as a txt file.\n",
      "    count = count + 1\n",
      "    f = open(readPath + filename,'r')\n",
      "    fileAsString = f.read()\n",
      "    result = re.search(r'[0-9].*?\\n', fileAsString) #grabs first line of law.\n",
      "    if result == None:\n",
      "        print fileAsString\n",
      "        continue #if first line of law is not properly formatted, txt file is not a law.\n",
      "    else:\n",
      "        #Parse lawtitle, number, section, and name from txt file.\n",
      "        result = re.sub(r'\\n', '', result.group())\n",
      "        lawTitleNum = filename.split('_')[0]\n",
      "        lawSectionNum = (re.search(r'.*?\\.', result)).group()[:-1]\n",
      "        lawName = (re.search(r'\\..*', result)).group()[2:]\n",
      "        \n",
      "        if lawName == \"\" or re.search(r'\\..*', result).group()[1] != \" \":\n",
      "            print result #Incorrectly formatted\n",
      "        else:\n",
      "            #This is how you insert a document into the database using our SemanticTextDB library\n",
      "            my_stdb.insertDoc(fileAsString, \"laws\", [lawTitleNum, lawSectionNum, lawName])\n",
      "    if count > 1000:\n",
      "        break"
     ],
     "language": "python",
     "metadata": {},
     "outputs": [],
     "prompt_number": 13
    },
    {
     "cell_type": "markdown",
     "metadata": {},
     "source": [
      "## Loading up to 2.5 million twitter posts into our database"
     ]
    },
    {
     "cell_type": "code",
     "collapsed": false,
     "input": [
      "def exception_proof_csv_reader(csv_reader):\n",
      "    '''Wraps a try-except clause around the csv reader to\n",
      "    prevent throwing of exceptions which will stop reading.'''\n",
      "    while True: \n",
      "      try: \n",
      "          yield next(csv_reader) \n",
      "      except csv.Error: \n",
      "          pass\n",
      "      continue "
     ],
     "language": "python",
     "metadata": {},
     "outputs": [],
     "prompt_number": 9
    },
    {
     "cell_type": "code",
     "collapsed": false,
     "input": [
      "# Delete the document table (iff you want to replace table with same name):\n",
      "if 'twitter' in my_stdb.document_tables.keys(): #check that the table exists before deleting it\n",
      "    my_stdb.dropDocTable(\"twitter\")\n",
      "    \n",
      "# Creates a document table (and associated machine-generated tables):\n",
      "my_stdb.createDocTable(\"twitter\", ['twitterId text', 'location text', 'username text'],\n",
      "                   summary = None, topics = None, entities = None, \n",
      "                   sentiment = False, count_words = False, length_count = False, \n",
      "                   vs_representations = None, max_word_length = 200,\n",
      "                   update_increment = 1, new_transaction = False)\n",
      "\n",
      "twitterReadPath = \"C:/git/SemanticTextDB/example_code/twitter.csv\"\n",
      "count = 0\n",
      "NUM_TWEETS_TO_INSERT = 10000\n",
      "\n",
      "with open(twitterReadPath, 'rU') as csvfile: #all tweets in single csv file\n",
      "    reader = exception_proof_csv_reader(csv.reader(csvfile, delimiter=','))\n",
      "    for row in reader:\n",
      "        count = count + 1\n",
      "        try:\n",
      "            #Grab columns of csv to insert as tuple fields\n",
      "            twitterID = row.pop(0)\n",
      "            location = row.pop(0)\n",
      "            username = row.pop(-1)\n",
      "            tweet = ', '.join(row)\n",
      "        except:\n",
      "            #print \"Error occurred at item\", count, \"skipping insertion.\"\n",
      "            count = count - 1\n",
      "            continue\n",
      "        #This is how you insert a document into the database using our SemanticTextDB library\n",
      "        my_stdb.insertDoc(tweet, \"twitter\", [twitterID, location, username])\n",
      "        \n",
      "        #Since the csv is extremely large, set a max number of documents to insert.\n",
      "        if count >= NUM_TWEETS_TO_INSERT:\n",
      "            break\n",
      "        \n",
      "        if count % 500 == 0:\n",
      "            print count"
     ],
     "language": "python",
     "metadata": {},
     "outputs": [
      {
       "output_type": "stream",
       "stream": "stdout",
       "text": [
        "deleted document table: twitter\n",
        "created document table: twitter"
       ]
      },
      {
       "output_type": "stream",
       "stream": "stdout",
       "text": [
        "\n",
        "500"
       ]
      },
      {
       "output_type": "stream",
       "stream": "stdout",
       "text": [
        "\n",
        "1000"
       ]
      },
      {
       "output_type": "stream",
       "stream": "stdout",
       "text": [
        "\n",
        "1500"
       ]
      },
      {
       "output_type": "stream",
       "stream": "stdout",
       "text": [
        "\n",
        "2000"
       ]
      },
      {
       "output_type": "stream",
       "stream": "stdout",
       "text": [
        "\n",
        "2500"
       ]
      },
      {
       "output_type": "stream",
       "stream": "stdout",
       "text": [
        "\n",
        "3000"
       ]
      },
      {
       "output_type": "stream",
       "stream": "stdout",
       "text": [
        "\n",
        "3500"
       ]
      },
      {
       "output_type": "stream",
       "stream": "stdout",
       "text": [
        "\n",
        "4000"
       ]
      },
      {
       "output_type": "stream",
       "stream": "stdout",
       "text": [
        "\n",
        "4500"
       ]
      },
      {
       "output_type": "stream",
       "stream": "stdout",
       "text": [
        "\n",
        "5000"
       ]
      },
      {
       "output_type": "stream",
       "stream": "stdout",
       "text": [
        "\n",
        "5500"
       ]
      },
      {
       "output_type": "stream",
       "stream": "stdout",
       "text": [
        "\n",
        "6000"
       ]
      },
      {
       "output_type": "stream",
       "stream": "stdout",
       "text": [
        "\n",
        "6500"
       ]
      },
      {
       "output_type": "stream",
       "stream": "stdout",
       "text": [
        "\n",
        "7000"
       ]
      },
      {
       "output_type": "stream",
       "stream": "stdout",
       "text": [
        "\n",
        "7500"
       ]
      },
      {
       "output_type": "stream",
       "stream": "stdout",
       "text": [
        "\n",
        "8000"
       ]
      },
      {
       "output_type": "stream",
       "stream": "stdout",
       "text": [
        "\n",
        "8500"
       ]
      },
      {
       "output_type": "stream",
       "stream": "stdout",
       "text": [
        "\n",
        "9000"
       ]
      },
      {
       "output_type": "stream",
       "stream": "stdout",
       "text": [
        "\n",
        "9500"
       ]
      },
      {
       "output_type": "stream",
       "stream": "stdout",
       "text": [
        "\n"
       ]
      }
     ],
     "prompt_number": 11
    },
    {
     "cell_type": "markdown",
     "metadata": {},
     "source": [
      "##Give client the power to use all our NLP algorithms within the usual SELECT framework even if they choose not to store these columns.\n",
      "##e.g. finding negative comments on twitter"
     ]
    },
    {
     "cell_type": "code",
     "collapsed": false,
     "input": [
      "statement = \"select content from twitter_text;\"\n",
      "my_stdb.semanticSelect('twitter_text', statement, 'negative_only', -.8)"
     ],
     "language": "python",
     "metadata": {},
     "outputs": [
      {
       "metadata": {},
       "output_type": "pyout",
       "prompt_number": 20,
       "text": [
        "[('Stupid college and stupid maths!',),\n",
        " ('@NaddyO congrats its about bloody time hope all is well x ?',),\n",
        " ('@chrisbedson They are on the bloody sofa Mr. Bedson,  will correct.',),\n",
        " (\"This Is London - Sports: Patrice Evra fearful of 'wounded animal' Arsenal http://ffd.me/lkUzv0 #arsenal\",),\n",
        " ('Bad day mas bro!',),\n",
        " ('Lots of horrible unpacking today,  and some tactics planning for where to stand tomorrow. #rjde11',),\n",
        " ('@DjDaz1 u know what u should be saying to them - \"Go get a life you stupid muppets!\"',),\n",
        " (\"London is buzzing with the Royal Wedding,  just hope the weather holds up and there's no rain on Fri! I'd hate it to rain on my wedding day!\",),\n",
        " ('London is GRIM today.',),\n",
        " ('Sales Manager - Risk Management Solution Sales,  London,  45-50k base,  90-100k OTE + Benefits #tjs http://tinyurl.com/6yslb34',),\n",
        " (\"in like flint is one of the worst films i've seen.\",),\n",
        " ('#ebz Death is not always permanent in Fallen London. This permits the practice of the violent but... http://fallenlondon.com/c/1024632',),\n",
        " (\"Had a horrific dream that my hair was falling off my head in clumps! AND my hair was curly - I haven't had curly hair in like 5 years!!!\",),\n",
        " ('RT @AineyZion RT @AntOpara: @fucktyler wer da fuck r u man? U In London???\\xc2\\xab U herd the man! Where are u!!? \\xe2\\x80\\xa2 ANSWER US!!!',),\n",
        " ('Im really bloody hungry!!',),\n",
        " (\"@fr3shington MJ demonstrated in March 2009 that he could sell 50 nights at a London arena. It's insane to leave London off the itinerary.\",),\n",
        " ('Business Development Manager (Enterprise Sales) - ,  London,  40-48k Base,  80-100k OTE + Executive Benefits #tjs http://tinyurl.com/6bx7hv2',),\n",
        " ('@MrJackO and also very silly Jack!',),\n",
        " ('@meighanquinn come to London,  the pizza is awful here!',),\n",
        " ('@sanluvugirls hey dude. In london working! Uh hate it but how about u? Miss u',),\n",
        " ('Lachie @the_overtones  Can I just recommend Night Nurse for those grim nights x',),\n",
        " ('Worst dress choice today -a Madewell number that is flipping in the wind something chronic. Apologies in advance if you see my pants,  London',),\n",
        " (\"In thinning out my mp3 collection I have discovered I listen to an awful lot of Canadian musicians. Don't tell Mrs Cartman.\",),\n",
        " (\"Its so cold hear today! Hope it's warmer in London ! Kate may need her thermals!\",),\n",
        " ('Annoying vaginas today!',),\n",
        " (\"@Allen_Irawan #AURAKASIH tWiTteR-nyAa diBAJAK oRaNG.. :'(  itU di #LONDON dOoNG.. daPeT saLaM daRi MANTAN kaMUu tuHh.. aRTiST juGaa.. CiEe..\",),\n",
        " ('@stu_z  Crap start in W.London',),\n",
        " (\"Can't believe these morons who have camped on the street for 4 days for the London gala day tomorrow.\",),\n",
        " ('@TriesteSue bloody dreams again drempt i was in london at bank parked motorbike up and someone robbed it they wouldnt let me get my bike',),\n",
        " (\"Don't think il be going to London now I'm very poorly... Golf balls in my mouth and it feels like I'm eating cactus trees!! ?\",),\n",
        " ('RT @brightonbraggy @TriesteSue bloody dreams again drempt i was in london at bank parked motorbike up and someone robbed it they woul...',),\n",
        " ('RT @shagnastyuk: SHAG NASTY has a show coming up on 2011-04-29 at 19:00 @ 12 Bar Denmark Street in London,  LONDO http://soc.li/a7LuTMm',),\n",
        " ('FUCK!!!!!!!!!!!!!!!!',),\n",
        " ('bloody freezing in london today brrrr',),\n",
        " (\"\\xe2\\x80\\x9c@I_Siah: RT @_flygerian: RT @Deji_Man: #WhatsThePoint of a girl who can't cook.\\xc2\\xabGod Forbid Bad Ting! The Devil is a Liar!!\\xe2\\x80\\x9dloooool\",),\n",
        " ('EWWWW! Northern Metro readers are disgusting.  http://t.co/KMk5HdH',),\n",
        " ('#WhatsThePoint of Deptford.....RIP THAT PLACE DOWN!!!!!!!!!!',),\n",
        " ('London is going CRAZY !!!!',)]"
       ]
      }
     ],
     "prompt_number": 20
    },
    {
     "cell_type": "markdown",
     "metadata": {},
     "source": [
      "##If user chose let the machine curate sentiment during inset (potentially batched), you can just search that column"
     ]
    },
    {
     "cell_type": "code",
     "collapsed": false,
     "input": [
      "cur.execute(\"select content from laws natural join laws_text where auto_sentiment > .5\")\n",
      "results = [item[0]for item in cur.fetchall()]\n",
      "count = 0\n",
      "for item in results:\n",
      "    count = count + 1\n",
      "    print item\n",
      "    if count > 20:\n",
      "        break"
     ],
     "language": "python",
     "metadata": {},
     "outputs": [
      {
       "output_type": "stream",
       "stream": "stdout",
       "text": [
        "\n",
        "\u00a7\u202f107. Parchment or paper for printing enrolled bills or resolutions\n",
        "\n",
        "Enrolled bills and resolutions of either House of Congress shall be printed on parchment or paper of suitable quality as shall be determined by the Joint Committee on Printing.\n",
        "(July 30, 1947, ch. 388, 61 Stat. 635.)\n",
        "\n",
        "\n",
        "\n",
        "\u00a7\u202f58b. Repealed. Pub. L. 100\u2013137, \u00a7\u202f2, Oct. 21, 1987, 101 Stat. 819\n",
        "\n",
        "Section, Pub. L. 97\u201312, title I, \u00a7\u202f110, June 5, 1981, 95 Stat. 62; Pub. L. 97\u201351, \u00a7\u202f125, Oct. 1, 1981, 95 Stat. 965; Pub. L. 98\u2013367, title I, \u00a7\u202f11(a), July 17, 1984, 98 Stat. 476; Pub. L. 99\u2013349, title I, \u00a7\u202f2(a), (b), July 2, 1986, 100 Stat. 741, 742, provided for transfer to a Senator\u2019s Official Office Expense Account of that Senator\u2019s clerk hire allowance funds remaining at end of fiscal year. See section 6313 of this title.\n",
        "\n",
        "Effective Date of Repeal\n",
        "Pub. L. 100\u2013137, \u00a7\u202f2, Oct. 21, 1987, 101 Stat. 819, provided that the repeal is effective Jan. 1, 1988.\n",
        "\n",
        "\n",
        "\n",
        "\u00a7\u202f60f. Repealed. Pub. L. 90\u201357, \u00a7\u202f105(i)(2), July 28, 1967, 81 Stat. 144\n",
        "\n",
        "Section, acts July 1, 1941, ch. 268, 55 Stat. 448; June 8, 1942, ch. 396, 56 Stat. 333; June 28, 1943, ch. 173, title I, 57 Stat. 222; June 26, 1944, ch. 277, title I, 58 Stat. 337; Dec. 20, 1944, ch. 617, \u00a7\u202f2(a), 58 Stat. 832; June 13, 1945, ch. 189, 59 Stat. 241; July 1, 1946, ch. 530, 60 Stat. 390; Oct. 28, 1949, ch. 783, title I, \u00a7\u202f101(c)(3), 63 Stat. 974; Oct. 24, 1951, ch. 554, \u00a7\u202f2(c)(2), 65 Stat. 614; June 28, 1955, ch. 189, \u00a7\u202f4(e)(3), 69 Stat. 177; May 19, 1956, ch. 313, Ch. XII, 70 Stat. 175; Sept. 1, 1959, Pub. L. 86\u2013213, \u00a7\u202f1(a), (b), 73 Stat. 443; Aug. 10, 1961, Pub. L. 87\u2013130, 75 Stat. 323, authorized Senators and committee chairmen to change employees\u2019 salaries, required certifications, and provided for designation of titles for positions. See section 4575(a), (d), (e) of this title.\n",
        "\n",
        "Effective Date of Repeal\n",
        "Repeal effective Aug. 1, 1967, see section 105(k) of Pub. L. 90\u201357, set out as an Effective Date note under section 4575 of this title.\n",
        "\n",
        "\n",
        "\n",
        "\u00a7\u202f61a\u20134. Repealed. Pub. L. 93\u2013145, Nov. 1, 1973, 87 Stat. 531\n",
        "\n",
        "Section, Pub. L. 91\u2013145, Dec. 12, 1969, 83 Stat. 340; Pub. L. 91\u2013382, Aug. 18, 1970, 84 Stat. 807, provided for appointment and salary of a Comptroller of the Senate and a secretary to the Comptroller.\n",
        "\n",
        "Effective Date of Repeal\n",
        "Pub. L. 93\u2013145 provided that the repeal is effective July 1, 1973.\n",
        "\n",
        "\n",
        "\n",
        "\u00a7\u202f61a\u20135. Repealed. Pub. L. 93\u2013145, Nov. 1, 1973, 87 Stat. 531\n",
        "\n",
        "Section, Pub. L. 91\u2013382, Aug. 18, 1970, 84 Stat. 807, set out the duties to be performed by the Comptroller of the Senate.\n",
        "\n",
        "Effective Date of Repeal\n",
        "Pub. L. 93\u2013145 provided that the repeal is effective July 1, 1973.\n",
        "\n",
        "\n",
        "\n",
        "\u00a7\u202f65e. Transferred\n",
        "\n",
        "Codification\n",
        "\n",
        "Section, Pub. L. 98\u201363, title I, July 30, 1983, 97 Stat. 333, which provided that effective with fiscal year 1983 and each fiscal year thereafter, the expense allowance of Majority and Minority Whips of Senate could not exceed $5,000 each fiscal year for each Whip, was transferred and executed to section 31a\u20131 of this title. Section 31a\u20131 was editorially reclassified as section 6102 of this title.\n",
        "\n",
        "\n",
        "\n",
        "\u00a7\u202f72a\u20131c. Repealed. Pub. L. 95\u201326, title I, \u00a7\u202f106(f), May 4, 1977, 91 Stat. 84\n",
        "\n",
        "Section, Pub. L. 94\u201359, title I, \u00a7\u202f108, July 25, 1975, 89 Stat. 276; Pub. L. 94\u2013440, title I, \u00a7\u202f102, Oct. 1, 1976, 90 Stat. 1443, authorized Senators to hire staff assistance in connection with their committee memberships. See section 4332 of this title.\n",
        "\n",
        "Effective Date of Repeal\n",
        "Pub. L. 95\u201326, title I, \u00a7\u202f106(g)(1), May 4, 1977, 91 Stat. 84, which provided that the repeal is effective Mar. 1, 1977, was repealed by Pub. L. 95\u201394, title I, \u00a7\u202f111(e)(1), Aug. 5, 1977, 91 Stat. 663.\n",
        "\n",
        "\n",
        "\n",
        "\u00a7\u202f72a\u20134. Repealed. Pub. L. 90\u201357, \u00a7\u202f105(i)(1), July 28, 1967, 81 Stat. 144\n",
        "\n",
        "Section, Pub. L. 85\u201375, July 1, 1957, 71 Stat. 246, provided for computation of salaries and wages paid out of Senate contingent-expense items. See section 4575(b), (c) of this title.\n",
        "\n",
        "Effective Date of Repeal\n",
        "Repeal effective Aug. 1, 1967, see section 105(k) of Pub. L. 90\u201357, set out as an Effective Date note under section 4575 of this title.\n",
        "\n",
        "\n"
       ]
      }
     ],
     "prompt_number": 38
    },
    {
     "cell_type": "markdown",
     "metadata": {},
     "source": [
      "##Now that there is data in the database, here are some example queries using pyscopg2"
     ]
    },
    {
     "cell_type": "code",
     "collapsed": false,
     "input": [
      "#Single items can be found by their unique id (deterministically the order each tuple was inserted)\n",
      "cur.execute(\"select * from twitter where id = 65;\")\n",
      "cur.fetchall()\n",
      "\n",
      "#If you ever end a transaction while its running, the following two commands be necessary to reset for next transaction.\n",
      "cur.execute(\"END;\")\n",
      "cur.execute(\"ABORT;\")"
     ],
     "language": "python",
     "metadata": {},
     "outputs": [],
     "prompt_number": 39
    },
    {
     "cell_type": "markdown",
     "metadata": {},
     "source": [
      "##Using our machine-generated tables. Everytime you insert a document, machine generated tables are created. One of these tables is called \"tablename_text.\" This table contains the actual text for each document you've inserted. For example the twitter table and twitter_text table can be joined by id. Thus, you can efficiently find documents of interest in the twitter table, then view the text in the twitter_text table. This allows for efficient manipulation of tables containing many documents without handling all of the text for each document for non-text queries (like selecting author). "
     ]
    },
    {
     "cell_type": "code",
     "collapsed": false,
     "input": [
      "cur.execute(\"select * from twitter_text limit 5;\")\n",
      "cur.fetchall()"
     ],
     "language": "python",
     "metadata": {},
     "outputs": [
      {
       "metadata": {},
       "output_type": "pyout",
       "prompt_number": 58,
       "text": [
        "[(1,\n",
        "  'aku lg main ayunan tante,  tk london yah? RT @zachzachra: Lewat sekolahannya si @Indrarbk'),\n",
        " (2,\n",
        "  \"A pink taxi covered in flags? Seriously? So glad I'm getting out of London tonight...\"),\n",
        " (3,\n",
        "  '@ShelaghFogarty you will be missed in the mornings. Look forward to your new show!'),\n",
        " (4,\n",
        "  'http://www.book-lib.com/money-machine-penguin-business-library.html #london #stock #exchange #lex Money Machine (Penguin Business Librar'),\n",
        " (5,\n",
        "  'Midday Supervisor: Midday Supervisor at London Borough of Waltham Forest in Waltham Forest,  Greater London. Scal... http://bit.ly/ifotPo')]"
       ]
      }
     ],
     "prompt_number": 58
    },
    {
     "cell_type": "markdown",
     "metadata": {},
     "source": [
      "## Determine political candidate support (or royalty favorability in the case of Kate Middleton)"
     ]
    },
    {
     "cell_type": "code",
     "collapsed": false,
     "input": [
      "statement = \"SELECT COUNT(*) FROM twitter_text WHERE content LIKE '%wedding%'\"\n",
      "posCount = my_stdb.semanticSelect('twitter_text', statement, 'positive_only', 0.8)\n",
      "negCount = my_stdb.semanticSelect('twitter_text', statement, 'negative_only', -0.8)\n",
      "if negCount != 0:\n",
      "    ratio = posCount / (1.0 * negCount)\n",
      "    print \"Ratio of support to non-support of Kate Middleton:\", ratio\n",
      "else:\n",
      "    print \"Supporter count:\", posCount\n"
     ],
     "language": "python",
     "metadata": {},
     "outputs": []
    },
    {
     "cell_type": "markdown",
     "metadata": {},
     "source": [
      "## Actually be able to view long documents when you query by using the summary feature in semanticSelect. View a document summary so you can actually view the data live, instead of shuffling through extremely long documents."
     ]
    },
    {
     "cell_type": "code",
     "collapsed": false,
     "input": [
      "statement = \"select * from laws where id < 10;\"\n",
      "my_stdb.semanticSelect('laws', statement, 'view_summaries', 1)"
     ],
     "language": "python",
     "metadata": {},
     "outputs": [
      {
       "output_type": "stream",
       "stream": "stderr",
       "text": [
        "C:\\Users\\C\\Anaconda\\lib\\site-packages\\sumy\\summarizers\\lsa.py:76: UserWarning: Number of words (202) is lower than number of sentences (207). LSA algorithm may not work properly.\n",
        "  warn(message % (words_count, sentences_count))\n"
       ]
      },
      {
       "metadata": {},
       "output_type": "pyout",
       "prompt_number": 40,
       "text": [
        "['2813, provided that: \\xe2\\x80\\x9cExcept as expressly provided otherwise, any reference to \\xe2\\x80\\x98this Act\\xe2\\x80\\x99 contained in either division A [Department of Defense Appropriations Act, 2006, see Tables for classification] or division B [Emergency Supplemental Appropriations Act to Address Hurricanes in the Gulf of Mexico and Pandemic Influenza, 2006, see Tables for classification] shall be treated as referring only to the provisions of that division.\\xe2\\x80\\x9d',\n",
        " 'The resolving clause of all joint resolutions shall be in the following form: \\xe2\\x80\\x9cResolved by the Senate and House of Representatives of the United States of America in Congress assembled.\\xe2\\x80\\x9d (July 30, 1947, ch.',\n",
        " 'No enacting or resolving words shall be used in any section of an Act or resolution of Congress except in the first.',\n",
        " 'Each section shall be numbered, and shall contain, as nearly as may be, a single proposition of enactment.',\n",
        " 'L. 93\\xe2\\x80\\x93344 was effective with respect to Acts making appropriations for the support of the Government for any fiscal year commencing on or after Oct. 1, 1976, was omitted in the complete revision of title V of Pub.',\n",
        " '\\xe2\\x80\\x9c(a) Waiver.\\xe2\\x80\\x94 The provisions of sections 106 and 107 of title 1, United States Code, are waived with respect to the printing (on parchment or otherwise) of the enrollment of any appropriation measure of the One Hundred Fourth Congress presented to the President after the enactment of this joint resolution [Sept. 30, 1996].',\n",
        " 'For delegation of functions under the repealed statutes, and transfer of records, property, personnel, and funds, see sections 3 and 4 of 1950 Reorg.',\n",
        " 'For delegation of functions under the repealed statute, and transfer of records, property, personnel, and funds, see sections 3 and 4 of 1950 Reorg.',\n",
        " 'Parchment or paper for printing enrolled bills or resolutions']"
       ]
      }
     ],
     "prompt_number": 40
    },
    {
     "cell_type": "code",
     "collapsed": false,
     "input": [],
     "language": "python",
     "metadata": {},
     "outputs": []
    }
   ],
   "metadata": {}
  }
 ]
}