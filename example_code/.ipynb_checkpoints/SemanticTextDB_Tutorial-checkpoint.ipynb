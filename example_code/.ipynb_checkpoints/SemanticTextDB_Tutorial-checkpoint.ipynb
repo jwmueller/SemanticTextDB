{
 "metadata": {
  "name": "",
  "signature": "sha256:9a9f050219181615910855b5f5b71a8e3cc5034a297dcc89a28aa4edd5d2baec"
 },
 "nbformat": 3,
 "nbformat_minor": 0,
 "worksheets": [
  {
   "cells": [
    {
     "cell_type": "markdown",
     "metadata": {},
     "source": [
      "##Add the directory of our SemanticTextDB library to your absolute path to support import dependencies in our library files."
     ]
    },
    {
     "cell_type": "code",
     "collapsed": false,
     "input": [
      "mypath = os.path.dirname(os.path.abspath(\"__file__\"))\n",
      "repositoryLocation = \"C:/git/SemanticTextDB\"\n",
      "sys.path.insert(0, os.path.normpath(os.path.join(mypath, 'C:/git/SemanticTextDB')))"
     ],
     "language": "python",
     "metadata": {},
     "outputs": [],
     "prompt_number": 2
    },
    {
     "cell_type": "markdown",
     "metadata": {},
     "source": [
      "##Import system modules. Import psycopg2 (requires install). This is the python interface driver for the postgresql database."
     ]
    },
    {
     "cell_type": "code",
     "collapsed": false,
     "input": [
      "import sys, os, time, csv\n",
      "import psycopg2\n",
      "import SemanticTextDB\n",
      "import DocumentTableInfo"
     ],
     "language": "python",
     "metadata": {},
     "outputs": [],
     "prompt_number": 3
    },
    {
     "cell_type": "markdown",
     "metadata": {},
     "source": [
      "##Create a connection to the database withe the psycopg2.connect() method. Create a cursor to execute operations. Lastly create the SemanticTextDB object. This object is the primary object you will use to interact with, query, perform statistical modelling queries, and interact with the features available with our library."
     ]
    },
    {
     "cell_type": "code",
     "collapsed": false,
     "input": [
      "conn = psycopg2.connect(database=\"benchmark\", user=\"Curtis Northcutt\", host=\"18.251.7.99\", password=\"coldnips\")\n",
      "cur = conn.cursor()\n",
      "\n",
      "# Now create a new SemanticTextDB object based on the underlying DB's state:\n",
      "stdb = SemanticTextDB(conn, cur)"
     ],
     "language": "python",
     "metadata": {},
     "outputs": []
    },
    {
     "cell_type": "markdown",
     "metadata": {},
     "source": [
      "##How to create our document tables in a postgres database"
     ]
    },
    {
     "cell_type": "code",
     "collapsed": false,
     "input": [
      "# Returns a list of all tables in underyling DB:\n",
      "stdb.allTables()\n",
      "\n",
      "#Returns a list of only document tables in the DB:\n",
      "stdb.document_tables.keys()\n",
      "\n",
      "# Delete the document table (iff you want to replace table with same name):\n",
      "if 'laws' in stdb.document_tables.keys(): #check that the table exists before deleting it\n",
      "    stdb.dropDocTable(\"laws\")\n",
      "    \n",
      "# Creates a document table (and associated machine-generated tables):\n",
      "stdb.createDocTable(\"laws\", ['lawTitleNumber text', 'lawSectionNumber text', 'lawName text'])"
     ],
     "language": "python",
     "metadata": {},
     "outputs": [
      {
       "output_type": "stream",
       "stream": "stdout",
       "text": [
        "Document tables in this database:  ['laws']\n",
        "deleted document table: laws\n",
        "created document table: laws"
       ]
      },
      {
       "output_type": "stream",
       "stream": "stdout",
       "text": [
        "\n"
       ]
      }
     ],
     "prompt_number": 30
    },
    {
     "cell_type": "markdown",
     "metadata": {},
     "source": [
      "## Loading in all U.S. Code Laws (over 56,000 laws) fully formatted and substantial length\n",
      "### The time keeping variables are for benchmarking purposes and can be ignored"
     ]
    },
    {
     "cell_type": "code",
     "collapsed": false,
     "input": [
      "import re\n",
      "readPath = \"C:/git/SemanticTextDB/example_code/all_US_Law_Codes/\"\n",
      "author = \"United States Government\"\n",
      "\n",
      "count = 0\n",
      "for filename in os.listdir(readPath):\n",
      "    count = count + 1\n",
      "    f = open(readPath + filename,'r')\n",
      "    fileAsString = f.read()\n",
      "    result = re.search(r'[0-9].*?\\n', fileAsString)\n",
      "    if result == None:\n",
      "        print fileAsString\n",
      "    else:\n",
      "        result = re.sub(r'\\n', '', result.group())\n",
      "        lawTitleNum = filename.split('_')[0]\n",
      "        lawSectionNum = (re.search(r'.*?\\.', result)).group()[:-1]\n",
      "        lawName = (re.search(r'\\..*', result)).group()[2:]\n",
      "        \n",
      "        if lawName == \"\" or re.search(r'\\..*', result).group()[1] != \" \":\n",
      "            print result #Incorrectly formatted\n",
      "        else:\n",
      "            stdb.insertDoc(fileAsString, \"laws\", [lawTitleNum, lawSectionNum, lawName])"
     ],
     "language": "python",
     "metadata": {},
     "outputs": [],
     "prompt_number": 9
    },
    {
     "cell_type": "markdown",
     "metadata": {},
     "source": [
      "## Loading up to 2.5 million twitter posts into our database\n",
      "### The time keeping variables are for benchmarking purposes and can be ignored"
     ]
    },
    {
     "cell_type": "code",
     "collapsed": false,
     "input": [
      "def exception_proof_csv_reader(csv_reader):\n",
      "    '''Wraps a try-except clause around the csv reader to\n",
      "    prevent throwing of exceptions which will stop reading.'''\n",
      "    while True: \n",
      "      try: \n",
      "          yield next(csv_reader) \n",
      "      except csv.Error: \n",
      "          pass\n",
      "      continue "
     ],
     "language": "python",
     "metadata": {},
     "outputs": [],
     "prompt_number": 21
    },
    {
     "cell_type": "code",
     "collapsed": false,
     "input": [
      "# Delete the document table (iff you want to replace table with same name):\n",
      "if 'laws' in stdb.document_tables.keys(): #check that the table exists before deleting it\n",
      "    stdb.dropDocTable(\"twitter\")\n",
      "    \n",
      "# Creates a document table (and associated machine-generated tables):\n",
      "stdb.createDocTable(\"twitter\", ['twitterId text', 'location text', 'username text'])\n",
      "\n",
      "redditReadPath = \"C:/git/SemanticTextDB/example_code/twitter.csv\"\n",
      "count = 0\n",
      "NUM_TWEETS_TO_INSERT = 1000000\n",
      "\n",
      "with open(redditReadPath, 'rU') as csvfile:\n",
      "    reader = exception_proof_csv_reader(csv.reader(csvfile, delimiter=','))\n",
      "    for row in reader:\n",
      "        count = count + 1\n",
      "        try:           \n",
      "            twitterID = row.pop(0)\n",
      "            location = row.pop(0)\n",
      "            username = row.pop(-1)\n",
      "            tweet = ', '.join(row)\n",
      "        except:\n",
      "            #print \"Error occurred at item\", count, \"skipping insertion.\"\n",
      "            count = count - 1\n",
      "            continue\n",
      "        stdb.insertDoc(tweet, \"twitter\", [twitterID, location, username])\n",
      "        if count >= NUM_TWEETS_TO_INSERT:\n",
      "            break"
     ],
     "language": "python",
     "metadata": {},
     "outputs": [
      {
       "output_type": "stream",
       "stream": "stdout",
       "text": [
        " Document tables in this database:  ['poop', 'cgntestdoctable1', 'twitter']\n",
        "deleted document table: twitter\n",
        "created document table: twitter"
       ]
      },
      {
       "output_type": "stream",
       "stream": "stdout",
       "text": [
        "\n",
        "Time elapsed:"
       ]
      },
      {
       "output_type": "stream",
       "stream": "stdout",
       "text": [
        " 134.231000185\n",
        "Estimated time to completion: 13288.8690183\n",
        "Time elapsed:"
       ]
      },
      {
       "output_type": "stream",
       "stream": "stdout",
       "text": [
        " 251.430000067\n",
        "Estimated time to completion: 12320.0700033\n",
        "Time elapsed:"
       ]
      },
      {
       "output_type": "stream",
       "stream": "stdout",
       "text": [
        " 366.532000065\n",
        "Estimated time to completion: 11851.2013354\n",
        "Time elapsed:"
       ]
      },
      {
       "output_type": "stream",
       "stream": "stdout",
       "text": [
        " 476.925000191\n",
        "Estimated time to completion: 11446.2000046\n",
        "Time elapsed:"
       ]
      },
      {
       "output_type": "stream",
       "stream": "stdout",
       "text": [
        " 591.132000208\n",
        "Estimated time to completion: 11231.508004\n",
        "Time elapsed:"
       ]
      },
      {
       "output_type": "stream",
       "stream": "stdout",
       "text": [
        " 702.284000158\n",
        "Estimated time to completion: 11002.4493358\n",
        "Time elapsed:"
       ]
      },
      {
       "output_type": "stream",
       "stream": "stdout",
       "text": [
        " 822.050000191\n",
        "Estimated time to completion: 10921.5214311\n",
        "Time elapsed:"
       ]
      },
      {
       "output_type": "stream",
       "stream": "stdout",
       "text": [
        " 939.554000139\n",
        "Estimated time to completion: 10804.8710016\n",
        "Time elapsed:"
       ]
      },
      {
       "output_type": "stream",
       "stream": "stdout",
       "text": [
        " 1059.68099999\n",
        "Estimated time to completion: 10714.5523333\n",
        "Time elapsed:"
       ]
      },
      {
       "output_type": "stream",
       "stream": "stdout",
       "text": [
        " 1176.64700007\n",
        "Estimated time to completion: 10589.8230007\n",
        "Time elapsed:"
       ]
      },
      {
       "output_type": "stream",
       "stream": "stdout",
       "text": [
        " 1288.41300011\n",
        "Estimated time to completion: 10424.4324554\n",
        "Time elapsed:"
       ]
      },
      {
       "output_type": "stream",
       "stream": "stdout",
       "text": [
        " 1399.87300014\n",
        "Estimated time to completion: 10265.7353344\n",
        "Time elapsed:"
       ]
      },
      {
       "output_type": "stream",
       "stream": "stdout",
       "text": [
        " 1513.61400008\n",
        "Estimated time to completion: 10129.5706159\n",
        "Time elapsed:"
       ]
      },
      {
       "output_type": "stream",
       "stream": "stdout",
       "text": [
        " 1624.40200019\n",
        "Estimated time to completion: 9978.46942973\n",
        "Time elapsed:"
       ]
      },
      {
       "output_type": "stream",
       "stream": "stdout",
       "text": [
        " 1744.10800004\n",
        "Estimated time to completion: 9883.27866689\n",
        "Time elapsed:"
       ]
      },
      {
       "output_type": "stream",
       "stream": "stdout",
       "text": [
        " 1862.398\n",
        "Estimated time to completion: 9777.58950001\n",
        "Time elapsed:"
       ]
      },
      {
       "output_type": "stream",
       "stream": "stdout",
       "text": [
        " 1986.57400012\n",
        "Estimated time to completion: 9699.15541235\n",
        "Time elapsed:"
       ]
      },
      {
       "output_type": "stream",
       "stream": "stdout",
       "text": [
        " 2094.62600017\n",
        "Estimated time to completion: 9542.18511187\n",
        "Time elapsed:"
       ]
      },
      {
       "output_type": "stream",
       "stream": "stdout",
       "text": [
        " 2209.87000012\n",
        "Estimated time to completion: 9421.02473737\n",
        "Time elapsed:"
       ]
      },
      {
       "output_type": "stream",
       "stream": "stdout",
       "text": [
        " 2320.71000004\n",
        "Estimated time to completion: 9282.84000015\n",
        "Time elapsed:"
       ]
      },
      {
       "output_type": "stream",
       "stream": "stdout",
       "text": [
        " 2447.9940002\n",
        "Estimated time to completion: 9209.12028645\n",
        "Time elapsed:"
       ]
      },
      {
       "output_type": "stream",
       "stream": "stdout",
       "text": [
        " 2568.15600014\n",
        "Estimated time to completion: 9105.28036412\n",
        "Time elapsed:"
       ]
      },
      {
       "output_type": "stream",
       "stream": "stdout",
       "text": [
        " 2686.91400003\n",
        "Estimated time to completion: 8995.32078272\n",
        "Time elapsed:"
       ]
      },
      {
       "output_type": "stream",
       "stream": "stdout",
       "text": [
        " 2802.25200009\n",
        "Estimated time to completion: 8873.7980003\n",
        "Time elapsed:"
       ]
      },
      {
       "output_type": "stream",
       "stream": "stdout",
       "text": [
        " 2923.52400017\n",
        "Estimated time to completion: 8770.5720005\n",
        "Time elapsed:"
       ]
      },
      {
       "output_type": "stream",
       "stream": "stdout",
       "text": [
        " 3048.16200018\n",
        "Estimated time to completion: 8675.53800051\n",
        "Time elapsed:"
       ]
      },
      {
       "output_type": "stream",
       "stream": "stdout",
       "text": [
        " 3179.16600013\n",
        "Estimated time to completion: 8595.52288923\n",
        "Time elapsed:"
       ]
      },
      {
       "output_type": "stream",
       "stream": "stdout",
       "text": [
        " 3282.99800014\n",
        "Estimated time to completion: 8441.99485752\n",
        "Time elapsed:"
       ]
      },
      {
       "output_type": "stream",
       "stream": "stdout",
       "text": [
        " 3383.79299998\n",
        "Estimated time to completion: 8284.4587241\n",
        "Time elapsed:"
       ]
      },
      {
       "output_type": "stream",
       "stream": "stdout",
       "text": [
        " 3489.87600017\n",
        "Estimated time to completion: 8143.04400039\n",
        "Time elapsed:"
       ]
      },
      {
       "output_type": "stream",
       "stream": "stdout",
       "text": [
        " 3590.19900012\n",
        "Estimated time to completion: 7991.08809704\n",
        "Time elapsed:"
       ]
      },
      {
       "output_type": "stream",
       "stream": "stdout",
       "text": [
        " 3695.62000012\n",
        "Estimated time to completion: 7853.19250026\n",
        "Time elapsed:"
       ]
      },
      {
       "output_type": "stream",
       "stream": "stdout",
       "text": [
        " 3801.87700009\n",
        "Estimated time to completion: 7718.96239413\n",
        "Time elapsed:"
       ]
      },
      {
       "output_type": "stream",
       "stream": "stdout",
       "text": [
        " 3912.12600017\n",
        "Estimated time to completion: 7594.1269415\n",
        "Time elapsed:"
       ]
      },
      {
       "output_type": "stream",
       "stream": "stdout",
       "text": [
        " 4012.74100018\n",
        "Estimated time to completion: 7452.23328604\n",
        "Time elapsed:"
       ]
      },
      {
       "output_type": "stream",
       "stream": "stdout",
       "text": [
        " 4104.82700014\n",
        "Estimated time to completion: 7297.47022247\n",
        "Time elapsed:"
       ]
      },
      {
       "output_type": "stream",
       "stream": "stdout",
       "text": [
        " 4194.61300015\n",
        "Estimated time to completion: 7142.17889215\n",
        "Time elapsed:"
       ]
      },
      {
       "output_type": "stream",
       "stream": "stdout",
       "text": [
        " 4358.41000009\n",
        "Estimated time to completion: 7111.09000014\n",
        "Time elapsed:"
       ]
      },
      {
       "output_type": "stream",
       "stream": "stdout",
       "text": [
        " 4471.40799999\n",
        "Estimated time to completion: 6993.74071794\n",
        "Time elapsed:"
       ]
      },
      {
       "output_type": "stream",
       "stream": "stdout",
       "text": [
        " 4730.65200019\n",
        "Estimated time to completion: 7095.97800028\n",
        "Time elapsed:"
       ]
      },
      {
       "output_type": "stream",
       "stream": "stdout",
       "text": [
        " 4893.9380002\n",
        "Estimated time to completion: 7042.49614663\n",
        "Time elapsed:"
       ]
      },
      {
       "output_type": "stream",
       "stream": "stdout",
       "text": [
        " 5075.45000005\n",
        "Estimated time to completion: 7008.95476197\n",
        "Time elapsed:"
       ]
      },
      {
       "output_type": "stream",
       "stream": "stdout",
       "text": [
        " 5215.80900002\n",
        "Estimated time to completion: 6913.97937211\n",
        "Time elapsed:"
       ]
      },
      {
       "output_type": "stream",
       "stream": "stdout",
       "text": [
        " 5363.20200014\n",
        "Estimated time to completion: 6825.89345473\n",
        "Time elapsed:"
       ]
      },
      {
       "output_type": "stream",
       "stream": "stdout",
       "text": [
        " 5481.5250001\n",
        "Estimated time to completion: 6699.64166678\n",
        "Time elapsed:"
       ]
      },
      {
       "output_type": "stream",
       "stream": "stdout",
       "text": [
        " 5590.375\n",
        "Estimated time to completion: 6562.61413043\n",
        "Time elapsed:"
       ]
      },
      {
       "output_type": "stream",
       "stream": "stdout",
       "text": [
        " 5695.71800017\n",
        "Estimated time to completion: 6422.83093637\n",
        "Time elapsed:"
       ]
      },
      {
       "output_type": "stream",
       "stream": "stdout",
       "text": [
        " 5816.84300017\n",
        "Estimated time to completion: 6301.57991685\n",
        "Time elapsed:"
       ]
      },
      {
       "output_type": "stream",
       "stream": "stdout",
       "text": [
        " 5947.648\n",
        "Estimated time to completion: 6190.40914286\n",
        "Time elapsed:"
       ]
      },
      {
       "output_type": "stream",
       "stream": "stdout",
       "text": [
        " 6081.81599998\n",
        "Estimated time to completion: 6081.81599998\n",
        "Time elapsed:"
       ]
      },
      {
       "output_type": "stream",
       "stream": "stdout",
       "text": [
        " 6212.82800007\n",
        "Estimated time to completion: 5969.18768634\n",
        "Time elapsed:"
       ]
      },
      {
       "output_type": "stream",
       "stream": "stdout",
       "text": [
        " 6347.66600013\n",
        "Estimated time to completion: 5859.38400012\n",
        "Time elapsed:"
       ]
      },
      {
       "output_type": "stream",
       "stream": "stdout",
       "text": [
        " 6492.64300013\n",
        "Estimated time to completion: 5757.62681143\n",
        "Time elapsed:"
       ]
      },
      {
       "output_type": "stream",
       "stream": "stdout",
       "text": [
        " 6652.21600008\n",
        "Estimated time to completion: 5666.70251859\n",
        "Time elapsed:"
       ]
      },
      {
       "output_type": "stream",
       "stream": "stdout",
       "text": [
        " 6780.67700005\n",
        "Estimated time to completion: 5547.8266364\n",
        "Time elapsed:"
       ]
      },
      {
       "output_type": "stream",
       "stream": "stdout",
       "text": [
        " 6890.40100002\n",
        "Estimated time to completion: 5413.88650002\n",
        "Time elapsed:"
       ]
      },
      {
       "output_type": "stream",
       "stream": "stdout",
       "text": [
        " 7089.43900013\n",
        "Estimated time to completion: 5348.1732808\n",
        "Time elapsed:"
       ]
      },
      {
       "output_type": "stream",
       "stream": "stdout",
       "text": [
        " 7198.7440002\n",
        "Estimated time to completion: 5212.88358635\n",
        "Time elapsed:"
       ]
      },
      {
       "output_type": "stream",
       "stream": "stdout",
       "text": [
        " 7306.25500011\n",
        "Estimated time to completion: 5077.22805093\n",
        "Time elapsed:"
       ]
      },
      {
       "output_type": "stream",
       "stream": "stdout",
       "text": [
        " 7415.14700007\n",
        "Estimated time to completion: 4943.43133338\n",
        "Time elapsed:"
       ]
      },
      {
       "output_type": "stream",
       "stream": "stdout",
       "text": [
        " 7519.6880002\n",
        "Estimated time to completion: 4807.66937718\n",
        "Time elapsed:"
       ]
      },
      {
       "output_type": "stream",
       "stream": "stdout",
       "text": [
        " 7622.25100017\n",
        "Estimated time to completion: 4671.70222591\n",
        "Time elapsed:"
       ]
      },
      {
       "output_type": "stream",
       "stream": "stdout",
       "text": [
        " 7731.37800002\n",
        "Estimated time to completion: 4540.65057144\n",
        "Time elapsed:"
       ]
      },
      {
       "output_type": "stream",
       "stream": "stdout",
       "text": [
        " 7833.829\n",
        "Estimated time to completion: 4406.5288125\n",
        "Time elapsed:"
       ]
      },
      {
       "output_type": "stream",
       "stream": "stdout",
       "text": [
        " 7940.421\n",
        "Estimated time to completion: 4275.61130769\n",
        "Time elapsed:"
       ]
      },
      {
       "output_type": "stream",
       "stream": "stdout",
       "text": [
        " 8046.39700007\n",
        "Estimated time to completion: 4145.1136061\n",
        "Time elapsed:"
       ]
      },
      {
       "output_type": "stream",
       "stream": "stdout",
       "text": [
        " 8159.19700003\n",
        "Estimated time to completion: 4018.70897016\n",
        "Time elapsed:"
       ]
      },
      {
       "output_type": "stream",
       "stream": "stdout",
       "text": [
        " 8276.73100019\n",
        "Estimated time to completion: 3894.93223538\n",
        "Time elapsed:"
       ]
      },
      {
       "output_type": "stream",
       "stream": "stdout",
       "text": [
        " 8403.25400019\n",
        "Estimated time to completion: 3775.37498559\n",
        "Time elapsed:"
       ]
      },
      {
       "output_type": "stream",
       "stream": "stdout",
       "text": [
        " 8529.1500001\n",
        "Estimated time to completion: 3655.35000004\n",
        "Time elapsed:"
       ]
      },
      {
       "output_type": "stream",
       "stream": "stdout",
       "text": [
        " 8651.93700004\n",
        "Estimated time to completion: 3533.88976058\n",
        "Time elapsed:"
       ]
      },
      {
       "output_type": "stream",
       "stream": "stdout",
       "text": [
        " 8762.97000003\n",
        "Estimated time to completion: 3407.82166668\n",
        "Time elapsed:"
       ]
      },
      {
       "output_type": "stream",
       "stream": "stdout",
       "text": [
        " 8873.01300001\n",
        "Estimated time to completion: 3281.79932877\n",
        "Time elapsed:"
       ]
      },
      {
       "output_type": "stream",
       "stream": "stdout",
       "text": [
        " 8982.47600007\n",
        "Estimated time to completion: 3156.00508111\n",
        "Time elapsed:"
       ]
      },
      {
       "output_type": "stream",
       "stream": "stdout",
       "text": [
        " 9110.76400018\n",
        "Estimated time to completion: 3036.92133339\n",
        "Time elapsed:"
       ]
      },
      {
       "output_type": "stream",
       "stream": "stdout",
       "text": [
        " 9242.90100002\n",
        "Estimated time to completion: 2918.81084211\n",
        "Time elapsed:"
       ]
      },
      {
       "output_type": "stream",
       "stream": "stdout",
       "text": [
        " 9378.0710001\n",
        "Estimated time to completion: 2801.24198704\n",
        "Time elapsed:"
       ]
      },
      {
       "output_type": "stream",
       "stream": "stdout",
       "text": [
        " 9502.12600017\n",
        "Estimated time to completion: 2680.08682056\n",
        "Time elapsed:"
       ]
      },
      {
       "output_type": "stream",
       "stream": "stdout",
       "text": [
        " 9636.88900018\n",
        "Estimated time to completion: 2561.70467093\n",
        "Time elapsed:"
       ]
      },
      {
       "output_type": "stream",
       "stream": "stdout",
       "text": [
        " 9773.49000001\n",
        "Estimated time to completion: 2443.3725\n",
        "Time elapsed:"
       ]
      },
      {
       "output_type": "stream",
       "stream": "stdout",
       "text": [
        " 9921.05599999\n",
        "Estimated time to completion: 2327.16128395\n",
        "Time elapsed:"
       ]
      },
      {
       "output_type": "stream",
       "stream": "stdout",
       "text": [
        " 10035.24\n",
        "Estimated time to completion: 2202.85756098\n",
        "Time elapsed:"
       ]
      },
      {
       "output_type": "stream",
       "stream": "stdout",
       "text": [
        " 10159.8690002\n",
        "Estimated time to completion: 2080.93702414\n",
        "Time elapsed:"
       ]
      },
      {
       "output_type": "stream",
       "stream": "stdout",
       "text": [
        " 10280.1460001\n",
        "Estimated time to completion: 1958.12304765\n",
        "Time elapsed:"
       ]
      },
      {
       "output_type": "stream",
       "stream": "stdout",
       "text": [
        " 10393.0830002\n",
        "Estimated time to completion: 1834.07347062\n",
        "Time elapsed:"
       ]
      },
      {
       "output_type": "stream",
       "stream": "stdout",
       "text": [
        " 10510.6760001\n",
        "Estimated time to completion: 1711.04027909\n",
        "Time elapsed:"
       ]
      },
      {
       "output_type": "stream",
       "stream": "stdout",
       "text": [
        " 10615.4430001\n",
        "Estimated time to completion: 1586.2156207\n",
        "Time elapsed:"
       ]
      },
      {
       "output_type": "stream",
       "stream": "stdout",
       "text": [
        " 10721.3110001\n",
        "Estimated time to completion: 1461.99695456\n",
        "Time elapsed:"
       ]
      },
      {
       "output_type": "stream",
       "stream": "stdout",
       "text": [
        " 10826.089\n",
        "Estimated time to completion: 1338.05594382\n",
        "Time elapsed:"
       ]
      },
      {
       "output_type": "stream",
       "stream": "stdout",
       "text": [
        " 10932.5310001\n",
        "Estimated time to completion: 1214.72566668\n",
        "Time elapsed:"
       ]
      },
      {
       "output_type": "stream",
       "stream": "stdout",
       "text": [
        " 11032.181\n",
        "Estimated time to completion: 1091.09482418\n",
        "Time elapsed:"
       ]
      },
      {
       "output_type": "stream",
       "stream": "stdout",
       "text": [
        " 11135.316\n",
        "Estimated time to completion: 968.288347825\n",
        "Time elapsed:"
       ]
      },
      {
       "output_type": "stream",
       "stream": "stdout",
       "text": [
        " 11242.4190001\n",
        "Estimated time to completion: 846.203580656\n",
        "Time elapsed:"
       ]
      },
      {
       "output_type": "stream",
       "stream": "stdout",
       "text": [
        " 11341.5470002\n",
        "Estimated time to completion: 723.928531926\n",
        "Time elapsed:"
       ]
      },
      {
       "output_type": "stream",
       "stream": "stdout",
       "text": [
        " 11458.6490002\n",
        "Estimated time to completion: 603.086789483\n",
        "Time elapsed:"
       ]
      },
      {
       "output_type": "stream",
       "stream": "stdout",
       "text": [
        " 11610.95\n",
        "Estimated time to completion: 483.789583335\n",
        "Time elapsed:"
       ]
      },
      {
       "output_type": "stream",
       "stream": "stdout",
       "text": [
        " 11734.447\n",
        "Estimated time to completion: 362.921041238\n",
        "Time elapsed:"
       ]
      },
      {
       "output_type": "stream",
       "stream": "stdout",
       "text": [
        " 11866.566\n",
        "Estimated time to completion: 242.174816326\n",
        "Time elapsed:"
       ]
      },
      {
       "output_type": "stream",
       "stream": "stdout",
       "text": [
        " 11981.9250002\n",
        "Estimated time to completion: 121.029545456\n",
        "Total time taken:"
       ]
      },
      {
       "output_type": "stream",
       "stream": "stdout",
       "text": [
        " 12085.4480002\n"
       ]
      }
     ],
     "prompt_number": 23
    },
    {
     "cell_type": "code",
     "collapsed": false,
     "input": [
      "cur.execute(\"END;\")\n",
      "cur.execute(\"ABORT;\")"
     ],
     "language": "python",
     "metadata": {},
     "outputs": [],
     "prompt_number": 39
    },
    {
     "cell_type": "code",
     "collapsed": false,
     "input": [
      "stdb.allTables()"
     ],
     "language": "python",
     "metadata": {},
     "outputs": [
      {
       "metadata": {},
       "output_type": "pyout",
       "prompt_number": 15,
       "text": [
        "['testtable',\n",
        " 'cgntestdoctable1',\n",
        " 'cgntestdoctable1_text',\n",
        " 'cgntestdoctable1_useropts',\n",
        " 'cgntestdoctable1_wordinfo']"
       ]
      }
     ],
     "prompt_number": 15
    },
    {
     "cell_type": "code",
     "collapsed": false,
     "input": [
      "cur.execute(\"select * from twitter_text limit 5;\")\n",
      "cur.fetchall()"
     ],
     "language": "python",
     "metadata": {},
     "outputs": [
      {
       "metadata": {},
       "output_type": "pyout",
       "prompt_number": 58,
       "text": [
        "[(1,\n",
        "  'aku lg main ayunan tante,  tk london yah? RT @zachzachra: Lewat sekolahannya si @Indrarbk'),\n",
        " (2,\n",
        "  \"A pink taxi covered in flags? Seriously? So glad I'm getting out of London tonight...\"),\n",
        " (3,\n",
        "  '@ShelaghFogarty you will be missed in the mornings. Look forward to your new show!'),\n",
        " (4,\n",
        "  'http://www.book-lib.com/money-machine-penguin-business-library.html #london #stock #exchange #lex Money Machine (Penguin Business Librar'),\n",
        " (5,\n",
        "  'Midday Supervisor: Midday Supervisor at London Borough of Waltham Forest in Waltham Forest,  Greater London. Scal... http://bit.ly/ifotPo')]"
       ]
      }
     ],
     "prompt_number": 58
    },
    {
     "cell_type": "code",
     "collapsed": false,
     "input": [
      "cur.execute(\"select * from cgntestdoctable1_text where id = 65;\")\n",
      "cur.fetchall()"
     ],
     "language": "python",
     "metadata": {},
     "outputs": [
      {
       "metadata": {},
       "output_type": "pyout",
       "prompt_number": 22,
       "text": [
        "[(65,\n",
        "  '\\n\\xc2\\xa7\\xe2\\x80\\xaf58a\\xe2\\x80\\x933. Transferred\\nCodification\\nSection 58a\\xe2\\x80\\x933 was editorially reclassified as section 6623 of this title.\\n\\n')]"
       ]
      }
     ],
     "prompt_number": 22
    },
    {
     "cell_type": "code",
     "collapsed": false,
     "input": [
      "import datetime\n",
      "a= datetime.time()"
     ],
     "language": "python",
     "metadata": {},
     "outputs": [],
     "prompt_number": 9
    },
    {
     "cell_type": "code",
     "collapsed": false,
     "input": [
      "datetime.time() - a"
     ],
     "language": "python",
     "metadata": {},
     "outputs": [
      {
       "ename": "TypeError",
       "evalue": "unsupported operand type(s) for -: 'datetime.time' and 'datetime.time'",
       "output_type": "pyerr",
       "traceback": [
        "\u001b[1;31m---------------------------------------------------------------------------\u001b[0m\n\u001b[1;31mTypeError\u001b[0m                                 Traceback (most recent call last)",
        "\u001b[1;32m<ipython-input-10-8081ba461401>\u001b[0m in \u001b[0;36m<module>\u001b[1;34m()\u001b[0m\n\u001b[1;32m----> 1\u001b[1;33m \u001b[0mdatetime\u001b[0m\u001b[1;33m.\u001b[0m\u001b[0mtime\u001b[0m\u001b[1;33m(\u001b[0m\u001b[1;33m)\u001b[0m \u001b[1;33m-\u001b[0m \u001b[0ma\u001b[0m\u001b[1;33m\u001b[0m\u001b[0m\n\u001b[0m",
        "\u001b[1;31mTypeError\u001b[0m: unsupported operand type(s) for -: 'datetime.time' and 'datetime.time'"
       ]
      }
     ],
     "prompt_number": 10
    },
    {
     "cell_type": "code",
     "collapsed": false,
     "input": [],
     "language": "python",
     "metadata": {},
     "outputs": []
    }
   ],
   "metadata": {}
  }
 ]
}