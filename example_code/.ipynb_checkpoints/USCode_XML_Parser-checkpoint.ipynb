{
 "metadata": {
  "name": ""
 },
 "nbformat": 3,
 "nbformat_minor": 0,
 "worksheets": [
  {
   "cells": [
    {
     "cell_type": "code",
     "collapsed": false,
     "input": [
      "import re\n",
      "import os\n",
      "import xml.etree.ElementTree as ET"
     ],
     "language": "python",
     "metadata": {},
     "outputs": [],
     "prompt_number": 196
    },
    {
     "cell_type": "code",
     "collapsed": false,
     "input": [
      "readPath = \"C:/git/SemanticTextDB/example_code/xml/\"\n",
      "writePath = \"C:/git/SemanticTextDB/example_code/all_US_Law_Codes/\"\n",
      "if not os.path.exists(writePath):\n",
      "    os.makedirs(writePath)"
     ],
     "language": "python",
     "metadata": {},
     "outputs": [],
     "prompt_number": 197
    },
    {
     "cell_type": "code",
     "collapsed": false,
     "input": [
      "for filename in os.listdir(readPath):\n",
      "    print 'Working on file:', filename\n",
      "    #f = open(readPath + filename,'r')\n",
      "    #fileAsString = f.read()\n",
      "    #sections = re.findall(r'<section.*?id=.*?>.*?</section>', fileAsString, re.DOTALL)\n",
      "    \n",
      "    #Create ElementTree representing the XML structure of the laws\n",
      "    tree = ET.parse(readPath + filename)\n",
      "    root = tree.getroot()\n",
      "    \n",
      "    #Grab the sections containing the laws. The sections are on the fourth level of the xml\n",
      "    #represented by */*/*/<sections here>. Only return sections ending in element tag section.\n",
      "    #The list comprehension returns a string represnetion of the xml using ET.tostring  method.\n",
      "    #sections = [ET.tostring(element, encoding='utf8', method='xml') for element in root.findall('*/*/*/') if element.tag[len(element.tag)-7:] == 'section']\n",
      "    parent_map = {c:p for p in tree.iter() for c in p}\n",
      "    sections = [ET.tostring(element, encoding='utf8', method='xml') for element in root.iter()\n",
      "                if (element.tag[len(element.tag)-7:] == 'section') and\n",
      "                (parent_map[element].tag[len(parent_map[element].tag)-7:] == 'chapter')]\n",
      "    count = 0\n",
      "    for section in sections:\n",
      "        count = count + 1        \n",
      "        #result = re.sub(r'</heading><subsection',' \\n', section)\n",
      "        result = re.sub(r'</ns0:heading>','\\n', section)        \n",
      "        result = re.sub(r'<.*?>', '', result, flags = re.DOTALL)\n",
      "        result = re.sub(r'\\n{3,}', '\\n\\n', result, flags = re.DOTALL)\n",
      "        fout = open(writePath + filename[3:-4] + '_' + str(count) + '.txt', 'w')\n",
      "        fout.write(result)"
     ],
     "language": "python",
     "metadata": {},
     "outputs": [
      {
       "output_type": "stream",
       "stream": "stdout",
       "text": [
        "Working on file: usc01.xml\n",
        "Working on file:"
       ]
      },
      {
       "output_type": "stream",
       "stream": "stdout",
       "text": [
        " usc02.xml\n",
        "Working on file:"
       ]
      },
      {
       "output_type": "stream",
       "stream": "stdout",
       "text": [
        " usc03.xml\n",
        "Working on file:"
       ]
      },
      {
       "output_type": "stream",
       "stream": "stdout",
       "text": [
        " usc04.xml\n",
        "Working on file:"
       ]
      },
      {
       "output_type": "stream",
       "stream": "stdout",
       "text": [
        " usc05.xml\n",
        "Working on file:"
       ]
      },
      {
       "output_type": "stream",
       "stream": "stdout",
       "text": [
        " usc05A.xml\n",
        "Working on file:"
       ]
      },
      {
       "output_type": "stream",
       "stream": "stdout",
       "text": [
        " usc06.xml\n",
        "Working on file:"
       ]
      },
      {
       "output_type": "stream",
       "stream": "stdout",
       "text": [
        " usc07.xml\n",
        "Working on file:"
       ]
      },
      {
       "output_type": "stream",
       "stream": "stdout",
       "text": [
        " usc08.xml\n",
        "Working on file:"
       ]
      },
      {
       "output_type": "stream",
       "stream": "stdout",
       "text": [
        " usc09.xml\n",
        "Working on file:"
       ]
      },
      {
       "output_type": "stream",
       "stream": "stdout",
       "text": [
        " usc10.xml\n",
        "Working on file:"
       ]
      },
      {
       "output_type": "stream",
       "stream": "stdout",
       "text": [
        " usc11.xml\n",
        "Working on file:"
       ]
      },
      {
       "output_type": "stream",
       "stream": "stdout",
       "text": [
        " usc11A.xml\n",
        "Working on file:"
       ]
      },
      {
       "output_type": "stream",
       "stream": "stdout",
       "text": [
        " usc12.xml\n",
        "Working on file:"
       ]
      },
      {
       "output_type": "stream",
       "stream": "stdout",
       "text": [
        " usc13.xml\n",
        "Working on file:"
       ]
      },
      {
       "output_type": "stream",
       "stream": "stdout",
       "text": [
        " usc14.xml\n",
        "Working on file:"
       ]
      },
      {
       "output_type": "stream",
       "stream": "stdout",
       "text": [
        " usc15.xml\n",
        "Working on file:"
       ]
      },
      {
       "output_type": "stream",
       "stream": "stdout",
       "text": [
        " usc16.xml\n",
        "Working on file:"
       ]
      },
      {
       "output_type": "stream",
       "stream": "stdout",
       "text": [
        " usc17.xml\n",
        "Working on file:"
       ]
      },
      {
       "output_type": "stream",
       "stream": "stdout",
       "text": [
        " usc18.xml\n",
        "Working on file:"
       ]
      },
      {
       "output_type": "stream",
       "stream": "stdout",
       "text": [
        " usc18A.xml\n",
        "Working on file:"
       ]
      },
      {
       "output_type": "stream",
       "stream": "stdout",
       "text": [
        " usc19.xml\n",
        "Working on file:"
       ]
      },
      {
       "output_type": "stream",
       "stream": "stdout",
       "text": [
        " usc20.xml\n",
        "Working on file:"
       ]
      },
      {
       "output_type": "stream",
       "stream": "stdout",
       "text": [
        " usc21.xml\n",
        "Working on file:"
       ]
      },
      {
       "output_type": "stream",
       "stream": "stdout",
       "text": [
        " usc22.xml\n",
        "Working on file:"
       ]
      },
      {
       "output_type": "stream",
       "stream": "stdout",
       "text": [
        " usc23.xml\n",
        "Working on file:"
       ]
      },
      {
       "output_type": "stream",
       "stream": "stdout",
       "text": [
        " usc24.xml\n",
        "Working on file:"
       ]
      },
      {
       "output_type": "stream",
       "stream": "stdout",
       "text": [
        " usc25.xml\n",
        "Working on file:"
       ]
      },
      {
       "output_type": "stream",
       "stream": "stdout",
       "text": [
        " usc26.xml\n",
        "Working on file:"
       ]
      },
      {
       "output_type": "stream",
       "stream": "stdout",
       "text": [
        " usc27.xml\n",
        "Working on file:"
       ]
      },
      {
       "output_type": "stream",
       "stream": "stdout",
       "text": [
        " usc28.xml\n",
        "Working on file:"
       ]
      },
      {
       "output_type": "stream",
       "stream": "stdout",
       "text": [
        " usc28a.xml\n",
        "Working on file:"
       ]
      },
      {
       "output_type": "stream",
       "stream": "stdout",
       "text": [
        " usc29.xml\n",
        "Working on file:"
       ]
      },
      {
       "output_type": "stream",
       "stream": "stdout",
       "text": [
        " usc30.xml\n",
        "Working on file:"
       ]
      },
      {
       "output_type": "stream",
       "stream": "stdout",
       "text": [
        " usc31.xml\n",
        "Working on file:"
       ]
      },
      {
       "output_type": "stream",
       "stream": "stdout",
       "text": [
        " usc32.xml\n",
        "Working on file:"
       ]
      },
      {
       "output_type": "stream",
       "stream": "stdout",
       "text": [
        " usc33.xml\n",
        "Working on file:"
       ]
      },
      {
       "output_type": "stream",
       "stream": "stdout",
       "text": [
        " usc35.xml\n",
        "Working on file:"
       ]
      },
      {
       "output_type": "stream",
       "stream": "stdout",
       "text": [
        " usc36.xml\n",
        "Working on file:"
       ]
      },
      {
       "output_type": "stream",
       "stream": "stdout",
       "text": [
        " usc37.xml\n",
        "Working on file:"
       ]
      },
      {
       "output_type": "stream",
       "stream": "stdout",
       "text": [
        " usc38.xml\n",
        "Working on file:"
       ]
      },
      {
       "output_type": "stream",
       "stream": "stdout",
       "text": [
        " usc39.xml\n",
        "Working on file:"
       ]
      },
      {
       "output_type": "stream",
       "stream": "stdout",
       "text": [
        " usc40.xml\n",
        "Working on file:"
       ]
      },
      {
       "output_type": "stream",
       "stream": "stdout",
       "text": [
        " usc41.xml\n",
        "Working on file:"
       ]
      },
      {
       "output_type": "stream",
       "stream": "stdout",
       "text": [
        " usc42.xml\n",
        "Working on file:"
       ]
      },
      {
       "output_type": "stream",
       "stream": "stdout",
       "text": [
        " usc43.xml\n",
        "Working on file:"
       ]
      },
      {
       "output_type": "stream",
       "stream": "stdout",
       "text": [
        " usc44.xml\n",
        "Working on file:"
       ]
      },
      {
       "output_type": "stream",
       "stream": "stdout",
       "text": [
        " usc45.xml\n",
        "Working on file:"
       ]
      },
      {
       "output_type": "stream",
       "stream": "stdout",
       "text": [
        " usc46.xml\n",
        "Working on file:"
       ]
      },
      {
       "output_type": "stream",
       "stream": "stdout",
       "text": [
        " usc47.xml\n",
        "Working on file:"
       ]
      },
      {
       "output_type": "stream",
       "stream": "stdout",
       "text": [
        " usc48.xml\n",
        "Working on file:"
       ]
      },
      {
       "output_type": "stream",
       "stream": "stdout",
       "text": [
        " usc49.xml\n",
        "Working on file:"
       ]
      },
      {
       "output_type": "stream",
       "stream": "stdout",
       "text": [
        " usc50.xml\n",
        "Working on file:"
       ]
      },
      {
       "output_type": "stream",
       "stream": "stdout",
       "text": [
        " usc50A.xml\n",
        "Working on file:"
       ]
      },
      {
       "output_type": "stream",
       "stream": "stdout",
       "text": [
        " usc51.xml\n",
        "Working on file:"
       ]
      },
      {
       "output_type": "stream",
       "stream": "stdout",
       "text": [
        " usc52.xml\n"
       ]
      }
     ],
     "prompt_number": 198
    }
   ],
   "metadata": {}
  }
 ]
}