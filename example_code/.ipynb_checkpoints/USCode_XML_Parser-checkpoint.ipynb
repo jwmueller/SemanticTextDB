{
 "metadata": {
  "name": ""
 },
 "nbformat": 3,
 "nbformat_minor": 0,
 "worksheets": [
  {
   "cells": [
    {
     "cell_type": "code",
     "collapsed": false,
     "input": [
      "import re\n",
      "import os\n",
      "import xml.etree.ElementTree as ET"
     ],
     "language": "python",
     "metadata": {},
     "outputs": [],
     "prompt_number": 1
    },
    {
     "cell_type": "code",
     "collapsed": false,
     "input": [
      "readPath = \"C:/git/SemanticTextDB/example_code/xml/\"\n",
      "writePath = \"C:/git/SemanticTextDB/example_code/all_US_Law_Codes/\"\n",
      "if not os.path.exists(writePath):\n",
      "    os.makedirs(writePath)"
     ],
     "language": "python",
     "metadata": {},
     "outputs": [],
     "prompt_number": 2
    },
    {
     "cell_type": "code",
     "collapsed": false,
     "input": [
      "for filename in os.listdir(readPath):\n",
      "    print 'Working on file:', filename\n",
      "    filename = 'usc27.xml'\n",
      "    #f = open(readPath + filename,'r')\n",
      "    #fileAsString = f.read()\n",
      "    #sections = re.findall(r'<section.*?id=.*?>.*?</section>', fileAsString, re.DOTALL)\n",
      "    \n",
      "    #Create ElementTree representing the XML structure of the laws\n",
      "    tree = ET.parse(readPath + filename)\n",
      "    root = tree.getroot()\n",
      "    \n",
      "    #Grab the sections containing the laws. The sections are on the fourth level of the xml\n",
      "    #represented by */*/*/<sections here>. Only return sections ending in element tag section.\n",
      "    #The list comprehension returns a string represnetion of the xml using ET.tostring  method.\n",
      "    sections = [ET.tostring(element, encoding='utf8', method='xml') for element in root.findall('*/*/*/') if element.tag[len(element.tag)-7:] == 'section']\n",
      "    count = 0\n",
      "    for section in sections:\n",
      "        count = count + 1        \n",
      "        #result = re.sub(r'</heading><subsection',' \\n', section) \n",
      "        result = re.sub(r'</(.*?)heading>','\\n', section)        \n",
      "        result = re.sub(r'<.*?>', '', result, flags = re.DOTALL)\n",
      "        result = re.sub(r'\\n{3,}', '\\n\\n', result, flags = re.DOTALL)\n",
      "        fout = open(writePath + filename[3:-4] + '_' + str(count) + '.txt', 'w')\n",
      "        fout.write(result)\n",
      "    break"
     ],
     "language": "python",
     "metadata": {},
     "outputs": [
      {
       "output_type": "stream",
       "stream": "stdout",
       "text": [
        "Working on file: usc01.xml\n"
       ]
      }
     ],
     "prompt_number": 20
    },
    {
     "cell_type": "code",
     "collapsed": false,
     "input": [],
     "language": "python",
     "metadata": {},
     "outputs": []
    }
   ],
   "metadata": {}
  }
 ]
}