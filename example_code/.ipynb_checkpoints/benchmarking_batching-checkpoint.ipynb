{
 "metadata": {
  "name": "",
  "signature": "sha256:d69c4ffe41cbd7cdea3245a4898ccb5ebde0e0d4d4f2f9ff1588cd619669e722"
 },
 "nbformat": 3,
 "nbformat_minor": 0,
 "worksheets": [
  {
   "cells": [
    {
     "cell_type": "code",
     "collapsed": false,
     "input": [
      "import sys, os, time, csv\n",
      "import psycopg2\n",
      "\n",
      "mypath = os.path.dirname(os.path.abspath(\"__file__\"))\n",
      "repositoryLocation = \"C:/git/SemanticTextDB\"\n",
      "sys.path.insert(0, os.path.normpath(os.path.join(mypath, 'C:/git/SemanticTextDB')))\n",
      "\n",
      "import SemanticTextDB as stdb\n",
      "\n",
      "conn = psycopg2.connect(database=\"benchmark\", user=\"Curtis Northcutt\", host=\"18.251.7.99\", password=\"coldnips\")\n",
      "cur = conn.cursor()\n",
      "\n",
      "# Now create a new SemanticTextDB object based on the underlying DB's state:\n",
      "my_stdb = stdb.SemanticTextDB(conn, cur)\n",
      "\n",
      "# PRINTS ALL TABLES IN DB:\n",
      "def allTables(cur):\n",
      "    cur.execute(\"select table_name from information_schema.tables WHERE table_schema='public' AND table_type='BASE TABLE';\")\n",
      "    return [x[0] for x in cur.fetchall()]\n",
      "\n",
      "# Shows at most 5 results from table:\n",
      "def seeTable(cur, name):\n",
      "    cur.execute(\"select * from \" + name + \";\")\n",
      "    x = cur.fetchall()\n",
      "    if len(x) < 5:\n",
      "        return x\n",
      "    else:\n",
      "        return x[:4]\n",
      "\n",
      "\n",
      "# Deletes all tables from DB:\t\n",
      "def clearDB(cur):\n",
      "    x = allTables(cur)\n",
      "    for t in x:\n",
      "        cur.execute(\"DROP TABLE \" + t + \";\")\n",
      "        cur.execute(\"COMMIT;\")\n",
      "        \n"
     ],
     "language": "python",
     "metadata": {},
     "outputs": [
      {
       "output_type": "stream",
       "stream": "stdout",
       "text": [
        "Document tables in this database:  ['twitter']\n"
       ]
      }
     ],
     "prompt_number": 1
    },
    {
     "cell_type": "code",
     "collapsed": false,
     "input": [
      "cur.execute(\"END;\")\n",
      "cur.execute(\"ABORT;\")\n",
      "\n",
      "import warnings\n",
      "warnings.filterwarnings(\"ignore\")\n",
      "\n",
      "import re\n",
      "readPath = \"C:/git/SemanticTextDB/example_code/all_US_Law_Codes/\"\n",
      "author = \"United States Government\"\n",
      "base_time = time.time()\n",
      "\n",
      "NUM_INTERTIMES = 10\n",
      "NUM_TRIALS = 5\n",
      "NUM_LAWS = 1001\n",
      "\n",
      "law_trials = []\n",
      "for i in range(NUM_TRIALS):\n",
      "    \n",
      "    clearDB(cur)\n",
      "\n",
      "    # Delete the document table (iff you want to replace table with same name):\n",
      "    if 'laws' in my_stdb.document_tables.keys(): #check that the table exists before deleting it\n",
      "        my_stdb.dropDocTable(\"laws\")\n",
      "\n",
      "    # Creates a document table (and associated machine-generated tables):\n",
      "    my_stdb.createDocTable(\"laws\", ['lawTitleNumber text', 'lawSectionNumber text', 'lawName text'],\n",
      "                       summary = None, topics = (10,20), entities = None, \n",
      "                       sentiment = False, count_words = False, length_count = False, \n",
      "                       vs_representations = None, max_word_length = 200,\n",
      "                       update_increment = 50, new_transaction = False)\n",
      "    \n",
      "    intertimes = []\n",
      "    count = 0\n",
      "    totaltime = 0\n",
      "    for filename in os.listdir(readPath):\n",
      "        count = count + 1\n",
      "        f = open(readPath + filename,'r')\n",
      "        fileAsString = f.read()\n",
      "        result = re.search(r'[0-9].*?\\n', fileAsString)\n",
      "        if result == None:\n",
      "            continue\n",
      "            #print fileAsString\n",
      "        else:\n",
      "            result = re.sub(r'\\n', '', result.group())\n",
      "            lawTitleNum = filename.split('_')[0]\n",
      "            lawSectionNum = (re.search(r'.*?\\.', result)).group()[:-1]\n",
      "            lawName = (re.search(r'\\..*', result)).group()[2:]\n",
      "\n",
      "            if lawName == \"\" or re.search(r'\\..*', result).group()[1] != \" \": #discard - wrong format\n",
      "                count = count - 1\n",
      "                continue\n",
      "            else:\n",
      "                #stringToInsert = unicode(fileAsString, 'utf-8')\n",
      "                fileAsString = re.sub(r'-', ' ', fileAsString)\n",
      "                fileAsString = re.sub(r'[^a-z ]', '', fileAsString)\n",
      "                fileAsString = re.sub(r' +', ' ', fileAsString)\n",
      "                \n",
      "                start_time = time.time()\n",
      "                my_stdb.insertDoc(fileAsString, \"laws\", [lawTitleNum, lawSectionNum, lawName])\n",
      "                totaltime = totaltime + (time.time() - start_time)\n",
      "                if count % (NUM_LAWS / NUM_INTERTIMES) == 0:\n",
      "                    print count\n",
      "                    intertimes.append(totaltime)\n",
      "        if count >= NUM_LAWS:\n",
      "            break\n",
      "    time_elapsed = time.time() - base_time\n",
      "    print 'Trial Completed:', i\n",
      "    print \"Estimated Minutes Left:\", (time_elapsed * NUM_TRIALS / (i + 1.0) - time_elapsed) / 60.0\n",
      "    print \"Time Elapsed:\", time_elapsed\n",
      "    law_trials.append(intertimes)\n",
      "    "
     ],
     "language": "python",
     "metadata": {},
     "outputs": [
      {
       "output_type": "stream",
       "stream": "stdout",
       "text": [
        "deleted document table: laws\n",
        "created document table: laws"
       ]
      },
      {
       "output_type": "stream",
       "stream": "stdout",
       "text": [
        "\n",
        "100"
       ]
      },
      {
       "output_type": "stream",
       "stream": "stdout",
       "text": [
        "\n",
        "200"
       ]
      },
      {
       "output_type": "stream",
       "stream": "stdout",
       "text": [
        "\n",
        "300"
       ]
      },
      {
       "output_type": "stream",
       "stream": "stdout",
       "text": [
        "\n",
        "400"
       ]
      },
      {
       "output_type": "stream",
       "stream": "stdout",
       "text": [
        "\n",
        "500"
       ]
      },
      {
       "output_type": "stream",
       "stream": "stdout",
       "text": [
        "\n",
        "600"
       ]
      },
      {
       "output_type": "stream",
       "stream": "stdout",
       "text": [
        "\n",
        "700"
       ]
      },
      {
       "output_type": "stream",
       "stream": "stdout",
       "text": [
        "\n",
        "800"
       ]
      },
      {
       "output_type": "stream",
       "stream": "stdout",
       "text": [
        "\n",
        "900"
       ]
      },
      {
       "output_type": "stream",
       "stream": "stdout",
       "text": [
        "\n",
        "1000"
       ]
      },
      {
       "output_type": "stream",
       "stream": "stdout",
       "text": [
        "\n",
        "Trial Completed: 0\n",
        "Estimated Minutes Left: 3.48680000305\n",
        "Time Elapsed: 52.3020000458\n",
        "deleted document table: laws"
       ]
      },
      {
       "output_type": "stream",
       "stream": "stdout",
       "text": [
        "\n",
        "created document table: laws"
       ]
      },
      {
       "output_type": "stream",
       "stream": "stdout",
       "text": [
        "\n",
        "100"
       ]
      },
      {
       "output_type": "stream",
       "stream": "stdout",
       "text": [
        "\n",
        "200"
       ]
      },
      {
       "output_type": "stream",
       "stream": "stdout",
       "text": [
        "\n",
        "300"
       ]
      },
      {
       "output_type": "stream",
       "stream": "stdout",
       "text": [
        "\n",
        "400"
       ]
      },
      {
       "output_type": "stream",
       "stream": "stdout",
       "text": [
        "\n",
        "500"
       ]
      },
      {
       "output_type": "stream",
       "stream": "stdout",
       "text": [
        "\n",
        "600"
       ]
      },
      {
       "output_type": "stream",
       "stream": "stdout",
       "text": [
        "\n",
        "700"
       ]
      },
      {
       "output_type": "stream",
       "stream": "stdout",
       "text": [
        "\n",
        "800"
       ]
      },
      {
       "output_type": "stream",
       "stream": "stdout",
       "text": [
        "\n",
        "900"
       ]
      },
      {
       "output_type": "stream",
       "stream": "stdout",
       "text": [
        "\n",
        "1000"
       ]
      },
      {
       "output_type": "stream",
       "stream": "stdout",
       "text": [
        "\n",
        "Trial Completed: 1\n",
        "Estimated Minutes Left: 2.62375000119\n",
        "Time Elapsed: 104.950000048\n",
        "deleted document table: laws"
       ]
      },
      {
       "output_type": "stream",
       "stream": "stdout",
       "text": [
        "\n",
        "created document table: laws"
       ]
      },
      {
       "output_type": "stream",
       "stream": "stdout",
       "text": [
        "\n",
        "100"
       ]
      },
      {
       "output_type": "stream",
       "stream": "stdout",
       "text": [
        "\n",
        "200"
       ]
      },
      {
       "output_type": "stream",
       "stream": "stdout",
       "text": [
        "\n",
        "300"
       ]
      },
      {
       "output_type": "stream",
       "stream": "stdout",
       "text": [
        "\n",
        "400"
       ]
      },
      {
       "output_type": "stream",
       "stream": "stdout",
       "text": [
        "\n",
        "500"
       ]
      },
      {
       "output_type": "stream",
       "stream": "stdout",
       "text": [
        "\n",
        "600"
       ]
      },
      {
       "output_type": "stream",
       "stream": "stdout",
       "text": [
        "\n",
        "700"
       ]
      },
      {
       "output_type": "stream",
       "stream": "stdout",
       "text": [
        "\n",
        "800"
       ]
      },
      {
       "output_type": "stream",
       "stream": "stdout",
       "text": [
        "\n",
        "900"
       ]
      },
      {
       "output_type": "stream",
       "stream": "stdout",
       "text": [
        "\n",
        "1000"
       ]
      },
      {
       "output_type": "stream",
       "stream": "stdout",
       "text": [
        "\n",
        "Trial Completed: 2\n",
        "Estimated Minutes Left: 1.76917777856\n",
        "Time Elapsed: 159.226000071\n",
        "deleted document table: laws"
       ]
      },
      {
       "output_type": "stream",
       "stream": "stdout",
       "text": [
        "\n",
        "created document table: laws"
       ]
      },
      {
       "output_type": "stream",
       "stream": "stdout",
       "text": [
        "\n",
        "100"
       ]
      },
      {
       "output_type": "stream",
       "stream": "stdout",
       "text": [
        "\n",
        "200"
       ]
      },
      {
       "output_type": "stream",
       "stream": "stdout",
       "text": [
        "\n",
        "300"
       ]
      },
      {
       "output_type": "stream",
       "stream": "stdout",
       "text": [
        "\n",
        "400"
       ]
      },
      {
       "output_type": "stream",
       "stream": "stdout",
       "text": [
        "\n",
        "500"
       ]
      },
      {
       "output_type": "stream",
       "stream": "stdout",
       "text": [
        "\n",
        "600"
       ]
      },
      {
       "output_type": "stream",
       "stream": "stdout",
       "text": [
        "\n",
        "700"
       ]
      },
      {
       "output_type": "stream",
       "stream": "stdout",
       "text": [
        "\n",
        "800"
       ]
      },
      {
       "output_type": "stream",
       "stream": "stdout",
       "text": [
        "\n",
        "900"
       ]
      },
      {
       "output_type": "stream",
       "stream": "stdout",
       "text": [
        "\n",
        "1000"
       ]
      },
      {
       "output_type": "stream",
       "stream": "stdout",
       "text": [
        "\n",
        "Trial Completed: 3\n",
        "Estimated Minutes Left: 0.884641667207\n",
        "Time Elapsed: 212.31400013\n",
        "deleted document table: laws"
       ]
      },
      {
       "output_type": "stream",
       "stream": "stdout",
       "text": [
        "\n",
        "created document table: laws"
       ]
      },
      {
       "output_type": "stream",
       "stream": "stdout",
       "text": [
        "\n",
        "100"
       ]
      },
      {
       "output_type": "stream",
       "stream": "stdout",
       "text": [
        "\n",
        "200"
       ]
      },
      {
       "output_type": "stream",
       "stream": "stdout",
       "text": [
        "\n",
        "300"
       ]
      },
      {
       "output_type": "stream",
       "stream": "stdout",
       "text": [
        "\n",
        "400"
       ]
      },
      {
       "output_type": "stream",
       "stream": "stdout",
       "text": [
        "\n",
        "500"
       ]
      },
      {
       "output_type": "stream",
       "stream": "stdout",
       "text": [
        "\n",
        "600"
       ]
      },
      {
       "output_type": "stream",
       "stream": "stdout",
       "text": [
        "\n",
        "700"
       ]
      },
      {
       "output_type": "stream",
       "stream": "stdout",
       "text": [
        "\n",
        "800"
       ]
      },
      {
       "output_type": "stream",
       "stream": "stdout",
       "text": [
        "\n",
        "900"
       ]
      },
      {
       "output_type": "stream",
       "stream": "stdout",
       "text": [
        "\n",
        "1000"
       ]
      },
      {
       "output_type": "stream",
       "stream": "stdout",
       "text": [
        "\n",
        "Trial Completed: 4\n",
        "Estimated Minutes Left: 0.0\n",
        "Time Elapsed: 265.05700016\n"
       ]
      }
     ],
     "prompt_number": 5
    },
    {
     "cell_type": "code",
     "collapsed": false,
     "input": [
      "import csv\n",
      "\n",
      "with open(\"C:\\\\git\\\\SemanticTextDB\\\\example_code\\\\benchmark_results\\\\laws_1k_BATCH50_insert_lda.csv\", \"wb\") as f:\n",
      "    writer = csv.writer(f)\n",
      "    writer.writerows(law_trials)"
     ],
     "language": "python",
     "metadata": {},
     "outputs": [],
     "prompt_number": 10
    },
    {
     "cell_type": "code",
     "collapsed": false,
     "input": [
      "def exception_proof_csv_reader(csv_reader):\n",
      "    '''Wraps a try-except clause around the csv reader to\n",
      "    prevent throwing of exceptions which will stop reading.'''\n",
      "    while True: \n",
      "      try: \n",
      "          yield next(csv_reader) \n",
      "      except csv.Error: \n",
      "          pass\n",
      "      continue "
     ],
     "language": "python",
     "metadata": {},
     "outputs": [],
     "prompt_number": 11
    },
    {
     "cell_type": "code",
     "collapsed": false,
     "input": [
      "cur.execute(\"END;\")\n",
      "cur.execute(\"ABORT;\")\n",
      "\n",
      "import re\n",
      "import warnings\n",
      "warnings.filterwarnings(\"ignore\")\n",
      "\n",
      "twitterReadPath = \"C:/git/SemanticTextDB/example_code/twitter.csv\"\n",
      "base_time = time.time()\n",
      "\n",
      "NUM_INTERTIMES = 10\n",
      "NUM_TRIALS = 5\n",
      "NUM_TWEETS = 5001\n",
      "\n",
      "twitter_trials = []\n",
      "for i in range(NUM_TRIALS):\n",
      "    \n",
      "    clearDB(cur)\n",
      "    \n",
      "    # Delete the document table (iff you want to replace table with same name):\n",
      "    if 'twitter' in my_stdb.document_tables.keys(): #check that the table exists before deleting it\n",
      "        my_stdb.dropDocTable(\"twitter\")\n",
      "\n",
      "    # Creates a document table (and associated machine-generated tables):\n",
      "    my_stdb.createDocTable(\"twitter\", ['twitterId text', 'location text', 'username text'],\n",
      "                       summary = None, topics = (10,20), entities = None, \n",
      "                       sentiment = False, count_words = False, length_count = False, \n",
      "                       vs_representations = None, max_word_length = 200,\n",
      "                       update_increment = 10, new_transaction = False)\n",
      "    \n",
      "    intertimes = []\n",
      "    count = 0\n",
      "    totaltime = 0\n",
      "    with open(twitterReadPath, 'rU') as csvfile:\n",
      "        reader = exception_proof_csv_reader(csv.reader(csvfile, delimiter=','))\n",
      "        for row in reader:\n",
      "            count = count + 1\n",
      "            try:           \n",
      "                twitterID = row.pop(0)\n",
      "                location = row.pop(0)\n",
      "                username = row.pop(-1)\n",
      "                tweet = ', '.join(row)\n",
      "            except:\n",
      "                #print \"Error occurred at item\", count, \"skipping insertion.\"\n",
      "                count = count - 1\n",
      "                continue\n",
      "            \n",
      "            start_time = time.time()\n",
      "            \n",
      "            tweet = re.sub(r'-', ' ', tweet)\n",
      "            tweet = re.sub(r'[^a-z ]', '', tweet)\n",
      "            tweet = re.sub(r' +', ' ', tweet)\n",
      "\n",
      "            start_time = time.time()\n",
      "            my_stdb.insertDoc(tweet, \"twitter\", [twitterID, location, username])\n",
      "            \n",
      "            totaltime = totaltime + (time.time() - start_time)\n",
      "            \n",
      "            if count % (NUM_TWEETS / NUM_INTERTIMES) == 0:\n",
      "                intertimes.append(totaltime)                    \n",
      "                print count\n",
      "            if count >= NUM_TWEETS:\n",
      "                break\n",
      "    time_elapsed = time.time() - base_time\n",
      "    print 'Trial Completed:', i\n",
      "    print \"Estimated Minutes Left:\", (time_elapsed * NUM_TRIALS / (i + 1.0) - time_elapsed) / 60.0\n",
      "    print \"Time Elapsed:\", time_elapsed     \n",
      "    twitter_trials.append(intertimes)"
     ],
     "language": "python",
     "metadata": {},
     "outputs": [
      {
       "output_type": "stream",
       "stream": "stdout",
       "text": [
        "deleted document table: twitter\n",
        "created document table: twitter"
       ]
      },
      {
       "output_type": "stream",
       "stream": "stdout",
       "text": [
        "\n",
        "500"
       ]
      }
     ]
    },
    {
     "cell_type": "code",
     "collapsed": false,
     "input": [
      "import csv\n",
      "\n",
      "with open(\"C:\\\\git\\\\SemanticTextDB\\\\example_code\\\\benchmark_results\\\\twitter_5k_BATCH10_insert_lda.csv\", \"wb\") as f:\n",
      "    writer = csv.writer(f)\n",
      "    writer.writerows(twitter_trials)"
     ],
     "language": "python",
     "metadata": {},
     "outputs": []
    }
   ],
   "metadata": {}
  }
 ]
}